{
 "cells": [
  {
   "cell_type": "markdown",
   "id": "47d33a75",
   "metadata": {},
   "source": [
    "# Lesson 16 Support Vector Machines"
   ]
  },
  {
   "cell_type": "markdown",
   "id": "34cfb4b7",
   "metadata": {},
   "source": [
    "SVM algo is an optimization algorithm that aims to maximize the margin of a dataset and finding the separating hyperplane that neatly divides the data.  \n",
    "\n",
    "You can see from these three images below, what that looks like in practice across multiple modes of SVM classification. \n",
    "\n",
    "<img src=\"linear_svm.png\" width=\"250\">  \n",
    "<img src=\"polynomial_svm.png\" width=\"250\">\n",
    "<img src=\"radial_basis_func_svm.png\" width=\"250\">\n",
    "\n",
    "# DataSet \n",
    "The dataset includes metrics of information on temperature, humidity, pressure, and weather. This can be used to predict energy consumption.  \n",
    "\n",
    "# Time series  \n",
    "We will be solving a time-series problem! Here future values depend on past values. \n",
    "\n",
    "# Partitioning the Dataset   \n",
    "Normally, we would do the train-test-split scheme that we have done previously, but this time we are going to be sensitive to the temporal nature of this data. Notice there is a 'date' column at first. Therefore, our split will focus on how much data came before a certain date (**training**) and how much comes after (**testing**). "
   ]
  },
  {
   "cell_type": "markdown",
   "id": "bc0176ef",
   "metadata": {
    "vscode": {
     "languageId": "plaintext"
    }
   },
   "source": [
    "# Import"
   ]
  },
  {
   "cell_type": "code",
   "execution_count": 2,
   "id": "a076eb74",
   "metadata": {},
   "outputs": [
    {
     "name": "stdout",
     "output_type": "stream",
     "text": [
      "/Users/jaimemerizalde/Desktop/Library/Machine Learning Udemy Course\n"
     ]
    }
   ],
   "source": [
    "%cd .."
   ]
  },
  {
   "cell_type": "code",
   "execution_count": 18,
   "id": "c4016de3",
   "metadata": {},
   "outputs": [],
   "source": [
    "from Library import data\n",
    "\n",
    "import pandas as pd\n",
    "import numpy as np\n",
    "\n",
    "from sklearn.model_selection import train_test_split"
   ]
  },
  {
   "cell_type": "markdown",
   "id": "42999d28",
   "metadata": {},
   "source": [
    "# Get Data"
   ]
  },
  {
   "cell_type": "code",
   "execution_count": 8,
   "id": "6f64364b",
   "metadata": {},
   "outputs": [
    {
     "data": {
      "text/html": [
       "<div>\n",
       "<style scoped>\n",
       "    .dataframe tbody tr th:only-of-type {\n",
       "        vertical-align: middle;\n",
       "    }\n",
       "\n",
       "    .dataframe tbody tr th {\n",
       "        vertical-align: top;\n",
       "    }\n",
       "\n",
       "    .dataframe thead th {\n",
       "        text-align: right;\n",
       "    }\n",
       "</style>\n",
       "<table border=\"1\" class=\"dataframe\">\n",
       "  <thead>\n",
       "    <tr style=\"text-align: right;\">\n",
       "      <th></th>\n",
       "      <th>date</th>\n",
       "      <th>Appliances</th>\n",
       "      <th>lights</th>\n",
       "      <th>T1</th>\n",
       "      <th>RH_1</th>\n",
       "      <th>T2</th>\n",
       "      <th>RH_2</th>\n",
       "      <th>T3</th>\n",
       "      <th>RH_3</th>\n",
       "      <th>T4</th>\n",
       "      <th>...</th>\n",
       "      <th>T9</th>\n",
       "      <th>RH_9</th>\n",
       "      <th>T_out</th>\n",
       "      <th>Press_mm_hg</th>\n",
       "      <th>RH_out</th>\n",
       "      <th>Windspeed</th>\n",
       "      <th>Visibility</th>\n",
       "      <th>Tdewpoint</th>\n",
       "      <th>rv1</th>\n",
       "      <th>rv2</th>\n",
       "    </tr>\n",
       "  </thead>\n",
       "  <tbody>\n",
       "    <tr>\n",
       "      <th>0</th>\n",
       "      <td>11-01-2016 17:00</td>\n",
       "      <td>60</td>\n",
       "      <td>30</td>\n",
       "      <td>19.89</td>\n",
       "      <td>47.596667</td>\n",
       "      <td>19.2</td>\n",
       "      <td>44.790000</td>\n",
       "      <td>19.79</td>\n",
       "      <td>44.730000</td>\n",
       "      <td>19.000000</td>\n",
       "      <td>...</td>\n",
       "      <td>17.033333</td>\n",
       "      <td>45.53</td>\n",
       "      <td>6.60</td>\n",
       "      <td>733.5</td>\n",
       "      <td>92.0</td>\n",
       "      <td>7.000000</td>\n",
       "      <td>63.000000</td>\n",
       "      <td>5.3</td>\n",
       "      <td>13.275433</td>\n",
       "      <td>13.275433</td>\n",
       "    </tr>\n",
       "    <tr>\n",
       "      <th>1</th>\n",
       "      <td>11-01-2016 17:10</td>\n",
       "      <td>60</td>\n",
       "      <td>30</td>\n",
       "      <td>19.89</td>\n",
       "      <td>46.693333</td>\n",
       "      <td>19.2</td>\n",
       "      <td>44.722500</td>\n",
       "      <td>19.79</td>\n",
       "      <td>44.790000</td>\n",
       "      <td>19.000000</td>\n",
       "      <td>...</td>\n",
       "      <td>17.066667</td>\n",
       "      <td>45.56</td>\n",
       "      <td>6.48</td>\n",
       "      <td>733.6</td>\n",
       "      <td>92.0</td>\n",
       "      <td>6.666667</td>\n",
       "      <td>59.166667</td>\n",
       "      <td>5.2</td>\n",
       "      <td>18.606195</td>\n",
       "      <td>18.606195</td>\n",
       "    </tr>\n",
       "    <tr>\n",
       "      <th>2</th>\n",
       "      <td>11-01-2016 17:20</td>\n",
       "      <td>50</td>\n",
       "      <td>30</td>\n",
       "      <td>19.89</td>\n",
       "      <td>46.300000</td>\n",
       "      <td>19.2</td>\n",
       "      <td>44.626667</td>\n",
       "      <td>19.79</td>\n",
       "      <td>44.933333</td>\n",
       "      <td>18.926667</td>\n",
       "      <td>...</td>\n",
       "      <td>17.000000</td>\n",
       "      <td>45.50</td>\n",
       "      <td>6.37</td>\n",
       "      <td>733.7</td>\n",
       "      <td>92.0</td>\n",
       "      <td>6.333333</td>\n",
       "      <td>55.333333</td>\n",
       "      <td>5.1</td>\n",
       "      <td>28.642668</td>\n",
       "      <td>28.642668</td>\n",
       "    </tr>\n",
       "    <tr>\n",
       "      <th>3</th>\n",
       "      <td>11-01-2016 17:30</td>\n",
       "      <td>50</td>\n",
       "      <td>40</td>\n",
       "      <td>19.89</td>\n",
       "      <td>46.066667</td>\n",
       "      <td>19.2</td>\n",
       "      <td>44.590000</td>\n",
       "      <td>19.79</td>\n",
       "      <td>45.000000</td>\n",
       "      <td>18.890000</td>\n",
       "      <td>...</td>\n",
       "      <td>17.000000</td>\n",
       "      <td>45.40</td>\n",
       "      <td>6.25</td>\n",
       "      <td>733.8</td>\n",
       "      <td>92.0</td>\n",
       "      <td>6.000000</td>\n",
       "      <td>51.500000</td>\n",
       "      <td>5.0</td>\n",
       "      <td>45.410390</td>\n",
       "      <td>45.410390</td>\n",
       "    </tr>\n",
       "    <tr>\n",
       "      <th>4</th>\n",
       "      <td>11-01-2016 17:40</td>\n",
       "      <td>60</td>\n",
       "      <td>40</td>\n",
       "      <td>19.89</td>\n",
       "      <td>46.333333</td>\n",
       "      <td>19.2</td>\n",
       "      <td>44.530000</td>\n",
       "      <td>19.79</td>\n",
       "      <td>45.000000</td>\n",
       "      <td>18.890000</td>\n",
       "      <td>...</td>\n",
       "      <td>17.000000</td>\n",
       "      <td>45.40</td>\n",
       "      <td>6.13</td>\n",
       "      <td>733.9</td>\n",
       "      <td>92.0</td>\n",
       "      <td>5.666667</td>\n",
       "      <td>47.666667</td>\n",
       "      <td>4.9</td>\n",
       "      <td>10.084097</td>\n",
       "      <td>10.084097</td>\n",
       "    </tr>\n",
       "  </tbody>\n",
       "</table>\n",
       "<p>5 rows × 29 columns</p>\n",
       "</div>"
      ],
      "text/plain": [
       "               date  Appliances  lights     T1       RH_1    T2       RH_2  \\\n",
       "0  11-01-2016 17:00          60      30  19.89  47.596667  19.2  44.790000   \n",
       "1  11-01-2016 17:10          60      30  19.89  46.693333  19.2  44.722500   \n",
       "2  11-01-2016 17:20          50      30  19.89  46.300000  19.2  44.626667   \n",
       "3  11-01-2016 17:30          50      40  19.89  46.066667  19.2  44.590000   \n",
       "4  11-01-2016 17:40          60      40  19.89  46.333333  19.2  44.530000   \n",
       "\n",
       "      T3       RH_3         T4  ...         T9   RH_9  T_out  Press_mm_hg  \\\n",
       "0  19.79  44.730000  19.000000  ...  17.033333  45.53   6.60        733.5   \n",
       "1  19.79  44.790000  19.000000  ...  17.066667  45.56   6.48        733.6   \n",
       "2  19.79  44.933333  18.926667  ...  17.000000  45.50   6.37        733.7   \n",
       "3  19.79  45.000000  18.890000  ...  17.000000  45.40   6.25        733.8   \n",
       "4  19.79  45.000000  18.890000  ...  17.000000  45.40   6.13        733.9   \n",
       "\n",
       "   RH_out  Windspeed  Visibility  Tdewpoint        rv1        rv2  \n",
       "0    92.0   7.000000   63.000000        5.3  13.275433  13.275433  \n",
       "1    92.0   6.666667   59.166667        5.2  18.606195  18.606195  \n",
       "2    92.0   6.333333   55.333333        5.1  28.642668  28.642668  \n",
       "3    92.0   6.000000   51.500000        5.0  45.410390  45.410390  \n",
       "4    92.0   5.666667   47.666667        4.9  10.084097  10.084097  \n",
       "\n",
       "[5 rows x 29 columns]"
      ]
     },
     "execution_count": 8,
     "metadata": {},
     "output_type": "execute_result"
    }
   ],
   "source": [
    "df = data.get_data(\"Datasets/Energy.csv\", index_col=0)\n",
    "df.head()"
   ]
  },
  {
   "cell_type": "markdown",
   "id": "8e649543",
   "metadata": {},
   "source": [
    "# EDA"
   ]
  },
  {
   "cell_type": "markdown",
   "id": "c65090d9",
   "metadata": {},
   "source": [
    "We have all umerical data it seems. The <mark> target variable we are intersted in is \"appliances\" </mark> because it is actually the column tracking energy us in Wh."
   ]
  },
  {
   "cell_type": "code",
   "execution_count": null,
   "id": "149df4ad",
   "metadata": {},
   "outputs": [
    {
     "name": "stdout",
     "output_type": "stream",
     "text": [
      "Total rows: 19735\n",
      "Total columns (including output var): 29\n"
     ]
    },
    {
     "data": {
      "text/plain": [
       "0    60\n",
       "1    60\n",
       "2    50\n",
       "3    50\n",
       "4    60\n",
       "Name: Appliances, dtype: int64"
      ]
     },
     "execution_count": 17,
     "metadata": {},
     "output_type": "execute_result"
    }
   ],
   "source": [
    "pd.set_option(\"display.max_columns\", None) # Displays all columns in pandas dataframe\n",
    "df.head()\n",
    "\n",
    "print(f\"Total rows: {len(df)}\\nTotal columns (including output var): {df.shape[1]}\")\n",
    "\n",
    "df.describe(include=\"all\")"
   ]
  },
  {
   "cell_type": "markdown",
   "id": "1f8050c9",
   "metadata": {},
   "source": [
    "# Partition Dataset"
   ]
  },
  {
   "cell_type": "code",
   "execution_count": 27,
   "id": "a0c954f0",
   "metadata": {},
   "outputs": [
    {
     "name": "stdout",
     "output_type": "stream",
     "text": [
      "Proportion split of training-to-test data: 0.6080567519635166.\n"
     ]
    }
   ],
   "source": [
    "from sklearn.model_selection import train_test_split\n",
    "\n",
    "y = df[\"Appliances\"]\n",
    "X = df[[c for c in df.columns if c != \"Appliances\"]]\n",
    "\n",
    "# See my note about this above.\n",
    "# X_train, X_test, y_train, y_test = train_test_split()\n",
    "#\n",
    "print(f\"Proportion split of training-to-test data: {12000 / X.shape[0]}.\")\n",
    "X_train = X.iloc[:12000]\n",
    "X_test = X.iloc[12000:]\n",
    "y_train = y.iloc[:12000] \n",
    "y_test = y.iloc[12000:]"
   ]
  },
  {
   "cell_type": "code",
   "execution_count": null,
   "id": "fe8e613b",
   "metadata": {},
   "outputs": [
    {
     "data": {
      "text/plain": [
       "(7735,)"
      ]
     },
     "execution_count": 28,
     "metadata": {},
     "output_type": "execute_result"
    }
   ],
   "source": []
  },
  {
   "cell_type": "code",
   "execution_count": null,
   "id": "eaf60332",
   "metadata": {},
   "outputs": [],
   "source": []
  }
 ],
 "metadata": {
  "kernelspec": {
   "display_name": "machineLearning",
   "language": "python",
   "name": "python3"
  },
  "language_info": {
   "codemirror_mode": {
    "name": "ipython",
    "version": 3
   },
   "file_extension": ".py",
   "mimetype": "text/x-python",
   "name": "python",
   "nbconvert_exporter": "python",
   "pygments_lexer": "ipython3",
   "version": "3.12.0"
  }
 },
 "nbformat": 4,
 "nbformat_minor": 5
}
