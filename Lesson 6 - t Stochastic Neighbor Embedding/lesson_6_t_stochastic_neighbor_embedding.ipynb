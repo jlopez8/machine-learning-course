{
 "cells": [
  {
   "cell_type": "markdown",
   "id": "7321cac9",
   "metadata": {},
   "source": [
    "# Lesson 6 t-Stochastic Neighbor Embedding"
   ]
  },
  {
   "cell_type": "markdown",
   "id": "9f3e4304",
   "metadata": {},
   "source": [
    "Transforms distances b/w points into probabilities tries to preserve the same probability distributions while transforming the data to lower dimensional space. Generally used for visualizations and strongly depends on two parameters.  \n",
    "\n",
    "**perplexity**: Balance attention b/w local and global aspects of data. Usually b/w 5 and 50 and has strong effect on final display.\n",
    "\n",
    "**number of iterations**"
   ]
  },
  {
   "cell_type": "markdown",
   "id": "e9eedfa4",
   "metadata": {},
   "source": [
    "You need to add the very first lesson in the section here. It contains the basics of the background for this method."
   ]
  },
  {
   "cell_type": "markdown",
   "id": "28929d88",
   "metadata": {},
   "source": [
    "## Theory"
   ]
  },
  {
   "cell_type": "markdown",
   "id": "6aea90ca",
   "metadata": {},
   "source": [
    "This method used mainly for visualization.  \n",
    "\n",
    "Cannot use it to transform data to apply learning algorithms.\n",
    "\n",
    "Assumes distances between examples define a probability distribution, must be preserved in a space of fewer dimensions. \n",
    "\n",
    "Assumes Gaussian distribution for those distances. \n",
    "\n",
    "Stochastic algorithm that changes with each iteration / run. \n",
    "\n",
    "Move iteratively to minimize the Kullback-Leibler distance between the distribution of the distances between neighbors. We try the best to keep this the same.  "
   ]
  },
  {
   "cell_type": "markdown",
   "id": "4cdc5ff8",
   "metadata": {},
   "source": [
    "**Original Distribution of Distances**  \n",
    "You can see lighter colors mean \"farther away\".  \n",
    "<img src=\"lesson_6_figs/original_distribution_distances.png\" width=\"400\">  \n",
    "\n",
    "**Projected Data into Lower Dim Space with Its First Distribution**  \n",
    "You can see how after a projection, we see there distributions given, before we start \"moving\" points around.  \n",
    "<img src=\"lesson_6_figs/projected_data_first_distribution.png\" width=\"400\">\n",
    "\n",
    "**Projected Data into Lower Dim Space after Improved Distribution**  \n",
    "The improvement has been made by \"moving\" points around under the criteria that the Kullback-Leibler distance has been improved compared to the original distribution. \n",
    "<img src=\"lesson_6_figs/projected_data_improved_distribution.png\" width=\"400\">"
   ]
  },
  {
   "cell_type": "code",
   "execution_count": 1,
   "id": "1614a7fc",
   "metadata": {},
   "outputs": [],
   "source": [
    "# if installing in 3.13, may want to use `py -m pip install <PACKAGE>`\n",
    "\n",
    "import pandas as pd\n",
    "\n",
    "from sklearn.manifold import TSNE\n",
    "from sklearn.preprocessing import MinMaxScaler\n",
    "from sklearn.preprocessing import StandardScaler\n",
    "\n",
    "import matplotlib.pyplot as plt\n",
    "import seaborn as sns\n",
    "\n",
    "import plotly.express as px"
   ]
  },
  {
   "cell_type": "code",
   "execution_count": 2,
   "id": "68d4eb71",
   "metadata": {},
   "outputs": [
    {
     "data": {
      "text/html": [
       "<div>\n",
       "<style scoped>\n",
       "    .dataframe tbody tr th:only-of-type {\n",
       "        vertical-align: middle;\n",
       "    }\n",
       "\n",
       "    .dataframe tbody tr th {\n",
       "        vertical-align: top;\n",
       "    }\n",
       "\n",
       "    .dataframe thead th {\n",
       "        text-align: right;\n",
       "    }\n",
       "</style>\n",
       "<table border=\"1\" class=\"dataframe\">\n",
       "  <thead>\n",
       "    <tr style=\"text-align: right;\">\n",
       "      <th></th>\n",
       "      <th>rownames</th>\n",
       "      <th>species</th>\n",
       "      <th>sex</th>\n",
       "      <th>index</th>\n",
       "      <th>Frontal Lobe</th>\n",
       "      <th>Rear Width</th>\n",
       "      <th>Carapace Midline</th>\n",
       "      <th>Maximum Width</th>\n",
       "      <th>Body Depth</th>\n",
       "      <th>class</th>\n",
       "    </tr>\n",
       "  </thead>\n",
       "  <tbody>\n",
       "    <tr>\n",
       "      <th>0</th>\n",
       "      <td>1</td>\n",
       "      <td>Blue</td>\n",
       "      <td>Male</td>\n",
       "      <td>1</td>\n",
       "      <td>8.1</td>\n",
       "      <td>6.7</td>\n",
       "      <td>16.1</td>\n",
       "      <td>19.0</td>\n",
       "      <td>7.0</td>\n",
       "      <td>BlueMale</td>\n",
       "    </tr>\n",
       "    <tr>\n",
       "      <th>1</th>\n",
       "      <td>2</td>\n",
       "      <td>Blue</td>\n",
       "      <td>Male</td>\n",
       "      <td>2</td>\n",
       "      <td>8.8</td>\n",
       "      <td>7.7</td>\n",
       "      <td>18.1</td>\n",
       "      <td>20.8</td>\n",
       "      <td>7.4</td>\n",
       "      <td>BlueMale</td>\n",
       "    </tr>\n",
       "    <tr>\n",
       "      <th>2</th>\n",
       "      <td>3</td>\n",
       "      <td>Blue</td>\n",
       "      <td>Male</td>\n",
       "      <td>3</td>\n",
       "      <td>9.2</td>\n",
       "      <td>7.8</td>\n",
       "      <td>19.0</td>\n",
       "      <td>22.4</td>\n",
       "      <td>7.7</td>\n",
       "      <td>BlueMale</td>\n",
       "    </tr>\n",
       "    <tr>\n",
       "      <th>3</th>\n",
       "      <td>4</td>\n",
       "      <td>Blue</td>\n",
       "      <td>Male</td>\n",
       "      <td>4</td>\n",
       "      <td>9.6</td>\n",
       "      <td>7.9</td>\n",
       "      <td>20.1</td>\n",
       "      <td>23.1</td>\n",
       "      <td>8.2</td>\n",
       "      <td>BlueMale</td>\n",
       "    </tr>\n",
       "    <tr>\n",
       "      <th>4</th>\n",
       "      <td>5</td>\n",
       "      <td>Blue</td>\n",
       "      <td>Male</td>\n",
       "      <td>5</td>\n",
       "      <td>9.8</td>\n",
       "      <td>8.0</td>\n",
       "      <td>20.3</td>\n",
       "      <td>23.0</td>\n",
       "      <td>8.2</td>\n",
       "      <td>BlueMale</td>\n",
       "    </tr>\n",
       "    <tr>\n",
       "      <th>...</th>\n",
       "      <td>...</td>\n",
       "      <td>...</td>\n",
       "      <td>...</td>\n",
       "      <td>...</td>\n",
       "      <td>...</td>\n",
       "      <td>...</td>\n",
       "      <td>...</td>\n",
       "      <td>...</td>\n",
       "      <td>...</td>\n",
       "      <td>...</td>\n",
       "    </tr>\n",
       "    <tr>\n",
       "      <th>195</th>\n",
       "      <td>196</td>\n",
       "      <td>Orange</td>\n",
       "      <td>Female</td>\n",
       "      <td>46</td>\n",
       "      <td>21.4</td>\n",
       "      <td>18.0</td>\n",
       "      <td>41.2</td>\n",
       "      <td>46.2</td>\n",
       "      <td>18.7</td>\n",
       "      <td>OrangeFemale</td>\n",
       "    </tr>\n",
       "    <tr>\n",
       "      <th>196</th>\n",
       "      <td>197</td>\n",
       "      <td>Orange</td>\n",
       "      <td>Female</td>\n",
       "      <td>47</td>\n",
       "      <td>21.7</td>\n",
       "      <td>17.1</td>\n",
       "      <td>41.7</td>\n",
       "      <td>47.2</td>\n",
       "      <td>19.6</td>\n",
       "      <td>OrangeFemale</td>\n",
       "    </tr>\n",
       "    <tr>\n",
       "      <th>197</th>\n",
       "      <td>198</td>\n",
       "      <td>Orange</td>\n",
       "      <td>Female</td>\n",
       "      <td>48</td>\n",
       "      <td>21.9</td>\n",
       "      <td>17.2</td>\n",
       "      <td>42.6</td>\n",
       "      <td>47.4</td>\n",
       "      <td>19.5</td>\n",
       "      <td>OrangeFemale</td>\n",
       "    </tr>\n",
       "    <tr>\n",
       "      <th>198</th>\n",
       "      <td>199</td>\n",
       "      <td>Orange</td>\n",
       "      <td>Female</td>\n",
       "      <td>49</td>\n",
       "      <td>22.5</td>\n",
       "      <td>17.2</td>\n",
       "      <td>43.0</td>\n",
       "      <td>48.7</td>\n",
       "      <td>19.8</td>\n",
       "      <td>OrangeFemale</td>\n",
       "    </tr>\n",
       "    <tr>\n",
       "      <th>199</th>\n",
       "      <td>200</td>\n",
       "      <td>Orange</td>\n",
       "      <td>Female</td>\n",
       "      <td>50</td>\n",
       "      <td>23.1</td>\n",
       "      <td>20.2</td>\n",
       "      <td>46.2</td>\n",
       "      <td>52.5</td>\n",
       "      <td>21.1</td>\n",
       "      <td>OrangeFemale</td>\n",
       "    </tr>\n",
       "  </tbody>\n",
       "</table>\n",
       "<p>200 rows × 10 columns</p>\n",
       "</div>"
      ],
      "text/plain": [
       "     rownames species     sex  index  Frontal Lobe  Rear Width  \\\n",
       "0           1    Blue    Male      1           8.1         6.7   \n",
       "1           2    Blue    Male      2           8.8         7.7   \n",
       "2           3    Blue    Male      3           9.2         7.8   \n",
       "3           4    Blue    Male      4           9.6         7.9   \n",
       "4           5    Blue    Male      5           9.8         8.0   \n",
       "..        ...     ...     ...    ...           ...         ...   \n",
       "195       196  Orange  Female     46          21.4        18.0   \n",
       "196       197  Orange  Female     47          21.7        17.1   \n",
       "197       198  Orange  Female     48          21.9        17.2   \n",
       "198       199  Orange  Female     49          22.5        17.2   \n",
       "199       200  Orange  Female     50          23.1        20.2   \n",
       "\n",
       "     Carapace Midline  Maximum Width  Body Depth         class  \n",
       "0                16.1           19.0         7.0      BlueMale  \n",
       "1                18.1           20.8         7.4      BlueMale  \n",
       "2                19.0           22.4         7.7      BlueMale  \n",
       "3                20.1           23.1         8.2      BlueMale  \n",
       "4                20.3           23.0         8.2      BlueMale  \n",
       "..                ...            ...         ...           ...  \n",
       "195              41.2           46.2        18.7  OrangeFemale  \n",
       "196              41.7           47.2        19.6  OrangeFemale  \n",
       "197              42.6           47.4        19.5  OrangeFemale  \n",
       "198              43.0           48.7        19.8  OrangeFemale  \n",
       "199              46.2           52.5        21.1  OrangeFemale  \n",
       "\n",
       "[200 rows x 10 columns]"
      ]
     },
     "execution_count": 2,
     "metadata": {},
     "output_type": "execute_result"
    }
   ],
   "source": [
    "df = pd.read_csv()\n",
    "\n",
    "df.rename(columns={\n",
    "    \"sp\": \"species\", \"FL\": \"Frontal Lobe\", \"RW\": \"Rear Width\", \"CL\": \"Carapace Midline\", \"CW\": \"Maximum Width\", \"BD\": \"Body Depth\"\n",
    "}, inplace=True)\n",
    "\n",
    "# remap cat var designator\n",
    "df[\"species\"] = df[\"species\"].map({\n",
    "    \"B\": \"Blue\", \"O\": \"Orange\"\n",
    "})\n",
    "\n",
    "df[\"sex\"] = df[\"sex\"].map({\n",
    "    \"M\": \"Male\", \"F\": \"Female\"\n",
    "})\n",
    "\n",
    "# Add a species designation, whic is going to be unique combo of sex and species\n",
    "df[\"class\"] = df[\"species\"] + df[\"sex\"]\n",
    "\n",
    "df"
   ]
  },
  {
   "cell_type": "markdown",
   "id": "b403fbb9",
   "metadata": {},
   "source": [
    "Focus on these 5 columns. All numerical."
   ]
  },
  {
   "cell_type": "code",
   "execution_count": 3,
   "id": "31f56725",
   "metadata": {},
   "outputs": [],
   "source": [
    "data_columns = [\"Frontal Lobe\", \"Rear Width\", \"Carapace Midline\", \"Maximum Width\", \"Body Depth\"]"
   ]
  },
  {
   "cell_type": "markdown",
   "id": "af7fa58c",
   "metadata": {},
   "source": [
    "## Apply TSNE: Unscaled Data"
   ]
  },
  {
   "cell_type": "code",
   "execution_count": 7,
   "id": "272fc07c",
   "metadata": {},
   "outputs": [
    {
     "name": "stderr",
     "output_type": "stream",
     "text": [
      "c:\\Users\\Jaim.Lopez-Merizalde\\AppData\\Local\\Programs\\Python\\Python313\\Lib\\site-packages\\sklearn\\manifold\\_t_sne.py:1164: FutureWarning: 'n_iter' was renamed to 'max_iter' in version 1.5 and will be removed in 1.7.\n",
      "  warnings.warn(\n"
     ]
    }
   ],
   "source": [
    "# Start by instantiating the object with its properties.\n",
    "\n",
    "from sklearn.manifold import TSNE\n",
    "\n",
    "tsne = TSNE(\n",
    "    n_components=2, perplexity=10, n_iter=2000, init=\"random\"\n",
    ")\n",
    "\n",
    "df_tsne = tsne.fit_transform(df[data_columns])\n",
    "\n",
    "df[[\"TSNE1\", \"TSNE2\"]] = df_tsne"
   ]
  },
  {
   "cell_type": "markdown",
   "id": "98e64b8e",
   "metadata": {},
   "source": [
    "### Plotting TSNE Unscaled Data"
   ]
  },
  {
   "cell_type": "code",
   "execution_count": 10,
   "id": "6bcb4633",
   "metadata": {},
   "outputs": [
    {
     "data": {
      "text/plain": [
       "<Axes: xlabel='TSNE1', ylabel='TSNE2'>"
      ]
     },
     "execution_count": 10,
     "metadata": {},
     "output_type": "execute_result"
    },
    {
     "data": {
      "image/png": "[encoded data removed]",
      "text/plain": [
       "<Figure size 800x494.438 with 1 Axes>"
      ]
     },
     "metadata": {},
     "output_type": "display_data"
    }
   ],
   "source": [
    "plt.figure(figsize=(8, 8/1.618));\n",
    "\n",
    "sns.scatterplot(x=\"TSNE1\", y=\"TSNE2\", hue=\"class\", data=df)"
   ]
  },
  {
   "cell_type": "markdown",
   "id": "0263404b",
   "metadata": {},
   "source": [
    "### Do it again in 3D"
   ]
  },
  {
   "cell_type": "code",
   "execution_count": 11,
   "id": "e84a4e1d",
   "metadata": {},
   "outputs": [
    {
     "name": "stderr",
     "output_type": "stream",
     "text": [
      "c:\\Users\\Jaim.Lopez-Merizalde\\AppData\\Local\\Programs\\Python\\Python313\\Lib\\site-packages\\sklearn\\manifold\\_t_sne.py:1164: FutureWarning: 'n_iter' was renamed to 'max_iter' in version 1.5 and will be removed in 1.7.\n",
      "  warnings.warn(\n"
     ]
    }
   ],
   "source": [
    "df = pd.read_csv(\"crabs.csv\")\n",
    "\n",
    "df.rename(columns={\n",
    "    \"sp\": \"species\", \"FL\": \"Frontal Lobe\", \"RW\": \"Rear Width\", \"CL\": \"Carapace Midline\", \"CW\": \"Maximum Width\", \"BD\": \"Body Depth\"\n",
    "}, inplace=True)\n",
    "\n",
    "# remap cat var designator\n",
    "df[\"species\"] = df[\"species\"].map({\n",
    "    \"B\": \"Blue\", \"O\": \"Orange\"\n",
    "})\n",
    "\n",
    "df[\"sex\"] = df[\"sex\"].map({\n",
    "    \"M\": \"Male\", \"F\": \"Female\"\n",
    "})\n",
    "\n",
    "# Add a species designation, whic is going to be unique combo of sex and species\n",
    "df[\"class\"] = df[\"species\"] + df[\"sex\"]\n",
    "\n",
    "df\n",
    "\n",
    "from sklearn.manifold import TSNE\n",
    "\n",
    "tsne = TSNE(\n",
    "    n_components=3, perplexity=10, n_iter=2000, init=\"random\"\n",
    ")\n",
    "\n",
    "df_tsne = tsne.fit_transform(df[data_columns])\n",
    "\n",
    "df[[\"TSNE1\", \"TSNE2\", \"TSNE3\"]] = df_tsne"
   ]
  },
  {
   "cell_type": "code",
   "execution_count": 15,
   "id": "4a0584d9",
   "metadata": {},
   "outputs": [
    {
     "data": {
      "text/plain": [
       "<mpl_toolkits.mplot3d.art3d.Path3DCollection at 0x1ea8b2282d0>"
      ]
     },
     "execution_count": 15,
     "metadata": {},
     "output_type": "execute_result"
    },
    {
     "data": {
      "image/png": "[encoded data removed]",
      "text/plain": [
       "<Figure size 800x494.438 with 1 Axes>"
      ]
     },
     "metadata": {},
     "output_type": "display_data"
    }
   ],
   "source": [
    "fig = plt.figure(figsize=(8, 8/1.618));\n",
    "ax = fig.add_subplot(111, projection=\"3d\");\n",
    "\n",
    "color = {\"BlueFemale\": \"blue\", \"BlueMale\": \"red\", \"OrangeMale\": \"g\", \"OrangeFemale\": \"orange\"}\n",
    "\n",
    "plt.scatter(df[\"TSNE1\"], df[\"TSNE2\"], zs=df[\"TSNE3\"], s=100, c=df[\"class\"].apply(lambda x: color[x]))"
   ]
  },
  {
   "cell_type": "markdown",
   "id": "0a00ea36",
   "metadata": {},
   "source": [
    "## Apply TSNE: Scaled Data"
   ]
  },
  {
   "cell_type": "markdown",
   "id": "fc8f0583",
   "metadata": {},
   "source": [
    "In this way, we only care about the range of the data being between 0 and 1. We are not messing with the shape. In standardized data, we will care about shape but not about range."
   ]
  },
  {
   "cell_type": "markdown",
   "id": "13608938",
   "metadata": {},
   "source": [
    "### Scale Data"
   ]
  },
  {
   "cell_type": "code",
   "execution_count": null,
   "id": "47e8f054",
   "metadata": {},
   "outputs": [],
   "source": [
    "from sklearn.preprocessing import MinMaxScaler\n",
    "\n",
    "df_scaled = df.copy(deep=True)\n",
    "df_scaled[data_columns] = MinMaxScaler().fit_transform(df[data_columns])\n",
    "\n",
    "# This is how minmax works by the way:\n",
    "\n",
    "# MinMaxScaler(feature_range=(min, max))\n",
    "# Rescale each feature to [0, 1] by using the maximum and minimum per column.\n",
    "# X_std = (X - X.min(axis=0)) / (X.max(axis=0) - X.min(axis=0))\n",
    "# Rescale to a predefined scale you provided as \"feature_range\".\n",
    "# X_scaled = X_std * (max - min) + min\n",
    "\n"
   ]
  },
  {
   "cell_type": "markdown",
   "id": "620223b9",
   "metadata": {},
   "source": [
    "### Apply TSNE"
   ]
  },
  {
   "cell_type": "code",
   "execution_count": 48,
   "id": "3ead4b6b",
   "metadata": {},
   "outputs": [
    {
     "name": "stderr",
     "output_type": "stream",
     "text": [
      "c:\\Users\\Jaim.Lopez-Merizalde\\AppData\\Local\\Programs\\Python\\Python313\\Lib\\site-packages\\sklearn\\manifold\\_t_sne.py:1164: FutureWarning: 'n_iter' was renamed to 'max_iter' in version 1.5 and will be removed in 1.7.\n",
      "  warnings.warn(\n"
     ]
    },
    {
     "data": {
      "text/html": [
       "<div>\n",
       "<style scoped>\n",
       "    .dataframe tbody tr th:only-of-type {\n",
       "        vertical-align: middle;\n",
       "    }\n",
       "\n",
       "    .dataframe tbody tr th {\n",
       "        vertical-align: top;\n",
       "    }\n",
       "\n",
       "    .dataframe thead th {\n",
       "        text-align: right;\n",
       "    }\n",
       "</style>\n",
       "<table border=\"1\" class=\"dataframe\">\n",
       "  <thead>\n",
       "    <tr style=\"text-align: right;\">\n",
       "      <th></th>\n",
       "      <th>rownames</th>\n",
       "      <th>species</th>\n",
       "      <th>sex</th>\n",
       "      <th>index</th>\n",
       "      <th>Frontal Lobe</th>\n",
       "      <th>Rear Width</th>\n",
       "      <th>Carapace Midline</th>\n",
       "      <th>Maximum Width</th>\n",
       "      <th>Body Depth</th>\n",
       "      <th>class</th>\n",
       "      <th>TSNE1</th>\n",
       "      <th>TSNE2</th>\n",
       "    </tr>\n",
       "  </thead>\n",
       "  <tbody>\n",
       "    <tr>\n",
       "      <th>0</th>\n",
       "      <td>1</td>\n",
       "      <td>Blue</td>\n",
       "      <td>Male</td>\n",
       "      <td>1</td>\n",
       "      <td>0.056604</td>\n",
       "      <td>0.014599</td>\n",
       "      <td>0.042553</td>\n",
       "      <td>0.050667</td>\n",
       "      <td>0.058065</td>\n",
       "      <td>BlueMale</td>\n",
       "      <td>20.736610</td>\n",
       "      <td>-46.051155</td>\n",
       "    </tr>\n",
       "    <tr>\n",
       "      <th>1</th>\n",
       "      <td>2</td>\n",
       "      <td>Blue</td>\n",
       "      <td>Male</td>\n",
       "      <td>2</td>\n",
       "      <td>0.100629</td>\n",
       "      <td>0.087591</td>\n",
       "      <td>0.103343</td>\n",
       "      <td>0.098667</td>\n",
       "      <td>0.083871</td>\n",
       "      <td>BlueMale</td>\n",
       "      <td>18.900229</td>\n",
       "      <td>-45.329212</td>\n",
       "    </tr>\n",
       "    <tr>\n",
       "      <th>2</th>\n",
       "      <td>3</td>\n",
       "      <td>Blue</td>\n",
       "      <td>Male</td>\n",
       "      <td>3</td>\n",
       "      <td>0.125786</td>\n",
       "      <td>0.094891</td>\n",
       "      <td>0.130699</td>\n",
       "      <td>0.141333</td>\n",
       "      <td>0.103226</td>\n",
       "      <td>BlueMale</td>\n",
       "      <td>17.745157</td>\n",
       "      <td>-44.299232</td>\n",
       "    </tr>\n",
       "    <tr>\n",
       "      <th>3</th>\n",
       "      <td>4</td>\n",
       "      <td>Blue</td>\n",
       "      <td>Male</td>\n",
       "      <td>4</td>\n",
       "      <td>0.150943</td>\n",
       "      <td>0.102190</td>\n",
       "      <td>0.164134</td>\n",
       "      <td>0.160000</td>\n",
       "      <td>0.135484</td>\n",
       "      <td>BlueMale</td>\n",
       "      <td>16.235746</td>\n",
       "      <td>-43.616951</td>\n",
       "    </tr>\n",
       "    <tr>\n",
       "      <th>4</th>\n",
       "      <td>5</td>\n",
       "      <td>Blue</td>\n",
       "      <td>Male</td>\n",
       "      <td>5</td>\n",
       "      <td>0.163522</td>\n",
       "      <td>0.109489</td>\n",
       "      <td>0.170213</td>\n",
       "      <td>0.157333</td>\n",
       "      <td>0.135484</td>\n",
       "      <td>BlueMale</td>\n",
       "      <td>15.239084</td>\n",
       "      <td>-44.047001</td>\n",
       "    </tr>\n",
       "    <tr>\n",
       "      <th>5</th>\n",
       "      <td>6</td>\n",
       "      <td>Blue</td>\n",
       "      <td>Male</td>\n",
       "      <td>6</td>\n",
       "      <td>0.226415</td>\n",
       "      <td>0.182482</td>\n",
       "      <td>0.252280</td>\n",
       "      <td>0.250667</td>\n",
       "      <td>0.238710</td>\n",
       "      <td>BlueMale</td>\n",
       "      <td>7.457794</td>\n",
       "      <td>-38.812737</td>\n",
       "    </tr>\n",
       "    <tr>\n",
       "      <th>6</th>\n",
       "      <td>7</td>\n",
       "      <td>Blue</td>\n",
       "      <td>Male</td>\n",
       "      <td>7</td>\n",
       "      <td>0.245283</td>\n",
       "      <td>0.248175</td>\n",
       "      <td>0.276596</td>\n",
       "      <td>0.266667</td>\n",
       "      <td>0.238710</td>\n",
       "      <td>BlueMale</td>\n",
       "      <td>5.516184</td>\n",
       "      <td>-39.119507</td>\n",
       "    </tr>\n",
       "    <tr>\n",
       "      <th>7</th>\n",
       "      <td>8</td>\n",
       "      <td>Blue</td>\n",
       "      <td>Male</td>\n",
       "      <td>8</td>\n",
       "      <td>0.276730</td>\n",
       "      <td>0.189781</td>\n",
       "      <td>0.297872</td>\n",
       "      <td>0.301333</td>\n",
       "      <td>0.277419</td>\n",
       "      <td>BlueMale</td>\n",
       "      <td>4.132439</td>\n",
       "      <td>-37.329933</td>\n",
       "    </tr>\n",
       "    <tr>\n",
       "      <th>8</th>\n",
       "      <td>9</td>\n",
       "      <td>Blue</td>\n",
       "      <td>Male</td>\n",
       "      <td>9</td>\n",
       "      <td>0.289308</td>\n",
       "      <td>0.226277</td>\n",
       "      <td>0.288754</td>\n",
       "      <td>0.285333</td>\n",
       "      <td>0.232258</td>\n",
       "      <td>BlueMale</td>\n",
       "      <td>4.662954</td>\n",
       "      <td>-38.260567</td>\n",
       "    </tr>\n",
       "    <tr>\n",
       "      <th>9</th>\n",
       "      <td>10</td>\n",
       "      <td>Blue</td>\n",
       "      <td>Male</td>\n",
       "      <td>10</td>\n",
       "      <td>0.289308</td>\n",
       "      <td>0.291971</td>\n",
       "      <td>0.319149</td>\n",
       "      <td>0.325333</td>\n",
       "      <td>0.270968</td>\n",
       "      <td>BlueMale</td>\n",
       "      <td>-0.979498</td>\n",
       "      <td>-32.813602</td>\n",
       "    </tr>\n",
       "  </tbody>\n",
       "</table>\n",
       "</div>"
      ],
      "text/plain": [
       "   rownames species   sex  index  Frontal Lobe  Rear Width  Carapace Midline  \\\n",
       "0         1    Blue  Male      1      0.056604    0.014599          0.042553   \n",
       "1         2    Blue  Male      2      0.100629    0.087591          0.103343   \n",
       "2         3    Blue  Male      3      0.125786    0.094891          0.130699   \n",
       "3         4    Blue  Male      4      0.150943    0.102190          0.164134   \n",
       "4         5    Blue  Male      5      0.163522    0.109489          0.170213   \n",
       "5         6    Blue  Male      6      0.226415    0.182482          0.252280   \n",
       "6         7    Blue  Male      7      0.245283    0.248175          0.276596   \n",
       "7         8    Blue  Male      8      0.276730    0.189781          0.297872   \n",
       "8         9    Blue  Male      9      0.289308    0.226277          0.288754   \n",
       "9        10    Blue  Male     10      0.289308    0.291971          0.319149   \n",
       "\n",
       "   Maximum Width  Body Depth     class      TSNE1      TSNE2  \n",
       "0       0.050667    0.058065  BlueMale  20.736610 -46.051155  \n",
       "1       0.098667    0.083871  BlueMale  18.900229 -45.329212  \n",
       "2       0.141333    0.103226  BlueMale  17.745157 -44.299232  \n",
       "3       0.160000    0.135484  BlueMale  16.235746 -43.616951  \n",
       "4       0.157333    0.135484  BlueMale  15.239084 -44.047001  \n",
       "5       0.250667    0.238710  BlueMale   7.457794 -38.812737  \n",
       "6       0.266667    0.238710  BlueMale   5.516184 -39.119507  \n",
       "7       0.301333    0.277419  BlueMale   4.132439 -37.329933  \n",
       "8       0.285333    0.232258  BlueMale   4.662954 -38.260567  \n",
       "9       0.325333    0.270968  BlueMale  -0.979498 -32.813602  "
      ]
     },
     "execution_count": 48,
     "metadata": {},
     "output_type": "execute_result"
    }
   ],
   "source": [
    "df_tsne = TSNE(n_components=2, perplexity=10, n_iter=1000, init=\"random\").fit_transform(df_scaled[data_columns])\n",
    "df_scaled[[\"TSNE1\", \"TSNE2\"]] = df_tsne\n",
    "df_scaled.head(10)"
   ]
  },
  {
   "cell_type": "markdown",
   "id": "675acdbe",
   "metadata": {},
   "source": [
    "### Visualize 2D for Scaled Data"
   ]
  },
  {
   "cell_type": "code",
   "execution_count": 49,
   "id": "85b0b0f8",
   "metadata": {},
   "outputs": [
    {
     "data": {
      "text/plain": [
       "<Axes: xlabel='TSNE1', ylabel='TSNE2'>"
      ]
     },
     "execution_count": 49,
     "metadata": {},
     "output_type": "execute_result"
    },
    {
     "data": {
      "image/png": "[encoded data removed]",
      "text/plain": [
       "<Figure size 800x494.438 with 1 Axes>"
      ]
     },
     "metadata": {},
     "output_type": "display_data"
    }
   ],
   "source": [
    "fig = plt.figure(figsize=(8, 8/1.618))\n",
    "sns.scatterplot(x=\"TSNE1\", y=\"TSNE2\", hue=\"class\", data=df_scaled)"
   ]
  },
  {
   "cell_type": "markdown",
   "id": "08a9c461",
   "metadata": {},
   "source": [
    "### Repeat for 3Dims"
   ]
  },
  {
   "cell_type": "code",
   "execution_count": 59,
   "id": "9146fb58",
   "metadata": {},
   "outputs": [
    {
     "name": "stderr",
     "output_type": "stream",
     "text": [
      "c:\\Users\\Jaim.Lopez-Merizalde\\AppData\\Local\\Programs\\Python\\Python313\\Lib\\site-packages\\sklearn\\manifold\\_t_sne.py:1164: FutureWarning: 'n_iter' was renamed to 'max_iter' in version 1.5 and will be removed in 1.7.\n",
      "  warnings.warn(\n"
     ]
    }
   ],
   "source": [
    "# Get Data\n",
    "df = pd.read_csv(\"crabs.csv\")\n",
    "\n",
    "df.rename(columns={\n",
    "    \"sp\": \"species\", \"FL\": \"Frontal Lobe\", \"RW\": \"Rear Width\", \"CL\": \"Carapace Midline\", \"CW\": \"Maximum Width\", \"BD\": \"Body Depth\"\n",
    "}, inplace=True)\n",
    "\n",
    "# remap cat var designator\n",
    "df[\"species\"] = df[\"species\"].map({\n",
    "    \"B\": \"Blue\", \"O\": \"Orange\"\n",
    "})\n",
    "\n",
    "df[\"sex\"] = df[\"sex\"].map({\n",
    "    \"M\": \"Male\", \"F\": \"Female\"\n",
    "})\n",
    "\n",
    "# Add a species designation, whic is going to be unique combo of sex and species\n",
    "df[\"class\"] = df[\"species\"] + df[\"sex\"]\n",
    "\n",
    "df\n",
    "\n",
    "from sklearn.manifold import TSNE\n",
    "\n",
    "tsne = TSNE(\n",
    "    n_components=3, perplexity=10, n_iter=2000, init=\"random\"\n",
    ")\n",
    "\n",
    "df_tsne = tsne.fit_transform(df[data_columns])\n",
    "\n",
    "df[[\"TSNE1\", \"TSNE2\", \"TSNE3\"]] = df_tsne"
   ]
  },
  {
   "cell_type": "code",
   "execution_count": 60,
   "id": "3d2d6158",
   "metadata": {},
   "outputs": [
    {
     "name": "stderr",
     "output_type": "stream",
     "text": [
      "c:\\Users\\Jaim.Lopez-Merizalde\\AppData\\Local\\Programs\\Python\\Python313\\Lib\\site-packages\\sklearn\\manifold\\_t_sne.py:1164: FutureWarning: 'n_iter' was renamed to 'max_iter' in version 1.5 and will be removed in 1.7.\n",
      "  warnings.warn(\n"
     ]
    },
    {
     "data": {
      "text/html": [
       "<div>\n",
       "<style scoped>\n",
       "    .dataframe tbody tr th:only-of-type {\n",
       "        vertical-align: middle;\n",
       "    }\n",
       "\n",
       "    .dataframe tbody tr th {\n",
       "        vertical-align: top;\n",
       "    }\n",
       "\n",
       "    .dataframe thead th {\n",
       "        text-align: right;\n",
       "    }\n",
       "</style>\n",
       "<table border=\"1\" class=\"dataframe\">\n",
       "  <thead>\n",
       "    <tr style=\"text-align: right;\">\n",
       "      <th></th>\n",
       "      <th>rownames</th>\n",
       "      <th>species</th>\n",
       "      <th>sex</th>\n",
       "      <th>index</th>\n",
       "      <th>Frontal Lobe</th>\n",
       "      <th>Rear Width</th>\n",
       "      <th>Carapace Midline</th>\n",
       "      <th>Maximum Width</th>\n",
       "      <th>Body Depth</th>\n",
       "      <th>class</th>\n",
       "      <th>TSNE1</th>\n",
       "      <th>TSNE2</th>\n",
       "      <th>TSNE3</th>\n",
       "    </tr>\n",
       "  </thead>\n",
       "  <tbody>\n",
       "    <tr>\n",
       "      <th>0</th>\n",
       "      <td>1</td>\n",
       "      <td>Blue</td>\n",
       "      <td>Male</td>\n",
       "      <td>1</td>\n",
       "      <td>0.056604</td>\n",
       "      <td>0.014599</td>\n",
       "      <td>0.042553</td>\n",
       "      <td>0.050667</td>\n",
       "      <td>0.058065</td>\n",
       "      <td>BlueMale</td>\n",
       "      <td>9.733089</td>\n",
       "      <td>9.546808</td>\n",
       "      <td>5.838980</td>\n",
       "    </tr>\n",
       "    <tr>\n",
       "      <th>1</th>\n",
       "      <td>2</td>\n",
       "      <td>Blue</td>\n",
       "      <td>Male</td>\n",
       "      <td>2</td>\n",
       "      <td>0.100629</td>\n",
       "      <td>0.087591</td>\n",
       "      <td>0.103343</td>\n",
       "      <td>0.098667</td>\n",
       "      <td>0.083871</td>\n",
       "      <td>BlueMale</td>\n",
       "      <td>10.038523</td>\n",
       "      <td>8.450212</td>\n",
       "      <td>5.635553</td>\n",
       "    </tr>\n",
       "    <tr>\n",
       "      <th>2</th>\n",
       "      <td>3</td>\n",
       "      <td>Blue</td>\n",
       "      <td>Male</td>\n",
       "      <td>3</td>\n",
       "      <td>0.125786</td>\n",
       "      <td>0.094891</td>\n",
       "      <td>0.130699</td>\n",
       "      <td>0.141333</td>\n",
       "      <td>0.103226</td>\n",
       "      <td>BlueMale</td>\n",
       "      <td>10.329804</td>\n",
       "      <td>8.158426</td>\n",
       "      <td>4.811800</td>\n",
       "    </tr>\n",
       "    <tr>\n",
       "      <th>3</th>\n",
       "      <td>4</td>\n",
       "      <td>Blue</td>\n",
       "      <td>Male</td>\n",
       "      <td>4</td>\n",
       "      <td>0.150943</td>\n",
       "      <td>0.102190</td>\n",
       "      <td>0.164134</td>\n",
       "      <td>0.160000</td>\n",
       "      <td>0.135484</td>\n",
       "      <td>BlueMale</td>\n",
       "      <td>10.557261</td>\n",
       "      <td>7.475565</td>\n",
       "      <td>4.124218</td>\n",
       "    </tr>\n",
       "    <tr>\n",
       "      <th>4</th>\n",
       "      <td>5</td>\n",
       "      <td>Blue</td>\n",
       "      <td>Male</td>\n",
       "      <td>5</td>\n",
       "      <td>0.163522</td>\n",
       "      <td>0.109489</td>\n",
       "      <td>0.170213</td>\n",
       "      <td>0.157333</td>\n",
       "      <td>0.135484</td>\n",
       "      <td>BlueMale</td>\n",
       "      <td>10.757346</td>\n",
       "      <td>7.299465</td>\n",
       "      <td>4.031912</td>\n",
       "    </tr>\n",
       "    <tr>\n",
       "      <th>5</th>\n",
       "      <td>6</td>\n",
       "      <td>Blue</td>\n",
       "      <td>Male</td>\n",
       "      <td>6</td>\n",
       "      <td>0.226415</td>\n",
       "      <td>0.182482</td>\n",
       "      <td>0.252280</td>\n",
       "      <td>0.250667</td>\n",
       "      <td>0.238710</td>\n",
       "      <td>BlueMale</td>\n",
       "      <td>11.055586</td>\n",
       "      <td>4.593292</td>\n",
       "      <td>-0.011953</td>\n",
       "    </tr>\n",
       "    <tr>\n",
       "      <th>6</th>\n",
       "      <td>7</td>\n",
       "      <td>Blue</td>\n",
       "      <td>Male</td>\n",
       "      <td>7</td>\n",
       "      <td>0.245283</td>\n",
       "      <td>0.248175</td>\n",
       "      <td>0.276596</td>\n",
       "      <td>0.266667</td>\n",
       "      <td>0.238710</td>\n",
       "      <td>BlueMale</td>\n",
       "      <td>10.738276</td>\n",
       "      <td>3.463829</td>\n",
       "      <td>-0.205342</td>\n",
       "    </tr>\n",
       "    <tr>\n",
       "      <th>7</th>\n",
       "      <td>8</td>\n",
       "      <td>Blue</td>\n",
       "      <td>Male</td>\n",
       "      <td>8</td>\n",
       "      <td>0.276730</td>\n",
       "      <td>0.189781</td>\n",
       "      <td>0.297872</td>\n",
       "      <td>0.301333</td>\n",
       "      <td>0.277419</td>\n",
       "      <td>BlueMale</td>\n",
       "      <td>10.616684</td>\n",
       "      <td>3.440543</td>\n",
       "      <td>-1.385536</td>\n",
       "    </tr>\n",
       "    <tr>\n",
       "      <th>8</th>\n",
       "      <td>9</td>\n",
       "      <td>Blue</td>\n",
       "      <td>Male</td>\n",
       "      <td>9</td>\n",
       "      <td>0.289308</td>\n",
       "      <td>0.226277</td>\n",
       "      <td>0.288754</td>\n",
       "      <td>0.285333</td>\n",
       "      <td>0.232258</td>\n",
       "      <td>BlueMale</td>\n",
       "      <td>10.627331</td>\n",
       "      <td>3.322917</td>\n",
       "      <td>-0.878762</td>\n",
       "    </tr>\n",
       "    <tr>\n",
       "      <th>9</th>\n",
       "      <td>10</td>\n",
       "      <td>Blue</td>\n",
       "      <td>Male</td>\n",
       "      <td>10</td>\n",
       "      <td>0.289308</td>\n",
       "      <td>0.291971</td>\n",
       "      <td>0.319149</td>\n",
       "      <td>0.325333</td>\n",
       "      <td>0.270968</td>\n",
       "      <td>BlueMale</td>\n",
       "      <td>9.273564</td>\n",
       "      <td>1.550851</td>\n",
       "      <td>-2.861122</td>\n",
       "    </tr>\n",
       "  </tbody>\n",
       "</table>\n",
       "</div>"
      ],
      "text/plain": [
       "   rownames species   sex  index  Frontal Lobe  Rear Width  Carapace Midline  \\\n",
       "0         1    Blue  Male      1      0.056604    0.014599          0.042553   \n",
       "1         2    Blue  Male      2      0.100629    0.087591          0.103343   \n",
       "2         3    Blue  Male      3      0.125786    0.094891          0.130699   \n",
       "3         4    Blue  Male      4      0.150943    0.102190          0.164134   \n",
       "4         5    Blue  Male      5      0.163522    0.109489          0.170213   \n",
       "5         6    Blue  Male      6      0.226415    0.182482          0.252280   \n",
       "6         7    Blue  Male      7      0.245283    0.248175          0.276596   \n",
       "7         8    Blue  Male      8      0.276730    0.189781          0.297872   \n",
       "8         9    Blue  Male      9      0.289308    0.226277          0.288754   \n",
       "9        10    Blue  Male     10      0.289308    0.291971          0.319149   \n",
       "\n",
       "   Maximum Width  Body Depth     class      TSNE1     TSNE2     TSNE3  \n",
       "0       0.050667    0.058065  BlueMale   9.733089  9.546808  5.838980  \n",
       "1       0.098667    0.083871  BlueMale  10.038523  8.450212  5.635553  \n",
       "2       0.141333    0.103226  BlueMale  10.329804  8.158426  4.811800  \n",
       "3       0.160000    0.135484  BlueMale  10.557261  7.475565  4.124218  \n",
       "4       0.157333    0.135484  BlueMale  10.757346  7.299465  4.031912  \n",
       "5       0.250667    0.238710  BlueMale  11.055586  4.593292 -0.011953  \n",
       "6       0.266667    0.238710  BlueMale  10.738276  3.463829 -0.205342  \n",
       "7       0.301333    0.277419  BlueMale  10.616684  3.440543 -1.385536  \n",
       "8       0.285333    0.232258  BlueMale  10.627331  3.322917 -0.878762  \n",
       "9       0.325333    0.270968  BlueMale   9.273564  1.550851 -2.861122  "
      ]
     },
     "execution_count": 60,
     "metadata": {},
     "output_type": "execute_result"
    }
   ],
   "source": [
    "# Scale Data\n",
    "df_scaled = df.copy(deep=True)\n",
    "df_scaled[data_columns] = MinMaxScaler().fit_transform(df_scaled[data_columns])\n",
    "\n",
    "# Fit with TSNE (3dims)\n",
    "df_tsne = TSNE(n_components=3, perplexity=10, n_iter=2000, init=\"random\").fit_transform(df_scaled[data_columns])\n",
    "df_scaled[[\"TSNE1\", \"TSNE2\", \"TSNE3\"]] = df_tsne\n",
    "df_scaled.head(10)"
   ]
  },
  {
   "cell_type": "markdown",
   "id": "82d10f18",
   "metadata": {},
   "source": [
    "### Plot 3D"
   ]
  },
  {
   "cell_type": "code",
   "execution_count": 61,
   "id": "3c9fe024",
   "metadata": {},
   "outputs": [
    {
     "data": {
      "text/plain": [
       "<mpl_toolkits.mplot3d.art3d.Path3DCollection at 0x1f008cfa210>"
      ]
     },
     "execution_count": 61,
     "metadata": {},
     "output_type": "execute_result"
    },
    {
     "data": {
      "image/png": "[encoded data removed]",
      "text/plain": [
       "<Figure size 800x494.438 with 1 Axes>"
      ]
     },
     "metadata": {},
     "output_type": "display_data"
    }
   ],
   "source": [
    "fig = plt.figure(figsize=(8, 8/1.618));\n",
    "ax = fig.add_subplot(111, projection=\"3d\");\n",
    "\n",
    "color = {\"BlueFemale\": \"blue\", \"BlueMale\": \"red\", \"OrangeMale\": \"g\", \"OrangeFemale\": \"orange\"};\n",
    "\n",
    "plt.scatter(\n",
    "    df_scaled[\"TSNE1\"], df_scaled[\"TSNE2\"], zs=df_scaled[\"TSNE3\"],\n",
    "    c=df_scaled[\"class\"].apply(lambda x: color[x]),\n",
    "    s=50\n",
    ")"
   ]
  },
  {
   "cell_type": "markdown",
   "id": "beb8c071",
   "metadata": {},
   "source": [
    "## Apply TSNE : Standardized Data"
   ]
  },
  {
   "cell_type": "markdown",
   "id": "2c9a331e",
   "metadata": {},
   "source": [
    "Standardized Data means mean is 0 and standard deviation is 1. This does not change the range to 0 - 1 like scaling does."
   ]
  },
  {
   "cell_type": "code",
   "execution_count": 71,
   "id": "0f6b6953",
   "metadata": {},
   "outputs": [
    {
     "data": {
      "text/html": [
       "<div>\n",
       "<style scoped>\n",
       "    .dataframe tbody tr th:only-of-type {\n",
       "        vertical-align: middle;\n",
       "    }\n",
       "\n",
       "    .dataframe tbody tr th {\n",
       "        vertical-align: top;\n",
       "    }\n",
       "\n",
       "    .dataframe thead th {\n",
       "        text-align: right;\n",
       "    }\n",
       "</style>\n",
       "<table border=\"1\" class=\"dataframe\">\n",
       "  <thead>\n",
       "    <tr style=\"text-align: right;\">\n",
       "      <th></th>\n",
       "      <th>rownames</th>\n",
       "      <th>species</th>\n",
       "      <th>sex</th>\n",
       "      <th>index</th>\n",
       "      <th>Frontal Lobe</th>\n",
       "      <th>Rear Width</th>\n",
       "      <th>Carapace Midline</th>\n",
       "      <th>Maximum Width</th>\n",
       "      <th>Body Depth</th>\n",
       "      <th>class</th>\n",
       "    </tr>\n",
       "  </thead>\n",
       "  <tbody>\n",
       "    <tr>\n",
       "      <th>0</th>\n",
       "      <td>1</td>\n",
       "      <td>Blue</td>\n",
       "      <td>Male</td>\n",
       "      <td>1</td>\n",
       "      <td>8.1</td>\n",
       "      <td>6.7</td>\n",
       "      <td>16.1</td>\n",
       "      <td>19.0</td>\n",
       "      <td>7.0</td>\n",
       "      <td>BlueMale</td>\n",
       "    </tr>\n",
       "    <tr>\n",
       "      <th>1</th>\n",
       "      <td>2</td>\n",
       "      <td>Blue</td>\n",
       "      <td>Male</td>\n",
       "      <td>2</td>\n",
       "      <td>8.8</td>\n",
       "      <td>7.7</td>\n",
       "      <td>18.1</td>\n",
       "      <td>20.8</td>\n",
       "      <td>7.4</td>\n",
       "      <td>BlueMale</td>\n",
       "    </tr>\n",
       "    <tr>\n",
       "      <th>2</th>\n",
       "      <td>3</td>\n",
       "      <td>Blue</td>\n",
       "      <td>Male</td>\n",
       "      <td>3</td>\n",
       "      <td>9.2</td>\n",
       "      <td>7.8</td>\n",
       "      <td>19.0</td>\n",
       "      <td>22.4</td>\n",
       "      <td>7.7</td>\n",
       "      <td>BlueMale</td>\n",
       "    </tr>\n",
       "    <tr>\n",
       "      <th>3</th>\n",
       "      <td>4</td>\n",
       "      <td>Blue</td>\n",
       "      <td>Male</td>\n",
       "      <td>4</td>\n",
       "      <td>9.6</td>\n",
       "      <td>7.9</td>\n",
       "      <td>20.1</td>\n",
       "      <td>23.1</td>\n",
       "      <td>8.2</td>\n",
       "      <td>BlueMale</td>\n",
       "    </tr>\n",
       "    <tr>\n",
       "      <th>4</th>\n",
       "      <td>5</td>\n",
       "      <td>Blue</td>\n",
       "      <td>Male</td>\n",
       "      <td>5</td>\n",
       "      <td>9.8</td>\n",
       "      <td>8.0</td>\n",
       "      <td>20.3</td>\n",
       "      <td>23.0</td>\n",
       "      <td>8.2</td>\n",
       "      <td>BlueMale</td>\n",
       "    </tr>\n",
       "    <tr>\n",
       "      <th>...</th>\n",
       "      <td>...</td>\n",
       "      <td>...</td>\n",
       "      <td>...</td>\n",
       "      <td>...</td>\n",
       "      <td>...</td>\n",
       "      <td>...</td>\n",
       "      <td>...</td>\n",
       "      <td>...</td>\n",
       "      <td>...</td>\n",
       "      <td>...</td>\n",
       "    </tr>\n",
       "    <tr>\n",
       "      <th>195</th>\n",
       "      <td>196</td>\n",
       "      <td>Orange</td>\n",
       "      <td>Female</td>\n",
       "      <td>46</td>\n",
       "      <td>21.4</td>\n",
       "      <td>18.0</td>\n",
       "      <td>41.2</td>\n",
       "      <td>46.2</td>\n",
       "      <td>18.7</td>\n",
       "      <td>OrangeFemale</td>\n",
       "    </tr>\n",
       "    <tr>\n",
       "      <th>196</th>\n",
       "      <td>197</td>\n",
       "      <td>Orange</td>\n",
       "      <td>Female</td>\n",
       "      <td>47</td>\n",
       "      <td>21.7</td>\n",
       "      <td>17.1</td>\n",
       "      <td>41.7</td>\n",
       "      <td>47.2</td>\n",
       "      <td>19.6</td>\n",
       "      <td>OrangeFemale</td>\n",
       "    </tr>\n",
       "    <tr>\n",
       "      <th>197</th>\n",
       "      <td>198</td>\n",
       "      <td>Orange</td>\n",
       "      <td>Female</td>\n",
       "      <td>48</td>\n",
       "      <td>21.9</td>\n",
       "      <td>17.2</td>\n",
       "      <td>42.6</td>\n",
       "      <td>47.4</td>\n",
       "      <td>19.5</td>\n",
       "      <td>OrangeFemale</td>\n",
       "    </tr>\n",
       "    <tr>\n",
       "      <th>198</th>\n",
       "      <td>199</td>\n",
       "      <td>Orange</td>\n",
       "      <td>Female</td>\n",
       "      <td>49</td>\n",
       "      <td>22.5</td>\n",
       "      <td>17.2</td>\n",
       "      <td>43.0</td>\n",
       "      <td>48.7</td>\n",
       "      <td>19.8</td>\n",
       "      <td>OrangeFemale</td>\n",
       "    </tr>\n",
       "    <tr>\n",
       "      <th>199</th>\n",
       "      <td>200</td>\n",
       "      <td>Orange</td>\n",
       "      <td>Female</td>\n",
       "      <td>50</td>\n",
       "      <td>23.1</td>\n",
       "      <td>20.2</td>\n",
       "      <td>46.2</td>\n",
       "      <td>52.5</td>\n",
       "      <td>21.1</td>\n",
       "      <td>OrangeFemale</td>\n",
       "    </tr>\n",
       "  </tbody>\n",
       "</table>\n",
       "<p>200 rows × 10 columns</p>\n",
       "</div>"
      ],
      "text/plain": [
       "     rownames species     sex  index  Frontal Lobe  Rear Width  \\\n",
       "0           1    Blue    Male      1           8.1         6.7   \n",
       "1           2    Blue    Male      2           8.8         7.7   \n",
       "2           3    Blue    Male      3           9.2         7.8   \n",
       "3           4    Blue    Male      4           9.6         7.9   \n",
       "4           5    Blue    Male      5           9.8         8.0   \n",
       "..        ...     ...     ...    ...           ...         ...   \n",
       "195       196  Orange  Female     46          21.4        18.0   \n",
       "196       197  Orange  Female     47          21.7        17.1   \n",
       "197       198  Orange  Female     48          21.9        17.2   \n",
       "198       199  Orange  Female     49          22.5        17.2   \n",
       "199       200  Orange  Female     50          23.1        20.2   \n",
       "\n",
       "     Carapace Midline  Maximum Width  Body Depth         class  \n",
       "0                16.1           19.0         7.0      BlueMale  \n",
       "1                18.1           20.8         7.4      BlueMale  \n",
       "2                19.0           22.4         7.7      BlueMale  \n",
       "3                20.1           23.1         8.2      BlueMale  \n",
       "4                20.3           23.0         8.2      BlueMale  \n",
       "..                ...            ...         ...           ...  \n",
       "195              41.2           46.2        18.7  OrangeFemale  \n",
       "196              41.7           47.2        19.6  OrangeFemale  \n",
       "197              42.6           47.4        19.5  OrangeFemale  \n",
       "198              43.0           48.7        19.8  OrangeFemale  \n",
       "199              46.2           52.5        21.1  OrangeFemale  \n",
       "\n",
       "[200 rows x 10 columns]"
      ]
     },
     "execution_count": 71,
     "metadata": {},
     "output_type": "execute_result"
    }
   ],
   "source": [
    "## Call in the Data\n",
    "\n",
    "## Make Minor Modifications\n",
    "df = pd.read_csv(\"crabs.csv\")\n",
    "\n",
    "df.rename(columns={\n",
    "    \"sp\": \"species\", \"FL\": \"Frontal Lobe\", \"RW\": \"Rear Width\", \"CL\": \"Carapace Midline\", \"CW\": \"Maximum Width\", \"BD\": \"Body Depth\"\n",
    "}, inplace=True)\n",
    "\n",
    "# remap cat var designator\n",
    "df[\"species\"] = df[\"species\"].map({\n",
    "    \"B\": \"Blue\", \"O\": \"Orange\"\n",
    "})\n",
    "\n",
    "df[\"sex\"] = df[\"sex\"].map({\n",
    "    \"M\": \"Male\", \"F\": \"Female\"\n",
    "})\n",
    "\n",
    "# Add a species designation, whic is going to be unique combo of sex and species\n",
    "df[\"class\"] = df[\"species\"] + df[\"sex\"]\n",
    "\n",
    "df"
   ]
  },
  {
   "cell_type": "markdown",
   "id": "b49d023e",
   "metadata": {},
   "source": [
    "### Standardize data"
   ]
  },
  {
   "cell_type": "code",
   "execution_count": 65,
   "id": "815c4742",
   "metadata": {},
   "outputs": [],
   "source": [
    "from sklearn.preprocessing import StandardScaler"
   ]
  },
  {
   "cell_type": "code",
   "execution_count": 72,
   "id": "94f3e59d",
   "metadata": {},
   "outputs": [
    {
     "data": {
      "text/html": [
       "<div>\n",
       "<style scoped>\n",
       "    .dataframe tbody tr th:only-of-type {\n",
       "        vertical-align: middle;\n",
       "    }\n",
       "\n",
       "    .dataframe tbody tr th {\n",
       "        vertical-align: top;\n",
       "    }\n",
       "\n",
       "    .dataframe thead th {\n",
       "        text-align: right;\n",
       "    }\n",
       "</style>\n",
       "<table border=\"1\" class=\"dataframe\">\n",
       "  <thead>\n",
       "    <tr style=\"text-align: right;\">\n",
       "      <th></th>\n",
       "      <th>rownames</th>\n",
       "      <th>index</th>\n",
       "      <th>Frontal Lobe</th>\n",
       "      <th>Rear Width</th>\n",
       "      <th>Carapace Midline</th>\n",
       "      <th>Maximum Width</th>\n",
       "      <th>Body Depth</th>\n",
       "    </tr>\n",
       "  </thead>\n",
       "  <tbody>\n",
       "    <tr>\n",
       "      <th>count</th>\n",
       "      <td>200.000000</td>\n",
       "      <td>200.000000</td>\n",
       "      <td>2.000000e+02</td>\n",
       "      <td>2.000000e+02</td>\n",
       "      <td>2.000000e+02</td>\n",
       "      <td>2.000000e+02</td>\n",
       "      <td>200.000000</td>\n",
       "    </tr>\n",
       "    <tr>\n",
       "      <th>mean</th>\n",
       "      <td>100.500000</td>\n",
       "      <td>25.500000</td>\n",
       "      <td>-7.105427e-17</td>\n",
       "      <td>6.039613e-16</td>\n",
       "      <td>1.065814e-16</td>\n",
       "      <td>-4.973799e-16</td>\n",
       "      <td>0.000000</td>\n",
       "    </tr>\n",
       "    <tr>\n",
       "      <th>std</th>\n",
       "      <td>57.879185</td>\n",
       "      <td>14.467083</td>\n",
       "      <td>1.002509e+00</td>\n",
       "      <td>1.002509e+00</td>\n",
       "      <td>1.002509e+00</td>\n",
       "      <td>1.002509e+00</td>\n",
       "      <td>1.002509</td>\n",
       "    </tr>\n",
       "    <tr>\n",
       "      <th>min</th>\n",
       "      <td>1.000000</td>\n",
       "      <td>1.000000</td>\n",
       "      <td>-2.404365e+00</td>\n",
       "      <td>-2.430365e+00</td>\n",
       "      <td>-2.451077e+00</td>\n",
       "      <td>-2.459741e+00</td>\n",
       "      <td>-2.321439</td>\n",
       "    </tr>\n",
       "    <tr>\n",
       "      <th>25%</th>\n",
       "      <td>50.750000</td>\n",
       "      <td>13.000000</td>\n",
       "      <td>-7.695229e-01</td>\n",
       "      <td>-6.772765e-01</td>\n",
       "      <td>-6.802407e-01</td>\n",
       "      <td>-6.258715e-01</td>\n",
       "      <td>-0.770008</td>\n",
       "    </tr>\n",
       "    <tr>\n",
       "      <th>50%</th>\n",
       "      <td>100.500000</td>\n",
       "      <td>25.500000</td>\n",
       "      <td>-9.464874e-03</td>\n",
       "      <td>2.395888e-02</td>\n",
       "      <td>-7.745210e-04</td>\n",
       "      <td>4.909420e-02</td>\n",
       "      <td>-0.038200</td>\n",
       "    </tr>\n",
       "    <tr>\n",
       "      <th>75%</th>\n",
       "      <td>150.250000</td>\n",
       "      <td>38.000000</td>\n",
       "      <td>7.075710e-01</td>\n",
       "      <td>6.083217e-01</td>\n",
       "      <td>7.209382e-01</td>\n",
       "      <td>7.113247e-01</td>\n",
       "      <td>0.752152</td>\n",
       "    </tr>\n",
       "    <tr>\n",
       "      <th>max</th>\n",
       "      <td>200.000000</td>\n",
       "      <td>50.000000</td>\n",
       "      <td>2.155984e+00</td>\n",
       "      <td>2.906815e+00</td>\n",
       "      <td>2.181966e+00</td>\n",
       "      <td>2.315960e+00</td>\n",
       "      <td>2.215766</td>\n",
       "    </tr>\n",
       "  </tbody>\n",
       "</table>\n",
       "</div>"
      ],
      "text/plain": [
       "         rownames       index  Frontal Lobe    Rear Width  Carapace Midline  \\\n",
       "count  200.000000  200.000000  2.000000e+02  2.000000e+02      2.000000e+02   \n",
       "mean   100.500000   25.500000 -7.105427e-17  6.039613e-16      1.065814e-16   \n",
       "std     57.879185   14.467083  1.002509e+00  1.002509e+00      1.002509e+00   \n",
       "min      1.000000    1.000000 -2.404365e+00 -2.430365e+00     -2.451077e+00   \n",
       "25%     50.750000   13.000000 -7.695229e-01 -6.772765e-01     -6.802407e-01   \n",
       "50%    100.500000   25.500000 -9.464874e-03  2.395888e-02     -7.745210e-04   \n",
       "75%    150.250000   38.000000  7.075710e-01  6.083217e-01      7.209382e-01   \n",
       "max    200.000000   50.000000  2.155984e+00  2.906815e+00      2.181966e+00   \n",
       "\n",
       "       Maximum Width  Body Depth  \n",
       "count   2.000000e+02  200.000000  \n",
       "mean   -4.973799e-16    0.000000  \n",
       "std     1.002509e+00    1.002509  \n",
       "min    -2.459741e+00   -2.321439  \n",
       "25%    -6.258715e-01   -0.770008  \n",
       "50%     4.909420e-02   -0.038200  \n",
       "75%     7.113247e-01    0.752152  \n",
       "max     2.315960e+00    2.215766  "
      ]
     },
     "execution_count": 72,
     "metadata": {},
     "output_type": "execute_result"
    }
   ],
   "source": [
    "df_std = df.copy(deep=True)\n",
    "df_std[data_columns] = StandardScaler().fit_transform(df[data_columns])\n",
    "df_std.head(10)\n",
    "\n",
    "df_std.describe()"
   ]
  },
  {
   "cell_type": "markdown",
   "id": "e66754f8",
   "metadata": {},
   "source": [
    "### Apply TSNE"
   ]
  },
  {
   "cell_type": "code",
   "execution_count": 76,
   "id": "4f626b5c",
   "metadata": {},
   "outputs": [
    {
     "name": "stderr",
     "output_type": "stream",
     "text": [
      "c:\\Users\\Jaim.Lopez-Merizalde\\AppData\\Local\\Programs\\Python\\Python313\\Lib\\site-packages\\sklearn\\manifold\\_t_sne.py:1164: FutureWarning: 'n_iter' was renamed to 'max_iter' in version 1.5 and will be removed in 1.7.\n",
      "  warnings.warn(\n"
     ]
    },
    {
     "data": {
      "text/plain": [
       "<Axes: xlabel='TSNE1', ylabel='TSNE2'>"
      ]
     },
     "execution_count": 76,
     "metadata": {},
     "output_type": "execute_result"
    },
    {
     "data": {
      "image/png": "[encoded data removed]",
      "text/plain": [
       "<Figure size 800x494.438 with 1 Axes>"
      ]
     },
     "metadata": {},
     "output_type": "display_data"
    }
   ],
   "source": [
    "df_tsne = TSNE(n_components=2, perplexity=10, n_iter=1000, init=\"random\").fit_transform(df_std[data_columns])\n",
    "\n",
    "df_std[[\"TSNE1\", \"TSNE2\"]] = df_tsne\n",
    "\n",
    "fig = plt.figure(figsize=(8, 8/1.618))\n",
    "sns.scatterplot(x=\"TSNE1\", y=\"TSNE2\", hue=\"class\", data=df_std)\n"
   ]
  },
  {
   "cell_type": "markdown",
   "id": "682c2343",
   "metadata": {},
   "source": [
    "### Repeat for 3Dims"
   ]
  },
  {
   "cell_type": "code",
   "execution_count": 2,
   "id": "f222024d",
   "metadata": {},
   "outputs": [
    {
     "data": {
      "text/html": [
       "<div>\n",
       "<style scoped>\n",
       "    .dataframe tbody tr th:only-of-type {\n",
       "        vertical-align: middle;\n",
       "    }\n",
       "\n",
       "    .dataframe tbody tr th {\n",
       "        vertical-align: top;\n",
       "    }\n",
       "\n",
       "    .dataframe thead th {\n",
       "        text-align: right;\n",
       "    }\n",
       "</style>\n",
       "<table border=\"1\" class=\"dataframe\">\n",
       "  <thead>\n",
       "    <tr style=\"text-align: right;\">\n",
       "      <th></th>\n",
       "      <th>rownames</th>\n",
       "      <th>species</th>\n",
       "      <th>sex</th>\n",
       "      <th>index</th>\n",
       "      <th>Frontal Lobe</th>\n",
       "      <th>Rear Width</th>\n",
       "      <th>Carapace Midline</th>\n",
       "      <th>Maximum Width</th>\n",
       "      <th>Body Depth</th>\n",
       "      <th>class</th>\n",
       "    </tr>\n",
       "  </thead>\n",
       "  <tbody>\n",
       "    <tr>\n",
       "      <th>0</th>\n",
       "      <td>1</td>\n",
       "      <td>Blue</td>\n",
       "      <td>Male</td>\n",
       "      <td>1</td>\n",
       "      <td>8.1</td>\n",
       "      <td>6.7</td>\n",
       "      <td>16.1</td>\n",
       "      <td>19.0</td>\n",
       "      <td>7.0</td>\n",
       "      <td>BlueMale</td>\n",
       "    </tr>\n",
       "    <tr>\n",
       "      <th>1</th>\n",
       "      <td>2</td>\n",
       "      <td>Blue</td>\n",
       "      <td>Male</td>\n",
       "      <td>2</td>\n",
       "      <td>8.8</td>\n",
       "      <td>7.7</td>\n",
       "      <td>18.1</td>\n",
       "      <td>20.8</td>\n",
       "      <td>7.4</td>\n",
       "      <td>BlueMale</td>\n",
       "    </tr>\n",
       "    <tr>\n",
       "      <th>2</th>\n",
       "      <td>3</td>\n",
       "      <td>Blue</td>\n",
       "      <td>Male</td>\n",
       "      <td>3</td>\n",
       "      <td>9.2</td>\n",
       "      <td>7.8</td>\n",
       "      <td>19.0</td>\n",
       "      <td>22.4</td>\n",
       "      <td>7.7</td>\n",
       "      <td>BlueMale</td>\n",
       "    </tr>\n",
       "    <tr>\n",
       "      <th>3</th>\n",
       "      <td>4</td>\n",
       "      <td>Blue</td>\n",
       "      <td>Male</td>\n",
       "      <td>4</td>\n",
       "      <td>9.6</td>\n",
       "      <td>7.9</td>\n",
       "      <td>20.1</td>\n",
       "      <td>23.1</td>\n",
       "      <td>8.2</td>\n",
       "      <td>BlueMale</td>\n",
       "    </tr>\n",
       "    <tr>\n",
       "      <th>4</th>\n",
       "      <td>5</td>\n",
       "      <td>Blue</td>\n",
       "      <td>Male</td>\n",
       "      <td>5</td>\n",
       "      <td>9.8</td>\n",
       "      <td>8.0</td>\n",
       "      <td>20.3</td>\n",
       "      <td>23.0</td>\n",
       "      <td>8.2</td>\n",
       "      <td>BlueMale</td>\n",
       "    </tr>\n",
       "    <tr>\n",
       "      <th>...</th>\n",
       "      <td>...</td>\n",
       "      <td>...</td>\n",
       "      <td>...</td>\n",
       "      <td>...</td>\n",
       "      <td>...</td>\n",
       "      <td>...</td>\n",
       "      <td>...</td>\n",
       "      <td>...</td>\n",
       "      <td>...</td>\n",
       "      <td>...</td>\n",
       "    </tr>\n",
       "    <tr>\n",
       "      <th>195</th>\n",
       "      <td>196</td>\n",
       "      <td>Orange</td>\n",
       "      <td>Female</td>\n",
       "      <td>46</td>\n",
       "      <td>21.4</td>\n",
       "      <td>18.0</td>\n",
       "      <td>41.2</td>\n",
       "      <td>46.2</td>\n",
       "      <td>18.7</td>\n",
       "      <td>OrangeFemale</td>\n",
       "    </tr>\n",
       "    <tr>\n",
       "      <th>196</th>\n",
       "      <td>197</td>\n",
       "      <td>Orange</td>\n",
       "      <td>Female</td>\n",
       "      <td>47</td>\n",
       "      <td>21.7</td>\n",
       "      <td>17.1</td>\n",
       "      <td>41.7</td>\n",
       "      <td>47.2</td>\n",
       "      <td>19.6</td>\n",
       "      <td>OrangeFemale</td>\n",
       "    </tr>\n",
       "    <tr>\n",
       "      <th>197</th>\n",
       "      <td>198</td>\n",
       "      <td>Orange</td>\n",
       "      <td>Female</td>\n",
       "      <td>48</td>\n",
       "      <td>21.9</td>\n",
       "      <td>17.2</td>\n",
       "      <td>42.6</td>\n",
       "      <td>47.4</td>\n",
       "      <td>19.5</td>\n",
       "      <td>OrangeFemale</td>\n",
       "    </tr>\n",
       "    <tr>\n",
       "      <th>198</th>\n",
       "      <td>199</td>\n",
       "      <td>Orange</td>\n",
       "      <td>Female</td>\n",
       "      <td>49</td>\n",
       "      <td>22.5</td>\n",
       "      <td>17.2</td>\n",
       "      <td>43.0</td>\n",
       "      <td>48.7</td>\n",
       "      <td>19.8</td>\n",
       "      <td>OrangeFemale</td>\n",
       "    </tr>\n",
       "    <tr>\n",
       "      <th>199</th>\n",
       "      <td>200</td>\n",
       "      <td>Orange</td>\n",
       "      <td>Female</td>\n",
       "      <td>50</td>\n",
       "      <td>23.1</td>\n",
       "      <td>20.2</td>\n",
       "      <td>46.2</td>\n",
       "      <td>52.5</td>\n",
       "      <td>21.1</td>\n",
       "      <td>OrangeFemale</td>\n",
       "    </tr>\n",
       "  </tbody>\n",
       "</table>\n",
       "<p>200 rows × 10 columns</p>\n",
       "</div>"
      ],
      "text/plain": [
       "     rownames species     sex  index  Frontal Lobe  Rear Width  \\\n",
       "0           1    Blue    Male      1           8.1         6.7   \n",
       "1           2    Blue    Male      2           8.8         7.7   \n",
       "2           3    Blue    Male      3           9.2         7.8   \n",
       "3           4    Blue    Male      4           9.6         7.9   \n",
       "4           5    Blue    Male      5           9.8         8.0   \n",
       "..        ...     ...     ...    ...           ...         ...   \n",
       "195       196  Orange  Female     46          21.4        18.0   \n",
       "196       197  Orange  Female     47          21.7        17.1   \n",
       "197       198  Orange  Female     48          21.9        17.2   \n",
       "198       199  Orange  Female     49          22.5        17.2   \n",
       "199       200  Orange  Female     50          23.1        20.2   \n",
       "\n",
       "     Carapace Midline  Maximum Width  Body Depth         class  \n",
       "0                16.1           19.0         7.0      BlueMale  \n",
       "1                18.1           20.8         7.4      BlueMale  \n",
       "2                19.0           22.4         7.7      BlueMale  \n",
       "3                20.1           23.1         8.2      BlueMale  \n",
       "4                20.3           23.0         8.2      BlueMale  \n",
       "..                ...            ...         ...           ...  \n",
       "195              41.2           46.2        18.7  OrangeFemale  \n",
       "196              41.7           47.2        19.6  OrangeFemale  \n",
       "197              42.6           47.4        19.5  OrangeFemale  \n",
       "198              43.0           48.7        19.8  OrangeFemale  \n",
       "199              46.2           52.5        21.1  OrangeFemale  \n",
       "\n",
       "[200 rows x 10 columns]"
      ]
     },
     "execution_count": 2,
     "metadata": {},
     "output_type": "execute_result"
    }
   ],
   "source": [
    "## Call in the Data\n",
    "\n",
    "## Make Minor Modifications\n",
    "df = pd.read_csv(\"crabs.csv\")\n",
    "\n",
    "df.rename(columns={\n",
    "    \"sp\": \"species\", \"FL\": \"Frontal Lobe\", \"RW\": \"Rear Width\", \"CL\": \"Carapace Midline\", \"CW\": \"Maximum Width\", \"BD\": \"Body Depth\"\n",
    "}, inplace=True)\n",
    "\n",
    "# remap cat var designator\n",
    "df[\"species\"] = df[\"species\"].map({\n",
    "    \"B\": \"Blue\", \"O\": \"Orange\"\n",
    "})\n",
    "\n",
    "df[\"sex\"] = df[\"sex\"].map({\n",
    "    \"M\": \"Male\", \"F\": \"Female\"\n",
    "})\n",
    "\n",
    "# Add a species designation, whic is going to be unique combo of sex and species\n",
    "df[\"class\"] = df[\"species\"] + df[\"sex\"]\n",
    "\n",
    "data_columns = [\"Frontal Lobe\", \"Rear Width\", \"Carapace Midline\", \"Maximum Width\", \"Body Depth\"]\n",
    "\n",
    "df\n",
    "\n",
    "\n"
   ]
  },
  {
   "cell_type": "markdown",
   "id": "39fffe36",
   "metadata": {},
   "source": [
    "### Apply TSNE"
   ]
  },
  {
   "cell_type": "code",
   "execution_count": 3,
   "id": "42022388",
   "metadata": {},
   "outputs": [
    {
     "name": "stderr",
     "output_type": "stream",
     "text": [
      "c:\\Users\\Jaim.Lopez-Merizalde\\AppData\\Local\\Programs\\Python\\Python313\\Lib\\site-packages\\sklearn\\manifold\\_t_sne.py:1164: FutureWarning: 'n_iter' was renamed to 'max_iter' in version 1.5 and will be removed in 1.7.\n",
      "  warnings.warn(\n"
     ]
    }
   ],
   "source": [
    "df_std = df.copy(deep=True)\n",
    "df_std[data_columns] = StandardScaler().fit_transform(df[data_columns])\n",
    "\n",
    "df_tsne = TSNE(n_components=3, perplexity=10, n_iter=2000, init=\"random\").fit_transform(df_std[data_columns])\n",
    "\n",
    "df_std[[\"TSNE1\", \"TSNE2\", \"TSNE3\"]] = df_tsne"
   ]
  },
  {
   "cell_type": "markdown",
   "id": "6cffbd00",
   "metadata": {},
   "source": [
    "### Visualize"
   ]
  },
  {
   "cell_type": "code",
   "execution_count": 4,
   "id": "da0dd25b",
   "metadata": {},
   "outputs": [
    {
     "data": {
      "text/plain": [
       "<mpl_toolkits.mplot3d.art3d.Path3DCollection at 0x245297a67b0>"
      ]
     },
     "execution_count": 4,
     "metadata": {},
     "output_type": "execute_result"
    },
    {
     "data": {
      "image/png": "[encoded data removed]",
      "text/plain": [
       "<Figure size 800x494.438 with 1 Axes>"
      ]
     },
     "metadata": {},
     "output_type": "display_data"
    }
   ],
   "source": [
    "fig = plt.figure(figsize=(8, 8/1.618));\n",
    "ax = fig.add_subplot(111, projection=\"3d\")\n",
    "\n",
    "color = {\"BlueFemale\": \"blue\", \"BlueMale\": \"red\", \"OrangeMale\": \"g\", \"OrangeFemale\": \"orange\"};\n",
    "\n",
    "plt.scatter(\n",
    "    df_std[\"TSNE1\"], df_std[\"TSNE2\"], zs=df_std[\"TSNE3\"],\n",
    "    s=100, c=df_std[\"class\"].apply(lambda x: color[x])\n",
    ")\n"
   ]
  },
  {
   "cell_type": "markdown",
   "id": "b04f3af1",
   "metadata": {},
   "source": [
    "### Plot with Plotly Express"
   ]
  },
  {
   "cell_type": "code",
   "execution_count": 5,
   "id": "3658c75c",
   "metadata": {},
   "outputs": [
    {
     "data": {
      "application/vnd.plotly.v1+json": {
       "config": {
        "plotlyServerURL": "https://plot.ly"
       },
       "data": [
        {
         "hovertemplate": "class=BlueMale<br>TSNE1=%{x}<br>TSNE2=%{y}<br>TSNE3=%{z}<extra></extra>",
         "legendgroup": "BlueMale",
         "marker": {
          "color": "#636efa",
          "symbol": "circle"
         },
         "mode": "markers",
         "name": "BlueMale",
         "scene": "scene",
         "showlegend": true,
         "type": "scatter3d",
         "x": {
          "bdata": "MLtYQStTSEFht0NBTq46QWPXOEEf6QhB/lruQEkB50AlbOZAznGMQF7hSb5VV4a9kXZWvznjZb8znFa/IWvrvh+wz7+7VfC/Sgv6v3Jg7L8ogxTA+1Y5wCl1M8BGSEPAArdawKrLa8DK31fA29FFwHqDUcCwylHAtpcOwKV4LsDdRTLAMDIrwHwDLMBOZCvAWNkSwNUbFsC5xADAF4zsv4eJv7+Hi1W/aF+cv/zPWT5H/M4+sndJPvEboD5K3xA/NgwGP6FJwD8=",
          "dtype": "f4"
         },
         "y": {
          "bdata": "UalcQKj3gEASqY5AGLqeQAFqqEDp4/dA5joGQQcuBkFQGQdByAwPQTItKUFGWR9BjQ82QSN1NEFBgyJBRHcWQeCKLEE6ryRBDtkbQRaYikDQWrw/zBgsP1E8cj9aLC0+Mah8vqdegr6jNSm/hj14wD2vSMCRcey/wlufwNQpu8B5vJTAafeuwMGN58Bh6KvAuJXZwASnr8B6ALrAt9j7wAc+BsFenQ7BNf4JwZvGMsEjrDLBUzQuwVE4NsEhIEHBKxA+wZjtgsE=",
          "dtype": "f4"
         },
         "z": {
          "bdata": "DdNZwKOyWMBvryrApbQHwBORB8DKDYI/TqstPwlS7j81JqY/vUwxQAoSbUA7umVACwGdQJSRlUC35HFAz0J5QA2vhEDHS3RAcR1kQHW8rUBl/b5AXafFQPms0EDVXsBARGS4QIqstEC6k7VAvu+XQGfinEAK6alAdfChQEnbl0Dtw5BAsq2QQGyRbkB98XRAgRVjQMBmXkCz+l1AyDQ9QE9nJEBzfP8/iPwUQM7DQsDv8Y2+lyXMPcVkI8BvobS/hsyzv+EUOMA=",
          "dtype": "f4"
         }
        },
        {
         "hovertemplate": "class=BlueFemale<br>TSNE1=%{x}<br>TSNE2=%{y}<br>TSNE3=%{z}<extra></extra>",
         "legendgroup": "BlueFemale",
         "marker": {
          "color": "#EF553B",
          "symbol": "circle"
         },
         "mode": "markers",
         "name": "BlueFemale",
         "scene": "scene",
         "showlegend": true,
         "type": "scatter3d",
         "x": {
          "bdata": "zR9fQfoyOEFjqURBI0s6QdrzPkFnnCRBxIQbQcSiF0EDChBBZUAHQZnmCEE0YfZA78+AQApzfkAQgoZAkb2PQMhDIEA6sINAgKk3QE6a1L/xVLu/F3zhv+KTFcAXE8+/PPEIwCScK8AkRT3AC1V5wLhEssCwKanATROvwBxB98AIM/TAe/z0wBem+cDO7NzAU3TgwPIG7sBuKgHB4V/SwKSq58Apt+fAmYfbwBPC2cAu4e3A86OrwFGzbcAhSETAs3A9wMjIzj0=",
          "dtype": "f4"
         },
         "y": {
          "bdata": "/kRiQIJooEABrpZA8RKQQFLEp0AHCNBAqBjgQHSR5kB5AfNA0WL8QGPU/UCmwARBlC0cQUinGkEHoyZBkFsSQQmRE0GRQBBB3iwSQXRH/0C1uQFB02X+QNPB90AVrBBB9cwRQWrH80DVSfhAb1/RQFGynkCrJI9ADJGGQI+3Oj7B0Za/UHdiP5Gq2j6JSSw/18UmwD52r7++Ty8+GbAawC/ygb+PY0jACdgBwCnlasB/EVvApbhawLry0cBFrQHBM/wDwd4qMME=",
          "dtype": "f4"
         },
         "z": {
          "bdata": "gIRbwFlTV8Dm3FbA4PJEwAv3MsDaOMW/lsKwv2r9V78h4JS/mGFpvafRgL+ZE5A+M5MyQJjPTUD6r0xAtTA/QK9MVUBI00pASAxbQEeEkD9ltSBAvWycP+y96T+CnkRAqCdAQAykAUBpzyZALBYTQDjHEUBKO+o/eke4P0WgpL+EDdO/L1gBv2h8Tr+NRdi+ot4GwITetb+2JO6+TkDcv37zYb9bmTHAE/C+v1B4RcDknE7ASqopwEQls8A3UcrAZ1/KwAkpb8A=",
          "dtype": "f4"
         }
        },
        {
         "hovertemplate": "class=OrangeMale<br>TSNE1=%{x}<br>TSNE2=%{y}<br>TSNE3=%{z}<extra></extra>",
         "legendgroup": "OrangeMale",
         "marker": {
          "color": "#00cc96",
          "symbol": "circle"
         },
         "mode": "markers",
         "name": "OrangeMale",
         "scene": "scene",
         "showlegend": true,
         "type": "scatter3d",
         "x": {
          "bdata": "FdtSQaP4MkFHUS1BtoARQa4140AyWN1A2VdVP+7lk77SXho/DmAGvz7/O8CxTvG/L7rPv5WjBMCli8q/Efiev1b/O8BEdSLA1lgfwBF8icAXVYvACXR6wLOgqsD2hq7AyHeuwPFRBD1rEro+y83BPaZkij7aNis/0xJHPz9yjT9uC+k+N3uSP7uAjj9sR8E/CgDFPxiLaz+rGIU/6bl7Pw5Mdj9VeF4/G5llP7f1nD8SsZo/jo5/P0xroj8whIM/CIa9PwFuxj8=",
          "dtype": "f4"
         },
         "y": {
          "bdata": "TplYQD01tkCDJ8FAWHHpQF+b/kAE3wBBHIsNQcuk/EBjRg5BYH3zQH6InkAcAbtATy26QJi+tUBQtrtA16/PQN/WnkBBFn5Ap6iXQPgRN0CCjiVAXpU/QBCC2D8ciYQ/3fWcP9E7i8DReKDA/flrwD1zjMCxBqnA48e7wHfw2cCGtAXBuFT/wD259cADn9nAiXbrwN0SEsGMPBnBD1IewVTmJcGAIVXBA+5Yweiec8EzBXPBuvphwQXXeMH+QXDBXT9/wRcPgcE=",
          "dtype": "f4"
         },
         "z": {
          "bdata": "CSFXwEyStL8SpXS/EcagP9NpP0DKU0JA7/G9QCmYrECzj8RA3dazQLPOxEA/r/VAjNLqQJsR5UATa91ArGXUQPF50EAqe8FADVTXQJUXvEBkGbpAgPrEQOyRpUBH36xAdJauQPd9gEAPuWBAjHGJQAgHekCFsVBA0u03QH6IEEAy6eA/qnDZPxKS5j/e9v4/XDHiP5hMlj+/GGM/LFgwP1z2xj6jytC/pDPpv2WYMcDO5izAPKoGwElzSsAV20rAFw6FwEemcMA=",
          "dtype": "f4"
         }
        },
        {
         "hovertemplate": "class=OrangeFemale<br>TSNE1=%{x}<br>TSNE2=%{y}<br>TSNE3=%{z}<extra></extra>",
         "legendgroup": "OrangeFemale",
         "marker": {
          "color": "#ab63fa",
          "symbol": "circle"
         },
         "mode": "markers",
         "name": "OrangeFemale",
         "scene": "scene",
         "showlegend": true,
         "type": "scatter3d",
         "x": {
          "bdata": "+tsZQZttF0H42dNAeXf0P65QqT8nGG7AotWRwJv6ecCY06vAvaGuwLQTpMCij/XAYfHWwGs708DeV+zA8p33wKU68sDERd/AHF2TwPDwjsBqxYLAs7l9wOqwicBlIoTAFxhYwEjnHcBeOC/AVQ0wwDyZGcDIFvS/5qlQwPKJEMAt7AvAyVHlv5Yr27+Vnyq/3GgSv2PM8D5LuwK+JFWsvhnYor4V0cC9HZ9sPfyfVD7gbmU/7MXCPjif2j0181s+9qazPojtuj8=",
          "dtype": "f4"
         },
         "y": {
          "bdata": "PBnjQGrY4kBPFwJBpEMIQenuBkGt18hAIUS1QHraxECFmZFAiwiLQGapMkDe0BJAfXoGQNrcJEBytR5AeZ3rP/Dw6j+beABAEJ3Mv7+18L/ki3jAy1CBwEnMCsCr0mPAKj2SwLp3AcFQ+b3AACe3wFnf08C0W8vAuYB4wIPCxMC0HMvA+br3wG/ZAcFLoijByLojwczrOsErjCnBEew0wdsyHMGRzETB6ZBMwc49IcEJB2XB0KFQwW3XXMGo+V/BHt1lwfSxcsE=",
          "dtype": "f4"
         },
         "z": {
          "bdata": "pA+GPhbXWj/Du0lAiVyMQOGLmEDBRXtAQgE0QC5kakDOByVAlsYsQKhVmUArq9e//98DwP30AcDU1+O/GhMiwC72JsABKDLA3x+AwKTAgMCja1rA5XpbwLG3gcAeK1jA/sJ8wMpGvcCmf5bAfCeQwFR/mMABRlnAVc2DwEdNfcCaKrrAXN+qwMlUsMDweLvAUbO3wKn/z8C/SqzA5ObDwH5YscBk8MnAWZfIwKGotMBbT8zAKRLRwPZgu8D0CrrAJxiywC+jxsA=",
          "dtype": "f4"
         }
        }
       ],
       "layout": {
        "legend": {
         "title": {
          "text": "class"
         },
         "tracegroupgap": 0
        },
        "margin": {
         "t": 60
        },
        "scene": {
         "domain": {
          "x": [
           0,
           1
          ],
          "y": [
           0,
           1
          ]
         },
         "xaxis": {
          "title": {
           "text": "TSNE1"
          }
         },
         "yaxis": {
          "title": {
           "text": "TSNE2"
          }
         },
         "zaxis": {
          "title": {
           "text": "TSNE3"
          }
         }
        },
        "template": {
         "data": {
          "bar": [
           {
            "error_x": {
             "color": "#2a3f5f"
            },
            "error_y": {
             "color": "#2a3f5f"
            },
            "marker": {
             "line": {
              "color": "#E5ECF6",
              "width": 0.5
             },
             "pattern": {
              "fillmode": "overlay",
              "size": 10,
              "solidity": 0.2
             }
            },
            "type": "bar"
           }
          ],
          "barpolar": [
           {
            "marker": {
             "line": {
              "color": "#E5ECF6",
              "width": 0.5
             },
             "pattern": {
              "fillmode": "overlay",
              "size": 10,
              "solidity": 0.2
             }
            },
            "type": "barpolar"
           }
          ],
          "carpet": [
           {
            "aaxis": {
             "endlinecolor": "#2a3f5f",
             "gridcolor": "white",
             "linecolor": "white",
             "minorgridcolor": "white",
             "startlinecolor": "#2a3f5f"
            },
            "baxis": {
             "endlinecolor": "#2a3f5f",
             "gridcolor": "white",
             "linecolor": "white",
             "minorgridcolor": "white",
             "startlinecolor": "#2a3f5f"
            },
            "type": "carpet"
           }
          ],
          "choropleth": [
           {
            "colorbar": {
             "outlinewidth": 0,
             "ticks": ""
            },
            "type": "choropleth"
           }
          ],
          "contour": [
           {
            "colorbar": {
             "outlinewidth": 0,
             "ticks": ""
            },
            "colorscale": [
             [
              0,
              "#0d0887"
             ],
             [
              0.1111111111111111,
              "#46039f"
             ],
             [
              0.2222222222222222,
              "#7201a8"
             ],
             [
              0.3333333333333333,
              "#9c179e"
             ],
             [
              0.4444444444444444,
              "#bd3786"
             ],
             [
              0.5555555555555556,
              "#d8576b"
             ],
             [
              0.6666666666666666,
              "#ed7953"
             ],
             [
              0.7777777777777778,
              "#fb9f3a"
             ],
             [
              0.8888888888888888,
              "#fdca26"
             ],
             [
              1,
              "#f0f921"
             ]
            ],
            "type": "contour"
           }
          ],
          "contourcarpet": [
           {
            "colorbar": {
             "outlinewidth": 0,
             "ticks": ""
            },
            "type": "contourcarpet"
           }
          ],
          "heatmap": [
           {
            "colorbar": {
             "outlinewidth": 0,
             "ticks": ""
            },
            "colorscale": [
             [
              0,
              "#0d0887"
             ],
             [
              0.1111111111111111,
              "#46039f"
             ],
             [
              0.2222222222222222,
              "#7201a8"
             ],
             [
              0.3333333333333333,
              "#9c179e"
             ],
             [
              0.4444444444444444,
              "#bd3786"
             ],
             [
              0.5555555555555556,
              "#d8576b"
             ],
             [
              0.6666666666666666,
              "#ed7953"
             ],
             [
              0.7777777777777778,
              "#fb9f3a"
             ],
             [
              0.8888888888888888,
              "#fdca26"
             ],
             [
              1,
              "#f0f921"
             ]
            ],
            "type": "heatmap"
           }
          ],
          "histogram": [
           {
            "marker": {
             "pattern": {
              "fillmode": "overlay",
              "size": 10,
              "solidity": 0.2
             }
            },
            "type": "histogram"
           }
          ],
          "histogram2d": [
           {
            "colorbar": {
             "outlinewidth": 0,
             "ticks": ""
            },
            "colorscale": [
             [
              0,
              "#0d0887"
             ],
             [
              0.1111111111111111,
              "#46039f"
             ],
             [
              0.2222222222222222,
              "#7201a8"
             ],
             [
              0.3333333333333333,
              "#9c179e"
             ],
             [
              0.4444444444444444,
              "#bd3786"
             ],
             [
              0.5555555555555556,
              "#d8576b"
             ],
             [
              0.6666666666666666,
              "#ed7953"
             ],
             [
              0.7777777777777778,
              "#fb9f3a"
             ],
             [
              0.8888888888888888,
              "#fdca26"
             ],
             [
              1,
              "#f0f921"
             ]
            ],
            "type": "histogram2d"
           }
          ],
          "histogram2dcontour": [
           {
            "colorbar": {
             "outlinewidth": 0,
             "ticks": ""
            },
            "colorscale": [
             [
              0,
              "#0d0887"
             ],
             [
              0.1111111111111111,
              "#46039f"
             ],
             [
              0.2222222222222222,
              "#7201a8"
             ],
             [
              0.3333333333333333,
              "#9c179e"
             ],
             [
              0.4444444444444444,
              "#bd3786"
             ],
             [
              0.5555555555555556,
              "#d8576b"
             ],
             [
              0.6666666666666666,
              "#ed7953"
             ],
             [
              0.7777777777777778,
              "#fb9f3a"
             ],
             [
              0.8888888888888888,
              "#fdca26"
             ],
             [
              1,
              "#f0f921"
             ]
            ],
            "type": "histogram2dcontour"
           }
          ],
          "mesh3d": [
           {
            "colorbar": {
             "outlinewidth": 0,
             "ticks": ""
            },
            "type": "mesh3d"
           }
          ],
          "parcoords": [
           {
            "line": {
             "colorbar": {
              "outlinewidth": 0,
              "ticks": ""
             }
            },
            "type": "parcoords"
           }
          ],
          "pie": [
           {
            "automargin": true,
            "type": "pie"
           }
          ],
          "scatter": [
           {
            "fillpattern": {
             "fillmode": "overlay",
             "size": 10,
             "solidity": 0.2
            },
            "type": "scatter"
           }
          ],
          "scatter3d": [
           {
            "line": {
             "colorbar": {
              "outlinewidth": 0,
              "ticks": ""
             }
            },
            "marker": {
             "colorbar": {
              "outlinewidth": 0,
              "ticks": ""
             }
            },
            "type": "scatter3d"
           }
          ],
          "scattercarpet": [
           {
            "marker": {
             "colorbar": {
              "outlinewidth": 0,
              "ticks": ""
             }
            },
            "type": "scattercarpet"
           }
          ],
          "scattergeo": [
           {
            "marker": {
             "colorbar": {
              "outlinewidth": 0,
              "ticks": ""
             }
            },
            "type": "scattergeo"
           }
          ],
          "scattergl": [
           {
            "marker": {
             "colorbar": {
              "outlinewidth": 0,
              "ticks": ""
             }
            },
            "type": "scattergl"
           }
          ],
          "scattermap": [
           {
            "marker": {
             "colorbar": {
              "outlinewidth": 0,
              "ticks": ""
             }
            },
            "type": "scattermap"
           }
          ],
          "scattermapbox": [
           {
            "marker": {
             "colorbar": {
              "outlinewidth": 0,
              "ticks": ""
             }
            },
            "type": "scattermapbox"
           }
          ],
          "scatterpolar": [
           {
            "marker": {
             "colorbar": {
              "outlinewidth": 0,
              "ticks": ""
             }
            },
            "type": "scatterpolar"
           }
          ],
          "scatterpolargl": [
           {
            "marker": {
             "colorbar": {
              "outlinewidth": 0,
              "ticks": ""
             }
            },
            "type": "scatterpolargl"
           }
          ],
          "scatterternary": [
           {
            "marker": {
             "colorbar": {
              "outlinewidth": 0,
              "ticks": ""
             }
            },
            "type": "scatterternary"
           }
          ],
          "surface": [
           {
            "colorbar": {
             "outlinewidth": 0,
             "ticks": ""
            },
            "colorscale": [
             [
              0,
              "#0d0887"
             ],
             [
              0.1111111111111111,
              "#46039f"
             ],
             [
              0.2222222222222222,
              "#7201a8"
             ],
             [
              0.3333333333333333,
              "#9c179e"
             ],
             [
              0.4444444444444444,
              "#bd3786"
             ],
             [
              0.5555555555555556,
              "#d8576b"
             ],
             [
              0.6666666666666666,
              "#ed7953"
             ],
             [
              0.7777777777777778,
              "#fb9f3a"
             ],
             [
              0.8888888888888888,
              "#fdca26"
             ],
             [
              1,
              "#f0f921"
             ]
            ],
            "type": "surface"
           }
          ],
          "table": [
           {
            "cells": {
             "fill": {
              "color": "#EBF0F8"
             },
             "line": {
              "color": "white"
             }
            },
            "header": {
             "fill": {
              "color": "#C8D4E3"
             },
             "line": {
              "color": "white"
             }
            },
            "type": "table"
           }
          ]
         },
         "layout": {
          "annotationdefaults": {
           "arrowcolor": "#2a3f5f",
           "arrowhead": 0,
           "arrowwidth": 1
          },
          "autotypenumbers": "strict",
          "coloraxis": {
           "colorbar": {
            "outlinewidth": 0,
            "ticks": ""
           }
          },
          "colorscale": {
           "diverging": [
            [
             0,
             "#8e0152"
            ],
            [
             0.1,
             "#c51b7d"
            ],
            [
             0.2,
             "#de77ae"
            ],
            [
             0.3,
             "#f1b6da"
            ],
            [
             0.4,
             "#fde0ef"
            ],
            [
             0.5,
             "#f7f7f7"
            ],
            [
             0.6,
             "#e6f5d0"
            ],
            [
             0.7,
             "#b8e186"
            ],
            [
             0.8,
             "#7fbc41"
            ],
            [
             0.9,
             "#4d9221"
            ],
            [
             1,
             "#276419"
            ]
           ],
           "sequential": [
            [
             0,
             "#0d0887"
            ],
            [
             0.1111111111111111,
             "#46039f"
            ],
            [
             0.2222222222222222,
             "#7201a8"
            ],
            [
             0.3333333333333333,
             "#9c179e"
            ],
            [
             0.4444444444444444,
             "#bd3786"
            ],
            [
             0.5555555555555556,
             "#d8576b"
            ],
            [
             0.6666666666666666,
             "#ed7953"
            ],
            [
             0.7777777777777778,
             "#fb9f3a"
            ],
            [
             0.8888888888888888,
             "#fdca26"
            ],
            [
             1,
             "#f0f921"
            ]
           ],
           "sequentialminus": [
            [
             0,
             "#0d0887"
            ],
            [
             0.1111111111111111,
             "#46039f"
            ],
            [
             0.2222222222222222,
             "#7201a8"
            ],
            [
             0.3333333333333333,
             "#9c179e"
            ],
            [
             0.4444444444444444,
             "#bd3786"
            ],
            [
             0.5555555555555556,
             "#d8576b"
            ],
            [
             0.6666666666666666,
             "#ed7953"
            ],
            [
             0.7777777777777778,
             "#fb9f3a"
            ],
            [
             0.8888888888888888,
             "#fdca26"
            ],
            [
             1,
             "#f0f921"
            ]
           ]
          },
          "colorway": [
           "#636efa",
           "#EF553B",
           "#00cc96",
           "#ab63fa",
           "#FFA15A",
           "#19d3f3",
           "#FF6692",
           "#B6E880",
           "#FF97FF",
           "#FECB52"
          ],
          "font": {
           "color": "#2a3f5f"
          },
          "geo": {
           "bgcolor": "white",
           "lakecolor": "white",
           "landcolor": "#E5ECF6",
           "showlakes": true,
           "showland": true,
           "subunitcolor": "white"
          },
          "hoverlabel": {
           "align": "left"
          },
          "hovermode": "closest",
          "mapbox": {
           "style": "light"
          },
          "paper_bgcolor": "white",
          "plot_bgcolor": "#E5ECF6",
          "polar": {
           "angularaxis": {
            "gridcolor": "white",
            "linecolor": "white",
            "ticks": ""
           },
           "bgcolor": "#E5ECF6",
           "radialaxis": {
            "gridcolor": "white",
            "linecolor": "white",
            "ticks": ""
           }
          },
          "scene": {
           "xaxis": {
            "backgroundcolor": "#E5ECF6",
            "gridcolor": "white",
            "gridwidth": 2,
            "linecolor": "white",
            "showbackground": true,
            "ticks": "",
            "zerolinecolor": "white"
           },
           "yaxis": {
            "backgroundcolor": "#E5ECF6",
            "gridcolor": "white",
            "gridwidth": 2,
            "linecolor": "white",
            "showbackground": true,
            "ticks": "",
            "zerolinecolor": "white"
           },
           "zaxis": {
            "backgroundcolor": "#E5ECF6",
            "gridcolor": "white",
            "gridwidth": 2,
            "linecolor": "white",
            "showbackground": true,
            "ticks": "",
            "zerolinecolor": "white"
           }
          },
          "shapedefaults": {
           "line": {
            "color": "#2a3f5f"
           }
          },
          "ternary": {
           "aaxis": {
            "gridcolor": "white",
            "linecolor": "white",
            "ticks": ""
           },
           "baxis": {
            "gridcolor": "white",
            "linecolor": "white",
            "ticks": ""
           },
           "bgcolor": "#E5ECF6",
           "caxis": {
            "gridcolor": "white",
            "linecolor": "white",
            "ticks": ""
           }
          },
          "title": {
           "x": 0.05
          },
          "xaxis": {
           "automargin": true,
           "gridcolor": "white",
           "linecolor": "white",
           "ticks": "",
           "title": {
            "standoff": 15
           },
           "zerolinecolor": "white",
           "zerolinewidth": 2
          },
          "yaxis": {
           "automargin": true,
           "gridcolor": "white",
           "linecolor": "white",
           "ticks": "",
           "title": {
            "standoff": 15
           },
           "zerolinecolor": "white",
           "zerolinewidth": 2
          }
         }
        }
       }
      }
     },
     "metadata": {},
     "output_type": "display_data"
    }
   ],
   "source": [
    "fig = px.scatter_3d(df_std, x=\"TSNE1\", y=\"TSNE2\", z=\"TSNE3\", color=\"class\")\n",
    "fig.show()"
   ]
  },
  {
   "cell_type": "code",
   "execution_count": null,
   "id": "945505ba",
   "metadata": {},
   "outputs": [],
   "source": []
  }
 ],
 "metadata": {
  "kernelspec": {
   "display_name": "Python 3",
   "language": "python",
   "name": "python3"
  },
  "language_info": {
   "codemirror_mode": {
    "name": "ipython",
    "version": 3
   },
   "file_extension": ".py",
   "mimetype": "text/x-python",
   "name": "python",
   "nbconvert_exporter": "python",
   "pygments_lexer": "ipython3",
   "version": "3.13.3"
  }
 },
 "nbformat": 4,
 "nbformat_minor": 5
}
