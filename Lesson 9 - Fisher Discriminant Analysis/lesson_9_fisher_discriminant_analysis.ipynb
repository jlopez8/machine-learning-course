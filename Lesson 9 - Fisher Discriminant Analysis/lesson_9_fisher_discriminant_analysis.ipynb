{
 "cells": [
  {
   "cell_type": "markdown",
   "metadata": {},
   "source": [
    "# Fisher Discriminant Analysis"
   ]
  },
  {
   "cell_type": "markdown",
   "metadata": {},
   "source": [
    "Dim reduction for viz.  \n",
    "\n",
    "Finds lin comb. of features that separates two+ classes.  \n",
    "\n",
    "Useful in Face Recognition, retrospective analysis for biomedical applications. \n",
    "\n",
    "**Requires standardization of data**. This means mean 0 and sdev = 1. "
   ]
  },
  {
   "cell_type": "markdown",
   "metadata": {},
   "source": [
    "# Imports"
   ]
  },
  {
   "cell_type": "code",
   "execution_count": null,
   "metadata": {},
   "outputs": [],
   "source": [
    "# Change working directory to something useful for the notebok.\n",
    "%cd .."
   ]
  },
  {
   "cell_type": "code",
   "execution_count": 8,
   "metadata": {},
   "outputs": [],
   "source": [
    "import Library.data as data\n",
    "import matplotlib.pyplot as plt\n",
    "\n",
    "import seaborn as sns\n",
    "\n",
    "import numpy as np\n",
    "import pandas as pd\n",
    "from sklearn.preprocessing import StandardScaler\n",
    "from sklearn.discriminant_analysis import LinearDiscriminantAnalysis\n"
   ]
  },
  {
   "cell_type": "markdown",
   "metadata": {},
   "source": [
    "# Get Data"
   ]
  },
  {
   "cell_type": "code",
   "execution_count": null,
   "metadata": {},
   "outputs": [
    {
     "data": {
      "text/html": [
       "<div>\n",
       "<style scoped>\n",
       "    .dataframe tbody tr th:only-of-type {\n",
       "        vertical-align: middle;\n",
       "    }\n",
       "\n",
       "    .dataframe tbody tr th {\n",
       "        vertical-align: top;\n",
       "    }\n",
       "\n",
       "    .dataframe thead th {\n",
       "        text-align: right;\n",
       "    }\n",
       "</style>\n",
       "<table border=\"1\" class=\"dataframe\">\n",
       "  <thead>\n",
       "    <tr style=\"text-align: right;\">\n",
       "      <th></th>\n",
       "      <th>species</th>\n",
       "      <th>sex</th>\n",
       "      <th>index</th>\n",
       "      <th>Frontal Lobe</th>\n",
       "      <th>Rear Width</th>\n",
       "      <th>Carapace Midline</th>\n",
       "      <th>Maximum Width</th>\n",
       "      <th>Body Depth</th>\n",
       "      <th>class</th>\n",
       "    </tr>\n",
       "  </thead>\n",
       "  <tbody>\n",
       "    <tr>\n",
       "      <th>0</th>\n",
       "      <td>Blue</td>\n",
       "      <td>Male</td>\n",
       "      <td>1</td>\n",
       "      <td>8.1</td>\n",
       "      <td>6.7</td>\n",
       "      <td>16.1</td>\n",
       "      <td>19.0</td>\n",
       "      <td>7.0</td>\n",
       "      <td>BlueMale</td>\n",
       "    </tr>\n",
       "    <tr>\n",
       "      <th>1</th>\n",
       "      <td>Blue</td>\n",
       "      <td>Male</td>\n",
       "      <td>2</td>\n",
       "      <td>8.8</td>\n",
       "      <td>7.7</td>\n",
       "      <td>18.1</td>\n",
       "      <td>20.8</td>\n",
       "      <td>7.4</td>\n",
       "      <td>BlueMale</td>\n",
       "    </tr>\n",
       "    <tr>\n",
       "      <th>2</th>\n",
       "      <td>Blue</td>\n",
       "      <td>Male</td>\n",
       "      <td>3</td>\n",
       "      <td>9.2</td>\n",
       "      <td>7.8</td>\n",
       "      <td>19.0</td>\n",
       "      <td>22.4</td>\n",
       "      <td>7.7</td>\n",
       "      <td>BlueMale</td>\n",
       "    </tr>\n",
       "    <tr>\n",
       "      <th>3</th>\n",
       "      <td>Blue</td>\n",
       "      <td>Male</td>\n",
       "      <td>4</td>\n",
       "      <td>9.6</td>\n",
       "      <td>7.9</td>\n",
       "      <td>20.1</td>\n",
       "      <td>23.1</td>\n",
       "      <td>8.2</td>\n",
       "      <td>BlueMale</td>\n",
       "    </tr>\n",
       "    <tr>\n",
       "      <th>4</th>\n",
       "      <td>Blue</td>\n",
       "      <td>Male</td>\n",
       "      <td>5</td>\n",
       "      <td>9.8</td>\n",
       "      <td>8.0</td>\n",
       "      <td>20.3</td>\n",
       "      <td>23.0</td>\n",
       "      <td>8.2</td>\n",
       "      <td>BlueMale</td>\n",
       "    </tr>\n",
       "    <tr>\n",
       "      <th>...</th>\n",
       "      <td>...</td>\n",
       "      <td>...</td>\n",
       "      <td>...</td>\n",
       "      <td>...</td>\n",
       "      <td>...</td>\n",
       "      <td>...</td>\n",
       "      <td>...</td>\n",
       "      <td>...</td>\n",
       "      <td>...</td>\n",
       "    </tr>\n",
       "    <tr>\n",
       "      <th>195</th>\n",
       "      <td>Orange</td>\n",
       "      <td>Female</td>\n",
       "      <td>46</td>\n",
       "      <td>21.4</td>\n",
       "      <td>18.0</td>\n",
       "      <td>41.2</td>\n",
       "      <td>46.2</td>\n",
       "      <td>18.7</td>\n",
       "      <td>OrangeFemale</td>\n",
       "    </tr>\n",
       "    <tr>\n",
       "      <th>196</th>\n",
       "      <td>Orange</td>\n",
       "      <td>Female</td>\n",
       "      <td>47</td>\n",
       "      <td>21.7</td>\n",
       "      <td>17.1</td>\n",
       "      <td>41.7</td>\n",
       "      <td>47.2</td>\n",
       "      <td>19.6</td>\n",
       "      <td>OrangeFemale</td>\n",
       "    </tr>\n",
       "    <tr>\n",
       "      <th>197</th>\n",
       "      <td>Orange</td>\n",
       "      <td>Female</td>\n",
       "      <td>48</td>\n",
       "      <td>21.9</td>\n",
       "      <td>17.2</td>\n",
       "      <td>42.6</td>\n",
       "      <td>47.4</td>\n",
       "      <td>19.5</td>\n",
       "      <td>OrangeFemale</td>\n",
       "    </tr>\n",
       "    <tr>\n",
       "      <th>198</th>\n",
       "      <td>Orange</td>\n",
       "      <td>Female</td>\n",
       "      <td>49</td>\n",
       "      <td>22.5</td>\n",
       "      <td>17.2</td>\n",
       "      <td>43.0</td>\n",
       "      <td>48.7</td>\n",
       "      <td>19.8</td>\n",
       "      <td>OrangeFemale</td>\n",
       "    </tr>\n",
       "    <tr>\n",
       "      <th>199</th>\n",
       "      <td>Orange</td>\n",
       "      <td>Female</td>\n",
       "      <td>50</td>\n",
       "      <td>23.1</td>\n",
       "      <td>20.2</td>\n",
       "      <td>46.2</td>\n",
       "      <td>52.5</td>\n",
       "      <td>21.1</td>\n",
       "      <td>OrangeFemale</td>\n",
       "    </tr>\n",
       "  </tbody>\n",
       "</table>\n",
       "<p>200 rows × 9 columns</p>\n",
       "</div>"
      ],
      "text/plain": [
       "    species     sex  index  Frontal Lobe  Rear Width  Carapace Midline  \\\n",
       "0      Blue    Male      1           8.1         6.7              16.1   \n",
       "1      Blue    Male      2           8.8         7.7              18.1   \n",
       "2      Blue    Male      3           9.2         7.8              19.0   \n",
       "3      Blue    Male      4           9.6         7.9              20.1   \n",
       "4      Blue    Male      5           9.8         8.0              20.3   \n",
       "..      ...     ...    ...           ...         ...               ...   \n",
       "195  Orange  Female     46          21.4        18.0              41.2   \n",
       "196  Orange  Female     47          21.7        17.1              41.7   \n",
       "197  Orange  Female     48          21.9        17.2              42.6   \n",
       "198  Orange  Female     49          22.5        17.2              43.0   \n",
       "199  Orange  Female     50          23.1        20.2              46.2   \n",
       "\n",
       "     Maximum Width  Body Depth         class  \n",
       "0             19.0         7.0      BlueMale  \n",
       "1             20.8         7.4      BlueMale  \n",
       "2             22.4         7.7      BlueMale  \n",
       "3             23.1         8.2      BlueMale  \n",
       "4             23.0         8.2      BlueMale  \n",
       "..             ...         ...           ...  \n",
       "195           46.2        18.7  OrangeFemale  \n",
       "196           47.2        19.6  OrangeFemale  \n",
       "197           47.4        19.5  OrangeFemale  \n",
       "198           48.7        19.8  OrangeFemale  \n",
       "199           52.5        21.1  OrangeFemale  \n",
       "\n",
       "[200 rows x 9 columns]"
      ]
     },
     "execution_count": 2,
     "metadata": {},
     "output_type": "execute_result"
    }
   ],
   "source": [
    "rename_columns = {\n",
    "    \"sp\": \"species\", \"FL\": \"Frontal Lobe\", \"RW\": \"Rear Width\", \"CL\": \"Carapace Midline\", \"CW\": \"Maximum Width\", \"BD\": \"Body Depth\"\n",
    "}\n",
    "\n",
    "remap = {\n",
    "    \"species\": {\"B\": \"Blue\", \"O\": \"Orange\"},\n",
    "    \"sex\": {\"M\": \"Male\", \"F\": \"Female\"},\n",
    "}\n",
    "\n",
    "combinator = {\"class\": [\"species\", \"sex\"]}\n",
    "\n",
    "df = data.get_data(\n",
    "    \"Datasets/crabs.csv\", \n",
    "    rename_columns=rename_columns,\n",
    "    remap=remap,\n",
    "    combinator=combinator\n",
    ")\n",
    "\n",
    "df\n"
   ]
  },
  {
   "cell_type": "markdown",
   "metadata": {},
   "source": [
    "# Fisher Discriminant Analysis"
   ]
  },
  {
   "cell_type": "code",
   "execution_count": null,
   "metadata": {},
   "outputs": [
    {
     "data": {
      "text/html": [
       "<div>\n",
       "<style scoped>\n",
       "    .dataframe tbody tr th:only-of-type {\n",
       "        vertical-align: middle;\n",
       "    }\n",
       "\n",
       "    .dataframe tbody tr th {\n",
       "        vertical-align: top;\n",
       "    }\n",
       "\n",
       "    .dataframe thead th {\n",
       "        text-align: right;\n",
       "    }\n",
       "</style>\n",
       "<table border=\"1\" class=\"dataframe\">\n",
       "  <thead>\n",
       "    <tr style=\"text-align: right;\">\n",
       "      <th></th>\n",
       "      <th>count</th>\n",
       "      <th>mean</th>\n",
       "      <th>std</th>\n",
       "      <th>min</th>\n",
       "      <th>25%</th>\n",
       "      <th>50%</th>\n",
       "      <th>75%</th>\n",
       "      <th>max</th>\n",
       "    </tr>\n",
       "  </thead>\n",
       "  <tbody>\n",
       "    <tr>\n",
       "      <th>index</th>\n",
       "      <td>200.0</td>\n",
       "      <td>2.550000e+01</td>\n",
       "      <td>14.467083</td>\n",
       "      <td>1.000000</td>\n",
       "      <td>13.000000</td>\n",
       "      <td>25.500000</td>\n",
       "      <td>38.000000</td>\n",
       "      <td>50.000000</td>\n",
       "    </tr>\n",
       "    <tr>\n",
       "      <th>Frontal Lobe</th>\n",
       "      <td>200.0</td>\n",
       "      <td>-7.105427e-17</td>\n",
       "      <td>1.002509</td>\n",
       "      <td>-2.404365</td>\n",
       "      <td>-0.769523</td>\n",
       "      <td>-0.009465</td>\n",
       "      <td>0.707571</td>\n",
       "      <td>2.155984</td>\n",
       "    </tr>\n",
       "    <tr>\n",
       "      <th>Rear Width</th>\n",
       "      <td>200.0</td>\n",
       "      <td>6.039613e-16</td>\n",
       "      <td>1.002509</td>\n",
       "      <td>-2.430365</td>\n",
       "      <td>-0.677276</td>\n",
       "      <td>0.023959</td>\n",
       "      <td>0.608322</td>\n",
       "      <td>2.906815</td>\n",
       "    </tr>\n",
       "    <tr>\n",
       "      <th>Carapace Midline</th>\n",
       "      <td>200.0</td>\n",
       "      <td>1.065814e-16</td>\n",
       "      <td>1.002509</td>\n",
       "      <td>-2.451077</td>\n",
       "      <td>-0.680241</td>\n",
       "      <td>-0.000775</td>\n",
       "      <td>0.720938</td>\n",
       "      <td>2.181966</td>\n",
       "    </tr>\n",
       "    <tr>\n",
       "      <th>Maximum Width</th>\n",
       "      <td>200.0</td>\n",
       "      <td>-4.973799e-16</td>\n",
       "      <td>1.002509</td>\n",
       "      <td>-2.459741</td>\n",
       "      <td>-0.625872</td>\n",
       "      <td>0.049094</td>\n",
       "      <td>0.711325</td>\n",
       "      <td>2.315960</td>\n",
       "    </tr>\n",
       "    <tr>\n",
       "      <th>Body Depth</th>\n",
       "      <td>200.0</td>\n",
       "      <td>0.000000e+00</td>\n",
       "      <td>1.002509</td>\n",
       "      <td>-2.321439</td>\n",
       "      <td>-0.770008</td>\n",
       "      <td>-0.038200</td>\n",
       "      <td>0.752152</td>\n",
       "      <td>2.215766</td>\n",
       "    </tr>\n",
       "  </tbody>\n",
       "</table>\n",
       "</div>"
      ],
      "text/plain": [
       "                  count          mean        std       min        25%  \\\n",
       "index             200.0  2.550000e+01  14.467083  1.000000  13.000000   \n",
       "Frontal Lobe      200.0 -7.105427e-17   1.002509 -2.404365  -0.769523   \n",
       "Rear Width        200.0  6.039613e-16   1.002509 -2.430365  -0.677276   \n",
       "Carapace Midline  200.0  1.065814e-16   1.002509 -2.451077  -0.680241   \n",
       "Maximum Width     200.0 -4.973799e-16   1.002509 -2.459741  -0.625872   \n",
       "Body Depth        200.0  0.000000e+00   1.002509 -2.321439  -0.770008   \n",
       "\n",
       "                        50%        75%        max  \n",
       "index             25.500000  38.000000  50.000000  \n",
       "Frontal Lobe      -0.009465   0.707571   2.155984  \n",
       "Rear Width         0.023959   0.608322   2.906815  \n",
       "Carapace Midline  -0.000775   0.720938   2.181966  \n",
       "Maximum Width      0.049094   0.711325   2.315960  \n",
       "Body Depth        -0.038200   0.752152   2.215766  "
      ]
     },
     "execution_count": 7,
     "metadata": {},
     "output_type": "execute_result"
    }
   ],
   "source": [
    "from sklearn.preprocessing import StandardScaler\n",
    "\n",
    "df_std = df.copy(deep=True)\n",
    "\n",
    "data_columns = [\"Frontal Lobe\", \"Rear Width\", \"Carapace Midline\", \"Maximum Width\", \"Body Depth\"]\n",
    "std_scalar = StandardScaler()\n",
    "df_std[data_columns] = std_scalar.fit_transform(df[data_columns])\n",
    "df_std.describe().T\n"
   ]
  },
  {
   "cell_type": "markdown",
   "metadata": {},
   "source": [
    "# Apply to 2 Dims"
   ]
  },
  {
   "cell_type": "code",
   "execution_count": 18,
   "metadata": {},
   "outputs": [
    {
     "data": {
      "text/html": [
       "<div>\n",
       "<style scoped>\n",
       "    .dataframe tbody tr th:only-of-type {\n",
       "        vertical-align: middle;\n",
       "    }\n",
       "\n",
       "    .dataframe tbody tr th {\n",
       "        vertical-align: top;\n",
       "    }\n",
       "\n",
       "    .dataframe thead th {\n",
       "        text-align: right;\n",
       "    }\n",
       "</style>\n",
       "<table border=\"1\" class=\"dataframe\">\n",
       "  <thead>\n",
       "    <tr style=\"text-align: right;\">\n",
       "      <th></th>\n",
       "      <th>species</th>\n",
       "      <th>sex</th>\n",
       "      <th>index</th>\n",
       "      <th>Frontal Lobe</th>\n",
       "      <th>Rear Width</th>\n",
       "      <th>Carapace Midline</th>\n",
       "      <th>Maximum Width</th>\n",
       "      <th>Body Depth</th>\n",
       "      <th>class</th>\n",
       "      <th>FISH1</th>\n",
       "      <th>FISH2</th>\n",
       "    </tr>\n",
       "  </thead>\n",
       "  <tbody>\n",
       "    <tr>\n",
       "      <th>0</th>\n",
       "      <td>Blue</td>\n",
       "      <td>Male</td>\n",
       "      <td>1</td>\n",
       "      <td>-2.146232</td>\n",
       "      <td>-2.352450</td>\n",
       "      <td>-2.253926</td>\n",
       "      <td>-2.217772</td>\n",
       "      <td>-2.057989</td>\n",
       "      <td>BlueMale</td>\n",
       "      <td>1.538869</td>\n",
       "      <td>-0.808137</td>\n",
       "    </tr>\n",
       "    <tr>\n",
       "      <th>1</th>\n",
       "      <td>Blue</td>\n",
       "      <td>Male</td>\n",
       "      <td>2</td>\n",
       "      <td>-1.945462</td>\n",
       "      <td>-1.962875</td>\n",
       "      <td>-1.972282</td>\n",
       "      <td>-1.988538</td>\n",
       "      <td>-1.940899</td>\n",
       "      <td>BlueMale</td>\n",
       "      <td>1.637047</td>\n",
       "      <td>-0.370588</td>\n",
       "    </tr>\n",
       "    <tr>\n",
       "      <th>2</th>\n",
       "      <td>Blue</td>\n",
       "      <td>Male</td>\n",
       "      <td>3</td>\n",
       "      <td>-1.830736</td>\n",
       "      <td>-1.923917</td>\n",
       "      <td>-1.845543</td>\n",
       "      <td>-1.784775</td>\n",
       "      <td>-1.853083</td>\n",
       "      <td>BlueMale</td>\n",
       "      <td>2.802492</td>\n",
       "      <td>-0.249383</td>\n",
       "    </tr>\n",
       "    <tr>\n",
       "      <th>3</th>\n",
       "      <td>Blue</td>\n",
       "      <td>Male</td>\n",
       "      <td>4</td>\n",
       "      <td>-1.716010</td>\n",
       "      <td>-1.884960</td>\n",
       "      <td>-1.690638</td>\n",
       "      <td>-1.695629</td>\n",
       "      <td>-1.706721</td>\n",
       "      <td>BlueMale</td>\n",
       "      <td>2.295358</td>\n",
       "      <td>-1.029487</td>\n",
       "    </tr>\n",
       "    <tr>\n",
       "      <th>4</th>\n",
       "      <td>Blue</td>\n",
       "      <td>Male</td>\n",
       "      <td>5</td>\n",
       "      <td>-1.658647</td>\n",
       "      <td>-1.846002</td>\n",
       "      <td>-1.662474</td>\n",
       "      <td>-1.708364</td>\n",
       "      <td>-1.706721</td>\n",
       "      <td>BlueMale</td>\n",
       "      <td>1.732949</td>\n",
       "      <td>-1.119930</td>\n",
       "    </tr>\n",
       "  </tbody>\n",
       "</table>\n",
       "</div>"
      ],
      "text/plain": [
       "  species   sex  index  Frontal Lobe  Rear Width  Carapace Midline  \\\n",
       "0    Blue  Male      1     -2.146232   -2.352450         -2.253926   \n",
       "1    Blue  Male      2     -1.945462   -1.962875         -1.972282   \n",
       "2    Blue  Male      3     -1.830736   -1.923917         -1.845543   \n",
       "3    Blue  Male      4     -1.716010   -1.884960         -1.690638   \n",
       "4    Blue  Male      5     -1.658647   -1.846002         -1.662474   \n",
       "\n",
       "   Maximum Width  Body Depth     class     FISH1     FISH2  \n",
       "0      -2.217772   -2.057989  BlueMale  1.538869 -0.808137  \n",
       "1      -1.988538   -1.940899  BlueMale  1.637047 -0.370588  \n",
       "2      -1.784775   -1.853083  BlueMale  2.802492 -0.249383  \n",
       "3      -1.695629   -1.706721  BlueMale  2.295358 -1.029487  \n",
       "4      -1.708364   -1.706721  BlueMale  1.732949 -1.119930  "
      ]
     },
     "execution_count": 18,
     "metadata": {},
     "output_type": "execute_result"
    }
   ],
   "source": [
    "from sklearn.discriminant_analysis import LinearDiscriminantAnalysis\n",
    "\n",
    "fisher = LinearDiscriminantAnalysis(n_components=2)\n",
    "df_std[[\"FISH1\", \"FISH2\"]] = fisher.fit_transform(df_std[data_columns].values, y=df_std[\"class\"].values)\n",
    "\n",
    "df_std.head()"
   ]
  },
  {
   "cell_type": "markdown",
   "metadata": {},
   "source": [
    "## Plot 2D\n"
   ]
  },
  {
   "cell_type": "code",
   "execution_count": 22,
   "metadata": {},
   "outputs": [
    {
     "data": {
      "text/plain": [
       "<Axes: xlabel='FISH1', ylabel='FISH2'>"
      ]
     },
     "execution_count": 22,
     "metadata": {},
     "output_type": "execute_result"
    },
    {
     "data": {
      "image/png": "[encoded data removed]",
      "text/plain": [
       "<Figure size 800x494.438 with 1 Axes>"
      ]
     },
     "metadata": {},
     "output_type": "display_data"
    }
   ],
   "source": [
    "figure = plt.figure(figsize=(8, 8/1.618))\n",
    "\n",
    "sns.scatterplot(x=\"FISH1\", y=\"FISH2\", hue=\"class\", data=df_std)"
   ]
  },
  {
   "cell_type": "markdown",
   "metadata": {},
   "source": [
    "You can see how the Blue female and blue male classes are grouped together, while the orange female and orange male classes are grouped together.  \n",
    "\n",
    "Consider comparing Orange females with lower FISH1 value versus Blue males with high FISH 1 values (below commented).  \n",
    "\n",
    "You can see how different these two results are for the relevant data_columns.\n"
   ]
  },
  {
   "cell_type": "code",
   "execution_count": null,
   "metadata": {},
   "outputs": [
    {
     "data": {
      "text/html": [
       "<div>\n",
       "<style scoped>\n",
       "    .dataframe tbody tr th:only-of-type {\n",
       "        vertical-align: middle;\n",
       "    }\n",
       "\n",
       "    .dataframe tbody tr th {\n",
       "        vertical-align: top;\n",
       "    }\n",
       "\n",
       "    .dataframe thead th {\n",
       "        text-align: right;\n",
       "    }\n",
       "</style>\n",
       "<table border=\"1\" class=\"dataframe\">\n",
       "  <thead>\n",
       "    <tr style=\"text-align: right;\">\n",
       "      <th></th>\n",
       "      <th>species</th>\n",
       "      <th>sex</th>\n",
       "      <th>index</th>\n",
       "      <th>Frontal Lobe</th>\n",
       "      <th>Rear Width</th>\n",
       "      <th>Carapace Midline</th>\n",
       "      <th>Maximum Width</th>\n",
       "      <th>Body Depth</th>\n",
       "      <th>class</th>\n",
       "      <th>FISH1</th>\n",
       "      <th>FISH2</th>\n",
       "    </tr>\n",
       "  </thead>\n",
       "  <tbody>\n",
       "    <tr>\n",
       "      <th>34</th>\n",
       "      <td>Blue</td>\n",
       "      <td>Male</td>\n",
       "      <td>35</td>\n",
       "      <td>0.291690</td>\n",
       "      <td>0.296662</td>\n",
       "      <td>0.844157</td>\n",
       "      <td>0.889618</td>\n",
       "      <td>0.254523</td>\n",
       "      <td>BlueMale</td>\n",
       "      <td>6.228261</td>\n",
       "      <td>-1.148272</td>\n",
       "    </tr>\n",
       "    <tr>\n",
       "      <th>39</th>\n",
       "      <td>Blue</td>\n",
       "      <td>Male</td>\n",
       "      <td>40</td>\n",
       "      <td>0.463779</td>\n",
       "      <td>0.296662</td>\n",
       "      <td>0.773746</td>\n",
       "      <td>0.953294</td>\n",
       "      <td>0.605790</td>\n",
       "      <td>BlueMale</td>\n",
       "      <td>4.521120</td>\n",
       "      <td>-0.780087</td>\n",
       "    </tr>\n",
       "    <tr>\n",
       "      <th>40</th>\n",
       "      <td>Blue</td>\n",
       "      <td>Male</td>\n",
       "      <td>41</td>\n",
       "      <td>0.607186</td>\n",
       "      <td>0.335619</td>\n",
       "      <td>0.928651</td>\n",
       "      <td>1.029705</td>\n",
       "      <td>0.576518</td>\n",
       "      <td>BlueMale</td>\n",
       "      <td>4.520059</td>\n",
       "      <td>-1.295832</td>\n",
       "    </tr>\n",
       "    <tr>\n",
       "      <th>43</th>\n",
       "      <td>Blue</td>\n",
       "      <td>Male</td>\n",
       "      <td>44</td>\n",
       "      <td>0.922682</td>\n",
       "      <td>1.192684</td>\n",
       "      <td>1.407445</td>\n",
       "      <td>1.602789</td>\n",
       "      <td>1.103419</td>\n",
       "      <td>BlueMale</td>\n",
       "      <td>5.179226</td>\n",
       "      <td>0.549691</td>\n",
       "    </tr>\n",
       "    <tr>\n",
       "      <th>49</th>\n",
       "      <td>Blue</td>\n",
       "      <td>Male</td>\n",
       "      <td>50</td>\n",
       "      <td>1.639718</td>\n",
       "      <td>1.153727</td>\n",
       "      <td>2.111555</td>\n",
       "      <td>2.315960</td>\n",
       "      <td>1.747410</td>\n",
       "      <td>BlueMale</td>\n",
       "      <td>5.924335</td>\n",
       "      <td>-2.123251</td>\n",
       "    </tr>\n",
       "  </tbody>\n",
       "</table>\n",
       "</div>"
      ],
      "text/plain": [
       "   species   sex  index  Frontal Lobe  Rear Width  Carapace Midline  \\\n",
       "34    Blue  Male     35      0.291690    0.296662          0.844157   \n",
       "39    Blue  Male     40      0.463779    0.296662          0.773746   \n",
       "40    Blue  Male     41      0.607186    0.335619          0.928651   \n",
       "43    Blue  Male     44      0.922682    1.192684          1.407445   \n",
       "49    Blue  Male     50      1.639718    1.153727          2.111555   \n",
       "\n",
       "    Maximum Width  Body Depth     class     FISH1     FISH2  \n",
       "34       0.889618    0.254523  BlueMale  6.228261 -1.148272  \n",
       "39       0.953294    0.605790  BlueMale  4.521120 -0.780087  \n",
       "40       1.029705    0.576518  BlueMale  4.520059 -1.295832  \n",
       "43       1.602789    1.103419  BlueMale  5.179226  0.549691  \n",
       "49       2.315960    1.747410  BlueMale  5.924335 -2.123251  "
      ]
     },
     "execution_count": 26,
     "metadata": {},
     "output_type": "execute_result"
    }
   ],
   "source": [
    "# df_std[df_std[\"FISH1\"] < -4.5]\n",
    "# # 189\tOrange\tFemale\t40\t1.295540\t1.738090\t1.083555\t0.978764\t1.337597\tOrangeFemale\t-5.795241\t1.912642\n",
    "# # 191\tOrange\tFemale\t42\t1.410266\t1.854962\t1.111719\t1.157057\t1.513231\tOrangeFemale\t-5.333118\t2.825221\n",
    "# # 192\tOrange\tFemale\t43\t1.438948\t1.854962\t1.322952\t1.246203\t1.513231\tOrangeFemale\t-4.708947\t1.652114\n",
    "\n",
    "# df_std[df_std[\"FISH1\"] > 4.5]\n",
    "# # __    Blue\tMale\t35\t0.291690\t0.296662\t0.844157\t0.889618\t0.254523\tBlueMale\t6.228261\t-1.148272\n",
    "# # 39\tBlue\tMale\t40\t0.463779\t0.296662\t0.773746\t0.953294\t0.605790\tBlueMale\t4.521120\t-0.780087\n",
    "# # 40\tBlue\tMale\t41\t0.607186\t0.335619\t0.928651\t1.029705\t0.576518\tBlueMale\t4.520059\t-1.295832"
   ]
  },
  {
   "cell_type": "markdown",
   "metadata": {},
   "source": [
    "# Apply to 3 Dims"
   ]
  },
  {
   "cell_type": "code",
   "execution_count": 58,
   "metadata": {},
   "outputs": [
    {
     "data": {
      "text/html": [
       "<div>\n",
       "<style scoped>\n",
       "    .dataframe tbody tr th:only-of-type {\n",
       "        vertical-align: middle;\n",
       "    }\n",
       "\n",
       "    .dataframe tbody tr th {\n",
       "        vertical-align: top;\n",
       "    }\n",
       "\n",
       "    .dataframe thead th {\n",
       "        text-align: right;\n",
       "    }\n",
       "</style>\n",
       "<table border=\"1\" class=\"dataframe\">\n",
       "  <thead>\n",
       "    <tr style=\"text-align: right;\">\n",
       "      <th></th>\n",
       "      <th>species</th>\n",
       "      <th>sex</th>\n",
       "      <th>index</th>\n",
       "      <th>Frontal Lobe</th>\n",
       "      <th>Rear Width</th>\n",
       "      <th>Carapace Midline</th>\n",
       "      <th>Maximum Width</th>\n",
       "      <th>Body Depth</th>\n",
       "      <th>class</th>\n",
       "      <th>FISH1</th>\n",
       "      <th>FISH2</th>\n",
       "      <th>FISH3</th>\n",
       "    </tr>\n",
       "  </thead>\n",
       "  <tbody>\n",
       "    <tr>\n",
       "      <th>0</th>\n",
       "      <td>Blue</td>\n",
       "      <td>Male</td>\n",
       "      <td>1</td>\n",
       "      <td>-2.146232</td>\n",
       "      <td>-2.352450</td>\n",
       "      <td>-2.253926</td>\n",
       "      <td>-2.217772</td>\n",
       "      <td>-2.057989</td>\n",
       "      <td>BlueMale</td>\n",
       "      <td>1.538869</td>\n",
       "      <td>-0.808137</td>\n",
       "      <td>1.186420</td>\n",
       "    </tr>\n",
       "    <tr>\n",
       "      <th>1</th>\n",
       "      <td>Blue</td>\n",
       "      <td>Male</td>\n",
       "      <td>2</td>\n",
       "      <td>-1.945462</td>\n",
       "      <td>-1.962875</td>\n",
       "      <td>-1.972282</td>\n",
       "      <td>-1.988538</td>\n",
       "      <td>-1.940899</td>\n",
       "      <td>BlueMale</td>\n",
       "      <td>1.637047</td>\n",
       "      <td>-0.370588</td>\n",
       "      <td>1.172750</td>\n",
       "    </tr>\n",
       "    <tr>\n",
       "      <th>2</th>\n",
       "      <td>Blue</td>\n",
       "      <td>Male</td>\n",
       "      <td>3</td>\n",
       "      <td>-1.830736</td>\n",
       "      <td>-1.923917</td>\n",
       "      <td>-1.845543</td>\n",
       "      <td>-1.784775</td>\n",
       "      <td>-1.853083</td>\n",
       "      <td>BlueMale</td>\n",
       "      <td>2.802492</td>\n",
       "      <td>-0.249383</td>\n",
       "      <td>0.502351</td>\n",
       "    </tr>\n",
       "    <tr>\n",
       "      <th>3</th>\n",
       "      <td>Blue</td>\n",
       "      <td>Male</td>\n",
       "      <td>4</td>\n",
       "      <td>-1.716010</td>\n",
       "      <td>-1.884960</td>\n",
       "      <td>-1.690638</td>\n",
       "      <td>-1.695629</td>\n",
       "      <td>-1.706721</td>\n",
       "      <td>BlueMale</td>\n",
       "      <td>2.295358</td>\n",
       "      <td>-1.029487</td>\n",
       "      <td>0.814667</td>\n",
       "    </tr>\n",
       "    <tr>\n",
       "      <th>4</th>\n",
       "      <td>Blue</td>\n",
       "      <td>Male</td>\n",
       "      <td>5</td>\n",
       "      <td>-1.658647</td>\n",
       "      <td>-1.846002</td>\n",
       "      <td>-1.662474</td>\n",
       "      <td>-1.708364</td>\n",
       "      <td>-1.706721</td>\n",
       "      <td>BlueMale</td>\n",
       "      <td>1.732949</td>\n",
       "      <td>-1.119930</td>\n",
       "      <td>0.728544</td>\n",
       "    </tr>\n",
       "    <tr>\n",
       "      <th>...</th>\n",
       "      <td>...</td>\n",
       "      <td>...</td>\n",
       "      <td>...</td>\n",
       "      <td>...</td>\n",
       "      <td>...</td>\n",
       "      <td>...</td>\n",
       "      <td>...</td>\n",
       "      <td>...</td>\n",
       "      <td>...</td>\n",
       "      <td>...</td>\n",
       "      <td>...</td>\n",
       "      <td>...</td>\n",
       "    </tr>\n",
       "    <tr>\n",
       "      <th>195</th>\n",
       "      <td>Orange</td>\n",
       "      <td>Female</td>\n",
       "      <td>46</td>\n",
       "      <td>1.668399</td>\n",
       "      <td>2.049750</td>\n",
       "      <td>1.280706</td>\n",
       "      <td>1.246203</td>\n",
       "      <td>1.366870</td>\n",
       "      <td>OrangeFemale</td>\n",
       "      <td>-5.530956</td>\n",
       "      <td>3.164291</td>\n",
       "      <td>-1.508874</td>\n",
       "    </tr>\n",
       "    <tr>\n",
       "      <th>196</th>\n",
       "      <td>Orange</td>\n",
       "      <td>Female</td>\n",
       "      <td>47</td>\n",
       "      <td>1.754443</td>\n",
       "      <td>1.699132</td>\n",
       "      <td>1.351117</td>\n",
       "      <td>1.373555</td>\n",
       "      <td>1.630320</td>\n",
       "      <td>OrangeFemale</td>\n",
       "      <td>-5.232736</td>\n",
       "      <td>1.469334</td>\n",
       "      <td>-1.576284</td>\n",
       "    </tr>\n",
       "    <tr>\n",
       "      <th>197</th>\n",
       "      <td>Orange</td>\n",
       "      <td>Female</td>\n",
       "      <td>48</td>\n",
       "      <td>1.811806</td>\n",
       "      <td>1.738090</td>\n",
       "      <td>1.477856</td>\n",
       "      <td>1.399026</td>\n",
       "      <td>1.601048</td>\n",
       "      <td>OrangeFemale</td>\n",
       "      <td>-5.336236</td>\n",
       "      <td>0.856704</td>\n",
       "      <td>-1.510929</td>\n",
       "    </tr>\n",
       "    <tr>\n",
       "      <th>198</th>\n",
       "      <td>Orange</td>\n",
       "      <td>Female</td>\n",
       "      <td>49</td>\n",
       "      <td>1.983895</td>\n",
       "      <td>1.738090</td>\n",
       "      <td>1.534185</td>\n",
       "      <td>1.564583</td>\n",
       "      <td>1.688865</td>\n",
       "      <td>OrangeFemale</td>\n",
       "      <td>-4.780087</td>\n",
       "      <td>1.217638</td>\n",
       "      <td>-2.704188</td>\n",
       "    </tr>\n",
       "    <tr>\n",
       "      <th>199</th>\n",
       "      <td>Orange</td>\n",
       "      <td>Female</td>\n",
       "      <td>50</td>\n",
       "      <td>2.155984</td>\n",
       "      <td>2.906815</td>\n",
       "      <td>1.984816</td>\n",
       "      <td>2.048521</td>\n",
       "      <td>2.069405</td>\n",
       "      <td>OrangeFemale</td>\n",
       "      <td>-4.189428</td>\n",
       "      <td>4.223440</td>\n",
       "      <td>-0.974849</td>\n",
       "    </tr>\n",
       "  </tbody>\n",
       "</table>\n",
       "<p>200 rows × 12 columns</p>\n",
       "</div>"
      ],
      "text/plain": [
       "    species     sex  index  Frontal Lobe  Rear Width  Carapace Midline  \\\n",
       "0      Blue    Male      1     -2.146232   -2.352450         -2.253926   \n",
       "1      Blue    Male      2     -1.945462   -1.962875         -1.972282   \n",
       "2      Blue    Male      3     -1.830736   -1.923917         -1.845543   \n",
       "3      Blue    Male      4     -1.716010   -1.884960         -1.690638   \n",
       "4      Blue    Male      5     -1.658647   -1.846002         -1.662474   \n",
       "..      ...     ...    ...           ...         ...               ...   \n",
       "195  Orange  Female     46      1.668399    2.049750          1.280706   \n",
       "196  Orange  Female     47      1.754443    1.699132          1.351117   \n",
       "197  Orange  Female     48      1.811806    1.738090          1.477856   \n",
       "198  Orange  Female     49      1.983895    1.738090          1.534185   \n",
       "199  Orange  Female     50      2.155984    2.906815          1.984816   \n",
       "\n",
       "     Maximum Width  Body Depth         class     FISH1     FISH2     FISH3  \n",
       "0        -2.217772   -2.057989      BlueMale  1.538869 -0.808137  1.186420  \n",
       "1        -1.988538   -1.940899      BlueMale  1.637047 -0.370588  1.172750  \n",
       "2        -1.784775   -1.853083      BlueMale  2.802492 -0.249383  0.502351  \n",
       "3        -1.695629   -1.706721      BlueMale  2.295358 -1.029487  0.814667  \n",
       "4        -1.708364   -1.706721      BlueMale  1.732949 -1.119930  0.728544  \n",
       "..             ...         ...           ...       ...       ...       ...  \n",
       "195       1.246203    1.366870  OrangeFemale -5.530956  3.164291 -1.508874  \n",
       "196       1.373555    1.630320  OrangeFemale -5.232736  1.469334 -1.576284  \n",
       "197       1.399026    1.601048  OrangeFemale -5.336236  0.856704 -1.510929  \n",
       "198       1.564583    1.688865  OrangeFemale -4.780087  1.217638 -2.704188  \n",
       "199       2.048521    2.069405  OrangeFemale -4.189428  4.223440 -0.974849  \n",
       "\n",
       "[200 rows x 12 columns]"
      ]
     },
     "execution_count": 58,
     "metadata": {},
     "output_type": "execute_result"
    }
   ],
   "source": [
    "from sklearn.discriminant_analysis import LinearDiscriminantAnalysis\n",
    "\n",
    "# data standardization\n",
    "df = data.get_data(\"Datasets/crabs.csv\", rename_columns=rename_columns, remap=remap, combinator=combinator)\n",
    "df_std = df.copy(deep=True)\n",
    "df_std[data_columns] = StandardScaler().fit_transform(df[data_columns])\n",
    "\n",
    "# fitting fisher\n",
    "fisher = LinearDiscriminantAnalysis(n_components=3)\n",
    "df_std[[\"FISH1\", \"FISH2\", \"FISH3\"]] = fisher.fit_transform(df_std[data_columns].values, y=df_std[\"class\"].values)\n",
    "df_std"
   ]
  },
  {
   "cell_type": "markdown",
   "metadata": {},
   "source": [
    "## Plotting 3D"
   ]
  },
  {
   "cell_type": "code",
   "execution_count": 67,
   "metadata": {},
   "outputs": [
    {
     "data": {
      "text/plain": [
       "<mpl_toolkits.mplot3d.art3d.Path3DCollection at 0x14a13ad80>"
      ]
     },
     "execution_count": 67,
     "metadata": {},
     "output_type": "execute_result"
    },
    {
     "data": {
      "image/png": "[encoded data removed]",
      "text/plain": [
       "<Figure size 800x494.438 with 1 Axes>"
      ]
     },
     "metadata": {},
     "output_type": "display_data"
    }
   ],
   "source": [
    "figure = plt.figure(figsize=(8, 8 / 1.618))\n",
    "ax = plt.subplot(111, projection=\"3d\")\n",
    "\n",
    "color_map = {\"BlueMale\": \"blue\", \"BlueFemale\": \"green\", \"OrangeMale\": \"red\", \"OrangeFemale\": \"orange\"}\n",
    "\n",
    "plt.scatter(\n",
    "    df_std[\"FISH1\"], df_std[\"FISH2\"], zs=df_std[\"FISH3\"], \n",
    "    s=25, depthshade=False, c=df[\"class\"].map(lambda x: color_map[x]),\n",
    ")"
   ]
  },
  {
   "cell_type": "code",
   "execution_count": 73,
   "metadata": {},
   "outputs": [
    {
     "data": {
      "application/vnd.plotly.v1+json": {
       "config": {
        "plotlyServerURL": "https://plot.ly"
       },
       "data": [
        {
         "hovertemplate": "class=BlueMale<br>FISH1=%{x}<br>FISH2=%{y}<br>FISH3=%{z}<extra></extra>",
         "legendgroup": "BlueMale",
         "marker": {
          "color": "#636efa",
          "symbol": "circle"
         },
         "mode": "markers",
         "name": "BlueMale",
         "scene": "scene",
         "showlegend": true,
         "type": "scatter3d",
         "x": [
          1.538869344302061,
          1.6370474513136923,
          2.8024920473036183,
          2.295358081571422,
          1.7329492757101106,
          2.183951253410323,
          1.9147034458943908,
          2.663290523137105,
          2.1355268142012007,
          2.846044939045797,
          4.315872598765995,
          3.300149463606234,
          3.5929373671944025,
          4.080013428974422,
          3.0149822097267913,
          1.458196460681012,
          3.798561445362296,
          3.47291914329306,
          2.8438082318233833,
          2.0801718655150947,
          3.273487835399037,
          2.8910285903912087,
          3.2905338394385426,
          3.3664749892668135,
          3.129918003229234,
          1.973810218736086,
          2.9315757413515455,
          4.464444405213425,
          2.7133761262912137,
          3.0077921303115795,
          2.8666742059562615,
          4.114702143702734,
          3.8742114026583874,
          4.4701129949142,
          6.228260563972505,
          4.286096581730137,
          4.089930161250555,
          3.9393432699464372,
          2.991487835571007,
          4.521119693007119,
          4.520058985437364,
          2.7767435116758845,
          3.474932296572656,
          5.179225749411884,
          3.507806401472452,
          3.442726360709514,
          3.3724264181490327,
          4.395053496788009,
          3.676663710117507,
          5.9243351373383355
         ],
         "y": [
          -0.8081369418962694,
          -0.3705879828962077,
          -0.24938319186096514,
          -1.0294867803495944,
          -1.1199295964327824,
          -0.9150015862480968,
          0.03889934037329394,
          -1.3344972208873644,
          -0.22248036849946215,
          0.7237599861416208,
          0.1342601418076605,
          0.6873631380385516,
          -1.6507270471253688,
          -0.43408228964302925,
          0.17990003041358874,
          0.41836555066553793,
          -0.5848921591083982,
          -0.27129430375228486,
          0.507455281564733,
          -0.6777184696072165,
          -1.0236706501744481,
          -2.0203519380461987,
          -1.7527196010932187,
          -1.6413667307234048,
          -1.1094673684053002,
          -0.8652106732802383,
          -1.5399824846653876,
          -1.9788640610994868,
          -0.5604996526254793,
          -2.0345425321416295,
          -0.9680122099201935,
          -0.5855626365589403,
          -1.3087398006089546,
          -0.5123407602422211,
          -1.1482716282283238,
          -1.135265147538892,
          -1.4864364234626455,
          -1.5780468005012265,
          -2.0747262223535152,
          -0.7800866576769433,
          -1.2958315720005944,
          -1.9303412432157605,
          -1.7984370952727287,
          0.5496913265925235,
          -3.375490437579668,
          -2.2107133629434106,
          -0.14706807821768064,
          -2.885040252447597,
          -2.214995150910434,
          -2.123251291257043
         ],
         "z": [
          1.1864199030226898,
          1.1727503456105581,
          0.5023505049936297,
          0.8146667052133097,
          0.7285442522537416,
          1.121300440629149,
          1.18326368419614,
          0.3819966581354844,
          -0.4349084883299895,
          0.4454430073807762,
          0.6105232719025586,
          0.9031184016672497,
          0.4289308123867212,
          -0.8620931367731337,
          -0.08177269425905362,
          0.29598874514141554,
          -0.6978343306912466,
          -0.301285597024656,
          -0.6897539664812471,
          -0.36280964728429504,
          -0.04106824275892733,
          0.4272071994011344,
          -1.4052057419335897,
          -0.5866380442975978,
          -0.20998697563759433,
          -0.26088317202040584,
          -0.7783469244705217,
          0.31624225573563525,
          -0.665878769220306,
          -1.4451347640596284,
          0.4092671417222072,
          0.17872000394470422,
          -0.6528874869524905,
          -0.8182990061418075,
          -0.7234463826011448,
          -1.6215826098030188,
          -0.5462577497538054,
          -1.950403907305559,
          -0.992115779557451,
          -0.8481266403600113,
          -1.4085833159200534,
          0.13006107425050756,
          -1.1999570220753768,
          -0.5565758523636753,
          -1.73107622827317,
          -2.767448850824061,
          -2.0933031863920792,
          -1.6335029738403253,
          -1.9944305855318527,
          -2.2032576322445254
         ]
        },
        {
         "hovertemplate": "class=BlueFemale<br>FISH1=%{x}<br>FISH2=%{y}<br>FISH3=%{z}<extra></extra>",
         "legendgroup": "BlueFemale",
         "marker": {
          "color": "#EF553B",
          "symbol": "circle"
         },
         "mode": "markers",
         "name": "BlueFemale",
         "scene": "scene",
         "showlegend": true,
         "type": "scatter3d",
         "x": [
          1.6652147445638796,
          3.0744442686576474,
          1.6517853439159194,
          2.367390273234235,
          1.8382557690279995,
          1.7028968008860756,
          2.1927738073325487,
          1.4590683307207002,
          2.9776572895764706,
          2.610803214300425,
          2.422747548296301,
          2.123267601639336,
          3.2131973323682574,
          1.6090627025488804,
          0.8575123400855027,
          1.6472684597238338,
          2.3777160405216207,
          1.645495695249396,
          1.0226825139740685,
          2.6380166277761394,
          0.8971627677501535,
          1.5923315130339415,
          2.037715362381014,
          2.458646636710615,
          3.667983104382291,
          1.7191113375633367,
          2.2027187493263005,
          2.657733281827479,
          1.8129623556843417,
          1.3730774834485533,
          2.666487978325019,
          1.0961975140276485,
          1.3977957204057365,
          1.002578394020097,
          1.5132652894654184,
          1.8411928411348177,
          1.5367458284761053,
          2.604080102564818,
          1.9875122006098487,
          1.779724955481829,
          2.2235030302335,
          2.7227697805288904,
          1.8788208009706424,
          1.969328407133016,
          2.816683029651696,
          1.095466343119263,
          1.7788245407674226,
          1.5991290009284596,
          1.557828427429721,
          2.271529470334358
         ],
         "y": [
          -0.5170533105870023,
          0.6536648281348764,
          0.22582901109359244,
          -0.0008851770719305965,
          -0.28379505708008096,
          0.42605313053757005,
          1.0805990837024786,
          0.9247749929895182,
          1.573690460217976,
          0.6344631559564811,
          1.2130267387752482,
          1.385184389201683,
          2.0213602840996887,
          1.5453600801531888,
          2.838325516945124,
          0.6204623471238907,
          1.4581351698268668,
          1.3674615173628328,
          1.0423422483135154,
          3.5275066413307994,
          1.0832727516567813,
          2.639081981185664,
          1.6332977478174306,
          1.136685130362715,
          1.5994141507652264,
          1.840076723216597,
          0.9986662136066136,
          2.5205981233021824,
          1.8853216278403107,
          1.3426726355429996,
          3.2961841265237815,
          2.2927081348068086,
          2.0253344128092454,
          1.3044881096357768,
          1.798715007497857,
          2.6344909791294993,
          1.3605363850851842,
          2.9851993488038575,
          1.387786665661871,
          1.3257440419150002,
          2.311548877344594,
          2.904056258804526,
          1.4801410478398738,
          2.747202676847542,
          3.7259210451084206,
          1.383209262211441,
          3.294092069369333,
          3.7070501620765097,
          3.031792042519732,
          2.1574201438387246
         ],
         "z": [
          1.729093208875686,
          1.1625839884897722,
          0.9892922555728159,
          1.118498315316329,
          0.7217332326588562,
          1.3891257489976954,
          0.5700179781137685,
          1.0466803207632154,
          0.013502703381386287,
          0.23964910210548385,
          -0.721398914588563,
          -0.0019998311264515533,
          0.6413146435412778,
          1.2507557252220622,
          0.8299182731343737,
          1.1059583054662743,
          1.4813674028151282,
          0.3139526591118144,
          1.4874417123903096,
          0.15093947202792482,
          1.4325356289544002,
          0.4248772492542816,
          1.2322936476714206,
          -0.06592115373237027,
          -0.7638582351018797,
          0.43462760328733846,
          0.12359010819112157,
          -0.38431017437068105,
          1.2861725773166472,
          -0.8476944139939323,
          -2.0942837476477396,
          0.8224208455990579,
          1.4261793987897535,
          0.2458096102454326,
          0.332455012161509,
          -0.43377078329754865,
          2.06709603773757,
          -0.05655794032653644,
          -0.3112754655939585,
          0.8677852238959644,
          -0.809638722486631,
          0.41350764017673414,
          0.07556366124990409,
          1.3874692884296145,
          -0.857443211882314,
          -0.07384918770727235,
          0.8992945861063142,
          1.2889833564853508,
          1.5558852419444185,
          -0.6149340371698481
         ]
        },
        {
         "hovertemplate": "class=OrangeMale<br>FISH1=%{x}<br>FISH2=%{y}<br>FISH3=%{z}<extra></extra>",
         "legendgroup": "OrangeMale",
         "marker": {
          "color": "#00cc96",
          "symbol": "circle"
         },
         "mode": "markers",
         "name": "OrangeMale",
         "scene": "scene",
         "showlegend": true,
         "type": "scatter3d",
         "x": [
          -1.4012115789420097,
          -1.2915457446057748,
          -1.9255969498513141,
          -1.6754382944281232,
          -2.858706962131307,
          -2.0726917772666305,
          -1.8374014378292394,
          -0.9062535038470001,
          -1.502527083140463,
          -1.6068692709879957,
          -1.347438915238194,
          -1.9076623025093629,
          -1.7687254790840625,
          -1.634996306324008,
          -1.4890301726320998,
          -2.324175969729758,
          -2.0753944026215887,
          0.09046215918260399,
          -2.2996078221944676,
          -2.734687344633845,
          -1.7320107371295588,
          -1.881318307395514,
          -3.3553776168632123,
          -3.0055481212812967,
          -4.300891047246152,
          -1.3095376352404968,
          -1.8752764396864001,
          -3.326809864214941,
          -3.2185665774673535,
          -2.513692944037897,
          -1.14962989102492,
          -1.7867511157529476,
          -0.6925531142588661,
          -2.082553873628945,
          -2.2873004712338445,
          -4.35098232981075,
          -3.9691418950265924,
          -1.8018481922259046,
          -2.919157901111388,
          -1.7062109220496398,
          -2.339330975443969,
          -3.103382798537178,
          -2.7867687864848425,
          -2.607574494825377,
          -2.3315075050044323,
          -3.1211492885734655,
          -1.6362278365276717,
          -3.168312340714337,
          -3.245666390382727,
          -1.8634728079097878
         ],
         "y": [
          -1.42581922540936,
          -1.5514852513033188,
          -1.1670931992183926,
          -1.7178469026800212,
          -1.023538925114857,
          -1.6815411311240804,
          -1.3801676434826018,
          -0.5857099745321505,
          -1.7962740295571162,
          -0.8619208515368283,
          -1.2655896827116278,
          -3.0744349694843063,
          -3.0621395363378667,
          -2.226091686317729,
          -2.2830983875793445,
          -1.5550459899807376,
          -1.7405791624794855,
          -1.2319816422672072,
          -1.590029934716424,
          -2.0561421263467845,
          -2.16697259689425,
          -2.0087197192859874,
          -1.8744174971945033,
          -2.599647566395648,
          -2.7260592981136043,
          -2.3485944667407956,
          -3.0586189671958537,
          -3.360482815050864,
          -2.206299067219853,
          -3.3974578200074177,
          -2.9370596604814456,
          -1.9804982017066428,
          -2.9305421296646736,
          -2.9469191115260576,
          -2.7852697901465184,
          -2.584851508787366,
          -2.7068748396207902,
          -3.072249053633569,
          -2.396567388823049,
          -2.0451551471396328,
          -3.785313456885727,
          -4.55740947753184,
          -3.1116486055756285,
          -4.256510143388181,
          -4.455423672698106,
          -3.567336797023982,
          -3.0274867417641285,
          -2.549918833530735,
          -2.5892966736729104,
          -4.302451152561692
         ],
         "z": [
          0.7956448779057177,
          1.6376123420685036,
          1.2567416386902022,
          1.4160758276773724,
          0.2197512641106741,
          0.7600449182943362,
          2.086579593536114,
          1.3564020094792315,
          0.5390736952266968,
          0.7298512174521015,
          1.6591826095000821,
          1.5631468152348096,
          1.3614676513392265,
          1.2410781694399016,
          0.6453978252307935,
          0.34499176471013143,
          1.7490491604436857,
          -0.19260813219791934,
          0.2394486726347844,
          0.8979786880637389,
          0.833101824519649,
          -0.5782497216397816,
          0.9516023796773461,
          0.26698431823070873,
          -0.004250749141125975,
          -0.1018314669963349,
          0.4882318143211697,
          -0.9171306670687882,
          -0.1534250516588335,
          0.06322808923341576,
          -0.2859466944889613,
          0.14880953986025686,
          0.5936195802087006,
          0.4812402504629197,
          -0.2381164269459768,
          -0.07775051069836816,
          -0.19884046519058926,
          0.4187374300335121,
          -0.575729516916419,
          -0.5541778239208295,
          -1.4977754514064003,
          0.23348903196620963,
          -0.807196496904686,
          0.6491709816045657,
          0.18726885488859524,
          -1.3127081999880827,
          -0.5885408183900913,
          -1.275695322080598,
          -0.9010709493593172,
          -1.6267082587540573
         ]
        },
        {
         "hovertemplate": "class=OrangeFemale<br>FISH1=%{x}<br>FISH2=%{y}<br>FISH3=%{z}<extra></extra>",
         "legendgroup": "OrangeFemale",
         "marker": {
          "color": "#ab63fa",
          "symbol": "circle"
         },
         "mode": "markers",
         "name": "OrangeFemale",
         "scene": "scene",
         "showlegend": true,
         "type": "scatter3d",
         "x": [
          -1.5868866074326575,
          -2.1317220732629654,
          -2.0222569184252315,
          -2.4295111364513224,
          -1.8848539697605353,
          -1.719664754182528,
          -1.2394351284115521,
          -1.8379351391796988,
          -1.4828099315766794,
          -1.831102672229615,
          -3.122780179067689,
          -2.418794837949279,
          -2.096537442201366,
          -3.2589697291147353,
          -2.6473415107285216,
          -1.8338889670735352,
          -1.5717829592378818,
          -2.4389325752084416,
          -2.7680583781605046,
          -3.2261415649667025,
          -1.703135201937475,
          -3.2170189205492385,
          -3.4040847453056315,
          -2.9574625878049456,
          -3.179726381255606,
          -1.382575868159984,
          -3.2472796766792467,
          -3.858316684352306,
          -2.404643781985391,
          -1.6313983194237305,
          -3.0653973530726697,
          -4.52089813058647,
          -2.126864819307541,
          -3.405021726515502,
          -3.6985642890905712,
          -5.095653658330872,
          -4.389051483252096,
          -1.543497343788267,
          -2.7047561762602794,
          -5.79524137400882,
          -4.468313664680021,
          -5.333117697934046,
          -4.708947080240237,
          -4.220134617545494,
          -4.540358717682256,
          -5.530956312941985,
          -5.232736238362375,
          -5.336236074650621,
          -4.780086660039359,
          -4.1894277026892635
         ],
         "y": [
          0.2869607266849265,
          -0.5588898993610641,
          -0.4937077566759865,
          1.2478818883302019,
          0.4056655286505093,
          1.5029176821313897,
          1.5087449486552085,
          1.1273309438748826,
          1.9253159311014598,
          1.2052248803158503,
          -0.580574236023792,
          1.285804193312523,
          1.9006952594871163,
          2.197066097739864,
          1.6398916821728335,
          1.7298892412023914,
          2.2188011429841934,
          2.2623956568181702,
          2.440670101352695,
          2.130566615786619,
          1.3963168120842697,
          0.9580280984167895,
          2.554870144522263,
          0.9096967453560186,
          2.082647236120723,
          2.2120214018047535,
          3.3720347569546765,
          2.3172629620262004,
          2.4112781995454156,
          0.34399720597333033,
          1.880333210997625,
          1.675446116640281,
          4.898651216620979,
          1.8300840883248088,
          2.169321641987822,
          0.8396475348937056,
          1.6200828199542232,
          4.463449199032845,
          1.5734443618434724,
          1.9126419716958665,
          0.8516315196636474,
          2.8252214524714407,
          1.6521143339223292,
          1.8345674704935993,
          1.6583752750786898,
          3.1642911311016224,
          1.469334449684237,
          0.856704305934335,
          1.2176378790186813,
          4.223439953485888
         ],
         "z": [
          2.155012118076698,
          0.7705013534749451,
          0.5797036863311547,
          1.7607744438538944,
          1.5281315605385783,
          0.22476125668545513,
          1.3341600929032724,
          0.21979874332104368,
          0.4967420536440303,
          0.6624556630154574,
          1.4068669970368264,
          0.6525716168695413,
          0.6360509904519273,
          0.7970674428287358,
          0.20599808172374418,
          -0.5808727034853012,
          -0.8655195659962013,
          -0.6890455094062145,
          -0.5399422173553938,
          -0.8304229881343042,
          -0.9209087802630939,
          0.03198171789749081,
          -1.531732598309263,
          -1.038467965135206,
          -1.1505159732253227,
          1.3031111533520807,
          -1.1539963099962214,
          -1.0012337320677962,
          -0.7021558167487951,
          -1.0346633407336092,
          -3.1676064127491994,
          -1.095785924269254,
          -2.695855417554959,
          -0.7911309338705078,
          -0.26835831365106644,
          0.9065874647728118,
          -0.394976072831187,
          -0.9629404232058265,
          -0.878323939445013,
          0.5867179263838769,
          -1.3375716339272634,
          0.04772584084413177,
          0.44379187637901285,
          -2.805195801379472,
          0.841209913407034,
          -1.5088739401153053,
          -1.5762842533479997,
          -1.5109294348283064,
          -2.7041875731696767,
          -0.9748491797484031
         ]
        }
       ],
       "layout": {
        "legend": {
         "title": {
          "text": "class"
         },
         "tracegroupgap": 0
        },
        "margin": {
         "t": 60
        },
        "scene": {
         "domain": {
          "x": [
           0,
           1
          ],
          "y": [
           0,
           1
          ]
         },
         "xaxis": {
          "title": {
           "text": "FISH1"
          }
         },
         "yaxis": {
          "title": {
           "text": "FISH2"
          }
         },
         "zaxis": {
          "title": {
           "text": "FISH3"
          }
         }
        },
        "template": {
         "data": {
          "bar": [
           {
            "error_x": {
             "color": "#2a3f5f"
            },
            "error_y": {
             "color": "#2a3f5f"
            },
            "marker": {
             "line": {
              "color": "#E5ECF6",
              "width": 0.5
             },
             "pattern": {
              "fillmode": "overlay",
              "size": 10,
              "solidity": 0.2
             }
            },
            "type": "bar"
           }
          ],
          "barpolar": [
           {
            "marker": {
             "line": {
              "color": "#E5ECF6",
              "width": 0.5
             },
             "pattern": {
              "fillmode": "overlay",
              "size": 10,
              "solidity": 0.2
             }
            },
            "type": "barpolar"
           }
          ],
          "carpet": [
           {
            "aaxis": {
             "endlinecolor": "#2a3f5f",
             "gridcolor": "white",
             "linecolor": "white",
             "minorgridcolor": "white",
             "startlinecolor": "#2a3f5f"
            },
            "baxis": {
             "endlinecolor": "#2a3f5f",
             "gridcolor": "white",
             "linecolor": "white",
             "minorgridcolor": "white",
             "startlinecolor": "#2a3f5f"
            },
            "type": "carpet"
           }
          ],
          "choropleth": [
           {
            "colorbar": {
             "outlinewidth": 0,
             "ticks": ""
            },
            "type": "choropleth"
           }
          ],
          "contour": [
           {
            "colorbar": {
             "outlinewidth": 0,
             "ticks": ""
            },
            "colorscale": [
             [
              0,
              "#0d0887"
             ],
             [
              0.1111111111111111,
              "#46039f"
             ],
             [
              0.2222222222222222,
              "#7201a8"
             ],
             [
              0.3333333333333333,
              "#9c179e"
             ],
             [
              0.4444444444444444,
              "#bd3786"
             ],
             [
              0.5555555555555556,
              "#d8576b"
             ],
             [
              0.6666666666666666,
              "#ed7953"
             ],
             [
              0.7777777777777778,
              "#fb9f3a"
             ],
             [
              0.8888888888888888,
              "#fdca26"
             ],
             [
              1,
              "#f0f921"
             ]
            ],
            "type": "contour"
           }
          ],
          "contourcarpet": [
           {
            "colorbar": {
             "outlinewidth": 0,
             "ticks": ""
            },
            "type": "contourcarpet"
           }
          ],
          "heatmap": [
           {
            "colorbar": {
             "outlinewidth": 0,
             "ticks": ""
            },
            "colorscale": [
             [
              0,
              "#0d0887"
             ],
             [
              0.1111111111111111,
              "#46039f"
             ],
             [
              0.2222222222222222,
              "#7201a8"
             ],
             [
              0.3333333333333333,
              "#9c179e"
             ],
             [
              0.4444444444444444,
              "#bd3786"
             ],
             [
              0.5555555555555556,
              "#d8576b"
             ],
             [
              0.6666666666666666,
              "#ed7953"
             ],
             [
              0.7777777777777778,
              "#fb9f3a"
             ],
             [
              0.8888888888888888,
              "#fdca26"
             ],
             [
              1,
              "#f0f921"
             ]
            ],
            "type": "heatmap"
           }
          ],
          "heatmapgl": [
           {
            "colorbar": {
             "outlinewidth": 0,
             "ticks": ""
            },
            "colorscale": [
             [
              0,
              "#0d0887"
             ],
             [
              0.1111111111111111,
              "#46039f"
             ],
             [
              0.2222222222222222,
              "#7201a8"
             ],
             [
              0.3333333333333333,
              "#9c179e"
             ],
             [
              0.4444444444444444,
              "#bd3786"
             ],
             [
              0.5555555555555556,
              "#d8576b"
             ],
             [
              0.6666666666666666,
              "#ed7953"
             ],
             [
              0.7777777777777778,
              "#fb9f3a"
             ],
             [
              0.8888888888888888,
              "#fdca26"
             ],
             [
              1,
              "#f0f921"
             ]
            ],
            "type": "heatmapgl"
           }
          ],
          "histogram": [
           {
            "marker": {
             "pattern": {
              "fillmode": "overlay",
              "size": 10,
              "solidity": 0.2
             }
            },
            "type": "histogram"
           }
          ],
          "histogram2d": [
           {
            "colorbar": {
             "outlinewidth": 0,
             "ticks": ""
            },
            "colorscale": [
             [
              0,
              "#0d0887"
             ],
             [
              0.1111111111111111,
              "#46039f"
             ],
             [
              0.2222222222222222,
              "#7201a8"
             ],
             [
              0.3333333333333333,
              "#9c179e"
             ],
             [
              0.4444444444444444,
              "#bd3786"
             ],
             [
              0.5555555555555556,
              "#d8576b"
             ],
             [
              0.6666666666666666,
              "#ed7953"
             ],
             [
              0.7777777777777778,
              "#fb9f3a"
             ],
             [
              0.8888888888888888,
              "#fdca26"
             ],
             [
              1,
              "#f0f921"
             ]
            ],
            "type": "histogram2d"
           }
          ],
          "histogram2dcontour": [
           {
            "colorbar": {
             "outlinewidth": 0,
             "ticks": ""
            },
            "colorscale": [
             [
              0,
              "#0d0887"
             ],
             [
              0.1111111111111111,
              "#46039f"
             ],
             [
              0.2222222222222222,
              "#7201a8"
             ],
             [
              0.3333333333333333,
              "#9c179e"
             ],
             [
              0.4444444444444444,
              "#bd3786"
             ],
             [
              0.5555555555555556,
              "#d8576b"
             ],
             [
              0.6666666666666666,
              "#ed7953"
             ],
             [
              0.7777777777777778,
              "#fb9f3a"
             ],
             [
              0.8888888888888888,
              "#fdca26"
             ],
             [
              1,
              "#f0f921"
             ]
            ],
            "type": "histogram2dcontour"
           }
          ],
          "mesh3d": [
           {
            "colorbar": {
             "outlinewidth": 0,
             "ticks": ""
            },
            "type": "mesh3d"
           }
          ],
          "parcoords": [
           {
            "line": {
             "colorbar": {
              "outlinewidth": 0,
              "ticks": ""
             }
            },
            "type": "parcoords"
           }
          ],
          "pie": [
           {
            "automargin": true,
            "type": "pie"
           }
          ],
          "scatter": [
           {
            "fillpattern": {
             "fillmode": "overlay",
             "size": 10,
             "solidity": 0.2
            },
            "type": "scatter"
           }
          ],
          "scatter3d": [
           {
            "line": {
             "colorbar": {
              "outlinewidth": 0,
              "ticks": ""
             }
            },
            "marker": {
             "colorbar": {
              "outlinewidth": 0,
              "ticks": ""
             }
            },
            "type": "scatter3d"
           }
          ],
          "scattercarpet": [
           {
            "marker": {
             "colorbar": {
              "outlinewidth": 0,
              "ticks": ""
             }
            },
            "type": "scattercarpet"
           }
          ],
          "scattergeo": [
           {
            "marker": {
             "colorbar": {
              "outlinewidth": 0,
              "ticks": ""
             }
            },
            "type": "scattergeo"
           }
          ],
          "scattergl": [
           {
            "marker": {
             "colorbar": {
              "outlinewidth": 0,
              "ticks": ""
             }
            },
            "type": "scattergl"
           }
          ],
          "scattermapbox": [
           {
            "marker": {
             "colorbar": {
              "outlinewidth": 0,
              "ticks": ""
             }
            },
            "type": "scattermapbox"
           }
          ],
          "scatterpolar": [
           {
            "marker": {
             "colorbar": {
              "outlinewidth": 0,
              "ticks": ""
             }
            },
            "type": "scatterpolar"
           }
          ],
          "scatterpolargl": [
           {
            "marker": {
             "colorbar": {
              "outlinewidth": 0,
              "ticks": ""
             }
            },
            "type": "scatterpolargl"
           }
          ],
          "scatterternary": [
           {
            "marker": {
             "colorbar": {
              "outlinewidth": 0,
              "ticks": ""
             }
            },
            "type": "scatterternary"
           }
          ],
          "surface": [
           {
            "colorbar": {
             "outlinewidth": 0,
             "ticks": ""
            },
            "colorscale": [
             [
              0,
              "#0d0887"
             ],
             [
              0.1111111111111111,
              "#46039f"
             ],
             [
              0.2222222222222222,
              "#7201a8"
             ],
             [
              0.3333333333333333,
              "#9c179e"
             ],
             [
              0.4444444444444444,
              "#bd3786"
             ],
             [
              0.5555555555555556,
              "#d8576b"
             ],
             [
              0.6666666666666666,
              "#ed7953"
             ],
             [
              0.7777777777777778,
              "#fb9f3a"
             ],
             [
              0.8888888888888888,
              "#fdca26"
             ],
             [
              1,
              "#f0f921"
             ]
            ],
            "type": "surface"
           }
          ],
          "table": [
           {
            "cells": {
             "fill": {
              "color": "#EBF0F8"
             },
             "line": {
              "color": "white"
             }
            },
            "header": {
             "fill": {
              "color": "#C8D4E3"
             },
             "line": {
              "color": "white"
             }
            },
            "type": "table"
           }
          ]
         },
         "layout": {
          "annotationdefaults": {
           "arrowcolor": "#2a3f5f",
           "arrowhead": 0,
           "arrowwidth": 1
          },
          "autotypenumbers": "strict",
          "coloraxis": {
           "colorbar": {
            "outlinewidth": 0,
            "ticks": ""
           }
          },
          "colorscale": {
           "diverging": [
            [
             0,
             "#8e0152"
            ],
            [
             0.1,
             "#c51b7d"
            ],
            [
             0.2,
             "#de77ae"
            ],
            [
             0.3,
             "#f1b6da"
            ],
            [
             0.4,
             "#fde0ef"
            ],
            [
             0.5,
             "#f7f7f7"
            ],
            [
             0.6,
             "#e6f5d0"
            ],
            [
             0.7,
             "#b8e186"
            ],
            [
             0.8,
             "#7fbc41"
            ],
            [
             0.9,
             "#4d9221"
            ],
            [
             1,
             "#276419"
            ]
           ],
           "sequential": [
            [
             0,
             "#0d0887"
            ],
            [
             0.1111111111111111,
             "#46039f"
            ],
            [
             0.2222222222222222,
             "#7201a8"
            ],
            [
             0.3333333333333333,
             "#9c179e"
            ],
            [
             0.4444444444444444,
             "#bd3786"
            ],
            [
             0.5555555555555556,
             "#d8576b"
            ],
            [
             0.6666666666666666,
             "#ed7953"
            ],
            [
             0.7777777777777778,
             "#fb9f3a"
            ],
            [
             0.8888888888888888,
             "#fdca26"
            ],
            [
             1,
             "#f0f921"
            ]
           ],
           "sequentialminus": [
            [
             0,
             "#0d0887"
            ],
            [
             0.1111111111111111,
             "#46039f"
            ],
            [
             0.2222222222222222,
             "#7201a8"
            ],
            [
             0.3333333333333333,
             "#9c179e"
            ],
            [
             0.4444444444444444,
             "#bd3786"
            ],
            [
             0.5555555555555556,
             "#d8576b"
            ],
            [
             0.6666666666666666,
             "#ed7953"
            ],
            [
             0.7777777777777778,
             "#fb9f3a"
            ],
            [
             0.8888888888888888,
             "#fdca26"
            ],
            [
             1,
             "#f0f921"
            ]
           ]
          },
          "colorway": [
           "#636efa",
           "#EF553B",
           "#00cc96",
           "#ab63fa",
           "#FFA15A",
           "#19d3f3",
           "#FF6692",
           "#B6E880",
           "#FF97FF",
           "#FECB52"
          ],
          "font": {
           "color": "#2a3f5f"
          },
          "geo": {
           "bgcolor": "white",
           "lakecolor": "white",
           "landcolor": "#E5ECF6",
           "showlakes": true,
           "showland": true,
           "subunitcolor": "white"
          },
          "hoverlabel": {
           "align": "left"
          },
          "hovermode": "closest",
          "mapbox": {
           "style": "light"
          },
          "paper_bgcolor": "white",
          "plot_bgcolor": "#E5ECF6",
          "polar": {
           "angularaxis": {
            "gridcolor": "white",
            "linecolor": "white",
            "ticks": ""
           },
           "bgcolor": "#E5ECF6",
           "radialaxis": {
            "gridcolor": "white",
            "linecolor": "white",
            "ticks": ""
           }
          },
          "scene": {
           "xaxis": {
            "backgroundcolor": "#E5ECF6",
            "gridcolor": "white",
            "gridwidth": 2,
            "linecolor": "white",
            "showbackground": true,
            "ticks": "",
            "zerolinecolor": "white"
           },
           "yaxis": {
            "backgroundcolor": "#E5ECF6",
            "gridcolor": "white",
            "gridwidth": 2,
            "linecolor": "white",
            "showbackground": true,
            "ticks": "",
            "zerolinecolor": "white"
           },
           "zaxis": {
            "backgroundcolor": "#E5ECF6",
            "gridcolor": "white",
            "gridwidth": 2,
            "linecolor": "white",
            "showbackground": true,
            "ticks": "",
            "zerolinecolor": "white"
           }
          },
          "shapedefaults": {
           "line": {
            "color": "#2a3f5f"
           }
          },
          "ternary": {
           "aaxis": {
            "gridcolor": "white",
            "linecolor": "white",
            "ticks": ""
           },
           "baxis": {
            "gridcolor": "white",
            "linecolor": "white",
            "ticks": ""
           },
           "bgcolor": "#E5ECF6",
           "caxis": {
            "gridcolor": "white",
            "linecolor": "white",
            "ticks": ""
           }
          },
          "title": {
           "x": 0.05
          },
          "xaxis": {
           "automargin": true,
           "gridcolor": "white",
           "linecolor": "white",
           "ticks": "",
           "title": {
            "standoff": 15
           },
           "zerolinecolor": "white",
           "zerolinewidth": 2
          },
          "yaxis": {
           "automargin": true,
           "gridcolor": "white",
           "linecolor": "white",
           "ticks": "",
           "title": {
            "standoff": 15
           },
           "zerolinecolor": "white",
           "zerolinewidth": 2
          }
         }
        }
       }
      }
     },
     "metadata": {},
     "output_type": "display_data"
    }
   ],
   "source": [
    "import plotly.express as px\n",
    "\n",
    "px.scatter_3d(df_std, x=\"FISH1\", y=\"FISH2\", z=\"FISH3\", color=\"class\")"
   ]
  },
  {
   "cell_type": "markdown",
   "metadata": {},
   "source": [
    "You can see a similar separation effect using the 3D decomposition with Linear Discriminant Analysis / Fisher Discriminant Analysis. Most of the separation is attributed to sex."
   ]
  },
  {
   "cell_type": "markdown",
   "metadata": {},
   "source": []
  }
 ],
 "metadata": {
  "kernelspec": {
   "display_name": "machineLearning",
   "language": "python",
   "name": "python3"
  },
  "language_info": {
   "codemirror_mode": {
    "name": "ipython",
    "version": 3
   },
   "file_extension": ".py",
   "mimetype": "text/x-python",
   "name": "python",
   "nbconvert_exporter": "python",
   "pygments_lexer": "ipython3",
   "version": "3.12.0"
  }
 },
 "nbformat": 4,
 "nbformat_minor": 2
}
