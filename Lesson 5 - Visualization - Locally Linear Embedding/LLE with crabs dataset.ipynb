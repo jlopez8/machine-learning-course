{
 "cells": [
  {
   "cell_type": "markdown",
   "metadata": {},
   "source": [
    "## Imports"
   ]
  },
  {
   "cell_type": "code",
   "execution_count": 123,
   "metadata": {},
   "outputs": [],
   "source": [
    "import pandas as pd\n",
    "\n",
    "import io #input output library\n",
    "\n",
    "from sklearn.preprocessing import MinMaxScaler\n",
    "from sklearn.manifold import LocallyLinearEmbedding\n",
    "\n",
    "import seaborn as sns\n",
    "import matplotlib.pyplot as plt\n",
    "import plotly.express as px"
   ]
  },
  {
   "cell_type": "markdown",
   "metadata": {},
   "source": [
    "### Read Data"
   ]
  },
  {
   "cell_type": "code",
   "execution_count": 7,
   "metadata": {},
   "outputs": [],
   "source": [
    "crabs_data = pd.read_csv(\"./crabs.csv\")"
   ]
  },
  {
   "cell_type": "markdown",
   "metadata": {},
   "source": [
    "Some EDA"
   ]
  },
  {
   "cell_type": "code",
   "execution_count": 8,
   "metadata": {},
   "outputs": [
    {
     "data": {
      "text/html": [
       "<div>\n",
       "<style scoped>\n",
       "    .dataframe tbody tr th:only-of-type {\n",
       "        vertical-align: middle;\n",
       "    }\n",
       "\n",
       "    .dataframe tbody tr th {\n",
       "        vertical-align: top;\n",
       "    }\n",
       "\n",
       "    .dataframe thead th {\n",
       "        text-align: right;\n",
       "    }\n",
       "</style>\n",
       "<table border=\"1\" class=\"dataframe\">\n",
       "  <thead>\n",
       "    <tr style=\"text-align: right;\">\n",
       "      <th></th>\n",
       "      <th>sp</th>\n",
       "      <th>sex</th>\n",
       "      <th>index</th>\n",
       "      <th>FL</th>\n",
       "      <th>RW</th>\n",
       "      <th>CL</th>\n",
       "      <th>CW</th>\n",
       "      <th>BD</th>\n",
       "    </tr>\n",
       "  </thead>\n",
       "  <tbody>\n",
       "    <tr>\n",
       "      <th>0</th>\n",
       "      <td>B</td>\n",
       "      <td>M</td>\n",
       "      <td>1</td>\n",
       "      <td>8.1</td>\n",
       "      <td>6.7</td>\n",
       "      <td>16.1</td>\n",
       "      <td>19.0</td>\n",
       "      <td>7.0</td>\n",
       "    </tr>\n",
       "    <tr>\n",
       "      <th>1</th>\n",
       "      <td>B</td>\n",
       "      <td>M</td>\n",
       "      <td>2</td>\n",
       "      <td>8.8</td>\n",
       "      <td>7.7</td>\n",
       "      <td>18.1</td>\n",
       "      <td>20.8</td>\n",
       "      <td>7.4</td>\n",
       "    </tr>\n",
       "    <tr>\n",
       "      <th>2</th>\n",
       "      <td>B</td>\n",
       "      <td>M</td>\n",
       "      <td>3</td>\n",
       "      <td>9.2</td>\n",
       "      <td>7.8</td>\n",
       "      <td>19.0</td>\n",
       "      <td>22.4</td>\n",
       "      <td>7.7</td>\n",
       "    </tr>\n",
       "    <tr>\n",
       "      <th>3</th>\n",
       "      <td>B</td>\n",
       "      <td>M</td>\n",
       "      <td>4</td>\n",
       "      <td>9.6</td>\n",
       "      <td>7.9</td>\n",
       "      <td>20.1</td>\n",
       "      <td>23.1</td>\n",
       "      <td>8.2</td>\n",
       "    </tr>\n",
       "    <tr>\n",
       "      <th>4</th>\n",
       "      <td>B</td>\n",
       "      <td>M</td>\n",
       "      <td>5</td>\n",
       "      <td>9.8</td>\n",
       "      <td>8.0</td>\n",
       "      <td>20.3</td>\n",
       "      <td>23.0</td>\n",
       "      <td>8.2</td>\n",
       "    </tr>\n",
       "  </tbody>\n",
       "</table>\n",
       "</div>"
      ],
      "text/plain": [
       "  sp sex  index   FL   RW    CL    CW   BD\n",
       "0  B   M      1  8.1  6.7  16.1  19.0  7.0\n",
       "1  B   M      2  8.8  7.7  18.1  20.8  7.4\n",
       "2  B   M      3  9.2  7.8  19.0  22.4  7.7\n",
       "3  B   M      4  9.6  7.9  20.1  23.1  8.2\n",
       "4  B   M      5  9.8  8.0  20.3  23.0  8.2"
      ]
     },
     "execution_count": 8,
     "metadata": {},
     "output_type": "execute_result"
    }
   ],
   "source": [
    "crabs_data.head()"
   ]
  },
  {
   "cell_type": "code",
   "execution_count": 10,
   "metadata": {},
   "outputs": [
    {
     "data": {
      "text/html": [
       "<div>\n",
       "<style scoped>\n",
       "    .dataframe tbody tr th:only-of-type {\n",
       "        vertical-align: middle;\n",
       "    }\n",
       "\n",
       "    .dataframe tbody tr th {\n",
       "        vertical-align: top;\n",
       "    }\n",
       "\n",
       "    .dataframe thead th {\n",
       "        text-align: right;\n",
       "    }\n",
       "</style>\n",
       "<table border=\"1\" class=\"dataframe\">\n",
       "  <thead>\n",
       "    <tr style=\"text-align: right;\">\n",
       "      <th></th>\n",
       "      <th>sp</th>\n",
       "      <th>sex</th>\n",
       "      <th>index</th>\n",
       "      <th>FL</th>\n",
       "      <th>RW</th>\n",
       "      <th>CL</th>\n",
       "      <th>CW</th>\n",
       "      <th>BD</th>\n",
       "    </tr>\n",
       "  </thead>\n",
       "  <tbody>\n",
       "    <tr>\n",
       "      <th>195</th>\n",
       "      <td>O</td>\n",
       "      <td>F</td>\n",
       "      <td>46</td>\n",
       "      <td>21.4</td>\n",
       "      <td>18.0</td>\n",
       "      <td>41.2</td>\n",
       "      <td>46.2</td>\n",
       "      <td>18.7</td>\n",
       "    </tr>\n",
       "    <tr>\n",
       "      <th>196</th>\n",
       "      <td>O</td>\n",
       "      <td>F</td>\n",
       "      <td>47</td>\n",
       "      <td>21.7</td>\n",
       "      <td>17.1</td>\n",
       "      <td>41.7</td>\n",
       "      <td>47.2</td>\n",
       "      <td>19.6</td>\n",
       "    </tr>\n",
       "    <tr>\n",
       "      <th>197</th>\n",
       "      <td>O</td>\n",
       "      <td>F</td>\n",
       "      <td>48</td>\n",
       "      <td>21.9</td>\n",
       "      <td>17.2</td>\n",
       "      <td>42.6</td>\n",
       "      <td>47.4</td>\n",
       "      <td>19.5</td>\n",
       "    </tr>\n",
       "    <tr>\n",
       "      <th>198</th>\n",
       "      <td>O</td>\n",
       "      <td>F</td>\n",
       "      <td>49</td>\n",
       "      <td>22.5</td>\n",
       "      <td>17.2</td>\n",
       "      <td>43.0</td>\n",
       "      <td>48.7</td>\n",
       "      <td>19.8</td>\n",
       "    </tr>\n",
       "    <tr>\n",
       "      <th>199</th>\n",
       "      <td>O</td>\n",
       "      <td>F</td>\n",
       "      <td>50</td>\n",
       "      <td>23.1</td>\n",
       "      <td>20.2</td>\n",
       "      <td>46.2</td>\n",
       "      <td>52.5</td>\n",
       "      <td>21.1</td>\n",
       "    </tr>\n",
       "  </tbody>\n",
       "</table>\n",
       "</div>"
      ],
      "text/plain": [
       "    sp sex  index    FL    RW    CL    CW    BD\n",
       "195  O   F     46  21.4  18.0  41.2  46.2  18.7\n",
       "196  O   F     47  21.7  17.1  41.7  47.2  19.6\n",
       "197  O   F     48  21.9  17.2  42.6  47.4  19.5\n",
       "198  O   F     49  22.5  17.2  43.0  48.7  19.8\n",
       "199  O   F     50  23.1  20.2  46.2  52.5  21.1"
      ]
     },
     "execution_count": 10,
     "metadata": {},
     "output_type": "execute_result"
    }
   ],
   "source": [
    "crabs_data.tail()"
   ]
  },
  {
   "cell_type": "code",
   "execution_count": 11,
   "metadata": {},
   "outputs": [
    {
     "data": {
      "text/plain": [
       "(200, 8)"
      ]
     },
     "execution_count": 11,
     "metadata": {},
     "output_type": "execute_result"
    }
   ],
   "source": [
    "crabs_data.shape"
   ]
  },
  {
   "cell_type": "markdown",
   "metadata": {},
   "source": [
    "## Data Clean up"
   ]
  },
  {
   "cell_type": "code",
   "execution_count": 14,
   "metadata": {},
   "outputs": [],
   "source": [
    "crabs_data = crabs_data.rename(\n",
    "    columns={\n",
    "        'sp': 'species',\n",
    "        'FL': 'Frontal Lobe',\n",
    "        'RW': 'Rear Width',\n",
    "        'CL': 'Carapace Midline',\n",
    "        'CW': 'Maximum Width',\n",
    "        'BD': 'Body Depth' \n",
    "    }\n",
    ")"
   ]
  },
  {
   "cell_type": "code",
   "execution_count": 16,
   "metadata": {},
   "outputs": [
    {
     "data": {
      "text/html": [
       "<div>\n",
       "<style scoped>\n",
       "    .dataframe tbody tr th:only-of-type {\n",
       "        vertical-align: middle;\n",
       "    }\n",
       "\n",
       "    .dataframe tbody tr th {\n",
       "        vertical-align: top;\n",
       "    }\n",
       "\n",
       "    .dataframe thead th {\n",
       "        text-align: right;\n",
       "    }\n",
       "</style>\n",
       "<table border=\"1\" class=\"dataframe\">\n",
       "  <thead>\n",
       "    <tr style=\"text-align: right;\">\n",
       "      <th></th>\n",
       "      <th>species</th>\n",
       "      <th>sex</th>\n",
       "      <th>index</th>\n",
       "      <th>Frontal Lobe</th>\n",
       "      <th>Rear Width</th>\n",
       "      <th>Carapace Midline</th>\n",
       "      <th>Maximum Width</th>\n",
       "      <th>Body Depth</th>\n",
       "    </tr>\n",
       "  </thead>\n",
       "  <tbody>\n",
       "    <tr>\n",
       "      <th>0</th>\n",
       "      <td>B</td>\n",
       "      <td>M</td>\n",
       "      <td>1</td>\n",
       "      <td>8.1</td>\n",
       "      <td>6.7</td>\n",
       "      <td>16.1</td>\n",
       "      <td>19.0</td>\n",
       "      <td>7.0</td>\n",
       "    </tr>\n",
       "    <tr>\n",
       "      <th>1</th>\n",
       "      <td>B</td>\n",
       "      <td>M</td>\n",
       "      <td>2</td>\n",
       "      <td>8.8</td>\n",
       "      <td>7.7</td>\n",
       "      <td>18.1</td>\n",
       "      <td>20.8</td>\n",
       "      <td>7.4</td>\n",
       "    </tr>\n",
       "    <tr>\n",
       "      <th>2</th>\n",
       "      <td>B</td>\n",
       "      <td>M</td>\n",
       "      <td>3</td>\n",
       "      <td>9.2</td>\n",
       "      <td>7.8</td>\n",
       "      <td>19.0</td>\n",
       "      <td>22.4</td>\n",
       "      <td>7.7</td>\n",
       "    </tr>\n",
       "    <tr>\n",
       "      <th>3</th>\n",
       "      <td>B</td>\n",
       "      <td>M</td>\n",
       "      <td>4</td>\n",
       "      <td>9.6</td>\n",
       "      <td>7.9</td>\n",
       "      <td>20.1</td>\n",
       "      <td>23.1</td>\n",
       "      <td>8.2</td>\n",
       "    </tr>\n",
       "    <tr>\n",
       "      <th>4</th>\n",
       "      <td>B</td>\n",
       "      <td>M</td>\n",
       "      <td>5</td>\n",
       "      <td>9.8</td>\n",
       "      <td>8.0</td>\n",
       "      <td>20.3</td>\n",
       "      <td>23.0</td>\n",
       "      <td>8.2</td>\n",
       "    </tr>\n",
       "  </tbody>\n",
       "</table>\n",
       "</div>"
      ],
      "text/plain": [
       "  species sex  index  Frontal Lobe  Rear Width  Carapace Midline  \\\n",
       "0       B   M      1           8.1         6.7              16.1   \n",
       "1       B   M      2           8.8         7.7              18.1   \n",
       "2       B   M      3           9.2         7.8              19.0   \n",
       "3       B   M      4           9.6         7.9              20.1   \n",
       "4       B   M      5           9.8         8.0              20.3   \n",
       "\n",
       "   Maximum Width  Body Depth  \n",
       "0           19.0         7.0  \n",
       "1           20.8         7.4  \n",
       "2           22.4         7.7  \n",
       "3           23.1         8.2  \n",
       "4           23.0         8.2  "
      ]
     },
     "execution_count": 16,
     "metadata": {},
     "output_type": "execute_result"
    }
   ],
   "source": [
    "crabs_data.head()"
   ]
  },
  {
   "cell_type": "markdown",
   "metadata": {},
   "source": [
    "Replace some values using **MAP**"
   ]
  },
  {
   "cell_type": "code",
   "execution_count": 18,
   "metadata": {},
   "outputs": [],
   "source": [
    "crabs_data[\"sex\"] = crabs_data[\"sex\"].map(\n",
    "    {\n",
    "        \"M\":\"Male\", \"F\": \"Female\"\n",
    "    }\n",
    ")\n",
    "\n",
    "crabs_data[\"species\"] = crabs_data[\"species\"].map(\n",
    "    {\n",
    "        \"B\": \"Blue\", \"O\": \"Orange\"\n",
    "    }\n",
    ")"
   ]
  },
  {
   "cell_type": "markdown",
   "metadata": {},
   "source": [
    "## GOAL"
   ]
  },
  {
   "cell_type": "markdown",
   "metadata": {},
   "source": [
    "Is to sepearte 200 crabs into 4 classes. Male/Female, blue/orange. \n",
    "\n",
    "We will do it with LLE this time instead of PCA. "
   ]
  },
  {
   "cell_type": "markdown",
   "metadata": {},
   "source": [
    "## Apply LLE"
   ]
  },
  {
   "cell_type": "markdown",
   "metadata": {},
   "source": [
    "First, make a class column. This combines the mult-dimensional data into one output: Species + Sex."
   ]
  },
  {
   "cell_type": "code",
   "execution_count": 22,
   "metadata": {},
   "outputs": [],
   "source": [
    "crabs_data[\"class\"] = crabs_data.species + crabs_data.sex"
   ]
  },
  {
   "cell_type": "code",
   "execution_count": 23,
   "metadata": {},
   "outputs": [
    {
     "data": {
      "text/html": [
       "<div>\n",
       "<style scoped>\n",
       "    .dataframe tbody tr th:only-of-type {\n",
       "        vertical-align: middle;\n",
       "    }\n",
       "\n",
       "    .dataframe tbody tr th {\n",
       "        vertical-align: top;\n",
       "    }\n",
       "\n",
       "    .dataframe thead th {\n",
       "        text-align: right;\n",
       "    }\n",
       "</style>\n",
       "<table border=\"1\" class=\"dataframe\">\n",
       "  <thead>\n",
       "    <tr style=\"text-align: right;\">\n",
       "      <th></th>\n",
       "      <th>species</th>\n",
       "      <th>sex</th>\n",
       "      <th>index</th>\n",
       "      <th>Frontal Lobe</th>\n",
       "      <th>Rear Width</th>\n",
       "      <th>Carapace Midline</th>\n",
       "      <th>Maximum Width</th>\n",
       "      <th>Body Depth</th>\n",
       "      <th>class</th>\n",
       "    </tr>\n",
       "  </thead>\n",
       "  <tbody>\n",
       "    <tr>\n",
       "      <th>0</th>\n",
       "      <td>Blue</td>\n",
       "      <td>Male</td>\n",
       "      <td>1</td>\n",
       "      <td>8.1</td>\n",
       "      <td>6.7</td>\n",
       "      <td>16.1</td>\n",
       "      <td>19.0</td>\n",
       "      <td>7.0</td>\n",
       "      <td>BlueMale</td>\n",
       "    </tr>\n",
       "    <tr>\n",
       "      <th>1</th>\n",
       "      <td>Blue</td>\n",
       "      <td>Male</td>\n",
       "      <td>2</td>\n",
       "      <td>8.8</td>\n",
       "      <td>7.7</td>\n",
       "      <td>18.1</td>\n",
       "      <td>20.8</td>\n",
       "      <td>7.4</td>\n",
       "      <td>BlueMale</td>\n",
       "    </tr>\n",
       "    <tr>\n",
       "      <th>2</th>\n",
       "      <td>Blue</td>\n",
       "      <td>Male</td>\n",
       "      <td>3</td>\n",
       "      <td>9.2</td>\n",
       "      <td>7.8</td>\n",
       "      <td>19.0</td>\n",
       "      <td>22.4</td>\n",
       "      <td>7.7</td>\n",
       "      <td>BlueMale</td>\n",
       "    </tr>\n",
       "    <tr>\n",
       "      <th>3</th>\n",
       "      <td>Blue</td>\n",
       "      <td>Male</td>\n",
       "      <td>4</td>\n",
       "      <td>9.6</td>\n",
       "      <td>7.9</td>\n",
       "      <td>20.1</td>\n",
       "      <td>23.1</td>\n",
       "      <td>8.2</td>\n",
       "      <td>BlueMale</td>\n",
       "    </tr>\n",
       "    <tr>\n",
       "      <th>4</th>\n",
       "      <td>Blue</td>\n",
       "      <td>Male</td>\n",
       "      <td>5</td>\n",
       "      <td>9.8</td>\n",
       "      <td>8.0</td>\n",
       "      <td>20.3</td>\n",
       "      <td>23.0</td>\n",
       "      <td>8.2</td>\n",
       "      <td>BlueMale</td>\n",
       "    </tr>\n",
       "  </tbody>\n",
       "</table>\n",
       "</div>"
      ],
      "text/plain": [
       "  species   sex  index  Frontal Lobe  Rear Width  Carapace Midline  \\\n",
       "0    Blue  Male      1           8.1         6.7              16.1   \n",
       "1    Blue  Male      2           8.8         7.7              18.1   \n",
       "2    Blue  Male      3           9.2         7.8              19.0   \n",
       "3    Blue  Male      4           9.6         7.9              20.1   \n",
       "4    Blue  Male      5           9.8         8.0              20.3   \n",
       "\n",
       "   Maximum Width  Body Depth     class  \n",
       "0           19.0         7.0  BlueMale  \n",
       "1           20.8         7.4  BlueMale  \n",
       "2           22.4         7.7  BlueMale  \n",
       "3           23.1         8.2  BlueMale  \n",
       "4           23.0         8.2  BlueMale  "
      ]
     },
     "execution_count": 23,
     "metadata": {},
     "output_type": "execute_result"
    }
   ],
   "source": [
    "crabs_data.head()"
   ]
  },
  {
   "cell_type": "markdown",
   "metadata": {},
   "source": [
    "We can see the distribution of these 4 classes. All of them have equal data."
   ]
  },
  {
   "cell_type": "code",
   "execution_count": 27,
   "metadata": {},
   "outputs": [
    {
     "data": {
      "text/plain": [
       "class\n",
       "BlueMale        50\n",
       "BlueFemale      50\n",
       "OrangeMale      50\n",
       "OrangeFemale    50\n",
       "Name: count, dtype: int64"
      ]
     },
     "execution_count": 27,
     "metadata": {},
     "output_type": "execute_result"
    }
   ],
   "source": [
    "crabs_data[\"class\"].value_counts()"
   ]
  },
  {
   "cell_type": "markdown",
   "metadata": {},
   "source": [
    "Let's focus on the data columns"
   ]
  },
  {
   "cell_type": "code",
   "execution_count": 34,
   "metadata": {},
   "outputs": [],
   "source": [
    "data_columns = [\n",
    "    \"Frontal Lobe\", \n",
    "    \"Rear Width\", \n",
    "    \"Carapace Midline\",\n",
    "    \"Maximum Width\",\n",
    "    \"Body Depth\"\n",
    "]"
   ]
  },
  {
   "cell_type": "markdown",
   "metadata": {},
   "source": [
    "**LLE Description** \n",
    "\n",
    "We want to project this data that is currently D = 5 dimensions into a lower dimensional space that preservces distances between neighbors.  \n",
    "\n",
    "**IT IS IMPORTANT to work with data at the SAME SCALE** or large values could really throw off the model. **TO DO THAT** we avoid these problems using **MinMaxScaler**. This **scales values of each feature to a given range**."
   ]
  },
  {
   "cell_type": "markdown",
   "metadata": {},
   "source": [
    "Work on a copy."
   ]
  },
  {
   "cell_type": "code",
   "execution_count": 32,
   "metadata": {},
   "outputs": [],
   "source": [
    "crabs_min_max = crabs_data.copy()"
   ]
  },
  {
   "cell_type": "markdown",
   "metadata": {},
   "source": [
    "Transform data columns only. "
   ]
  },
  {
   "cell_type": "code",
   "execution_count": 35,
   "metadata": {},
   "outputs": [],
   "source": [
    "crabs_min_max[data_columns] = MinMaxScaler().fit_transform(crabs_min_max[data_columns])"
   ]
  },
  {
   "cell_type": "markdown",
   "metadata": {},
   "source": [
    "Apply LLE."
   ]
  },
  {
   "cell_type": "code",
   "execution_count": 62,
   "metadata": {},
   "outputs": [],
   "source": [
    "# Define the engine (class)\n",
    "lle = LocallyLinearEmbedding(\n",
    "    n_components=2,\n",
    "    n_neighbors=15\n",
    ")"
   ]
  },
  {
   "cell_type": "code",
   "execution_count": 63,
   "metadata": {},
   "outputs": [],
   "source": [
    "# Returns Array of LLE.\n",
    "# Only data is given back, no columns or meanings.\n",
    "# Remember this is a projecion into a lower dimensional manifold\n",
    "# whose base vectors we don't really have an idea about, they are from\n",
    "# the solution of an eigen-vector problem.\n",
    "crabs_lle = lle.fit_transform(\n",
    "    crabs_min_max[data_columns]\n",
    ")"
   ]
  },
  {
   "cell_type": "markdown",
   "metadata": {},
   "source": [
    "Attach the data to the min_max re-scaled DF"
   ]
  },
  {
   "cell_type": "code",
   "execution_count": 46,
   "metadata": {},
   "outputs": [],
   "source": [
    "crabs_min_max[[\"LLE1\", \"LLE2\"]] = crabs_lle"
   ]
  },
  {
   "cell_type": "code",
   "execution_count": 47,
   "metadata": {},
   "outputs": [
    {
     "data": {
      "text/html": [
       "<div>\n",
       "<style scoped>\n",
       "    .dataframe tbody tr th:only-of-type {\n",
       "        vertical-align: middle;\n",
       "    }\n",
       "\n",
       "    .dataframe tbody tr th {\n",
       "        vertical-align: top;\n",
       "    }\n",
       "\n",
       "    .dataframe thead th {\n",
       "        text-align: right;\n",
       "    }\n",
       "</style>\n",
       "<table border=\"1\" class=\"dataframe\">\n",
       "  <thead>\n",
       "    <tr style=\"text-align: right;\">\n",
       "      <th></th>\n",
       "      <th>species</th>\n",
       "      <th>sex</th>\n",
       "      <th>index</th>\n",
       "      <th>Frontal Lobe</th>\n",
       "      <th>Rear Width</th>\n",
       "      <th>Carapace Midline</th>\n",
       "      <th>Maximum Width</th>\n",
       "      <th>Body Depth</th>\n",
       "      <th>class</th>\n",
       "      <th>LLE1</th>\n",
       "      <th>LLE2</th>\n",
       "    </tr>\n",
       "  </thead>\n",
       "  <tbody>\n",
       "    <tr>\n",
       "      <th>0</th>\n",
       "      <td>Blue</td>\n",
       "      <td>Male</td>\n",
       "      <td>1</td>\n",
       "      <td>0.056604</td>\n",
       "      <td>0.014599</td>\n",
       "      <td>0.042553</td>\n",
       "      <td>0.050667</td>\n",
       "      <td>0.058065</td>\n",
       "      <td>BlueMale</td>\n",
       "      <td>-0.145449</td>\n",
       "      <td>0.060973</td>\n",
       "    </tr>\n",
       "    <tr>\n",
       "      <th>1</th>\n",
       "      <td>Blue</td>\n",
       "      <td>Male</td>\n",
       "      <td>2</td>\n",
       "      <td>0.100629</td>\n",
       "      <td>0.087591</td>\n",
       "      <td>0.103343</td>\n",
       "      <td>0.098667</td>\n",
       "      <td>0.083871</td>\n",
       "      <td>BlueMale</td>\n",
       "      <td>-0.133111</td>\n",
       "      <td>0.057664</td>\n",
       "    </tr>\n",
       "    <tr>\n",
       "      <th>2</th>\n",
       "      <td>Blue</td>\n",
       "      <td>Male</td>\n",
       "      <td>3</td>\n",
       "      <td>0.125786</td>\n",
       "      <td>0.094891</td>\n",
       "      <td>0.130699</td>\n",
       "      <td>0.141333</td>\n",
       "      <td>0.103226</td>\n",
       "      <td>BlueMale</td>\n",
       "      <td>-0.126506</td>\n",
       "      <td>0.053316</td>\n",
       "    </tr>\n",
       "    <tr>\n",
       "      <th>3</th>\n",
       "      <td>Blue</td>\n",
       "      <td>Male</td>\n",
       "      <td>4</td>\n",
       "      <td>0.150943</td>\n",
       "      <td>0.102190</td>\n",
       "      <td>0.164134</td>\n",
       "      <td>0.160000</td>\n",
       "      <td>0.135484</td>\n",
       "      <td>BlueMale</td>\n",
       "      <td>-0.118650</td>\n",
       "      <td>0.028331</td>\n",
       "    </tr>\n",
       "    <tr>\n",
       "      <th>4</th>\n",
       "      <td>Blue</td>\n",
       "      <td>Male</td>\n",
       "      <td>5</td>\n",
       "      <td>0.163522</td>\n",
       "      <td>0.109489</td>\n",
       "      <td>0.170213</td>\n",
       "      <td>0.157333</td>\n",
       "      <td>0.135484</td>\n",
       "      <td>BlueMale</td>\n",
       "      <td>-0.117088</td>\n",
       "      <td>0.022013</td>\n",
       "    </tr>\n",
       "  </tbody>\n",
       "</table>\n",
       "</div>"
      ],
      "text/plain": [
       "  species   sex  index  Frontal Lobe  Rear Width  Carapace Midline  \\\n",
       "0    Blue  Male      1      0.056604    0.014599          0.042553   \n",
       "1    Blue  Male      2      0.100629    0.087591          0.103343   \n",
       "2    Blue  Male      3      0.125786    0.094891          0.130699   \n",
       "3    Blue  Male      4      0.150943    0.102190          0.164134   \n",
       "4    Blue  Male      5      0.163522    0.109489          0.170213   \n",
       "\n",
       "   Maximum Width  Body Depth     class      LLE1      LLE2  \n",
       "0       0.050667    0.058065  BlueMale -0.145449  0.060973  \n",
       "1       0.098667    0.083871  BlueMale -0.133111  0.057664  \n",
       "2       0.141333    0.103226  BlueMale -0.126506  0.053316  \n",
       "3       0.160000    0.135484  BlueMale -0.118650  0.028331  \n",
       "4       0.157333    0.135484  BlueMale -0.117088  0.022013  "
      ]
     },
     "execution_count": 47,
     "metadata": {},
     "output_type": "execute_result"
    }
   ],
   "source": [
    "crabs_min_max.head()"
   ]
  },
  {
   "cell_type": "markdown",
   "metadata": {},
   "source": [
    "### Do some plotting"
   ]
  },
  {
   "cell_type": "code",
   "execution_count": 51,
   "metadata": {},
   "outputs": [
    {
     "data": {
      "text/plain": [
       "<Axes: xlabel='LLE1', ylabel='LLE2'>"
      ]
     },
     "execution_count": 51,
     "metadata": {},
     "output_type": "execute_result"
    },
    {
     "data": {
      "image/png": "[encoded data removed]",
      "text/plain": [
       "<Figure size 800x800 with 1 Axes>"
      ]
     },
     "metadata": {},
     "output_type": "display_data"
    }
   ],
   "source": [
    "fig = plt.figure(figsize=(8,8))\n",
    "sns.scatterplot(\n",
    "    x=\"LLE1\", y=\"LLE2\", hue=\"class\", data=crabs_min_max\n",
    ")"
   ]
  },
  {
   "cell_type": "markdown",
   "metadata": {},
   "source": [
    "It's easy to see they blue male and blue female share similar features, and on these axes it's relatively easy to segragate them by category. \n",
    "\n",
    "The red and green for exmaple, are alos clustered together, likely because they are coming from the same species. \n",
    "\n",
    "This type of \"best flattening\" according to the data given, is what we are looking for. We just went from 5 dimensions to 2 dimensions while clustering together the data in a meaninful way as it was in the 5-Dimensional space."
   ]
  },
  {
   "cell_type": "markdown",
   "metadata": {},
   "source": [
    "? Did we complete the objective? \n",
    "\n",
    "Separate 200 crabs into four classes. YES."
   ]
  },
  {
   "cell_type": "markdown",
   "metadata": {},
   "source": [
    "### View Reconstruction Error"
   ]
  },
  {
   "cell_type": "markdown",
   "metadata": {},
   "source": [
    "The reconstruction error is this Frobenius norm.\n",
    "\n",
    "$ E(W) = \\sum_i \\left| \\vec{Y}_i - \\sum_j W_{ij} \\vec{Y}_j   \\right|^2 $"
   ]
  },
  {
   "cell_type": "code",
   "execution_count": 64,
   "metadata": {},
   "outputs": [
    {
     "data": {
      "text/plain": [
       "2.153028802414812e-06"
      ]
     },
     "execution_count": 64,
     "metadata": {},
     "output_type": "execute_result"
    }
   ],
   "source": [
    "lle.reconstruction_error_"
   ]
  },
  {
   "cell_type": "markdown",
   "metadata": {},
   "source": [
    "## Re-apply LLE but with 3-Dimensions"
   ]
  },
  {
   "cell_type": "code",
   "execution_count": 104,
   "metadata": {},
   "outputs": [],
   "source": [
    "# Define the LLE Object/machine again, with \n",
    "\n",
    "# 3D components\n",
    "\n",
    "lle = LocallyLinearEmbedding(\n",
    "    n_components=3,\n",
    "    n_neighbors=15\n",
    ")"
   ]
  },
  {
   "cell_type": "markdown",
   "metadata": {},
   "source": [
    "Reuse the crabs data and apply the transformation."
   ]
  },
  {
   "cell_type": "code",
   "execution_count": 105,
   "metadata": {},
   "outputs": [],
   "source": [
    "crabs_lle_3d = lle.fit_transform(\n",
    "    crabs_min_max[data_columns]\n",
    ")\n"
   ]
  },
  {
   "cell_type": "markdown",
   "metadata": {},
   "source": [
    "Add the data to the transformation."
   ]
  },
  {
   "cell_type": "code",
   "execution_count": 106,
   "metadata": {},
   "outputs": [],
   "source": [
    "crabs_min_max[\n",
    "    [\"LLE1_3D\", \"LLE2_3D\", \"LLE3_3D\"]\n",
    "] = crabs_lle_3d"
   ]
  },
  {
   "cell_type": "markdown",
   "metadata": {},
   "source": [
    "Check the reconstruction error."
   ]
  },
  {
   "cell_type": "code",
   "execution_count": 107,
   "metadata": {},
   "outputs": [
    {
     "data": {
      "text/plain": [
       "1.5214133597455878e-05"
      ]
     },
     "execution_count": 107,
     "metadata": {},
     "output_type": "execute_result"
    }
   ],
   "source": [
    "lle.reconstruction_error_"
   ]
  },
  {
   "cell_type": "markdown",
   "metadata": {},
   "source": [
    "### Now Plot the Reconstruction"
   ]
  },
  {
   "cell_type": "code",
   "execution_count": 108,
   "metadata": {},
   "outputs": [
    {
     "data": {
      "image/png": "[encoded data removed]",
      "text/plain": [
       "<Figure size 800x800 with 1 Axes>"
      ]
     },
     "metadata": {},
     "output_type": "display_data"
    }
   ],
   "source": [
    "# Figure and 3D axes w matplotlib\n",
    "fig = plt.figure(figsize=(8,8))\n",
    "ax = fig.add_subplot(111, projection='3d')"
   ]
  },
  {
   "cell_type": "code",
   "execution_count": 119,
   "metadata": {},
   "outputs": [
    {
     "data": {
      "text/plain": [
       "<mpl_toolkits.mplot3d.art3d.Path3DCollection at 0x2860751f0>"
      ]
     },
     "execution_count": 119,
     "metadata": {},
     "output_type": "execute_result"
    },
    {
     "data": {
      "image/png": "[encoded data removed]",
      "text/plain": [
       "<Figure size 800x800 with 1 Axes>"
      ]
     },
     "metadata": {},
     "output_type": "display_data"
    }
   ],
   "source": [
    "# coloring scheme for scatter plot 3D\n",
    "colors_crabs = {\n",
    "    \"BlueFemale\": \"y\",\n",
    "    \"BlueMale\": \"b\",\n",
    "    \"OrangeFemale\": \"r\",\n",
    "    \"OrangeMale\": \"g\"\n",
    "}\n",
    "\n",
    "\n",
    "#\n",
    "x_data = crabs_min_max.LLE1_3D\n",
    "# \n",
    "y_data = crabs_min_max.LLE2_3D\n",
    "# \n",
    "z_data = crabs_min_max.LLE3_3D\n",
    "\n",
    "\n",
    "# Figure and 3D axes w matplotlib\n",
    "fig = plt.figure(figsize=(8,8))\n",
    "ax = fig.add_subplot(111, projection='3d')\n",
    "\n",
    "\n",
    "plt.scatter(\n",
    "    crabs_min_max.LLE1_3D, \n",
    "    crabs_min_max.LLE2_3D, \n",
    "    zs=crabs_min_max.LLE3_3D,\n",
    "    depthshade=False, # Visualize all data without any opacity changes.\n",
    "    c=crabs_data[\"class\"].apply(lambda x: colors_crabs[x]), #colors mapping. Given a class, apply this mapping defined above that maps to a color key of the scatter method.\n",
    "    s=50\n",
    ")\n",
    "\n"
   ]
  },
  {
   "cell_type": "markdown",
   "metadata": {},
   "source": [
    "### Visualize with PLOTLY Express"
   ]
  },
  {
   "cell_type": "code",
   "execution_count": 125,
   "metadata": {},
   "outputs": [
    {
     "data": {
      "application/vnd.plotly.v1+json": {
       "config": {
        "plotlyServerURL": "https://plot.ly"
       },
       "data": [
        {
         "hovertemplate": "class=BlueMale<br>LLE1_3D=%{x}<br>LLE2_3D=%{y}<br>LLE3_3D=%{z}<extra></extra>",
         "legendgroup": "BlueMale",
         "marker": {
          "color": "#636efa",
          "symbol": "circle"
         },
         "mode": "markers",
         "name": "BlueMale",
         "scene": "scene",
         "showlegend": true,
         "type": "scatter3d",
         "x": [
          -0.14544877280665208,
          -0.13311112867220037,
          -0.12650579325674774,
          -0.11864979858697819,
          -0.11708754281916794,
          -0.08925447424292536,
          -0.0856352535147408,
          -0.07513223981319808,
          -0.08073833257965429,
          -0.0727187853713726,
          -0.058804065156643145,
          -0.05734370081617564,
          -0.0516555105487268,
          -0.05434982538568281,
          -0.0540707028500255,
          -0.05364447060167537,
          -0.048697032940672104,
          -0.047543864115745293,
          -0.0474214150568733,
          -0.03289774777955803,
          -0.016922010827869073,
          -0.003041494096609948,
          -0.0039106115132271635,
          -0.0010850945120622138,
          -0.0009999752523750308,
          -0.0026471804591656975,
          0.004204678069461329,
          0.02682847524217926,
          0.013203448523906171,
          0.01976298728831449,
          0.02949887618542857,
          0.034488394546654866,
          0.031103118616104368,
          0.033804112029598855,
          0.04807690395157267,
          0.03738981208702879,
          0.047668326027358966,
          0.04155140630506111,
          0.044812474770228636,
          0.05442163217315104,
          0.06344595880926118,
          0.06947898177056375,
          0.06771200460146666,
          0.09168059628370522,
          0.10172832316407929,
          0.09148407010741633,
          0.0989140716066699,
          0.11738571526770382,
          0.11021228656018359,
          0.15386186319474066
         ],
         "y": [
          0.06097307972517732,
          0.05766396481578323,
          0.05331603009223484,
          0.02833123549672201,
          0.022012734361485882,
          0.023433394910973133,
          0.02744532196074478,
          0.01712520882914903,
          0.01920623838949355,
          0.037763584279321215,
          0.07641432417393088,
          0.019002393592421684,
          0.03967625597436419,
          0.0710162435264581,
          0.06350366556697618,
          0.0027836802340825435,
          0.09364531997839928,
          0.08099696014575897,
          0.05828168372777318,
          0.04334029474151405,
          0.09023090460288845,
          0.0763730326188958,
          0.06856277043308304,
          0.08854099028728458,
          0.08069232625418142,
          0.048096437666082514,
          0.07898421429877464,
          0.13792279784563882,
          0.07035147263507714,
          0.07043258048215612,
          0.05958760402586009,
          0.10757638155993773,
          0.10312919254601943,
          0.10549618974362708,
          0.18952715363464717,
          0.11038533714338868,
          0.11647759032430365,
          0.09820084800554772,
          0.08009054787515962,
          0.11431873091302615,
          0.13155592512458988,
          0.1050080346757939,
          0.11693563878543804,
          0.16658804786112488,
          0.11440203389028153,
          0.1195476365084223,
          0.11290367691642594,
          0.14033129736749908,
          0.12010932375361726,
          0.1850769870414951
         ],
         "z": [
          0.09291979876665038,
          0.05949309876318376,
          0.05348367871787632,
          0.05957763747083767,
          0.060004574801466044,
          0.046260850506452865,
          0.00829543648325896,
          0.05599576217729982,
          0.028333943486472175,
          -0.009383488169468879,
          -0.014924423265296638,
          -0.014345253476939164,
          0.03957357418379906,
          0.01929153380878995,
          -0.009661782057406504,
          -0.002590653768251211,
          0.006096865991149943,
          -0.0042331290265522625,
          -0.010959706387804111,
          0.019999193354443733,
          0.015192999109468336,
          0.07280032113067417,
          0.07656571004649598,
          0.0488119061775362,
          0.028758317599097652,
          0.015640053313729828,
          0.038606713826756414,
          0.019033047795246043,
          0.0007726344701454689,
          0.08209196675087015,
          0.029611978085132606,
          -0.0005425686338160346,
          0.026724978956766683,
          0.011885760269131093,
          -0.008983387530552216,
          0.02611561423613402,
          0.02336649352882519,
          0.0461017600566796,
          0.05335722510322763,
          0.01969219566735863,
          0.023207689747551215,
          0.02453358054305676,
          0.02997259931460959,
          -0.051203275419366874,
          0.09311015878686657,
          0.055728482787157474,
          -0.0027536252967366353,
          0.07753725794485926,
          0.06431605328543569,
          0.056544490506637436
         ]
        },
        {
         "hovertemplate": "class=BlueFemale<br>LLE1_3D=%{x}<br>LLE2_3D=%{y}<br>LLE3_3D=%{z}<extra></extra>",
         "legendgroup": "BlueFemale",
         "marker": {
          "color": "#EF553B",
          "symbol": "circle"
         },
         "mode": "markers",
         "name": "BlueFemale",
         "scene": "scene",
         "showlegend": true,
         "type": "scatter3d",
         "x": [
          -0.15949806389249516,
          -0.12561438229959648,
          -0.1277707379779096,
          -0.1261056607843642,
          -0.12257095937299944,
          -0.11068240994612688,
          -0.11019981606458748,
          -0.10457221440815508,
          -0.10677133215627398,
          -0.09591793133839199,
          -0.10238674588996154,
          -0.09052798682425947,
          -0.07742970032281787,
          -0.07598456169133726,
          -0.08172701236502594,
          -0.07451548724428965,
          -0.06628113496560382,
          -0.0725986865588133,
          -0.0673592490438493,
          -0.059072866888448566,
          -0.05154509281186247,
          -0.05707884225665108,
          -0.05090999012590908,
          -0.051727426217180676,
          -0.05065065844766569,
          -0.04855192963236531,
          -0.04362047027985561,
          -0.04147427631053749,
          -0.028559644308647082,
          -0.026028428670924034,
          -0.030628997612014167,
          -0.012209940966154128,
          -0.010646090975619662,
          -0.012877727613237413,
          -0.010396876526781859,
          -0.01891983196432351,
          -0.000035760366002633714,
          -0.008172276453831204,
          -0.004191367079194347,
          0.004418109676394766,
          -0.007058567363457969,
          0.0007321418029937951,
          0.0017942118164390956,
          0.009783362100878212,
          0.0037210034221301534,
          0.01809688412386206,
          0.022370554256944526,
          0.04088048112062525,
          0.04702811076402537,
          0.08418523173962629
         ],
         "y": [
          0.10362553066168809,
          0.07666930107101787,
          0.051304170452029126,
          0.06110390844985215,
          0.044685211828991225,
          0.024586491976983406,
          0.04067361563058439,
          0.020353338789567688,
          0.054770623179589695,
          0.03584181269224228,
          0.04439580227997122,
          0.017292265475075785,
          0.042148098138603665,
          0.006962271588986315,
          -0.008103767539822018,
          0.011896414615967674,
          0.023991076979435907,
          -0.007574588934631608,
          -0.018305939323497118,
          0.02339680906413699,
          -0.029524017693283076,
          0.03339702636631996,
          0.04370915222994072,
          0.03954542505055254,
          0.07839719428550083,
          0.039580156249544675,
          0.040294234983803585,
          0.026878496012044176,
          0.02576665008540835,
          0.004212809585932096,
          0.01524627086320926,
          0.00799189241246839,
          0.03453891655878104,
          0.013173593325068242,
          0.019678543726206477,
          0.023192964222355828,
          0.05108929834676393,
          0.04387221802137707,
          0.03276950618632131,
          0.03990719893853168,
          0.03888756449296258,
          0.06189766691047606,
          0.044739444694238725,
          0.05167003805423776,
          0.06331401400659348,
          0.01678379912590689,
          0.07004179507070768,
          0.07684287971414021,
          0.08015885587086276,
          0.09042152292186435
         ],
         "z": [
          0.08731113752992406,
          0.022591301198347735,
          0.048001376026499405,
          0.03926340096052168,
          0.04548043531495838,
          0.030640395904045194,
          0.0083809227389644,
          0.010553227616621905,
          -0.012806765462890415,
          0.01240344131434587,
          -0.0107053370318758,
          -0.0008946452241082523,
          -0.04040841022790978,
          -0.029765018824582747,
          -0.050472470738572195,
          -0.009459510156067587,
          -0.04180237654352552,
          -0.008996868023112545,
          -0.01919083698654702,
          -0.07538749865403768,
          -0.02890536872863785,
          -0.06910604219060683,
          -0.059837524971990484,
          -0.02816388921443463,
          -0.04097820319572921,
          -0.0603727803190877,
          -0.03748095319942805,
          -0.08502555279720322,
          -0.06907464088627338,
          -0.06166418002522074,
          -0.1361551358828813,
          -0.09056571737577135,
          -0.12421610417508172,
          -0.07494518205606397,
          -0.07749919616364885,
          -0.13345694013679515,
          -0.10544023707636416,
          -0.12453464805158,
          -0.060477602822177914,
          -0.06356219170922989,
          -0.11624970785413459,
          -0.13659138555072753,
          -0.08922900334582233,
          -0.11943867021460305,
          -0.17008028378536738,
          -0.04871210173818474,
          -0.168937206987088,
          -0.16989097616757282,
          -0.14580721118294268,
          -0.07466610333717746
         ]
        },
        {
         "hovertemplate": "class=OrangeMale<br>LLE1_3D=%{x}<br>LLE2_3D=%{y}<br>LLE3_3D=%{z}<extra></extra>",
         "legendgroup": "OrangeMale",
         "marker": {
          "color": "#00cc96",
          "symbol": "circle"
         },
         "mode": "markers",
         "name": "OrangeMale",
         "scene": "scene",
         "showlegend": true,
         "type": "scatter3d",
         "x": [
          -0.13651743583345355,
          -0.1096810375598432,
          -0.10425277209803623,
          -0.08712634364565804,
          -0.07405284607890186,
          -0.06754954141979275,
          -0.05513114306343635,
          -0.04704953978042126,
          -0.047773141357621715,
          -0.04225493870337322,
          -0.02850188375138638,
          -0.023714929102621966,
          -0.025865466086242225,
          -0.026469188458767154,
          -0.028205424443276426,
          -0.034198993281820626,
          -0.024499939748359387,
          -0.021928228013759286,
          -0.023891199329210598,
          -0.011128776944237315,
          -0.008552475035832074,
          -0.010730540343235067,
          -0.0036806540827887483,
          0.008644793392336965,
          0.004213749148814672,
          0.03288712266574108,
          0.04218270521908911,
          0.029859080699967448,
          0.03373921022927303,
          0.046888942040443894,
          0.051339424798868966,
          0.052692728823964,
          0.06540820571012562,
          0.06461234292893986,
          0.06346800292758097,
          0.05401014296646092,
          0.06074639615786154,
          0.07474783839260295,
          0.07653984218829253,
          0.08131572731348093,
          0.09428547609380289,
          0.114642735164183,
          0.1158700018291486,
          0.1402330601951102,
          0.14056596285456352,
          0.12888690266155156,
          0.14618356192787554,
          0.13697606670503437,
          0.15892876858263968,
          0.16901535340683138
         ],
         "y": [
          0.004900548839145799,
          -0.034341464024771964,
          -0.054584916514721006,
          -0.05836927424305316,
          -0.11586608553099371,
          -0.09947123359419086,
          -0.10934051796153323,
          -0.07425381961382077,
          -0.08406014429544188,
          -0.07010446001163093,
          -0.03999711838296449,
          -0.07413512313348986,
          -0.049235724655757776,
          -0.07577362859937557,
          -0.06107013168175162,
          -0.10355116187570373,
          -0.07167298568017835,
          -0.01069558668540003,
          -0.087404644063596,
          -0.08890962171074503,
          -0.05162252036427177,
          -0.07209810192410199,
          -0.08447424073859328,
          -0.08048505137038992,
          -0.11994098555025727,
          -0.02812323710835175,
          -0.028652585126871265,
          -0.07775300733150786,
          -0.08357472666768286,
          -0.05974839043325342,
          -0.014337711328954015,
          -0.04095520668426519,
          0.016409217223232228,
          -0.03833066037518296,
          -0.03904569486119491,
          -0.086145270953795,
          -0.08606352506050644,
          -0.015834609587909144,
          -0.04232975772438363,
          -0.009611159126570805,
          -0.01480573503924428,
          -0.01882466059964272,
          -0.013575963563815529,
          0.009419651613641167,
          0.01696804308660924,
          -0.024511932714924453,
          0.018853467317781442,
          -0.01819960787404087,
          -0.0019274362436097411,
          0.024455085074608272
         ],
         "z": [
          0.11125269325543348,
          0.08167546774431685,
          0.07386701710337727,
          0.07355476801176086,
          0.08233088881408668,
          0.08386019443851492,
          0.0500494600959362,
          0.02242183431651705,
          0.06822721738267158,
          0.029787703750998297,
          0.0387192048604624,
          0.11436638525603086,
          0.10055518005678589,
          0.0861017575397887,
          0.08074651815997966,
          0.06049877096650487,
          0.06130830998022911,
          0.035224361366295774,
          0.057169671651660155,
          0.07625562847352028,
          0.0677616719975398,
          0.07550091658393994,
          0.036549121665499465,
          0.08445451184967977,
          0.08953889873655799,
          0.06678607910050448,
          0.07451736689081347,
          0.10424904362260781,
          0.075445387394017,
          0.10545747397302649,
          0.08052350450598,
          0.06602553746305345,
          0.062357076731661756,
          0.08927502350734537,
          0.08257488137112372,
          0.07215178203958098,
          0.08945571417481882,
          0.08042209734493573,
          0.06927957252164077,
          0.05462453247414145,
          0.1063200149252929,
          0.11784618789822207,
          0.08529012653449333,
          0.1037263786421602,
          0.10498742127280418,
          0.11794291423380786,
          0.09594356076082597,
          0.08300184752623306,
          0.07346700881905718,
          0.12912852230948343
         ]
        },
        {
         "hovertemplate": "class=OrangeFemale<br>LLE1_3D=%{x}<br>LLE2_3D=%{y}<br>LLE3_3D=%{z}<extra></extra>",
         "legendgroup": "OrangeFemale",
         "marker": {
          "color": "#ab63fa",
          "symbol": "circle"
         },
         "mode": "markers",
         "name": "OrangeFemale",
         "scene": "scene",
         "showlegend": true,
         "type": "scatter3d",
         "x": [
          -0.09701612628099296,
          -0.09321967639928755,
          -0.07034482884280666,
          -0.06307576728977568,
          -0.05555112979313383,
          -0.04243367742195557,
          -0.03634079542570078,
          -0.03755822072912124,
          -0.02952250677780467,
          -0.023229692989599572,
          -0.015596688235359372,
          -0.010019529867265177,
          -0.013213702882950994,
          -0.01673516020826703,
          -0.012647178206423967,
          -0.004335624918501478,
          -0.0058266723607373885,
          -0.008466021569419094,
          0.0048325636026218255,
          0.008361526874302519,
          0.026818841483221823,
          0.026922211302074554,
          0.011977876755807535,
          0.02503242010733717,
          0.028804806601208356,
          0.04737116563754158,
          0.03233983467388904,
          0.03369331857588141,
          0.0417883594079494,
          0.05228731239938249,
          0.0314162275451091,
          0.04285034330544321,
          0.034502455752708036,
          0.0534510452216989,
          0.0546004617314211,
          0.07057839572685354,
          0.07055809823438568,
          0.07319194612639134,
          0.07710466984063866,
          0.07365093243449278,
          0.07763972844767159,
          0.08223146504710944,
          0.09047898382885224,
          0.08070056812866246,
          0.10920378413244322,
          0.09010059184580776,
          0.10547572250188574,
          0.10990811439762163,
          0.12045555979343059,
          0.13713531352253117
         ],
         "y": [
          -0.04872672246202623,
          -0.07186280368547622,
          -0.09157942835227242,
          -0.09764159579309269,
          -0.09659167356646417,
          -0.13271682423968653,
          -0.045600690840087374,
          -0.08862592552481083,
          -0.05903070645864898,
          -0.06531212974487721,
          -0.09417403899569687,
          -0.07403023392183274,
          -0.0600771360899097,
          -0.09238876000387283,
          -0.08233852383751986,
          -0.06613359644559257,
          -0.06624261782299769,
          -0.07898326535934734,
          -0.08804483184584574,
          -0.08702785124300863,
          -0.05209128078495778,
          -0.07679780505294655,
          -0.09642183248380501,
          -0.08427493745508559,
          -0.08249835388374638,
          0.005838764886778271,
          -0.08365827096156926,
          -0.08507689799310059,
          -0.046958748420264707,
          -0.02983506463538935,
          -0.09478368108362847,
          -0.10464040558549934,
          -0.056197359929705745,
          -0.05781849781372736,
          -0.06047674737956613,
          -0.0665141813535057,
          -0.06558540708363488,
          -0.0024610440169392754,
          -0.02377234922301591,
          -0.08623178779404975,
          -0.07678382468371958,
          -0.08080036459132914,
          -0.05421265939099556,
          -0.07627073283655593,
          -0.03706438289799449,
          -0.08773483338827576,
          -0.08039559524137989,
          -0.07461997169605031,
          -0.06970371848067825,
          -0.03378014122033197
         ],
         "z": [
          0.031253793269620425,
          0.06205425822833399,
          0.050801670949935956,
          -0.012775030604397452,
          0.008471819998484315,
          -0.03226060218564537,
          -0.05831170452494197,
          -0.03912026019147363,
          -0.08284571691375207,
          -0.05402034973490005,
          0.020576357650092865,
          -0.052266512335067294,
          -0.1013413426118781,
          -0.10451909002958037,
          -0.06825280557050425,
          -0.05671457021518651,
          -0.06666301068449754,
          -0.09474284717092309,
          -0.06871357261979454,
          -0.08086021777506179,
          -0.03508996872294445,
          -0.026654792584857902,
          -0.08627657281628417,
          -0.016785349335526806,
          -0.05766620721992073,
          -0.10273165770694598,
          -0.08810509928866556,
          -0.07984250282901405,
          -0.07997809153738972,
          -0.007479826350931163,
          -0.04769958775647586,
          -0.03642583745540095,
          -0.16031764248882496,
          -0.07045165094863359,
          -0.07775261637321838,
          -0.05808915956682636,
          -0.058891306658579244,
          -0.13490645159793918,
          -0.06659809205709415,
          -0.07057380028585411,
          -0.015697268345191025,
          -0.07082887936866822,
          -0.06174401946854388,
          -0.04274966957808442,
          -0.07003049469558081,
          -0.08516728722953221,
          -0.01645198763732577,
          -0.01467444341479142,
          -0.0026747375307506517,
          -0.10348828012165041
         ]
        }
       ],
       "layout": {
        "legend": {
         "title": {
          "text": "class"
         },
         "tracegroupgap": 0
        },
        "margin": {
         "t": 60
        },
        "scene": {
         "domain": {
          "x": [
           0,
           1
          ],
          "y": [
           0,
           1
          ]
         },
         "xaxis": {
          "title": {
           "text": "LLE1_3D"
          }
         },
         "yaxis": {
          "title": {
           "text": "LLE2_3D"
          }
         },
         "zaxis": {
          "title": {
           "text": "LLE3_3D"
          }
         }
        },
        "template": {
         "data": {
          "bar": [
           {
            "error_x": {
             "color": "#2a3f5f"
            },
            "error_y": {
             "color": "#2a3f5f"
            },
            "marker": {
             "line": {
              "color": "#E5ECF6",
              "width": 0.5
             },
             "pattern": {
              "fillmode": "overlay",
              "size": 10,
              "solidity": 0.2
             }
            },
            "type": "bar"
           }
          ],
          "barpolar": [
           {
            "marker": {
             "line": {
              "color": "#E5ECF6",
              "width": 0.5
             },
             "pattern": {
              "fillmode": "overlay",
              "size": 10,
              "solidity": 0.2
             }
            },
            "type": "barpolar"
           }
          ],
          "carpet": [
           {
            "aaxis": {
             "endlinecolor": "#2a3f5f",
             "gridcolor": "white",
             "linecolor": "white",
             "minorgridcolor": "white",
             "startlinecolor": "#2a3f5f"
            },
            "baxis": {
             "endlinecolor": "#2a3f5f",
             "gridcolor": "white",
             "linecolor": "white",
             "minorgridcolor": "white",
             "startlinecolor": "#2a3f5f"
            },
            "type": "carpet"
           }
          ],
          "choropleth": [
           {
            "colorbar": {
             "outlinewidth": 0,
             "ticks": ""
            },
            "type": "choropleth"
           }
          ],
          "contour": [
           {
            "colorbar": {
             "outlinewidth": 0,
             "ticks": ""
            },
            "colorscale": [
             [
              0,
              "#0d0887"
             ],
             [
              0.1111111111111111,
              "#46039f"
             ],
             [
              0.2222222222222222,
              "#7201a8"
             ],
             [
              0.3333333333333333,
              "#9c179e"
             ],
             [
              0.4444444444444444,
              "#bd3786"
             ],
             [
              0.5555555555555556,
              "#d8576b"
             ],
             [
              0.6666666666666666,
              "#ed7953"
             ],
             [
              0.7777777777777778,
              "#fb9f3a"
             ],
             [
              0.8888888888888888,
              "#fdca26"
             ],
             [
              1,
              "#f0f921"
             ]
            ],
            "type": "contour"
           }
          ],
          "contourcarpet": [
           {
            "colorbar": {
             "outlinewidth": 0,
             "ticks": ""
            },
            "type": "contourcarpet"
           }
          ],
          "heatmap": [
           {
            "colorbar": {
             "outlinewidth": 0,
             "ticks": ""
            },
            "colorscale": [
             [
              0,
              "#0d0887"
             ],
             [
              0.1111111111111111,
              "#46039f"
             ],
             [
              0.2222222222222222,
              "#7201a8"
             ],
             [
              0.3333333333333333,
              "#9c179e"
             ],
             [
              0.4444444444444444,
              "#bd3786"
             ],
             [
              0.5555555555555556,
              "#d8576b"
             ],
             [
              0.6666666666666666,
              "#ed7953"
             ],
             [
              0.7777777777777778,
              "#fb9f3a"
             ],
             [
              0.8888888888888888,
              "#fdca26"
             ],
             [
              1,
              "#f0f921"
             ]
            ],
            "type": "heatmap"
           }
          ],
          "heatmapgl": [
           {
            "colorbar": {
             "outlinewidth": 0,
             "ticks": ""
            },
            "colorscale": [
             [
              0,
              "#0d0887"
             ],
             [
              0.1111111111111111,
              "#46039f"
             ],
             [
              0.2222222222222222,
              "#7201a8"
             ],
             [
              0.3333333333333333,
              "#9c179e"
             ],
             [
              0.4444444444444444,
              "#bd3786"
             ],
             [
              0.5555555555555556,
              "#d8576b"
             ],
             [
              0.6666666666666666,
              "#ed7953"
             ],
             [
              0.7777777777777778,
              "#fb9f3a"
             ],
             [
              0.8888888888888888,
              "#fdca26"
             ],
             [
              1,
              "#f0f921"
             ]
            ],
            "type": "heatmapgl"
           }
          ],
          "histogram": [
           {
            "marker": {
             "pattern": {
              "fillmode": "overlay",
              "size": 10,
              "solidity": 0.2
             }
            },
            "type": "histogram"
           }
          ],
          "histogram2d": [
           {
            "colorbar": {
             "outlinewidth": 0,
             "ticks": ""
            },
            "colorscale": [
             [
              0,
              "#0d0887"
             ],
             [
              0.1111111111111111,
              "#46039f"
             ],
             [
              0.2222222222222222,
              "#7201a8"
             ],
             [
              0.3333333333333333,
              "#9c179e"
             ],
             [
              0.4444444444444444,
              "#bd3786"
             ],
             [
              0.5555555555555556,
              "#d8576b"
             ],
             [
              0.6666666666666666,
              "#ed7953"
             ],
             [
              0.7777777777777778,
              "#fb9f3a"
             ],
             [
              0.8888888888888888,
              "#fdca26"
             ],
             [
              1,
              "#f0f921"
             ]
            ],
            "type": "histogram2d"
           }
          ],
          "histogram2dcontour": [
           {
            "colorbar": {
             "outlinewidth": 0,
             "ticks": ""
            },
            "colorscale": [
             [
              0,
              "#0d0887"
             ],
             [
              0.1111111111111111,
              "#46039f"
             ],
             [
              0.2222222222222222,
              "#7201a8"
             ],
             [
              0.3333333333333333,
              "#9c179e"
             ],
             [
              0.4444444444444444,
              "#bd3786"
             ],
             [
              0.5555555555555556,
              "#d8576b"
             ],
             [
              0.6666666666666666,
              "#ed7953"
             ],
             [
              0.7777777777777778,
              "#fb9f3a"
             ],
             [
              0.8888888888888888,
              "#fdca26"
             ],
             [
              1,
              "#f0f921"
             ]
            ],
            "type": "histogram2dcontour"
           }
          ],
          "mesh3d": [
           {
            "colorbar": {
             "outlinewidth": 0,
             "ticks": ""
            },
            "type": "mesh3d"
           }
          ],
          "parcoords": [
           {
            "line": {
             "colorbar": {
              "outlinewidth": 0,
              "ticks": ""
             }
            },
            "type": "parcoords"
           }
          ],
          "pie": [
           {
            "automargin": true,
            "type": "pie"
           }
          ],
          "scatter": [
           {
            "fillpattern": {
             "fillmode": "overlay",
             "size": 10,
             "solidity": 0.2
            },
            "type": "scatter"
           }
          ],
          "scatter3d": [
           {
            "line": {
             "colorbar": {
              "outlinewidth": 0,
              "ticks": ""
             }
            },
            "marker": {
             "colorbar": {
              "outlinewidth": 0,
              "ticks": ""
             }
            },
            "type": "scatter3d"
           }
          ],
          "scattercarpet": [
           {
            "marker": {
             "colorbar": {
              "outlinewidth": 0,
              "ticks": ""
             }
            },
            "type": "scattercarpet"
           }
          ],
          "scattergeo": [
           {
            "marker": {
             "colorbar": {
              "outlinewidth": 0,
              "ticks": ""
             }
            },
            "type": "scattergeo"
           }
          ],
          "scattergl": [
           {
            "marker": {
             "colorbar": {
              "outlinewidth": 0,
              "ticks": ""
             }
            },
            "type": "scattergl"
           }
          ],
          "scattermapbox": [
           {
            "marker": {
             "colorbar": {
              "outlinewidth": 0,
              "ticks": ""
             }
            },
            "type": "scattermapbox"
           }
          ],
          "scatterpolar": [
           {
            "marker": {
             "colorbar": {
              "outlinewidth": 0,
              "ticks": ""
             }
            },
            "type": "scatterpolar"
           }
          ],
          "scatterpolargl": [
           {
            "marker": {
             "colorbar": {
              "outlinewidth": 0,
              "ticks": ""
             }
            },
            "type": "scatterpolargl"
           }
          ],
          "scatterternary": [
           {
            "marker": {
             "colorbar": {
              "outlinewidth": 0,
              "ticks": ""
             }
            },
            "type": "scatterternary"
           }
          ],
          "surface": [
           {
            "colorbar": {
             "outlinewidth": 0,
             "ticks": ""
            },
            "colorscale": [
             [
              0,
              "#0d0887"
             ],
             [
              0.1111111111111111,
              "#46039f"
             ],
             [
              0.2222222222222222,
              "#7201a8"
             ],
             [
              0.3333333333333333,
              "#9c179e"
             ],
             [
              0.4444444444444444,
              "#bd3786"
             ],
             [
              0.5555555555555556,
              "#d8576b"
             ],
             [
              0.6666666666666666,
              "#ed7953"
             ],
             [
              0.7777777777777778,
              "#fb9f3a"
             ],
             [
              0.8888888888888888,
              "#fdca26"
             ],
             [
              1,
              "#f0f921"
             ]
            ],
            "type": "surface"
           }
          ],
          "table": [
           {
            "cells": {
             "fill": {
              "color": "#EBF0F8"
             },
             "line": {
              "color": "white"
             }
            },
            "header": {
             "fill": {
              "color": "#C8D4E3"
             },
             "line": {
              "color": "white"
             }
            },
            "type": "table"
           }
          ]
         },
         "layout": {
          "annotationdefaults": {
           "arrowcolor": "#2a3f5f",
           "arrowhead": 0,
           "arrowwidth": 1
          },
          "autotypenumbers": "strict",
          "coloraxis": {
           "colorbar": {
            "outlinewidth": 0,
            "ticks": ""
           }
          },
          "colorscale": {
           "diverging": [
            [
             0,
             "#8e0152"
            ],
            [
             0.1,
             "#c51b7d"
            ],
            [
             0.2,
             "#de77ae"
            ],
            [
             0.3,
             "#f1b6da"
            ],
            [
             0.4,
             "#fde0ef"
            ],
            [
             0.5,
             "#f7f7f7"
            ],
            [
             0.6,
             "#e6f5d0"
            ],
            [
             0.7,
             "#b8e186"
            ],
            [
             0.8,
             "#7fbc41"
            ],
            [
             0.9,
             "#4d9221"
            ],
            [
             1,
             "#276419"
            ]
           ],
           "sequential": [
            [
             0,
             "#0d0887"
            ],
            [
             0.1111111111111111,
             "#46039f"
            ],
            [
             0.2222222222222222,
             "#7201a8"
            ],
            [
             0.3333333333333333,
             "#9c179e"
            ],
            [
             0.4444444444444444,
             "#bd3786"
            ],
            [
             0.5555555555555556,
             "#d8576b"
            ],
            [
             0.6666666666666666,
             "#ed7953"
            ],
            [
             0.7777777777777778,
             "#fb9f3a"
            ],
            [
             0.8888888888888888,
             "#fdca26"
            ],
            [
             1,
             "#f0f921"
            ]
           ],
           "sequentialminus": [
            [
             0,
             "#0d0887"
            ],
            [
             0.1111111111111111,
             "#46039f"
            ],
            [
             0.2222222222222222,
             "#7201a8"
            ],
            [
             0.3333333333333333,
             "#9c179e"
            ],
            [
             0.4444444444444444,
             "#bd3786"
            ],
            [
             0.5555555555555556,
             "#d8576b"
            ],
            [
             0.6666666666666666,
             "#ed7953"
            ],
            [
             0.7777777777777778,
             "#fb9f3a"
            ],
            [
             0.8888888888888888,
             "#fdca26"
            ],
            [
             1,
             "#f0f921"
            ]
           ]
          },
          "colorway": [
           "#636efa",
           "#EF553B",
           "#00cc96",
           "#ab63fa",
           "#FFA15A",
           "#19d3f3",
           "#FF6692",
           "#B6E880",
           "#FF97FF",
           "#FECB52"
          ],
          "font": {
           "color": "#2a3f5f"
          },
          "geo": {
           "bgcolor": "white",
           "lakecolor": "white",
           "landcolor": "#E5ECF6",
           "showlakes": true,
           "showland": true,
           "subunitcolor": "white"
          },
          "hoverlabel": {
           "align": "left"
          },
          "hovermode": "closest",
          "mapbox": {
           "style": "light"
          },
          "paper_bgcolor": "white",
          "plot_bgcolor": "#E5ECF6",
          "polar": {
           "angularaxis": {
            "gridcolor": "white",
            "linecolor": "white",
            "ticks": ""
           },
           "bgcolor": "#E5ECF6",
           "radialaxis": {
            "gridcolor": "white",
            "linecolor": "white",
            "ticks": ""
           }
          },
          "scene": {
           "xaxis": {
            "backgroundcolor": "#E5ECF6",
            "gridcolor": "white",
            "gridwidth": 2,
            "linecolor": "white",
            "showbackground": true,
            "ticks": "",
            "zerolinecolor": "white"
           },
           "yaxis": {
            "backgroundcolor": "#E5ECF6",
            "gridcolor": "white",
            "gridwidth": 2,
            "linecolor": "white",
            "showbackground": true,
            "ticks": "",
            "zerolinecolor": "white"
           },
           "zaxis": {
            "backgroundcolor": "#E5ECF6",
            "gridcolor": "white",
            "gridwidth": 2,
            "linecolor": "white",
            "showbackground": true,
            "ticks": "",
            "zerolinecolor": "white"
           }
          },
          "shapedefaults": {
           "line": {
            "color": "#2a3f5f"
           }
          },
          "ternary": {
           "aaxis": {
            "gridcolor": "white",
            "linecolor": "white",
            "ticks": ""
           },
           "baxis": {
            "gridcolor": "white",
            "linecolor": "white",
            "ticks": ""
           },
           "bgcolor": "#E5ECF6",
           "caxis": {
            "gridcolor": "white",
            "linecolor": "white",
            "ticks": ""
           }
          },
          "title": {
           "x": 0.05
          },
          "xaxis": {
           "automargin": true,
           "gridcolor": "white",
           "linecolor": "white",
           "ticks": "",
           "title": {
            "standoff": 15
           },
           "zerolinecolor": "white",
           "zerolinewidth": 2
          },
          "yaxis": {
           "automargin": true,
           "gridcolor": "white",
           "linecolor": "white",
           "ticks": "",
           "title": {
            "standoff": 15
           },
           "zerolinecolor": "white",
           "zerolinewidth": 2
          }
         }
        }
       }
      }
     },
     "metadata": {},
     "output_type": "display_data"
    }
   ],
   "source": [
    "fig = px.scatter_3d(\n",
    "    crabs_min_max,\n",
    "    x=\"LLE1_3D\", \n",
    "    y=\"LLE2_3D\",\n",
    "    z=\"LLE3_3D\",\n",
    "    color=\"class\"\n",
    ")\n",
    "\n",
    "fig.show()"
   ]
  },
  {
   "cell_type": "code",
   "execution_count": null,
   "metadata": {},
   "outputs": [],
   "source": []
  }
 ],
 "metadata": {
  "kernelspec": {
   "display_name": "machineLearning",
   "language": "python",
   "name": "python3"
  },
  "language_info": {
   "codemirror_mode": {
    "name": "ipython",
    "version": 3
   },
   "file_extension": ".py",
   "mimetype": "text/x-python",
   "name": "python",
   "nbconvert_exporter": "python",
   "pygments_lexer": "ipython3",
   "version": "3.12.0"
  }
 },
 "nbformat": 4,
 "nbformat_minor": 2
}
