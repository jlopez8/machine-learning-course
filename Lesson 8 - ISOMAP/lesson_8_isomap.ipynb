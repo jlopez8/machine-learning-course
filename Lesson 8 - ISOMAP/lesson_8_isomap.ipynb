{
 "cells": [
  {
   "cell_type": "markdown",
   "id": "338373bd",
   "metadata": {},
   "source": [
    "# Isomap"
   ]
  },
  {
   "cell_type": "markdown",
   "id": "ee0cda4b",
   "metadata": {},
   "source": [
    "Visualization technique.  \n",
    "\n",
    "We need knn's to construct a neighborhood graph, where each point is connected to each of its k-neighbors.  \n",
    "\n",
    "The graphs edge length (weight) is the Euclidean distance between each point. It is the geodesic distance, ie, the shortest distance between two points on a surface. On a plance, this is the Euclidean distance.\n",
    "\n",
    "We want to comput the shortest path between two nodes using:  \n",
    "- Dijkstra's algorithm  \n",
    "- Floyd-Warshall algorithm  \n",
    "\n",
    "Then we compute the lower-dimensional embedding using MDS (multidimensional scaling) by default."
   ]
  },
  {
   "cell_type": "markdown",
   "id": "5d711cf1",
   "metadata": {},
   "source": [
    "## Imports"
   ]
  },
  {
   "cell_type": "code",
   "execution_count": 2,
   "id": "7e1aa158",
   "metadata": {},
   "outputs": [],
   "source": [
    "import matplotlib.pyplot as plt\n",
    "import seaborn as sns\n",
    "\n",
    "import pandas as pd\n",
    "\n",
    "from sklearn.manifold import Isomap\n",
    "from sklearn.preprocessing import MinMaxScaler"
   ]
  },
  {
   "cell_type": "markdown",
   "id": "933536f8",
   "metadata": {},
   "source": [
    "## Get Data"
   ]
  },
  {
   "cell_type": "code",
   "execution_count": 3,
   "id": "f59337ff",
   "metadata": {},
   "outputs": [],
   "source": [
    "def get_data():\n",
    "    df = pd.read_csv(\"crabs.csv\")\n",
    "\n",
    "    # re-format data\n",
    "    df.rename(columns={\n",
    "        \"sp\": \"species\", \"FL\": \"Frontal Lobe\", \"RW\": \"Rear Width\", \"CL\": \"Carapace Midline\", \"CW\": \"Maximum Width\", \"BD\": \"Body Depth\"\n",
    "    }, inplace=True)\n",
    "\n",
    "    # remap cat var designator\n",
    "    df[\"species\"] = df[\"species\"].map({\n",
    "        \"B\": \"Blue\", \"O\": \"Orange\"\n",
    "    })\n",
    "\n",
    "    df[\"sex\"] = df[\"sex\"].map({\n",
    "        \"M\": \"Male\", \"F\": \"Female\"\n",
    "    })\n",
    "\n",
    "    # Add a species designation, whic is going to be unique combo of sex and species\n",
    "    df[\"class\"] = df[\"species\"] + df[\"sex\"]\n",
    "\n",
    "    return df"
   ]
  },
  {
   "cell_type": "code",
   "execution_count": 4,
   "id": "2f878f05",
   "metadata": {},
   "outputs": [
    {
     "data": {
      "text/html": [
       "<div>\n",
       "<style scoped>\n",
       "    .dataframe tbody tr th:only-of-type {\n",
       "        vertical-align: middle;\n",
       "    }\n",
       "\n",
       "    .dataframe tbody tr th {\n",
       "        vertical-align: top;\n",
       "    }\n",
       "\n",
       "    .dataframe thead th {\n",
       "        text-align: right;\n",
       "    }\n",
       "</style>\n",
       "<table border=\"1\" class=\"dataframe\">\n",
       "  <thead>\n",
       "    <tr style=\"text-align: right;\">\n",
       "      <th></th>\n",
       "      <th>species</th>\n",
       "      <th>sex</th>\n",
       "      <th>index</th>\n",
       "      <th>Frontal Lobe</th>\n",
       "      <th>Rear Width</th>\n",
       "      <th>Carapace Midline</th>\n",
       "      <th>Maximum Width</th>\n",
       "      <th>Body Depth</th>\n",
       "      <th>class</th>\n",
       "    </tr>\n",
       "  </thead>\n",
       "  <tbody>\n",
       "    <tr>\n",
       "      <th>0</th>\n",
       "      <td>Blue</td>\n",
       "      <td>Male</td>\n",
       "      <td>1</td>\n",
       "      <td>8.1</td>\n",
       "      <td>6.7</td>\n",
       "      <td>16.1</td>\n",
       "      <td>19.0</td>\n",
       "      <td>7.0</td>\n",
       "      <td>BlueMale</td>\n",
       "    </tr>\n",
       "    <tr>\n",
       "      <th>1</th>\n",
       "      <td>Blue</td>\n",
       "      <td>Male</td>\n",
       "      <td>2</td>\n",
       "      <td>8.8</td>\n",
       "      <td>7.7</td>\n",
       "      <td>18.1</td>\n",
       "      <td>20.8</td>\n",
       "      <td>7.4</td>\n",
       "      <td>BlueMale</td>\n",
       "    </tr>\n",
       "    <tr>\n",
       "      <th>2</th>\n",
       "      <td>Blue</td>\n",
       "      <td>Male</td>\n",
       "      <td>3</td>\n",
       "      <td>9.2</td>\n",
       "      <td>7.8</td>\n",
       "      <td>19.0</td>\n",
       "      <td>22.4</td>\n",
       "      <td>7.7</td>\n",
       "      <td>BlueMale</td>\n",
       "    </tr>\n",
       "    <tr>\n",
       "      <th>3</th>\n",
       "      <td>Blue</td>\n",
       "      <td>Male</td>\n",
       "      <td>4</td>\n",
       "      <td>9.6</td>\n",
       "      <td>7.9</td>\n",
       "      <td>20.1</td>\n",
       "      <td>23.1</td>\n",
       "      <td>8.2</td>\n",
       "      <td>BlueMale</td>\n",
       "    </tr>\n",
       "    <tr>\n",
       "      <th>4</th>\n",
       "      <td>Blue</td>\n",
       "      <td>Male</td>\n",
       "      <td>5</td>\n",
       "      <td>9.8</td>\n",
       "      <td>8.0</td>\n",
       "      <td>20.3</td>\n",
       "      <td>23.0</td>\n",
       "      <td>8.2</td>\n",
       "      <td>BlueMale</td>\n",
       "    </tr>\n",
       "  </tbody>\n",
       "</table>\n",
       "</div>"
      ],
      "text/plain": [
       "  species   sex  index  Frontal Lobe  Rear Width  Carapace Midline  \\\n",
       "0    Blue  Male      1           8.1         6.7              16.1   \n",
       "1    Blue  Male      2           8.8         7.7              18.1   \n",
       "2    Blue  Male      3           9.2         7.8              19.0   \n",
       "3    Blue  Male      4           9.6         7.9              20.1   \n",
       "4    Blue  Male      5           9.8         8.0              20.3   \n",
       "\n",
       "   Maximum Width  Body Depth     class  \n",
       "0           19.0         7.0  BlueMale  \n",
       "1           20.8         7.4  BlueMale  \n",
       "2           22.4         7.7  BlueMale  \n",
       "3           23.1         8.2  BlueMale  \n",
       "4           23.0         8.2  BlueMale  "
      ]
     },
     "execution_count": 4,
     "metadata": {},
     "output_type": "execute_result"
    }
   ],
   "source": [
    "df = get_data()\n",
    "\n",
    "# Select data columns\n",
    "data_columns = [\"Frontal Lobe\", \"Rear Width\", \"Carapace Midline\", \"Maximum Width\", \"Body Depth\"]\n",
    "\n",
    "df.head()"
   ]
  },
  {
   "cell_type": "markdown",
   "id": "1dac89a6",
   "metadata": {},
   "source": [
    "## Scale Data"
   ]
  },
  {
   "cell_type": "code",
   "execution_count": 15,
   "id": "6176cd91",
   "metadata": {},
   "outputs": [],
   "source": [
    "from sklearn.preprocessing import MinMaxScaler\n",
    "\n",
    "df_scaled = df.copy(deep=True)\n",
    "df_scaled[data_columns] = MinMaxScaler().fit_transform(df_scaled[data_columns])"
   ]
  },
  {
   "cell_type": "markdown",
   "id": "5dba7001",
   "metadata": {},
   "source": [
    "## Apply to 2D"
   ]
  },
  {
   "cell_type": "code",
   "execution_count": 16,
   "id": "86762a40",
   "metadata": {},
   "outputs": [
    {
     "name": "stdout",
     "output_type": "stream",
     "text": [
      "Reconstruction Error:\n",
      " 0.009501240251169961\n"
     ]
    }
   ],
   "source": [
    "from sklearn.manifold import Isomap\n",
    "\n",
    "df_isomap = df.copy(deep=True)\n",
    "\n",
    "isomap = Isomap(n_components=2, n_neighbors=10)\n",
    "df_scaled[[\"ISOMAP1\", \"ISOMAP2\"]] = isomap.fit_transform(df_scaled[data_columns])\n",
    "df_scaled.head()\n",
    "\n",
    "# Error we have with embedding. \n",
    "print(\"Reconstruction Error:\\n\", isomap.reconstruction_error())"
   ]
  },
  {
   "cell_type": "markdown",
   "id": "b405dbfa",
   "metadata": {},
   "source": [
    "## Plot 2D"
   ]
  },
  {
   "cell_type": "code",
   "execution_count": 17,
   "id": "0257045f",
   "metadata": {},
   "outputs": [
    {
     "data": {
      "text/plain": [
       "<Axes: xlabel='ISOMAP1', ylabel='ISOMAP2'>"
      ]
     },
     "execution_count": 17,
     "metadata": {},
     "output_type": "execute_result"
    },
    {
     "data": {
      "image/png": "[encoded data removed]",
      "text/plain": [
       "<Figure size 800x494.438 with 1 Axes>"
      ]
     },
     "metadata": {},
     "output_type": "display_data"
    }
   ],
   "source": [
    "import seaborn as sns\n",
    "\n",
    "fig = plt.figure(figsize=(8, 8/1.618))\n",
    "\n",
    "sns.scatterplot(x=\"ISOMAP1\", y=\"ISOMAP2\", hue=\"class\", data=df_scaled)"
   ]
  },
  {
   "cell_type": "markdown",
   "id": "282ad495",
   "metadata": {},
   "source": [
    "## Conclusion 1"
   ]
  },
  {
   "cell_type": "markdown",
   "id": "0a86fee4",
   "metadata": {},
   "source": [
    "You can see for the similar / close set, the values in feature column 2 is the most similar for the Orange Femle and Blue Female class.\n",
    "\n",
    "For the distance set, it doesn't appear that different. I'm not sure what to make of tha tresult. "
   ]
  },
  {
   "cell_type": "markdown",
   "id": "2b9798ef",
   "metadata": {},
   "source": [
    "We can see the class OrangeFemale is very difference from the class OrangeMale for points with lower ISOMAP1 values. This can be backtraced to the original data for the corresponding rows and the original data. For example:  (although it's not quite showing up in the data like I would expect).\n",
    "\n",
    "OrangeFemale ISOMAP ~ -1\n",
    "198\t199\tOrange\tFemale\t49\t0.962264\t0.781022\t0.860182\t0.842667\t0.883871\tOrangeFemale\t-0.882489\t0.180434\n",
    "199\t200\tOrange\tFemale\t50\t1.000000\t1.000000\t0.957447\t0.944000\t0.967742\tOrangeFemale\t-1.073383\t0.271781\n",
    "\n",
    "OrangeMale ISOMAP ~ -1\n",
    "148\t149\tOrange\tMale\t49\t0.993711\t0.751825\t0.987842\t0.933333\t0.993548\tOrangeMale\t-1.026765\t-0.130460\n",
    "149\t150\tOrange\tMale\t50\t1.000000\t0.671533\t1.000000\t0.952000\t1.000000\tOrangeMale\t-1.005545\t-0.212495\n",
    "\n",
    "BlueFemale ISOMAP ~ -1\n",
    "98\t99\tBlue\tFemale\t49\t0.647799\t0.744526\t0.726444\t0.730667\t0.703226\tBlueFemale\t-0.471890\t0.187994\n",
    "99\t100\tBlue\tFemale\t50\t0.754717\t0.729927\t0.796353\t0.821333\t0.774194\tBlueFemale\t-0.657248\t0.147431\n",
    "\n"
   ]
  },
  {
   "cell_type": "code",
   "execution_count": 27,
   "id": "6a1554e6",
   "metadata": {},
   "outputs": [
    {
     "data": {
      "text/html": [
       "<div>\n",
       "<style scoped>\n",
       "    .dataframe tbody tr th:only-of-type {\n",
       "        vertical-align: middle;\n",
       "    }\n",
       "\n",
       "    .dataframe tbody tr th {\n",
       "        vertical-align: top;\n",
       "    }\n",
       "\n",
       "    .dataframe thead th {\n",
       "        text-align: right;\n",
       "    }\n",
       "</style>\n",
       "<table border=\"1\" class=\"dataframe\">\n",
       "  <thead>\n",
       "    <tr style=\"text-align: right;\">\n",
       "      <th></th>\n",
       "      <th>species</th>\n",
       "      <th>sex</th>\n",
       "      <th>index</th>\n",
       "      <th>Frontal Lobe</th>\n",
       "      <th>Rear Width</th>\n",
       "      <th>Carapace Midline</th>\n",
       "      <th>Maximum Width</th>\n",
       "      <th>Body Depth</th>\n",
       "      <th>class</th>\n",
       "      <th>ISOMAP1</th>\n",
       "      <th>ISOMAP2</th>\n",
       "    </tr>\n",
       "  </thead>\n",
       "  <tbody>\n",
       "    <tr>\n",
       "      <th>50</th>\n",
       "      <td>Blue</td>\n",
       "      <td>Female</td>\n",
       "      <td>1</td>\n",
       "      <td>0.000000</td>\n",
       "      <td>0.000000</td>\n",
       "      <td>0.000000</td>\n",
       "      <td>0.000000</td>\n",
       "      <td>0.000000</td>\n",
       "      <td>BlueFemale</td>\n",
       "      <td>1.184628</td>\n",
       "      <td>0.012185</td>\n",
       "    </tr>\n",
       "    <tr>\n",
       "      <th>51</th>\n",
       "      <td>Blue</td>\n",
       "      <td>Female</td>\n",
       "      <td>2</td>\n",
       "      <td>0.113208</td>\n",
       "      <td>0.145985</td>\n",
       "      <td>0.139818</td>\n",
       "      <td>0.149333</td>\n",
       "      <td>0.103226</td>\n",
       "      <td>BlueFemale</td>\n",
       "      <td>0.895113</td>\n",
       "      <td>0.038470</td>\n",
       "    </tr>\n",
       "    <tr>\n",
       "      <th>52</th>\n",
       "      <td>Blue</td>\n",
       "      <td>Female</td>\n",
       "      <td>3</td>\n",
       "      <td>0.119497</td>\n",
       "      <td>0.116788</td>\n",
       "      <td>0.115502</td>\n",
       "      <td>0.120000</td>\n",
       "      <td>0.103226</td>\n",
       "      <td>BlueFemale</td>\n",
       "      <td>0.932880</td>\n",
       "      <td>0.034374</td>\n",
       "    </tr>\n",
       "    <tr>\n",
       "      <th>53</th>\n",
       "      <td>Blue</td>\n",
       "      <td>Female</td>\n",
       "      <td>4</td>\n",
       "      <td>0.119497</td>\n",
       "      <td>0.124088</td>\n",
       "      <td>0.136778</td>\n",
       "      <td>0.136000</td>\n",
       "      <td>0.103226</td>\n",
       "      <td>BlueFemale</td>\n",
       "      <td>0.911195</td>\n",
       "      <td>0.035722</td>\n",
       "    </tr>\n",
       "    <tr>\n",
       "      <th>54</th>\n",
       "      <td>Blue</td>\n",
       "      <td>Female</td>\n",
       "      <td>5</td>\n",
       "      <td>0.144654</td>\n",
       "      <td>0.124088</td>\n",
       "      <td>0.148936</td>\n",
       "      <td>0.141333</td>\n",
       "      <td>0.109677</td>\n",
       "      <td>BlueFemale</td>\n",
       "      <td>0.890035</td>\n",
       "      <td>0.014842</td>\n",
       "    </tr>\n",
       "    <tr>\n",
       "      <th>55</th>\n",
       "      <td>Blue</td>\n",
       "      <td>Female</td>\n",
       "      <td>6</td>\n",
       "      <td>0.163522</td>\n",
       "      <td>0.175182</td>\n",
       "      <td>0.173252</td>\n",
       "      <td>0.181333</td>\n",
       "      <td>0.174194</td>\n",
       "      <td>BlueFemale</td>\n",
       "      <td>0.805040</td>\n",
       "      <td>0.066082</td>\n",
       "    </tr>\n",
       "    <tr>\n",
       "      <th>56</th>\n",
       "      <td>Blue</td>\n",
       "      <td>Female</td>\n",
       "      <td>7</td>\n",
       "      <td>0.182390</td>\n",
       "      <td>0.204380</td>\n",
       "      <td>0.188450</td>\n",
       "      <td>0.194667</td>\n",
       "      <td>0.148387</td>\n",
       "      <td>BlueFemale</td>\n",
       "      <td>0.774975</td>\n",
       "      <td>0.033326</td>\n",
       "    </tr>\n",
       "    <tr>\n",
       "      <th>57</th>\n",
       "      <td>Blue</td>\n",
       "      <td>Female</td>\n",
       "      <td>8</td>\n",
       "      <td>0.194969</td>\n",
       "      <td>0.218978</td>\n",
       "      <td>0.200608</td>\n",
       "      <td>0.202667</td>\n",
       "      <td>0.180645</td>\n",
       "      <td>BlueFemale</td>\n",
       "      <td>0.740838</td>\n",
       "      <td>0.061729</td>\n",
       "    </tr>\n",
       "    <tr>\n",
       "      <th>58</th>\n",
       "      <td>Blue</td>\n",
       "      <td>Female</td>\n",
       "      <td>9</td>\n",
       "      <td>0.201258</td>\n",
       "      <td>0.233577</td>\n",
       "      <td>0.212766</td>\n",
       "      <td>0.221333</td>\n",
       "      <td>0.141935</td>\n",
       "      <td>BlueFemale</td>\n",
       "      <td>0.740315</td>\n",
       "      <td>0.077502</td>\n",
       "    </tr>\n",
       "    <tr>\n",
       "      <th>59</th>\n",
       "      <td>Blue</td>\n",
       "      <td>Female</td>\n",
       "      <td>10</td>\n",
       "      <td>0.226415</td>\n",
       "      <td>0.218978</td>\n",
       "      <td>0.237082</td>\n",
       "      <td>0.245333</td>\n",
       "      <td>0.193548</td>\n",
       "      <td>BlueFemale</td>\n",
       "      <td>0.679639</td>\n",
       "      <td>0.029540</td>\n",
       "    </tr>\n",
       "    <tr>\n",
       "      <th>60</th>\n",
       "      <td>Blue</td>\n",
       "      <td>Female</td>\n",
       "      <td>11</td>\n",
       "      <td>0.238994</td>\n",
       "      <td>0.240876</td>\n",
       "      <td>0.237082</td>\n",
       "      <td>0.229333</td>\n",
       "      <td>0.135484</td>\n",
       "      <td>BlueFemale</td>\n",
       "      <td>0.717942</td>\n",
       "      <td>0.053060</td>\n",
       "    </tr>\n",
       "    <tr>\n",
       "      <th>61</th>\n",
       "      <td>Blue</td>\n",
       "      <td>Female</td>\n",
       "      <td>12</td>\n",
       "      <td>0.251572</td>\n",
       "      <td>0.255474</td>\n",
       "      <td>0.246201</td>\n",
       "      <td>0.261333</td>\n",
       "      <td>0.212903</td>\n",
       "      <td>BlueFemale</td>\n",
       "      <td>0.639140</td>\n",
       "      <td>0.079165</td>\n",
       "    </tr>\n",
       "    <tr>\n",
       "      <th>62</th>\n",
       "      <td>Blue</td>\n",
       "      <td>Female</td>\n",
       "      <td>13</td>\n",
       "      <td>0.270440</td>\n",
       "      <td>0.328467</td>\n",
       "      <td>0.303951</td>\n",
       "      <td>0.322667</td>\n",
       "      <td>0.258065</td>\n",
       "      <td>BlueFemale</td>\n",
       "      <td>0.516547</td>\n",
       "      <td>0.068215</td>\n",
       "    </tr>\n",
       "    <tr>\n",
       "      <th>63</th>\n",
       "      <td>Blue</td>\n",
       "      <td>Female</td>\n",
       "      <td>14</td>\n",
       "      <td>0.276730</td>\n",
       "      <td>0.328467</td>\n",
       "      <td>0.300912</td>\n",
       "      <td>0.304000</td>\n",
       "      <td>0.277419</td>\n",
       "      <td>BlueFemale</td>\n",
       "      <td>0.508297</td>\n",
       "      <td>0.035716</td>\n",
       "    </tr>\n",
       "    <tr>\n",
       "      <th>64</th>\n",
       "      <td>Blue</td>\n",
       "      <td>Female</td>\n",
       "      <td>15</td>\n",
       "      <td>0.276730</td>\n",
       "      <td>0.357664</td>\n",
       "      <td>0.273556</td>\n",
       "      <td>0.282667</td>\n",
       "      <td>0.251613</td>\n",
       "      <td>BlueFemale</td>\n",
       "      <td>0.543173</td>\n",
       "      <td>0.054310</td>\n",
       "    </tr>\n",
       "    <tr>\n",
       "      <th>65</th>\n",
       "      <td>Blue</td>\n",
       "      <td>Female</td>\n",
       "      <td>16</td>\n",
       "      <td>0.283019</td>\n",
       "      <td>0.299270</td>\n",
       "      <td>0.310030</td>\n",
       "      <td>0.304000</td>\n",
       "      <td>0.277419</td>\n",
       "      <td>BlueFemale</td>\n",
       "      <td>0.517290</td>\n",
       "      <td>0.022992</td>\n",
       "    </tr>\n",
       "    <tr>\n",
       "      <th>66</th>\n",
       "      <td>Blue</td>\n",
       "      <td>Female</td>\n",
       "      <td>17</td>\n",
       "      <td>0.295597</td>\n",
       "      <td>0.357664</td>\n",
       "      <td>0.343465</td>\n",
       "      <td>0.346667</td>\n",
       "      <td>0.309677</td>\n",
       "      <td>BlueFemale</td>\n",
       "      <td>0.438933</td>\n",
       "      <td>0.072009</td>\n",
       "    </tr>\n",
       "    <tr>\n",
       "      <th>67</th>\n",
       "      <td>Blue</td>\n",
       "      <td>Female</td>\n",
       "      <td>18</td>\n",
       "      <td>0.301887</td>\n",
       "      <td>0.306569</td>\n",
       "      <td>0.300912</td>\n",
       "      <td>0.314667</td>\n",
       "      <td>0.283871</td>\n",
       "      <td>BlueFemale</td>\n",
       "      <td>0.505172</td>\n",
       "      <td>0.015189</td>\n",
       "    </tr>\n",
       "    <tr>\n",
       "      <th>68</th>\n",
       "      <td>Blue</td>\n",
       "      <td>Female</td>\n",
       "      <td>19</td>\n",
       "      <td>0.301887</td>\n",
       "      <td>0.335766</td>\n",
       "      <td>0.325228</td>\n",
       "      <td>0.322667</td>\n",
       "      <td>0.316129</td>\n",
       "      <td>BlueFemale</td>\n",
       "      <td>0.460837</td>\n",
       "      <td>-0.012983</td>\n",
       "    </tr>\n",
       "    <tr>\n",
       "      <th>69</th>\n",
       "      <td>Blue</td>\n",
       "      <td>Female</td>\n",
       "      <td>20</td>\n",
       "      <td>0.339623</td>\n",
       "      <td>0.416058</td>\n",
       "      <td>0.346505</td>\n",
       "      <td>0.386667</td>\n",
       "      <td>0.329032</td>\n",
       "      <td>BlueFemale</td>\n",
       "      <td>0.368377</td>\n",
       "      <td>0.128245</td>\n",
       "    </tr>\n",
       "    <tr>\n",
       "      <th>70</th>\n",
       "      <td>Blue</td>\n",
       "      <td>Female</td>\n",
       "      <td>21</td>\n",
       "      <td>0.352201</td>\n",
       "      <td>0.379562</td>\n",
       "      <td>0.376900</td>\n",
       "      <td>0.376000</td>\n",
       "      <td>0.374194</td>\n",
       "      <td>BlueFemale</td>\n",
       "      <td>0.342661</td>\n",
       "      <td>0.062797</td>\n",
       "    </tr>\n",
       "    <tr>\n",
       "      <th>71</th>\n",
       "      <td>Blue</td>\n",
       "      <td>Female</td>\n",
       "      <td>22</td>\n",
       "      <td>0.352201</td>\n",
       "      <td>0.416058</td>\n",
       "      <td>0.364742</td>\n",
       "      <td>0.373333</td>\n",
       "      <td>0.322581</td>\n",
       "      <td>BlueFemale</td>\n",
       "      <td>0.357789</td>\n",
       "      <td>0.128698</td>\n",
       "    </tr>\n",
       "    <tr>\n",
       "      <th>72</th>\n",
       "      <td>Blue</td>\n",
       "      <td>Female</td>\n",
       "      <td>23</td>\n",
       "      <td>0.352201</td>\n",
       "      <td>0.416058</td>\n",
       "      <td>0.401216</td>\n",
       "      <td>0.394667</td>\n",
       "      <td>0.348387</td>\n",
       "      <td>BlueFemale</td>\n",
       "      <td>0.317378</td>\n",
       "      <td>0.119343</td>\n",
       "    </tr>\n",
       "    <tr>\n",
       "      <th>73</th>\n",
       "      <td>Blue</td>\n",
       "      <td>Female</td>\n",
       "      <td>24</td>\n",
       "      <td>0.364780</td>\n",
       "      <td>0.357664</td>\n",
       "      <td>0.382979</td>\n",
       "      <td>0.392000</td>\n",
       "      <td>0.335484</td>\n",
       "      <td>BlueFemale</td>\n",
       "      <td>0.339760</td>\n",
       "      <td>0.026260</td>\n",
       "    </tr>\n",
       "    <tr>\n",
       "      <th>74</th>\n",
       "      <td>Blue</td>\n",
       "      <td>Female</td>\n",
       "      <td>25</td>\n",
       "      <td>0.371069</td>\n",
       "      <td>0.364964</td>\n",
       "      <td>0.392097</td>\n",
       "      <td>0.413333</td>\n",
       "      <td>0.322581</td>\n",
       "      <td>BlueFemale</td>\n",
       "      <td>0.326671</td>\n",
       "      <td>0.065790</td>\n",
       "    </tr>\n",
       "    <tr>\n",
       "      <th>75</th>\n",
       "      <td>Blue</td>\n",
       "      <td>Female</td>\n",
       "      <td>26</td>\n",
       "      <td>0.377358</td>\n",
       "      <td>0.416058</td>\n",
       "      <td>0.401216</td>\n",
       "      <td>0.400000</td>\n",
       "      <td>0.348387</td>\n",
       "      <td>BlueFemale</td>\n",
       "      <td>0.299235</td>\n",
       "      <td>0.122235</td>\n",
       "    </tr>\n",
       "    <tr>\n",
       "      <th>76</th>\n",
       "      <td>Blue</td>\n",
       "      <td>Female</td>\n",
       "      <td>27</td>\n",
       "      <td>0.389937</td>\n",
       "      <td>0.386861</td>\n",
       "      <td>0.416413</td>\n",
       "      <td>0.416000</td>\n",
       "      <td>0.361290</td>\n",
       "      <td>BlueFemale</td>\n",
       "      <td>0.282610</td>\n",
       "      <td>0.059582</td>\n",
       "    </tr>\n",
       "    <tr>\n",
       "      <th>77</th>\n",
       "      <td>Blue</td>\n",
       "      <td>Female</td>\n",
       "      <td>28</td>\n",
       "      <td>0.408805</td>\n",
       "      <td>0.437956</td>\n",
       "      <td>0.422492</td>\n",
       "      <td>0.445333</td>\n",
       "      <td>0.374194</td>\n",
       "      <td>BlueFemale</td>\n",
       "      <td>0.231822</td>\n",
       "      <td>0.117183</td>\n",
       "    </tr>\n",
       "    <tr>\n",
       "      <th>78</th>\n",
       "      <td>Blue</td>\n",
       "      <td>Female</td>\n",
       "      <td>29</td>\n",
       "      <td>0.421384</td>\n",
       "      <td>0.474453</td>\n",
       "      <td>0.465046</td>\n",
       "      <td>0.474667</td>\n",
       "      <td>0.451613</td>\n",
       "      <td>BlueFemale</td>\n",
       "      <td>0.134264</td>\n",
       "      <td>0.083740</td>\n",
       "    </tr>\n",
       "    <tr>\n",
       "      <th>79</th>\n",
       "      <td>Blue</td>\n",
       "      <td>Female</td>\n",
       "      <td>30</td>\n",
       "      <td>0.471698</td>\n",
       "      <td>0.437956</td>\n",
       "      <td>0.468085</td>\n",
       "      <td>0.469333</td>\n",
       "      <td>0.412903</td>\n",
       "      <td>BlueFemale</td>\n",
       "      <td>0.160169</td>\n",
       "      <td>0.094440</td>\n",
       "    </tr>\n",
       "    <tr>\n",
       "      <th>80</th>\n",
       "      <td>Blue</td>\n",
       "      <td>Female</td>\n",
       "      <td>31</td>\n",
       "      <td>0.484277</td>\n",
       "      <td>0.489051</td>\n",
       "      <td>0.468085</td>\n",
       "      <td>0.493333</td>\n",
       "      <td>0.380645</td>\n",
       "      <td>BlueFemale</td>\n",
       "      <td>0.128409</td>\n",
       "      <td>0.108305</td>\n",
       "    </tr>\n",
       "    <tr>\n",
       "      <th>81</th>\n",
       "      <td>Blue</td>\n",
       "      <td>Female</td>\n",
       "      <td>32</td>\n",
       "      <td>0.490566</td>\n",
       "      <td>0.532847</td>\n",
       "      <td>0.516717</td>\n",
       "      <td>0.528000</td>\n",
       "      <td>0.509677</td>\n",
       "      <td>BlueFemale</td>\n",
       "      <td>-0.011971</td>\n",
       "      <td>0.110693</td>\n",
       "    </tr>\n",
       "    <tr>\n",
       "      <th>82</th>\n",
       "      <td>Blue</td>\n",
       "      <td>Female</td>\n",
       "      <td>33</td>\n",
       "      <td>0.490566</td>\n",
       "      <td>0.562044</td>\n",
       "      <td>0.550152</td>\n",
       "      <td>0.541333</td>\n",
       "      <td>0.509677</td>\n",
       "      <td>BlueFemale</td>\n",
       "      <td>-0.041306</td>\n",
       "      <td>0.129291</td>\n",
       "    </tr>\n",
       "    <tr>\n",
       "      <th>83</th>\n",
       "      <td>Blue</td>\n",
       "      <td>Female</td>\n",
       "      <td>34</td>\n",
       "      <td>0.496855</td>\n",
       "      <td>0.496350</td>\n",
       "      <td>0.519757</td>\n",
       "      <td>0.512000</td>\n",
       "      <td>0.477419</td>\n",
       "      <td>BlueFemale</td>\n",
       "      <td>0.024173</td>\n",
       "      <td>0.075026</td>\n",
       "    </tr>\n",
       "    <tr>\n",
       "      <th>84</th>\n",
       "      <td>Blue</td>\n",
       "      <td>Female</td>\n",
       "      <td>35</td>\n",
       "      <td>0.496855</td>\n",
       "      <td>0.510949</td>\n",
       "      <td>0.522796</td>\n",
       "      <td>0.530667</td>\n",
       "      <td>0.496774</td>\n",
       "      <td>BlueFemale</td>\n",
       "      <td>-0.001062</td>\n",
       "      <td>0.081682</td>\n",
       "    </tr>\n",
       "    <tr>\n",
       "      <th>85</th>\n",
       "      <td>Blue</td>\n",
       "      <td>Female</td>\n",
       "      <td>36</td>\n",
       "      <td>0.496855</td>\n",
       "      <td>0.532847</td>\n",
       "      <td>0.516717</td>\n",
       "      <td>0.520000</td>\n",
       "      <td>0.445161</td>\n",
       "      <td>BlueFemale</td>\n",
       "      <td>0.029221</td>\n",
       "      <td>0.114326</td>\n",
       "    </tr>\n",
       "    <tr>\n",
       "      <th>86</th>\n",
       "      <td>Blue</td>\n",
       "      <td>Female</td>\n",
       "      <td>37</td>\n",
       "      <td>0.503145</td>\n",
       "      <td>0.569343</td>\n",
       "      <td>0.583587</td>\n",
       "      <td>0.570667</td>\n",
       "      <td>0.554839</td>\n",
       "      <td>BlueFemale</td>\n",
       "      <td>-0.109123</td>\n",
       "      <td>0.118249</td>\n",
       "    </tr>\n",
       "    <tr>\n",
       "      <th>87</th>\n",
       "      <td>Blue</td>\n",
       "      <td>Female</td>\n",
       "      <td>38</td>\n",
       "      <td>0.509434</td>\n",
       "      <td>0.562044</td>\n",
       "      <td>0.544073</td>\n",
       "      <td>0.565333</td>\n",
       "      <td>0.496774</td>\n",
       "      <td>BlueFemale</td>\n",
       "      <td>-0.047059</td>\n",
       "      <td>0.132547</td>\n",
       "    </tr>\n",
       "    <tr>\n",
       "      <th>88</th>\n",
       "      <td>Blue</td>\n",
       "      <td>Female</td>\n",
       "      <td>39</td>\n",
       "      <td>0.515723</td>\n",
       "      <td>0.496350</td>\n",
       "      <td>0.537994</td>\n",
       "      <td>0.546667</td>\n",
       "      <td>0.496774</td>\n",
       "      <td>BlueFemale</td>\n",
       "      <td>-0.022528</td>\n",
       "      <td>0.052481</td>\n",
       "    </tr>\n",
       "    <tr>\n",
       "      <th>89</th>\n",
       "      <td>Blue</td>\n",
       "      <td>Female</td>\n",
       "      <td>40</td>\n",
       "      <td>0.522013</td>\n",
       "      <td>0.532847</td>\n",
       "      <td>0.568389</td>\n",
       "      <td>0.576000</td>\n",
       "      <td>0.554839</td>\n",
       "      <td>BlueFemale</td>\n",
       "      <td>-0.098829</td>\n",
       "      <td>0.094241</td>\n",
       "    </tr>\n",
       "    <tr>\n",
       "      <th>90</th>\n",
       "      <td>Blue</td>\n",
       "      <td>Female</td>\n",
       "      <td>41</td>\n",
       "      <td>0.528302</td>\n",
       "      <td>0.540146</td>\n",
       "      <td>0.550152</td>\n",
       "      <td>0.554667</td>\n",
       "      <td>0.470968</td>\n",
       "      <td>BlueFemale</td>\n",
       "      <td>-0.032934</td>\n",
       "      <td>0.124897</td>\n",
       "    </tr>\n",
       "    <tr>\n",
       "      <th>91</th>\n",
       "      <td>Blue</td>\n",
       "      <td>Female</td>\n",
       "      <td>42</td>\n",
       "      <td>0.528302</td>\n",
       "      <td>0.598540</td>\n",
       "      <td>0.583587</td>\n",
       "      <td>0.597333</td>\n",
       "      <td>0.529032</td>\n",
       "      <td>BlueFemale</td>\n",
       "      <td>-0.118213</td>\n",
       "      <td>0.139928</td>\n",
       "    </tr>\n",
       "    <tr>\n",
       "      <th>92</th>\n",
       "      <td>Blue</td>\n",
       "      <td>Female</td>\n",
       "      <td>43</td>\n",
       "      <td>0.534591</td>\n",
       "      <td>0.540146</td>\n",
       "      <td>0.574468</td>\n",
       "      <td>0.570667</td>\n",
       "      <td>0.516129</td>\n",
       "      <td>BlueFemale</td>\n",
       "      <td>-0.083004</td>\n",
       "      <td>0.097854</td>\n",
       "    </tr>\n",
       "    <tr>\n",
       "      <th>93</th>\n",
       "      <td>Blue</td>\n",
       "      <td>Female</td>\n",
       "      <td>44</td>\n",
       "      <td>0.540881</td>\n",
       "      <td>0.620438</td>\n",
       "      <td>0.601824</td>\n",
       "      <td>0.618667</td>\n",
       "      <td>0.593548</td>\n",
       "      <td>BlueFemale</td>\n",
       "      <td>-0.191387</td>\n",
       "      <td>0.159411</td>\n",
       "    </tr>\n",
       "    <tr>\n",
       "      <th>94</th>\n",
       "      <td>Blue</td>\n",
       "      <td>Female</td>\n",
       "      <td>45</td>\n",
       "      <td>0.566038</td>\n",
       "      <td>0.635036</td>\n",
       "      <td>0.601824</td>\n",
       "      <td>0.613333</td>\n",
       "      <td>0.503226</td>\n",
       "      <td>BlueFemale</td>\n",
       "      <td>-0.156946</td>\n",
       "      <td>0.189916</td>\n",
       "    </tr>\n",
       "    <tr>\n",
       "      <th>95</th>\n",
       "      <td>Blue</td>\n",
       "      <td>Female</td>\n",
       "      <td>46</td>\n",
       "      <td>0.578616</td>\n",
       "      <td>0.547445</td>\n",
       "      <td>0.592705</td>\n",
       "      <td>0.605333</td>\n",
       "      <td>0.587097</td>\n",
       "      <td>BlueFemale</td>\n",
       "      <td>-0.180215</td>\n",
       "      <td>0.085763</td>\n",
       "    </tr>\n",
       "    <tr>\n",
       "      <th>96</th>\n",
       "      <td>Blue</td>\n",
       "      <td>Female</td>\n",
       "      <td>47</td>\n",
       "      <td>0.597484</td>\n",
       "      <td>0.700730</td>\n",
       "      <td>0.665653</td>\n",
       "      <td>0.661333</td>\n",
       "      <td>0.600000</td>\n",
       "      <td>BlueFemale</td>\n",
       "      <td>-0.312296</td>\n",
       "      <td>0.188837</td>\n",
       "    </tr>\n",
       "    <tr>\n",
       "      <th>97</th>\n",
       "      <td>Blue</td>\n",
       "      <td>Female</td>\n",
       "      <td>48</td>\n",
       "      <td>0.641509</td>\n",
       "      <td>0.759124</td>\n",
       "      <td>0.714286</td>\n",
       "      <td>0.720000</td>\n",
       "      <td>0.677419</td>\n",
       "      <td>BlueFemale</td>\n",
       "      <td>-0.444439</td>\n",
       "      <td>0.195320</td>\n",
       "    </tr>\n",
       "    <tr>\n",
       "      <th>98</th>\n",
       "      <td>Blue</td>\n",
       "      <td>Female</td>\n",
       "      <td>49</td>\n",
       "      <td>0.647799</td>\n",
       "      <td>0.744526</td>\n",
       "      <td>0.726444</td>\n",
       "      <td>0.730667</td>\n",
       "      <td>0.703226</td>\n",
       "      <td>BlueFemale</td>\n",
       "      <td>-0.471890</td>\n",
       "      <td>0.187994</td>\n",
       "    </tr>\n",
       "    <tr>\n",
       "      <th>99</th>\n",
       "      <td>Blue</td>\n",
       "      <td>Female</td>\n",
       "      <td>50</td>\n",
       "      <td>0.754717</td>\n",
       "      <td>0.729927</td>\n",
       "      <td>0.796353</td>\n",
       "      <td>0.821333</td>\n",
       "      <td>0.774194</td>\n",
       "      <td>BlueFemale</td>\n",
       "      <td>-0.657248</td>\n",
       "      <td>0.147431</td>\n",
       "    </tr>\n",
       "  </tbody>\n",
       "</table>\n",
       "</div>"
      ],
      "text/plain": [
       "   species     sex  index  Frontal Lobe  Rear Width  Carapace Midline  \\\n",
       "50    Blue  Female      1      0.000000    0.000000          0.000000   \n",
       "51    Blue  Female      2      0.113208    0.145985          0.139818   \n",
       "52    Blue  Female      3      0.119497    0.116788          0.115502   \n",
       "53    Blue  Female      4      0.119497    0.124088          0.136778   \n",
       "54    Blue  Female      5      0.144654    0.124088          0.148936   \n",
       "55    Blue  Female      6      0.163522    0.175182          0.173252   \n",
       "56    Blue  Female      7      0.182390    0.204380          0.188450   \n",
       "57    Blue  Female      8      0.194969    0.218978          0.200608   \n",
       "58    Blue  Female      9      0.201258    0.233577          0.212766   \n",
       "59    Blue  Female     10      0.226415    0.218978          0.237082   \n",
       "60    Blue  Female     11      0.238994    0.240876          0.237082   \n",
       "61    Blue  Female     12      0.251572    0.255474          0.246201   \n",
       "62    Blue  Female     13      0.270440    0.328467          0.303951   \n",
       "63    Blue  Female     14      0.276730    0.328467          0.300912   \n",
       "64    Blue  Female     15      0.276730    0.357664          0.273556   \n",
       "65    Blue  Female     16      0.283019    0.299270          0.310030   \n",
       "66    Blue  Female     17      0.295597    0.357664          0.343465   \n",
       "67    Blue  Female     18      0.301887    0.306569          0.300912   \n",
       "68    Blue  Female     19      0.301887    0.335766          0.325228   \n",
       "69    Blue  Female     20      0.339623    0.416058          0.346505   \n",
       "70    Blue  Female     21      0.352201    0.379562          0.376900   \n",
       "71    Blue  Female     22      0.352201    0.416058          0.364742   \n",
       "72    Blue  Female     23      0.352201    0.416058          0.401216   \n",
       "73    Blue  Female     24      0.364780    0.357664          0.382979   \n",
       "74    Blue  Female     25      0.371069    0.364964          0.392097   \n",
       "75    Blue  Female     26      0.377358    0.416058          0.401216   \n",
       "76    Blue  Female     27      0.389937    0.386861          0.416413   \n",
       "77    Blue  Female     28      0.408805    0.437956          0.422492   \n",
       "78    Blue  Female     29      0.421384    0.474453          0.465046   \n",
       "79    Blue  Female     30      0.471698    0.437956          0.468085   \n",
       "80    Blue  Female     31      0.484277    0.489051          0.468085   \n",
       "81    Blue  Female     32      0.490566    0.532847          0.516717   \n",
       "82    Blue  Female     33      0.490566    0.562044          0.550152   \n",
       "83    Blue  Female     34      0.496855    0.496350          0.519757   \n",
       "84    Blue  Female     35      0.496855    0.510949          0.522796   \n",
       "85    Blue  Female     36      0.496855    0.532847          0.516717   \n",
       "86    Blue  Female     37      0.503145    0.569343          0.583587   \n",
       "87    Blue  Female     38      0.509434    0.562044          0.544073   \n",
       "88    Blue  Female     39      0.515723    0.496350          0.537994   \n",
       "89    Blue  Female     40      0.522013    0.532847          0.568389   \n",
       "90    Blue  Female     41      0.528302    0.540146          0.550152   \n",
       "91    Blue  Female     42      0.528302    0.598540          0.583587   \n",
       "92    Blue  Female     43      0.534591    0.540146          0.574468   \n",
       "93    Blue  Female     44      0.540881    0.620438          0.601824   \n",
       "94    Blue  Female     45      0.566038    0.635036          0.601824   \n",
       "95    Blue  Female     46      0.578616    0.547445          0.592705   \n",
       "96    Blue  Female     47      0.597484    0.700730          0.665653   \n",
       "97    Blue  Female     48      0.641509    0.759124          0.714286   \n",
       "98    Blue  Female     49      0.647799    0.744526          0.726444   \n",
       "99    Blue  Female     50      0.754717    0.729927          0.796353   \n",
       "\n",
       "    Maximum Width  Body Depth       class   ISOMAP1   ISOMAP2  \n",
       "50       0.000000    0.000000  BlueFemale  1.184628  0.012185  \n",
       "51       0.149333    0.103226  BlueFemale  0.895113  0.038470  \n",
       "52       0.120000    0.103226  BlueFemale  0.932880  0.034374  \n",
       "53       0.136000    0.103226  BlueFemale  0.911195  0.035722  \n",
       "54       0.141333    0.109677  BlueFemale  0.890035  0.014842  \n",
       "55       0.181333    0.174194  BlueFemale  0.805040  0.066082  \n",
       "56       0.194667    0.148387  BlueFemale  0.774975  0.033326  \n",
       "57       0.202667    0.180645  BlueFemale  0.740838  0.061729  \n",
       "58       0.221333    0.141935  BlueFemale  0.740315  0.077502  \n",
       "59       0.245333    0.193548  BlueFemale  0.679639  0.029540  \n",
       "60       0.229333    0.135484  BlueFemale  0.717942  0.053060  \n",
       "61       0.261333    0.212903  BlueFemale  0.639140  0.079165  \n",
       "62       0.322667    0.258065  BlueFemale  0.516547  0.068215  \n",
       "63       0.304000    0.277419  BlueFemale  0.508297  0.035716  \n",
       "64       0.282667    0.251613  BlueFemale  0.543173  0.054310  \n",
       "65       0.304000    0.277419  BlueFemale  0.517290  0.022992  \n",
       "66       0.346667    0.309677  BlueFemale  0.438933  0.072009  \n",
       "67       0.314667    0.283871  BlueFemale  0.505172  0.015189  \n",
       "68       0.322667    0.316129  BlueFemale  0.460837 -0.012983  \n",
       "69       0.386667    0.329032  BlueFemale  0.368377  0.128245  \n",
       "70       0.376000    0.374194  BlueFemale  0.342661  0.062797  \n",
       "71       0.373333    0.322581  BlueFemale  0.357789  0.128698  \n",
       "72       0.394667    0.348387  BlueFemale  0.317378  0.119343  \n",
       "73       0.392000    0.335484  BlueFemale  0.339760  0.026260  \n",
       "74       0.413333    0.322581  BlueFemale  0.326671  0.065790  \n",
       "75       0.400000    0.348387  BlueFemale  0.299235  0.122235  \n",
       "76       0.416000    0.361290  BlueFemale  0.282610  0.059582  \n",
       "77       0.445333    0.374194  BlueFemale  0.231822  0.117183  \n",
       "78       0.474667    0.451613  BlueFemale  0.134264  0.083740  \n",
       "79       0.469333    0.412903  BlueFemale  0.160169  0.094440  \n",
       "80       0.493333    0.380645  BlueFemale  0.128409  0.108305  \n",
       "81       0.528000    0.509677  BlueFemale -0.011971  0.110693  \n",
       "82       0.541333    0.509677  BlueFemale -0.041306  0.129291  \n",
       "83       0.512000    0.477419  BlueFemale  0.024173  0.075026  \n",
       "84       0.530667    0.496774  BlueFemale -0.001062  0.081682  \n",
       "85       0.520000    0.445161  BlueFemale  0.029221  0.114326  \n",
       "86       0.570667    0.554839  BlueFemale -0.109123  0.118249  \n",
       "87       0.565333    0.496774  BlueFemale -0.047059  0.132547  \n",
       "88       0.546667    0.496774  BlueFemale -0.022528  0.052481  \n",
       "89       0.576000    0.554839  BlueFemale -0.098829  0.094241  \n",
       "90       0.554667    0.470968  BlueFemale -0.032934  0.124897  \n",
       "91       0.597333    0.529032  BlueFemale -0.118213  0.139928  \n",
       "92       0.570667    0.516129  BlueFemale -0.083004  0.097854  \n",
       "93       0.618667    0.593548  BlueFemale -0.191387  0.159411  \n",
       "94       0.613333    0.503226  BlueFemale -0.156946  0.189916  \n",
       "95       0.605333    0.587097  BlueFemale -0.180215  0.085763  \n",
       "96       0.661333    0.600000  BlueFemale -0.312296  0.188837  \n",
       "97       0.720000    0.677419  BlueFemale -0.444439  0.195320  \n",
       "98       0.730667    0.703226  BlueFemale -0.471890  0.187994  \n",
       "99       0.821333    0.774194  BlueFemale -0.657248  0.147431  "
      ]
     },
     "execution_count": 27,
     "metadata": {},
     "output_type": "execute_result"
    }
   ],
   "source": [
    "df_scaled[df_scaled[\"class\"] == \"BlueFemale\"]\n",
    "\n",
    "# Close\n",
    "# 97\tBlue\tFemale\t48\t0.641509\t0.759124\t0.714286\t0.720000\t0.677419\tBlueFemale\t-0.444439\t0.195320\n",
    "# 98\tBlue\tFemale\t49\t0.647799\t0.744526\t0.726444\t0.730667\t0.703226\tBlueFemale\t-0.471890\t0.187994\n",
    "# 99\tBlue\tFemale\t50\t0.754717\t0.729927\t0.796353\t0.821333\t0.774194\tBlueFemale\t-0.657248\t0.147431\n",
    "\n",
    "# 199\tOrange\tFemale\t50\t1.000000\t1.000000\t0.957447\t0.944000\t0.967742\tOrangeFemale\t-1.073383\t0.271781\n",
    "# 198\tOrange\tFemale\t49\t0.962264\t0.781022\t0.860182\t0.842667\t0.883871\tOrangeFemale\t-0.882489\t0.180434\n",
    "# 194\tOrange\tFemale\t45\t0.886792\t0.868613\t0.884498\t0.834667\t0.896774\tOrangeFemale\t-0.856877\t0.208942\n",
    "\n",
    "\n",
    "# # Distant\n",
    "# 147\tOrange\tMale\t48\t0.937107\t0.678832\t0.908815\t0.866667\t0.929032\tOrangeMale\t-0.878787\t-0.164860\n",
    "# 148\tOrange\tMale\t49\t0.993711\t0.751825\t0.987842\t0.933333\t0.993548\tOrangeMale\t-1.026765\t-0.130460\n",
    "# 149\tOrange\tMale\t50\t1.000000\t0.671533\t1.000000\t0.952000\t1.000000\tOrangeMale\t-1.005545\t-0.212495\n",
    "\n"
   ]
  },
  {
   "cell_type": "markdown",
   "id": "5ef580fa",
   "metadata": {},
   "source": [
    "## Apply to 3D"
   ]
  },
  {
   "cell_type": "code",
   "execution_count": 6,
   "id": "c97a9f9f",
   "metadata": {},
   "outputs": [
    {
     "name": "stdout",
     "output_type": "stream",
     "text": [
      "ReconstructionError\n",
      " 0.007640087707467262\n"
     ]
    }
   ],
   "source": [
    "# df_isomap = df.copy(deep=True)\n",
    "\n",
    "isomap = Isomap(n_components=3, n_neighbors=10)\n",
    "df_scaled[[\"ISOMAP1\", \"ISOMAP2\", \"ISOMAP3\"]] = isomap.fit_transform(df_scaled[data_columns])\n",
    "\n",
    "print(\"ReconstructionError\\n\", isomap.reconstruction_error())"
   ]
  },
  {
   "cell_type": "code",
   "execution_count": 7,
   "id": "9fef820e",
   "metadata": {},
   "outputs": [
    {
     "data": {
      "image/png": "[encoded data removed]",
      "text/plain": [
       "<Figure size 800x494.438 with 1 Axes>"
      ]
     },
     "metadata": {},
     "output_type": "display_data"
    }
   ],
   "source": [
    "fig = plt.figure(figsize=(8, 8 / 1.618));\n",
    "ax = fig.add_subplot(111, projection=\"3d\");\n",
    "\n",
    "color = {\"BlueFemale\": \"blue\", \"BlueMale\": \"red\", \"OrangeMale\": \"g\", \"OrangeFemale\": \"orange\"};\n",
    "\n",
    "plt.scatter(\n",
    "    df_scaled[\"ISOMAP1\"], df_scaled[\"ISOMAP2\"], zs=df_scaled[\"ISOMAP3\"], \n",
    "    depthshade=False,\n",
    "    s=50, c=df_scaled[\"class\"].apply(lambda x: color[x])\n",
    ");"
   ]
  },
  {
   "cell_type": "markdown",
   "id": "9f8d1267",
   "metadata": {},
   "source": [
    "## Plotly Express"
   ]
  },
  {
   "cell_type": "code",
   "execution_count": 8,
   "id": "e1d269e3",
   "metadata": {},
   "outputs": [
    {
     "data": {
      "application/vnd.plotly.v1+json": {
       "config": {
        "plotlyServerURL": "https://plot.ly"
       },
       "data": [
        {
         "hovertemplate": "class=BlueMale<br>ISOMAP1=%{x}<br>ISOMAP2=%{y}<br>ISOMAP3=%{z}<extra></extra>",
         "legendgroup": "BlueMale",
         "marker": {
          "color": "#636efa",
          "symbol": "circle"
         },
         "mode": "markers",
         "name": "BlueMale",
         "scene": "scene",
         "showlegend": true,
         "type": "scatter3d",
         "x": [
          1.0913585691501195,
          0.9745597090849291,
          0.9273289571074498,
          0.8817101091190315,
          0.8727196598243817,
          0.6778019788672485,
          0.6071926029906505,
          0.6095634494632486,
          0.6036788931882153,
          0.5153845031287001,
          0.3907063691351062,
          0.3879787324127716,
          0.38859299159974503,
          0.3785201925449793,
          0.35995832505319253,
          0.37370889078055847,
          0.34471649982654423,
          0.3266680639779343,
          0.32179733009041755,
          0.24992720451269682,
          0.14195922611873055,
          0.08714256428540332,
          0.10560701075384023,
          0.06541748476839412,
          0.04588991267095397,
          0.04062568911987134,
          0.0252851089336894,
          -0.11891921492986392,
          -0.06479479132964887,
          -0.05370745134732863,
          -0.16820919697062686,
          -0.20716909444509268,
          -0.1506340159055119,
          -0.18839764730747954,
          -0.26119243970765615,
          -0.19168468472064232,
          -0.25369527994388175,
          -0.20919967772286385,
          -0.23213912913667742,
          -0.30996243638486437,
          -0.3484312589861086,
          -0.4169201705361156,
          -0.3727690113437546,
          -0.6717537567198041,
          -0.5622293351189286,
          -0.49010023037480377,
          -0.6400427652964729,
          -0.6559650014761788,
          -0.6269963799909677,
          -0.8918894031496171
         ],
         "y": [
          0.008030173441224149,
          0.0043257395526026515,
          0.024730648914512387,
          -0.01095521989101784,
          -0.02848306736955394,
          0.027736579653420662,
          0.02662370531630542,
          -0.0012327935953952488,
          0.0300932405689284,
          0.04206412465331395,
          -0.0460377496570435,
          -0.01353235732610963,
          -0.08875360613083752,
          -0.07528793004194699,
          -0.03740474847552794,
          -0.02484202942053338,
          -0.0754577118789259,
          -0.07118828100262024,
          -0.048664762060015784,
          -0.11075210672338201,
          -0.08879744573112834,
          -0.10890780025752775,
          -0.12564251667651571,
          -0.11678124171443183,
          -0.08685390224732499,
          -0.06687459077259532,
          -0.1160519943551612,
          -0.1217962037957439,
          -0.07913782576251352,
          -0.12907548905680832,
          -0.09566469850970115,
          -0.0983626783324215,
          -0.11885224525279037,
          -0.10666452203636904,
          -0.11570538827365885,
          -0.12009948950810392,
          -0.11221779996214422,
          -0.12535862758305413,
          -0.1205444456736699,
          -0.1064110768363065,
          -0.10116552014994466,
          -0.09050060512598601,
          -0.10074579041297085,
          -0.0674204783789012,
          -0.15157884483282386,
          -0.1297253395370625,
          -0.10029964276705965,
          -0.14568140095432375,
          -0.13535411381769197,
          -0.21194936539692444
         ],
         "z": [
          0.1170783164546822,
          0.10642933459517855,
          0.09462088148769775,
          0.11716153963778819,
          0.12085369072702667,
          0.028542297675062705,
          0.036399764678211835,
          0.04092885756286379,
          0.027832450412154385,
          0.018270764916628435,
          -0.04162240319267772,
          -0.015412412417440045,
          -0.10568770926403762,
          -0.10682680112803149,
          -0.04378981707014241,
          -0.008015499841056574,
          -0.07628428666883431,
          -0.04502679699608657,
          -0.02266706563023574,
          -0.05130687560599103,
          -0.06595906616170065,
          -0.12898675861227307,
          -0.13566455079920992,
          -0.08589081375599447,
          -0.08365726255761591,
          -0.08221483107968329,
          -0.10501914985680809,
          -0.15554312252064834,
          -0.10270456104338066,
          -0.06717695806320359,
          -0.1253240831870447,
          -0.12848467379574077,
          -0.09827382755075417,
          -0.11220313099029332,
          -0.12352278594569088,
          -0.10732522271779009,
          -0.07696193189753062,
          -0.1132955927586164,
          -0.0804752592905948,
          -0.06659860366689503,
          -0.05310298502249093,
          -0.03637045114611728,
          -0.04835828952038499,
          -0.06286027948892664,
          -0.02895080463151364,
          -0.01618119072616734,
          -0.0002535830583957145,
          0.0038945434404548764,
          0.014337993401170736,
          0.034202511166432935
         ]
        },
        {
         "hovertemplate": "class=BlueFemale<br>ISOMAP1=%{x}<br>ISOMAP2=%{y}<br>ISOMAP3=%{z}<extra></extra>",
         "legendgroup": "BlueFemale",
         "marker": {
          "color": "#EF553B",
          "symbol": "circle"
         },
         "mode": "markers",
         "name": "BlueFemale",
         "scene": "scene",
         "showlegend": true,
         "type": "scatter3d",
         "x": [
          1.184628333145578,
          0.8951125656232073,
          0.9328800569161436,
          0.9111948391241758,
          0.8900345457153278,
          0.8050401630432136,
          0.7749754991453015,
          0.7408384943006688,
          0.7403149220713601,
          0.6796385528501219,
          0.717942047943865,
          0.6391401043647273,
          0.5165469786125055,
          0.5082967943895076,
          0.543173199029734,
          0.5172902432898056,
          0.438933421096396,
          0.5051724164176865,
          0.4608371339317414,
          0.36837695943541776,
          0.3426613243973785,
          0.35778918367015616,
          0.3173775144956168,
          0.33976031824116637,
          0.32667086097074877,
          0.2992346374261618,
          0.28261004567013825,
          0.23182181511712605,
          0.1342638117182104,
          0.16016916994531608,
          0.12840905967956906,
          -0.01197089755948975,
          -0.041305942651686606,
          0.024173267401532195,
          -0.0010615202918395953,
          0.0292208631220195,
          -0.10912302043964922,
          -0.047058533324299656,
          -0.02252819484830906,
          -0.09882929830044136,
          -0.032934362514031416,
          -0.11821275453317599,
          -0.08300373894052634,
          -0.1913874887638621,
          -0.1569462212343488,
          -0.1802148201036357,
          -0.3122964589711913,
          -0.4444393260840897,
          -0.47189026745468,
          -0.6572484919157101
         ],
         "y": [
          0.012185362472783227,
          0.03846966226173892,
          0.034374145804542545,
          0.035721696807276694,
          0.014841738717790995,
          0.06608231325665358,
          0.03332614563631537,
          0.06172887202806154,
          0.07750220392648179,
          0.029539984247235286,
          0.05305953616600448,
          0.07916494232113103,
          0.06821459010531593,
          0.035715586869275055,
          0.05430966448022424,
          0.022992196253239977,
          0.0720088826426652,
          0.015188920318242715,
          -0.012983437933847826,
          0.12824508889202807,
          0.06279726142361608,
          0.12869809464323295,
          0.11934322518753092,
          0.026260030827677083,
          0.0657898343548691,
          0.12223515291081669,
          0.059582022731817785,
          0.11718330112340937,
          0.08374037400617498,
          0.09444033071195404,
          0.10830548797767377,
          0.11069268507566854,
          0.12929139530575656,
          0.07502625347386817,
          0.08168220766669097,
          0.11432554238517811,
          0.11824944881542569,
          0.1325471908419809,
          0.05248100062474893,
          0.09424144229355934,
          0.1248974702298138,
          0.13992780090647808,
          0.09785391680543884,
          0.15941106207938333,
          0.18991563027094704,
          0.08576275968322311,
          0.1888374943683176,
          0.19531981733928255,
          0.1879937565216307,
          0.14743143143497262
         ],
         "z": [
          0.12332681712746904,
          0.06249737136925531,
          0.09520198511771572,
          0.06911716736265842,
          0.0864817760845555,
          0.05700114571606939,
          0.05372216804020262,
          0.0505761895918804,
          0.04464599304327485,
          0.043705815677030156,
          0.033562243081589206,
          0.037506664017029415,
          0.019227605323170832,
          0.018991479675391255,
          0.003987903953089893,
          0.025288415860359903,
          0.007923267950927206,
          0.012971363678442078,
          0.01187510159370264,
          -0.020206294163617064,
          -0.035404370461973,
          -0.01246788460040928,
          -0.044117784597688094,
          -0.022477699238392643,
          -0.04299855736010133,
          -0.02226481916291596,
          -0.040274981116350264,
          -0.04283612080927966,
          -0.07862927789991259,
          -0.07927905826913957,
          -0.10110820420598264,
          -0.12785087907429663,
          -0.1451707204269385,
          -0.08185923365744,
          -0.10239241681220404,
          -0.11166336370982587,
          -0.15058293727421598,
          -0.12768686665795073,
          -0.09740404432800094,
          -0.1113453850918997,
          -0.11358088280634658,
          -0.14440457859120065,
          -0.1140844601390133,
          -0.1446900351255422,
          -0.12776269099347604,
          -0.10242856801087144,
          -0.0737223987518793,
          -0.05438483055719433,
          -0.039524297404721104,
          -0.026624300015082366
         ]
        },
        {
         "hovertemplate": "class=OrangeMale<br>ISOMAP1=%{x}<br>ISOMAP2=%{y}<br>ISOMAP3=%{z}<extra></extra>",
         "legendgroup": "OrangeMale",
         "marker": {
          "color": "#00cc96",
          "symbol": "circle"
         },
         "mode": "markers",
         "name": "OrangeMale",
         "scene": "scene",
         "showlegend": true,
         "type": "scatter3d",
         "x": [
          1.0554840767900766,
          0.8254536697716849,
          0.776583882106745,
          0.662182689977623,
          0.580736750198556,
          0.5335114411458558,
          0.41407912009268744,
          0.3398786753915659,
          0.3761606771996125,
          0.31793840802019163,
          0.21411471492758408,
          0.2573257382374895,
          0.26284825300215225,
          0.2505999055335953,
          0.2632425204256124,
          0.2854978388330839,
          0.20055100264295914,
          0.19320204253298198,
          0.21247536725237617,
          0.12564317651728546,
          0.10555407508544548,
          0.14283486878542515,
          0.04578644343623891,
          0.004339317397159081,
          0.03863883475098561,
          -0.18988626327292185,
          -0.2416735142596499,
          -0.12653660941402617,
          -0.20539013445777946,
          -0.26042974404496266,
          -0.30125506579616,
          -0.3419442750554918,
          -0.41846318042209374,
          -0.40465875322611083,
          -0.38586666000950054,
          -0.35164296817429835,
          -0.37802676946232094,
          -0.46068935831414726,
          -0.4821141272796061,
          -0.5204788688907364,
          -0.5367642154804766,
          -0.6828954439937513,
          -0.7419282013104198,
          -0.8574293301758121,
          -0.8510826688236593,
          -0.77425667123365,
          -0.9074051749324828,
          -0.8787871252718278,
          -1.0267651177257622,
          -1.005544784029711
         ],
         "y": [
          0.0034138554401857207,
          -0.06680864878861793,
          -0.06421710255132135,
          -0.060444146012588636,
          -0.058497963420942836,
          -0.05692154436065178,
          -0.0506388543619301,
          -0.03244380431246406,
          -0.13661786310291432,
          -0.06826480164731397,
          -0.1167350711104642,
          -0.15430324240828105,
          -0.1544329097611041,
          -0.14694184347340583,
          -0.1552821759936284,
          -0.15779229312406906,
          -0.1360705214909162,
          -0.1332921690153136,
          -0.14513966840455253,
          -0.130599476177604,
          -0.12397871588161818,
          -0.1290537595170612,
          -0.07923574302967816,
          -0.14369081490754015,
          -0.14662204228741582,
          -0.11889065163307713,
          -0.1290622793010539,
          -0.13523218646810806,
          -0.11183363175205505,
          -0.14206683512836007,
          -0.13386354308997786,
          -0.12917463014906547,
          -0.11112481218834687,
          -0.13514149700237021,
          -0.13516605818376157,
          -0.12683826114708796,
          -0.13981061184113328,
          -0.14331224364291809,
          -0.10892371666899778,
          -0.12004809774473692,
          -0.15849513925034572,
          -0.17912915361454085,
          -0.16803523802055484,
          -0.20353856931390157,
          -0.20321423106564532,
          -0.19045008839029154,
          -0.19392875537886872,
          -0.1648600170407345,
          -0.13046041256446045,
          -0.21249487612326984
         ],
         "z": [
          0.11556225559568506,
          0.14548058162921407,
          0.13639204334454552,
          0.11696548679537318,
          0.09315196658973324,
          0.08866747028228461,
          0.06014088175177337,
          0.05320600872020164,
          0.06111896839453031,
          0.03753827173812519,
          -0.025340004490363912,
          -0.05667220568752705,
          -0.03103966956387329,
          -0.016335843954930613,
          0.0005340222659110522,
          0.026065626860435787,
          -0.021913953964901704,
          -0.051610133503774136,
          0.007227176028771466,
          -0.011488671264344044,
          -0.04717663251246348,
          -0.029412758495522294,
          -0.03049582641492347,
          0.009436087925910953,
          -0.012953554666508237,
          -0.027724603797435476,
          -0.0014637360527613424,
          0.013789178459042916,
          0.0008957713957105326,
          0.03999005443510398,
          -0.0012317822324214472,
          0.027467761276680415,
          -0.019183921753892226,
          0.022862958901476133,
          0.04748341551714857,
          0.02198628645761837,
          0.04886352069953016,
          0.04300412454114187,
          0.037235448844901105,
          0.058246100448182285,
          0.06230820778936171,
          0.0855250119255736,
          0.08872184983360908,
          0.13304893385589125,
          0.13049567319157795,
          0.10997889701430202,
          0.14211167474513256,
          0.13218131665589888,
          0.11778253071249266,
          0.14772017939457813
         ]
        },
        {
         "hovertemplate": "class=OrangeFemale<br>ISOMAP1=%{x}<br>ISOMAP2=%{y}<br>ISOMAP3=%{z}<extra></extra>",
         "legendgroup": "OrangeFemale",
         "marker": {
          "color": "#ab63fa",
          "symbol": "circle"
         },
         "mode": "markers",
         "name": "OrangeFemale",
         "scene": "scene",
         "showlegend": true,
         "type": "scatter3d",
         "x": [
          0.730657418729397,
          0.7044149162374328,
          0.5260652820977776,
          0.4385791431223026,
          0.3956274186764121,
          0.262524442268043,
          0.19339137366705847,
          0.22533951398537558,
          0.1261685111074233,
          0.10403601655431816,
          0.10771046133125471,
          0.013651825777662229,
          -0.007704008739048097,
          0.012357498108709805,
          0.02156772841041382,
          -0.026415717823110127,
          -0.02585511362728596,
          -0.03129486063935804,
          -0.11251493711908878,
          -0.14478306078075684,
          -0.24659710749820624,
          -0.25479591553945163,
          -0.17732494394208168,
          -0.21785326676365693,
          -0.28489465115425977,
          -0.4717701090522691,
          -0.3501336538616881,
          -0.3406445916882086,
          -0.3918454521439647,
          -0.4030089060619511,
          -0.2664329279252471,
          -0.3724272433543861,
          -0.4191223829840982,
          -0.4620268232079093,
          -0.48645052537332534,
          -0.5937201347488698,
          -0.5811425194313966,
          -0.6930558467454669,
          -0.6139181556213837,
          -0.6468594656170035,
          -0.5931503462714403,
          -0.7036412114577772,
          -0.7281688861480997,
          -0.6318044639188244,
          -0.8568767439685923,
          -0.7613204798059872,
          -0.8071643850330235,
          -0.8273243990440409,
          -0.8824893927316153,
          -1.073382845282895
         ],
         "y": [
          0.04296673983548328,
          -0.050872121757831526,
          -0.05458814241231854,
          -0.00103255507726683,
          -0.03930007478519245,
          0.056676855452364276,
          0.11398300603139398,
          0.09549299178158872,
          0.10695503680008424,
          0.10294928611900475,
          -0.05566854717656056,
          0.10985908762199648,
          0.12311100596359632,
          0.12855486533964064,
          0.11921904987385763,
          0.11277822375811657,
          0.11486790458308045,
          0.12079344639763727,
          0.1095948989565219,
          0.11190583822933518,
          0.10339912622912062,
          0.10831213396297941,
          0.11369607563702917,
          0.09909888243484746,
          0.1067901476811916,
          0.17812885015698193,
          0.13893834657019988,
          0.13209415208863157,
          0.14148989062761855,
          0.03870156912807771,
          0.10201925209099884,
          0.11971750338665317,
          0.19600317861726896,
          0.1499815465459954,
          0.15861235622106049,
          0.167325556021986,
          0.1594543140175625,
          0.18883235483650931,
          0.1598720156308337,
          0.16949245390388235,
          0.10386185163984514,
          0.1700819917635174,
          0.18528224497469237,
          0.14628669109280334,
          0.20894171657846847,
          0.1913101281383725,
          0.16844288307177893,
          0.1723351440500227,
          0.18043438560811384,
          0.27178103605326354
         ],
         "z": [
          0.07895804038161619,
          0.10287966689204926,
          0.07784064039791364,
          0.007565936174745101,
          0.028821581121259144,
          0.026721685415661996,
          -0.006907280084392624,
          -0.022486867836766723,
          -0.013633778942686964,
          -0.01864051361147572,
          -0.04888678173257235,
          -0.01800556425082961,
          -0.03316499843483732,
          -0.023020199710636017,
          0.0014938993458700792,
          0.0007939408551728705,
          0.0014009266012391768,
          0.014032454615102143,
          -0.006417185555068133,
          0.014137242633031183,
          -0.030312356543536114,
          -0.02538582072441488,
          0.026235900181736476,
          -0.012208917307665811,
          0.031785688267583094,
          -0.03731268721342422,
          0.008580585756246472,
          0.021457417609116895,
          0.026888927128778585,
          -0.0032441969054720393,
          0.023600329085168886,
          0.014941354128064936,
          -0.07151924934238663,
          0.02810401085188269,
          0.041244850834551545,
          0.06612736564586716,
          0.06598576071865209,
          0.06557067009256382,
          0.07229698067744611,
          0.07709038103200803,
          0.025713964522811435,
          0.08952900426696231,
          0.11026420694608008,
          0.06939665098241139,
          0.1320721566593801,
          0.11108710833819688,
          0.12378284003248903,
          0.12837538354084158,
          0.1397842946051549,
          0.16650606475142876
         ]
        }
       ],
       "layout": {
        "legend": {
         "title": {
          "text": "class"
         },
         "tracegroupgap": 0
        },
        "margin": {
         "t": 60
        },
        "scene": {
         "domain": {
          "x": [
           0,
           1
          ],
          "y": [
           0,
           1
          ]
         },
         "xaxis": {
          "title": {
           "text": "ISOMAP1"
          }
         },
         "yaxis": {
          "title": {
           "text": "ISOMAP2"
          }
         },
         "zaxis": {
          "title": {
           "text": "ISOMAP3"
          }
         }
        },
        "template": {
         "data": {
          "bar": [
           {
            "error_x": {
             "color": "#2a3f5f"
            },
            "error_y": {
             "color": "#2a3f5f"
            },
            "marker": {
             "line": {
              "color": "#E5ECF6",
              "width": 0.5
             },
             "pattern": {
              "fillmode": "overlay",
              "size": 10,
              "solidity": 0.2
             }
            },
            "type": "bar"
           }
          ],
          "barpolar": [
           {
            "marker": {
             "line": {
              "color": "#E5ECF6",
              "width": 0.5
             },
             "pattern": {
              "fillmode": "overlay",
              "size": 10,
              "solidity": 0.2
             }
            },
            "type": "barpolar"
           }
          ],
          "carpet": [
           {
            "aaxis": {
             "endlinecolor": "#2a3f5f",
             "gridcolor": "white",
             "linecolor": "white",
             "minorgridcolor": "white",
             "startlinecolor": "#2a3f5f"
            },
            "baxis": {
             "endlinecolor": "#2a3f5f",
             "gridcolor": "white",
             "linecolor": "white",
             "minorgridcolor": "white",
             "startlinecolor": "#2a3f5f"
            },
            "type": "carpet"
           }
          ],
          "choropleth": [
           {
            "colorbar": {
             "outlinewidth": 0,
             "ticks": ""
            },
            "type": "choropleth"
           }
          ],
          "contour": [
           {
            "colorbar": {
             "outlinewidth": 0,
             "ticks": ""
            },
            "colorscale": [
             [
              0,
              "#0d0887"
             ],
             [
              0.1111111111111111,
              "#46039f"
             ],
             [
              0.2222222222222222,
              "#7201a8"
             ],
             [
              0.3333333333333333,
              "#9c179e"
             ],
             [
              0.4444444444444444,
              "#bd3786"
             ],
             [
              0.5555555555555556,
              "#d8576b"
             ],
             [
              0.6666666666666666,
              "#ed7953"
             ],
             [
              0.7777777777777778,
              "#fb9f3a"
             ],
             [
              0.8888888888888888,
              "#fdca26"
             ],
             [
              1,
              "#f0f921"
             ]
            ],
            "type": "contour"
           }
          ],
          "contourcarpet": [
           {
            "colorbar": {
             "outlinewidth": 0,
             "ticks": ""
            },
            "type": "contourcarpet"
           }
          ],
          "heatmap": [
           {
            "colorbar": {
             "outlinewidth": 0,
             "ticks": ""
            },
            "colorscale": [
             [
              0,
              "#0d0887"
             ],
             [
              0.1111111111111111,
              "#46039f"
             ],
             [
              0.2222222222222222,
              "#7201a8"
             ],
             [
              0.3333333333333333,
              "#9c179e"
             ],
             [
              0.4444444444444444,
              "#bd3786"
             ],
             [
              0.5555555555555556,
              "#d8576b"
             ],
             [
              0.6666666666666666,
              "#ed7953"
             ],
             [
              0.7777777777777778,
              "#fb9f3a"
             ],
             [
              0.8888888888888888,
              "#fdca26"
             ],
             [
              1,
              "#f0f921"
             ]
            ],
            "type": "heatmap"
           }
          ],
          "heatmapgl": [
           {
            "colorbar": {
             "outlinewidth": 0,
             "ticks": ""
            },
            "colorscale": [
             [
              0,
              "#0d0887"
             ],
             [
              0.1111111111111111,
              "#46039f"
             ],
             [
              0.2222222222222222,
              "#7201a8"
             ],
             [
              0.3333333333333333,
              "#9c179e"
             ],
             [
              0.4444444444444444,
              "#bd3786"
             ],
             [
              0.5555555555555556,
              "#d8576b"
             ],
             [
              0.6666666666666666,
              "#ed7953"
             ],
             [
              0.7777777777777778,
              "#fb9f3a"
             ],
             [
              0.8888888888888888,
              "#fdca26"
             ],
             [
              1,
              "#f0f921"
             ]
            ],
            "type": "heatmapgl"
           }
          ],
          "histogram": [
           {
            "marker": {
             "pattern": {
              "fillmode": "overlay",
              "size": 10,
              "solidity": 0.2
             }
            },
            "type": "histogram"
           }
          ],
          "histogram2d": [
           {
            "colorbar": {
             "outlinewidth": 0,
             "ticks": ""
            },
            "colorscale": [
             [
              0,
              "#0d0887"
             ],
             [
              0.1111111111111111,
              "#46039f"
             ],
             [
              0.2222222222222222,
              "#7201a8"
             ],
             [
              0.3333333333333333,
              "#9c179e"
             ],
             [
              0.4444444444444444,
              "#bd3786"
             ],
             [
              0.5555555555555556,
              "#d8576b"
             ],
             [
              0.6666666666666666,
              "#ed7953"
             ],
             [
              0.7777777777777778,
              "#fb9f3a"
             ],
             [
              0.8888888888888888,
              "#fdca26"
             ],
             [
              1,
              "#f0f921"
             ]
            ],
            "type": "histogram2d"
           }
          ],
          "histogram2dcontour": [
           {
            "colorbar": {
             "outlinewidth": 0,
             "ticks": ""
            },
            "colorscale": [
             [
              0,
              "#0d0887"
             ],
             [
              0.1111111111111111,
              "#46039f"
             ],
             [
              0.2222222222222222,
              "#7201a8"
             ],
             [
              0.3333333333333333,
              "#9c179e"
             ],
             [
              0.4444444444444444,
              "#bd3786"
             ],
             [
              0.5555555555555556,
              "#d8576b"
             ],
             [
              0.6666666666666666,
              "#ed7953"
             ],
             [
              0.7777777777777778,
              "#fb9f3a"
             ],
             [
              0.8888888888888888,
              "#fdca26"
             ],
             [
              1,
              "#f0f921"
             ]
            ],
            "type": "histogram2dcontour"
           }
          ],
          "mesh3d": [
           {
            "colorbar": {
             "outlinewidth": 0,
             "ticks": ""
            },
            "type": "mesh3d"
           }
          ],
          "parcoords": [
           {
            "line": {
             "colorbar": {
              "outlinewidth": 0,
              "ticks": ""
             }
            },
            "type": "parcoords"
           }
          ],
          "pie": [
           {
            "automargin": true,
            "type": "pie"
           }
          ],
          "scatter": [
           {
            "fillpattern": {
             "fillmode": "overlay",
             "size": 10,
             "solidity": 0.2
            },
            "type": "scatter"
           }
          ],
          "scatter3d": [
           {
            "line": {
             "colorbar": {
              "outlinewidth": 0,
              "ticks": ""
             }
            },
            "marker": {
             "colorbar": {
              "outlinewidth": 0,
              "ticks": ""
             }
            },
            "type": "scatter3d"
           }
          ],
          "scattercarpet": [
           {
            "marker": {
             "colorbar": {
              "outlinewidth": 0,
              "ticks": ""
             }
            },
            "type": "scattercarpet"
           }
          ],
          "scattergeo": [
           {
            "marker": {
             "colorbar": {
              "outlinewidth": 0,
              "ticks": ""
             }
            },
            "type": "scattergeo"
           }
          ],
          "scattergl": [
           {
            "marker": {
             "colorbar": {
              "outlinewidth": 0,
              "ticks": ""
             }
            },
            "type": "scattergl"
           }
          ],
          "scattermapbox": [
           {
            "marker": {
             "colorbar": {
              "outlinewidth": 0,
              "ticks": ""
             }
            },
            "type": "scattermapbox"
           }
          ],
          "scatterpolar": [
           {
            "marker": {
             "colorbar": {
              "outlinewidth": 0,
              "ticks": ""
             }
            },
            "type": "scatterpolar"
           }
          ],
          "scatterpolargl": [
           {
            "marker": {
             "colorbar": {
              "outlinewidth": 0,
              "ticks": ""
             }
            },
            "type": "scatterpolargl"
           }
          ],
          "scatterternary": [
           {
            "marker": {
             "colorbar": {
              "outlinewidth": 0,
              "ticks": ""
             }
            },
            "type": "scatterternary"
           }
          ],
          "surface": [
           {
            "colorbar": {
             "outlinewidth": 0,
             "ticks": ""
            },
            "colorscale": [
             [
              0,
              "#0d0887"
             ],
             [
              0.1111111111111111,
              "#46039f"
             ],
             [
              0.2222222222222222,
              "#7201a8"
             ],
             [
              0.3333333333333333,
              "#9c179e"
             ],
             [
              0.4444444444444444,
              "#bd3786"
             ],
             [
              0.5555555555555556,
              "#d8576b"
             ],
             [
              0.6666666666666666,
              "#ed7953"
             ],
             [
              0.7777777777777778,
              "#fb9f3a"
             ],
             [
              0.8888888888888888,
              "#fdca26"
             ],
             [
              1,
              "#f0f921"
             ]
            ],
            "type": "surface"
           }
          ],
          "table": [
           {
            "cells": {
             "fill": {
              "color": "#EBF0F8"
             },
             "line": {
              "color": "white"
             }
            },
            "header": {
             "fill": {
              "color": "#C8D4E3"
             },
             "line": {
              "color": "white"
             }
            },
            "type": "table"
           }
          ]
         },
         "layout": {
          "annotationdefaults": {
           "arrowcolor": "#2a3f5f",
           "arrowhead": 0,
           "arrowwidth": 1
          },
          "autotypenumbers": "strict",
          "coloraxis": {
           "colorbar": {
            "outlinewidth": 0,
            "ticks": ""
           }
          },
          "colorscale": {
           "diverging": [
            [
             0,
             "#8e0152"
            ],
            [
             0.1,
             "#c51b7d"
            ],
            [
             0.2,
             "#de77ae"
            ],
            [
             0.3,
             "#f1b6da"
            ],
            [
             0.4,
             "#fde0ef"
            ],
            [
             0.5,
             "#f7f7f7"
            ],
            [
             0.6,
             "#e6f5d0"
            ],
            [
             0.7,
             "#b8e186"
            ],
            [
             0.8,
             "#7fbc41"
            ],
            [
             0.9,
             "#4d9221"
            ],
            [
             1,
             "#276419"
            ]
           ],
           "sequential": [
            [
             0,
             "#0d0887"
            ],
            [
             0.1111111111111111,
             "#46039f"
            ],
            [
             0.2222222222222222,
             "#7201a8"
            ],
            [
             0.3333333333333333,
             "#9c179e"
            ],
            [
             0.4444444444444444,
             "#bd3786"
            ],
            [
             0.5555555555555556,
             "#d8576b"
            ],
            [
             0.6666666666666666,
             "#ed7953"
            ],
            [
             0.7777777777777778,
             "#fb9f3a"
            ],
            [
             0.8888888888888888,
             "#fdca26"
            ],
            [
             1,
             "#f0f921"
            ]
           ],
           "sequentialminus": [
            [
             0,
             "#0d0887"
            ],
            [
             0.1111111111111111,
             "#46039f"
            ],
            [
             0.2222222222222222,
             "#7201a8"
            ],
            [
             0.3333333333333333,
             "#9c179e"
            ],
            [
             0.4444444444444444,
             "#bd3786"
            ],
            [
             0.5555555555555556,
             "#d8576b"
            ],
            [
             0.6666666666666666,
             "#ed7953"
            ],
            [
             0.7777777777777778,
             "#fb9f3a"
            ],
            [
             0.8888888888888888,
             "#fdca26"
            ],
            [
             1,
             "#f0f921"
            ]
           ]
          },
          "colorway": [
           "#636efa",
           "#EF553B",
           "#00cc96",
           "#ab63fa",
           "#FFA15A",
           "#19d3f3",
           "#FF6692",
           "#B6E880",
           "#FF97FF",
           "#FECB52"
          ],
          "font": {
           "color": "#2a3f5f"
          },
          "geo": {
           "bgcolor": "white",
           "lakecolor": "white",
           "landcolor": "#E5ECF6",
           "showlakes": true,
           "showland": true,
           "subunitcolor": "white"
          },
          "hoverlabel": {
           "align": "left"
          },
          "hovermode": "closest",
          "mapbox": {
           "style": "light"
          },
          "paper_bgcolor": "white",
          "plot_bgcolor": "#E5ECF6",
          "polar": {
           "angularaxis": {
            "gridcolor": "white",
            "linecolor": "white",
            "ticks": ""
           },
           "bgcolor": "#E5ECF6",
           "radialaxis": {
            "gridcolor": "white",
            "linecolor": "white",
            "ticks": ""
           }
          },
          "scene": {
           "xaxis": {
            "backgroundcolor": "#E5ECF6",
            "gridcolor": "white",
            "gridwidth": 2,
            "linecolor": "white",
            "showbackground": true,
            "ticks": "",
            "zerolinecolor": "white"
           },
           "yaxis": {
            "backgroundcolor": "#E5ECF6",
            "gridcolor": "white",
            "gridwidth": 2,
            "linecolor": "white",
            "showbackground": true,
            "ticks": "",
            "zerolinecolor": "white"
           },
           "zaxis": {
            "backgroundcolor": "#E5ECF6",
            "gridcolor": "white",
            "gridwidth": 2,
            "linecolor": "white",
            "showbackground": true,
            "ticks": "",
            "zerolinecolor": "white"
           }
          },
          "shapedefaults": {
           "line": {
            "color": "#2a3f5f"
           }
          },
          "ternary": {
           "aaxis": {
            "gridcolor": "white",
            "linecolor": "white",
            "ticks": ""
           },
           "baxis": {
            "gridcolor": "white",
            "linecolor": "white",
            "ticks": ""
           },
           "bgcolor": "#E5ECF6",
           "caxis": {
            "gridcolor": "white",
            "linecolor": "white",
            "ticks": ""
           }
          },
          "title": {
           "x": 0.05
          },
          "xaxis": {
           "automargin": true,
           "gridcolor": "white",
           "linecolor": "white",
           "ticks": "",
           "title": {
            "standoff": 15
           },
           "zerolinecolor": "white",
           "zerolinewidth": 2
          },
          "yaxis": {
           "automargin": true,
           "gridcolor": "white",
           "linecolor": "white",
           "ticks": "",
           "title": {
            "standoff": 15
           },
           "zerolinecolor": "white",
           "zerolinewidth": 2
          }
         }
        }
       }
      }
     },
     "metadata": {},
     "output_type": "display_data"
    }
   ],
   "source": [
    "import plotly.express as px\n",
    "\n",
    "fig = px.scatter_3d(df_scaled, x=\"ISOMAP1\", y=\"ISOMAP2\", z=\"ISOMAP3\", color=\"class\")\n",
    "fig.show()"
   ]
  },
  {
   "cell_type": "markdown",
   "id": "51945381",
   "metadata": {},
   "source": [
    "Again, you can see Organe Male and Blue Male have similar clusterings compared to Orange Female and Blue Female, suggesting the original data for those respective classes likely has similar features."
   ]
  },
  {
   "cell_type": "markdown",
   "id": "0d37de9b",
   "metadata": {},
   "source": [
    "Let's check it out:  \n",
    "\n",
    "Again it seems the second, and fourth features are the most similar.\n",
    "What about the... less likely class?\n",
    "\n",
    "Very different all features are very different this time around, which aligns with our suspicions. "
   ]
  },
  {
   "cell_type": "code",
   "execution_count": 28,
   "id": "5e9bb0fb",
   "metadata": {},
   "outputs": [],
   "source": [
    "# df_scaled[df_scaled[\"class\"] == \"OrangeFemale\"] #.2, -.10, -0.05 # -.7, .2 .1\n",
    "\n",
    "# similar\n",
    "# 116\tOrange\tMale\t17\t0.440252\t0.350365\t0.440729\t0.402667\t0.477419\tOrangeMale\t0.200551\t-0.136071\t-0.021914\n",
    "# 117\tOrange\tMale\t18\t0.465409\t0.350365\t0.462006\t0.437333\t0.432258\tOrangeMale\t0.193202\t-0.133292\t-0.051610\n",
    "# 118\tOrange\tMale\t19\t0.471698\t0.335766\t0.434650\t0.400000\t0.451613\tOrangeMale\t0.212475\t-0.145140\t0.007227\n",
    "\n",
    "# 17\tBlue\tMale\t18\t0.371069\t0.321168\t0.413374\t0.408000\t0.329032\tBlueMale\t0.326668\t-0.071188\t-0.045027\n",
    "# 18\tBlue\tMale\t19\t0.383648\t0.335766\t0.398176\t0.405333\t0.335484\tBlueMale\t0.321797\t-0.048665\t-0.022667\n",
    "# 19\tBlue\tMale\t20\t0.421384\t0.335766\t0.440729\t0.432000\t0.387097\tBlueMale\t0.249927\t-0.110752\t-0.051307\n",
    "# 20\tBlue\tMale\t21\t0.446541\t0.372263\t0.504559\t0.490667\t0.425806\tBlueMale\t0.141959\t-0.088797\t-0.065959\n",
    "\n",
    "#dissimilar\n",
    "# 194\tOrange\tFemale\t45\t0.886792\t0.868613\t0.884498\t0.834667\t0.896774\tOrangeFemale\t-0.856877\t0.208942\t0.132072\n",
    "# 195\tOrange\tFemale\t46\t0.893082\t0.839416\t0.805471\t0.776000\t0.812903\tOrangeFemale\t-0.761320\t0.191310\t0.111087\n",
    "# 196\tOrange\tFemale\t47\t0.911950\t0.773723\t0.820669\t0.802667\t0.870968\tOrangeFemale\t-0.807164\t0.168443\t0.123783\n",
    "\n"
   ]
  },
  {
   "cell_type": "code",
   "execution_count": null,
   "id": "d416ac2a",
   "metadata": {},
   "outputs": [],
   "source": []
  }
 ],
 "metadata": {
  "kernelspec": {
   "display_name": "machineLearning",
   "language": "python",
   "name": "python3"
  },
  "language_info": {
   "codemirror_mode": {
    "name": "ipython",
    "version": 3
   },
   "file_extension": ".py",
   "mimetype": "text/x-python",
   "name": "python",
   "nbconvert_exporter": "python",
   "pygments_lexer": "ipython3",
   "version": "3.12.0"
  }
 },
 "nbformat": 4,
 "nbformat_minor": 5
}
