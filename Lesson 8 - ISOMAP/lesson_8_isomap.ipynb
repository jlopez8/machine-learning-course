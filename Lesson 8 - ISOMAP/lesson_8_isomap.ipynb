{
 "cells": [
  {
   "cell_type": "markdown",
   "id": "338373bd",
   "metadata": {},
   "source": [
    "# Isomap"
   ]
  },
  {
   "cell_type": "markdown",
   "id": "ee0cda4b",
   "metadata": {},
   "source": [
    "Visualization technique.  \n",
    "\n",
    "We need knn's to construct a neighborhood graph, where each point is connected to each of its k-neighbors.  \n",
    "\n",
    "The graphs edge length (weight) is the Euclidean distance between each point. It is the geodesic distance, ie, the shortest distance between two points on a surface. On a plance, this is the Euclidean distance.\n",
    "\n",
    "We want to comput the shortest path between two nodes using:  \n",
    "- Dijkstra's algorithm  \n",
    "- Floyd-Warshall algorithm  \n",
    "\n",
    "Then we compute the lower-dimensional embedding using MDS (multidimensional scaling) by default."
   ]
  },
  {
   "cell_type": "markdown",
   "id": "5d711cf1",
   "metadata": {},
   "source": [
    "## Imports"
   ]
  },
  {
   "cell_type": "code",
   "execution_count": 19,
   "id": "7e1aa158",
   "metadata": {},
   "outputs": [],
   "source": [
    "import matplotlib.pyplot as plt\n",
    "import seaborn as sns\n",
    "\n",
    "import pandas as pd\n",
    "\n",
    "from sklearn.manifold import Isomap\n",
    "from sklearn.preprocessing import MinMaxScaler"
   ]
  },
  {
   "cell_type": "markdown",
   "id": "933536f8",
   "metadata": {},
   "source": [
    "## Get Data"
   ]
  },
  {
   "cell_type": "code",
   "execution_count": 44,
   "id": "f59337ff",
   "metadata": {},
   "outputs": [],
   "source": [
    "def get_data():\n",
    "    df = pd.read_csv(\"crabs.csv\")\n",
    "\n",
    "    # re-format data\n",
    "    df.rename(columns={\n",
    "        \"sp\": \"species\", \"FL\": \"Frontal Lobe\", \"RW\": \"Rear Width\", \"CL\": \"Carapace Midline\", \"CW\": \"Maximum Width\", \"BD\": \"Body Depth\"\n",
    "    }, inplace=True)\n",
    "\n",
    "    # remap cat var designator\n",
    "    df[\"species\"] = df[\"species\"].map({\n",
    "        \"B\": \"Blue\", \"O\": \"Orange\"\n",
    "    })\n",
    "\n",
    "    df[\"sex\"] = df[\"sex\"].map({\n",
    "        \"M\": \"Male\", \"F\": \"Female\"\n",
    "    })\n",
    "\n",
    "    # Add a species designation, whic is going to be unique combo of sex and species\n",
    "    df[\"class\"] = df[\"species\"] + df[\"sex\"]\n",
    "\n",
    "    return df"
   ]
  },
  {
   "cell_type": "code",
   "execution_count": 45,
   "id": "2f878f05",
   "metadata": {},
   "outputs": [
    {
     "data": {
      "text/html": [
       "<div>\n",
       "<style scoped>\n",
       "    .dataframe tbody tr th:only-of-type {\n",
       "        vertical-align: middle;\n",
       "    }\n",
       "\n",
       "    .dataframe tbody tr th {\n",
       "        vertical-align: top;\n",
       "    }\n",
       "\n",
       "    .dataframe thead th {\n",
       "        text-align: right;\n",
       "    }\n",
       "</style>\n",
       "<table border=\"1\" class=\"dataframe\">\n",
       "  <thead>\n",
       "    <tr style=\"text-align: right;\">\n",
       "      <th></th>\n",
       "      <th>rownames</th>\n",
       "      <th>species</th>\n",
       "      <th>sex</th>\n",
       "      <th>index</th>\n",
       "      <th>Frontal Lobe</th>\n",
       "      <th>Rear Width</th>\n",
       "      <th>Carapace Midline</th>\n",
       "      <th>Maximum Width</th>\n",
       "      <th>Body Depth</th>\n",
       "      <th>class</th>\n",
       "    </tr>\n",
       "  </thead>\n",
       "  <tbody>\n",
       "    <tr>\n",
       "      <th>0</th>\n",
       "      <td>1</td>\n",
       "      <td>Blue</td>\n",
       "      <td>Male</td>\n",
       "      <td>1</td>\n",
       "      <td>8.1</td>\n",
       "      <td>6.7</td>\n",
       "      <td>16.1</td>\n",
       "      <td>19.0</td>\n",
       "      <td>7.0</td>\n",
       "      <td>BlueMale</td>\n",
       "    </tr>\n",
       "    <tr>\n",
       "      <th>1</th>\n",
       "      <td>2</td>\n",
       "      <td>Blue</td>\n",
       "      <td>Male</td>\n",
       "      <td>2</td>\n",
       "      <td>8.8</td>\n",
       "      <td>7.7</td>\n",
       "      <td>18.1</td>\n",
       "      <td>20.8</td>\n",
       "      <td>7.4</td>\n",
       "      <td>BlueMale</td>\n",
       "    </tr>\n",
       "    <tr>\n",
       "      <th>2</th>\n",
       "      <td>3</td>\n",
       "      <td>Blue</td>\n",
       "      <td>Male</td>\n",
       "      <td>3</td>\n",
       "      <td>9.2</td>\n",
       "      <td>7.8</td>\n",
       "      <td>19.0</td>\n",
       "      <td>22.4</td>\n",
       "      <td>7.7</td>\n",
       "      <td>BlueMale</td>\n",
       "    </tr>\n",
       "    <tr>\n",
       "      <th>3</th>\n",
       "      <td>4</td>\n",
       "      <td>Blue</td>\n",
       "      <td>Male</td>\n",
       "      <td>4</td>\n",
       "      <td>9.6</td>\n",
       "      <td>7.9</td>\n",
       "      <td>20.1</td>\n",
       "      <td>23.1</td>\n",
       "      <td>8.2</td>\n",
       "      <td>BlueMale</td>\n",
       "    </tr>\n",
       "    <tr>\n",
       "      <th>4</th>\n",
       "      <td>5</td>\n",
       "      <td>Blue</td>\n",
       "      <td>Male</td>\n",
       "      <td>5</td>\n",
       "      <td>9.8</td>\n",
       "      <td>8.0</td>\n",
       "      <td>20.3</td>\n",
       "      <td>23.0</td>\n",
       "      <td>8.2</td>\n",
       "      <td>BlueMale</td>\n",
       "    </tr>\n",
       "  </tbody>\n",
       "</table>\n",
       "</div>"
      ],
      "text/plain": [
       "   rownames species   sex  index  Frontal Lobe  Rear Width  Carapace Midline  \\\n",
       "0         1    Blue  Male      1           8.1         6.7              16.1   \n",
       "1         2    Blue  Male      2           8.8         7.7              18.1   \n",
       "2         3    Blue  Male      3           9.2         7.8              19.0   \n",
       "3         4    Blue  Male      4           9.6         7.9              20.1   \n",
       "4         5    Blue  Male      5           9.8         8.0              20.3   \n",
       "\n",
       "   Maximum Width  Body Depth     class  \n",
       "0           19.0         7.0  BlueMale  \n",
       "1           20.8         7.4  BlueMale  \n",
       "2           22.4         7.7  BlueMale  \n",
       "3           23.1         8.2  BlueMale  \n",
       "4           23.0         8.2  BlueMale  "
      ]
     },
     "execution_count": 45,
     "metadata": {},
     "output_type": "execute_result"
    }
   ],
   "source": [
    "df = get_data()\n",
    "\n",
    "# Select data columns\n",
    "data_columns = [\"Frontal Lobe\", \"Rear Width\", \"Carapace Midline\", \"Maximum Width\", \"Body Depth\"]\n",
    "\n",
    "df.head()"
   ]
  },
  {
   "cell_type": "markdown",
   "id": "1dac89a6",
   "metadata": {},
   "source": [
    "## Scale Data"
   ]
  },
  {
   "cell_type": "code",
   "execution_count": 46,
   "id": "6176cd91",
   "metadata": {},
   "outputs": [],
   "source": [
    "from sklearn.preprocessing import MinMaxScaler\n",
    "\n",
    "df_scaled = df.copy(deep=True)\n",
    "df_scaled[data_columns] = MinMaxScaler().fit_transform(df_scaled[data_columns])"
   ]
  },
  {
   "cell_type": "markdown",
   "id": "5dba7001",
   "metadata": {},
   "source": [
    "## Apply to 2D"
   ]
  },
  {
   "cell_type": "code",
   "execution_count": null,
   "id": "86762a40",
   "metadata": {},
   "outputs": [
    {
     "name": "stdout",
     "output_type": "stream",
     "text": [
      "Reconstruction Error:\n",
      " 0.009501240251169362\n"
     ]
    }
   ],
   "source": [
    "from sklearn.manifold import Isomap\n",
    "\n",
    "df_isomap = df.copy(deep=True)\n",
    "\n",
    "isomap = Isomap(n_components=2, n_neighbors=10)\n",
    "df_scaled[[\"ISOMAP1\", \"ISOMAP2\"]] = isomap.fit_transform(df_scaled[data_columns])\n",
    "df_scaled.head()\n",
    "\n",
    "# Error we have with embedding. \n",
    "print(\"Reconstruction Error:\\n\", isomap.reconstruction_error())"
   ]
  },
  {
   "cell_type": "markdown",
   "id": "b405dbfa",
   "metadata": {},
   "source": [
    "## Plot 2D"
   ]
  },
  {
   "cell_type": "code",
   "execution_count": 48,
   "id": "0257045f",
   "metadata": {},
   "outputs": [
    {
     "data": {
      "text/plain": [
       "<Axes: xlabel='ISOMAP1', ylabel='ISOMAP2'>"
      ]
     },
     "execution_count": 48,
     "metadata": {},
     "output_type": "execute_result"
    },
    {
     "data": {
      "image/png": "[encoded data removed]",
      "text/plain": [
       "<Figure size 800x494.438 with 1 Axes>"
      ]
     },
     "metadata": {},
     "output_type": "display_data"
    }
   ],
   "source": [
    "import seaborn as sns\n",
    "\n",
    "fig = plt.figure(figsize=(8, 8/1.618))\n",
    "\n",
    "sns.scatterplot(x=\"ISOMAP1\", y=\"ISOMAP2\", hue=\"class\", data=df_scaled)"
   ]
  },
  {
   "cell_type": "markdown",
   "id": "282ad495",
   "metadata": {},
   "source": [
    "## Conclusion 1"
   ]
  },
  {
   "cell_type": "markdown",
   "id": "2b9798ef",
   "metadata": {},
   "source": [
    "We can see the class OrangeFemale is very difference from the class OrangeMale for points with lower ISOMAP1 values. This can be backtraced to the original data for the corresponding rows and the original data. For example:  (although it's not quite showing up in the data like I would expect).\n",
    "\n",
    "OrangeFemale ISOMAP ~ -1\n",
    "198\t199\tOrange\tFemale\t49\t0.962264\t0.781022\t0.860182\t0.842667\t0.883871\tOrangeFemale\t-0.882489\t0.180434\n",
    "199\t200\tOrange\tFemale\t50\t1.000000\t1.000000\t0.957447\t0.944000\t0.967742\tOrangeFemale\t-1.073383\t0.271781\n",
    "\n",
    "OrangeMale ISOMAP ~ -1\n",
    "148\t149\tOrange\tMale\t49\t0.993711\t0.751825\t0.987842\t0.933333\t0.993548\tOrangeMale\t-1.026765\t-0.130460\n",
    "149\t150\tOrange\tMale\t50\t1.000000\t0.671533\t1.000000\t0.952000\t1.000000\tOrangeMale\t-1.005545\t-0.212495\n",
    "\n",
    "BlueFemale ISOMAP ~ -1\n",
    "98\t99\tBlue\tFemale\t49\t0.647799\t0.744526\t0.726444\t0.730667\t0.703226\tBlueFemale\t-0.471890\t0.187994\n",
    "99\t100\tBlue\tFemale\t50\t0.754717\t0.729927\t0.796353\t0.821333\t0.774194\tBlueFemale\t-0.657248\t0.147431\n",
    "\n"
   ]
  },
  {
   "cell_type": "code",
   "execution_count": null,
   "id": "4c409df2",
   "metadata": {},
   "outputs": [],
   "source": []
  }
 ],
 "metadata": {
  "kernelspec": {
   "display_name": "Python 3",
   "language": "python",
   "name": "python3"
  },
  "language_info": {
   "codemirror_mode": {
    "name": "ipython",
    "version": 3
   },
   "file_extension": ".py",
   "mimetype": "text/x-python",
   "name": "python",
   "nbconvert_exporter": "python",
   "pygments_lexer": "ipython3",
   "version": "3.13.3"
  }
 },
 "nbformat": 4,
 "nbformat_minor": 5
}
