{
 "cells": [
  {
   "cell_type": "markdown",
   "metadata": {},
   "source": [
    "# Lesson 11: Linear Regression"
   ]
  },
  {
   "cell_type": "markdown",
   "metadata": {},
   "source": [
    "We aim to predict the life expenctancy of different countries during different years using socioeconomic features.  \n",
    "\n",
    "Linear regresssion is **not compatible** with missing values or categorical variables. "
   ]
  },
  {
   "cell_type": "markdown",
   "metadata": {},
   "source": [
    "## Imports"
   ]
  },
  {
   "cell_type": "code",
   "execution_count": 2,
   "metadata": {},
   "outputs": [
    {
     "name": "stdout",
     "output_type": "stream",
     "text": [
      "/Users/jaimemerizalde/Desktop/Library/Machine Learning Udemy Course\n"
     ]
    }
   ],
   "source": [
    "# This is to change the top level directory.\n",
    "%cd .."
   ]
  },
  {
   "cell_type": "code",
   "execution_count": null,
   "metadata": {},
   "outputs": [],
   "source": [
    "from Library import data\n",
    "import pandas as pd\n",
    "\n",
    "pd.set_option(\"display.max_columns\", None)"
   ]
  },
  {
   "cell_type": "markdown",
   "metadata": {},
   "source": [
    "# Get Data"
   ]
  },
  {
   "cell_type": "code",
   "execution_count": 8,
   "metadata": {},
   "outputs": [
    {
     "data": {
      "text/plain": [
       "(2938, 22)"
      ]
     },
     "execution_count": 8,
     "metadata": {},
     "output_type": "execute_result"
    }
   ],
   "source": [
    "df = data.get_data(\"Datasets/LifeExpectancy.csv\", index_col=[0])\n",
    "df.shape"
   ]
  },
  {
   "cell_type": "markdown",
   "metadata": {},
   "source": [
    "There are 22 columns / features and 2938 rows of data."
   ]
  },
  {
   "cell_type": "markdown",
   "metadata": {},
   "source": [
    "# Preprocessing"
   ]
  },
  {
   "cell_type": "markdown",
   "metadata": {},
   "source": [
    "Removing missing values and categorical variables. They will not work with a linear model.  "
   ]
  },
  {
   "cell_type": "markdown",
   "metadata": {},
   "source": [
    "## Missing Values"
   ]
  },
  {
   "cell_type": "markdown",
   "metadata": {},
   "source": [
    "Check how many missing values.  \n",
    "This will give us how many missing values, from most to least, there are in this datset."
   ]
  },
  {
   "cell_type": "code",
   "execution_count": null,
   "metadata": {},
   "outputs": [
    {
     "data": {
      "text/plain": [
       "population                         652\n",
       "hepatitis_b                        553\n",
       "gdp                                448\n",
       "total_expenditure                  226\n",
       "alcohol                            194\n",
       "income_composition_of_resources    167\n",
       "schooling                          163\n",
       "thinness_5_9_years                  34\n",
       "thinness__1_19_years                34\n",
       "bmi                                 34\n",
       "polio                               19\n",
       "diphtheria                          19\n",
       "life_expectancy                     10\n",
       "adult_mortality                     10\n",
       "hiv_aids                             0\n",
       "country                              0\n",
       "year                                 0\n",
       "measles                              0\n",
       "percentage_expenditure               0\n",
       "infant_deaths                        0\n",
       "status                               0\n",
       "under_five_deaths                    0\n",
       "dtype: int64"
      ]
     },
     "execution_count": 15,
     "metadata": {},
     "output_type": "execute_result"
    }
   ],
   "source": [
    "df.isna().sum().sort_values(ascending=False)"
   ]
  },
  {
   "cell_type": "markdown",
   "metadata": {},
   "source": [
    "## Categorial Variables"
   ]
  },
  {
   "cell_type": "code",
   "execution_count": 24,
   "metadata": {},
   "outputs": [
    {
     "data": {
      "text/plain": [
       "country                            category\n",
       "year                                  int64\n",
       "status                             category\n",
       "life_expectancy                     float64\n",
       "adult_mortality                     float64\n",
       "infant_deaths                         int64\n",
       "alcohol                             float64\n",
       "percentage_expenditure              float64\n",
       "hepatitis_b                         float64\n",
       "measles                               int64\n",
       "bmi                                 float64\n",
       "under_five_deaths                     int64\n",
       "polio                               float64\n",
       "total_expenditure                   float64\n",
       "diphtheria                          float64\n",
       "hiv_aids                            float64\n",
       "gdp                                 float64\n",
       "population                          float64\n",
       "thinness__1_19_years                float64\n",
       "thinness_5_9_years                  float64\n",
       "income_composition_of_resources     float64\n",
       "schooling                           float64\n",
       "dtype: object"
      ]
     },
     "execution_count": 24,
     "metadata": {},
     "output_type": "execute_result"
    }
   ],
   "source": [
    "categorical_columns = list(df.dtypes[df.dtypes == \"O\"].index.values)\n",
    "categorical_columns\n",
    "\n",
    "# Recast non-numerical/object columns as CAT_VARS.\n",
    "for column in categorical_columns:\n",
    "    df[column] = df[column].astype(\"category\")\n",
    "\n",
    "df.dtypes"
   ]
  },
  {
   "cell_type": "code",
   "execution_count": null,
   "metadata": {},
   "outputs": [],
   "source": []
  }
 ],
 "metadata": {
  "kernelspec": {
   "display_name": "machineLearning",
   "language": "python",
   "name": "python3"
  },
  "language_info": {
   "codemirror_mode": {
    "name": "ipython",
    "version": 3
   },
   "file_extension": ".py",
   "mimetype": "text/x-python",
   "name": "python",
   "nbconvert_exporter": "python",
   "pygments_lexer": "ipython3",
   "version": "3.12.0"
  }
 },
 "nbformat": 4,
 "nbformat_minor": 2
}
