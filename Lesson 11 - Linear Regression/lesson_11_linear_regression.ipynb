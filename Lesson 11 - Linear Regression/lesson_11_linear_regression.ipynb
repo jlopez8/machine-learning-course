{
 "cells": [
  {
   "cell_type": "markdown",
   "metadata": {},
   "source": [
    "# Lesson 11: Linear Regression"
   ]
  },
  {
   "cell_type": "markdown",
   "metadata": {},
   "source": [
    "We aim to predict the life expenctancy of different countries during different years using socioeconomic features.  \n",
    "\n",
    "Linear regresssion is **not compatible** with missing values or categorical variables. "
   ]
  },
  {
   "cell_type": "markdown",
   "metadata": {},
   "source": [
    "## Imports"
   ]
  },
  {
   "cell_type": "code",
   "execution_count": 1,
   "metadata": {},
   "outputs": [
    {
     "name": "stdout",
     "output_type": "stream",
     "text": [
      "/Users/jaimemerizalde/Desktop/Library/Machine Learning Udemy Course\n"
     ]
    }
   ],
   "source": [
    "# This is to change the top level directory.\n",
    "%cd .."
   ]
  },
  {
   "cell_type": "code",
   "execution_count": 49,
   "metadata": {},
   "outputs": [],
   "source": [
    "from Library import data\n",
    "import pandas as pd\n",
    "\n",
    "from sklearn.model_selection import train_test_split\n",
    "\n",
    "pd.set_option(\"display.max_columns\", None)"
   ]
  },
  {
   "cell_type": "markdown",
   "metadata": {},
   "source": [
    "# Get Data"
   ]
  },
  {
   "cell_type": "code",
   "execution_count": 50,
   "metadata": {},
   "outputs": [
    {
     "data": {
      "text/plain": [
       "(2938, 22)"
      ]
     },
     "execution_count": 50,
     "metadata": {},
     "output_type": "execute_result"
    }
   ],
   "source": [
    "df = data.get_data(\"Datasets/LifeExpectancy.csv\", index_col=[0])\n",
    "df.shape"
   ]
  },
  {
   "cell_type": "markdown",
   "metadata": {},
   "source": [
    "There are 22 columns / features and 2938 rows of data."
   ]
  },
  {
   "cell_type": "markdown",
   "metadata": {},
   "source": [
    "# Preprocessing"
   ]
  },
  {
   "cell_type": "markdown",
   "metadata": {},
   "source": [
    "Removing missing values and categorical variables. They will not work with a linear model.  "
   ]
  },
  {
   "cell_type": "markdown",
   "metadata": {},
   "source": [
    "## Missing Values"
   ]
  },
  {
   "cell_type": "markdown",
   "metadata": {},
   "source": [
    "Check how many missing values.  \n",
    "This will give us how many missing values, from most to least, there are in this datset."
   ]
  },
  {
   "cell_type": "code",
   "execution_count": 4,
   "metadata": {},
   "outputs": [
    {
     "data": {
      "text/plain": [
       "population                         652\n",
       "hepatitis_b                        553\n",
       "gdp                                448\n",
       "total_expenditure                  226\n",
       "alcohol                            194\n",
       "income_composition_of_resources    167\n",
       "schooling                          163\n",
       "thinness_5_9_years                  34\n",
       "thinness__1_19_years                34\n",
       "bmi                                 34\n",
       "polio                               19\n",
       "diphtheria                          19\n",
       "life_expectancy                     10\n",
       "adult_mortality                     10\n",
       "hiv_aids                             0\n",
       "country                              0\n",
       "year                                 0\n",
       "measles                              0\n",
       "percentage_expenditure               0\n",
       "infant_deaths                        0\n",
       "status                               0\n",
       "under_five_deaths                    0\n",
       "dtype: int64"
      ]
     },
     "execution_count": 4,
     "metadata": {},
     "output_type": "execute_result"
    }
   ],
   "source": [
    "df.isna().sum().sort_values(ascending=False)"
   ]
  },
  {
   "cell_type": "markdown",
   "metadata": {},
   "source": [
    "## Categorial Variables"
   ]
  },
  {
   "cell_type": "code",
   "execution_count": 51,
   "metadata": {},
   "outputs": [
    {
     "data": {
      "text/plain": [
       "country                            category\n",
       "year                                  int64\n",
       "status                             category\n",
       "life_expectancy                     float64\n",
       "adult_mortality                     float64\n",
       "infant_deaths                         int64\n",
       "alcohol                             float64\n",
       "percentage_expenditure              float64\n",
       "hepatitis_b                         float64\n",
       "measles                               int64\n",
       "bmi                                 float64\n",
       "under_five_deaths                     int64\n",
       "polio                               float64\n",
       "total_expenditure                   float64\n",
       "diphtheria                          float64\n",
       "hiv_aids                            float64\n",
       "gdp                                 float64\n",
       "population                          float64\n",
       "thinness__1_19_years                float64\n",
       "thinness_5_9_years                  float64\n",
       "income_composition_of_resources     float64\n",
       "schooling                           float64\n",
       "dtype: object"
      ]
     },
     "execution_count": 51,
     "metadata": {},
     "output_type": "execute_result"
    }
   ],
   "source": [
    "categorical_columns = list(df.dtypes[df.dtypes == \"O\"].index.values)\n",
    "categorical_columns\n",
    "\n",
    "# Recast non-numerical/object columns as CAT_VARS.\n",
    "for column in categorical_columns:\n",
    "    df[column] = df[column].astype(\"category\")\n",
    "\n",
    "df.dtypes"
   ]
  },
  {
   "cell_type": "markdown",
   "metadata": {},
   "source": [
    "## Partitioning Dataset"
   ]
  },
  {
   "cell_type": "markdown",
   "metadata": {},
   "source": [
    "Get features only and responses/targets only."
   ]
  },
  {
   "cell_type": "code",
   "execution_count": 58,
   "metadata": {},
   "outputs": [],
   "source": [
    "# Take everything except the response var.\n",
    "X = df.loc[:, df.columns != \"life_expecancy\"]\n",
    "\n",
    "# Now assign response variable only.\n",
    "y = df[\"life_expectancy\"]\n",
    "\n",
    "# 67% / 33% SPLIT\n",
    "# Random state is for seeding a partition. 0 - 42 are common seeds.\n",
    "X_train, X_test, y_train, y_test = train_test_split(X, y, test_size= 0.33, random_state=42)"
   ]
  },
  {
   "cell_type": "markdown",
   "metadata": {},
   "source": [
    "## Reducing Dataset"
   ]
  },
  {
   "cell_type": "markdown",
   "metadata": {},
   "source": [
    "Now that we have a train-test-split dataset, we can reduce it by removing missing and non-numerical data."
   ]
  },
  {
   "cell_type": "code",
   "execution_count": null,
   "metadata": {},
   "outputs": [],
   "source": [
    "def remove_missing_and_nonNumerical_values(X, y):\n",
    "    \"\"\"\n",
    "    Removes missing and non-numerical values from dataframe 'X' and corresponding reponse variable y. \n",
    "    Prints minor statistics such as original shapes, categorical variables removed, and new sizes.\n",
    "\n",
    "    Parameters\n",
    "    ------\n",
    "    X (pd.DataFrame): Original dataframe. Numerical and non-numerical datatypes must be pre-assigned as \n",
    "    numerical type and category.\n",
    "    y (pd.DataFrame): Original response variable.\n",
    "\n",
    "    Returns\n",
    "    ------\n",
    "    X (pd.DataFrame): Reduced dataframe with non nans or categorical column variables.\n",
    "    y (pd.DataFrame): Reduced response variable matching corresponding rows of reduced dataframe 'X'.\n",
    "    \"\"\"\n",
    "    print(f\"Original Size X: {X.shape} y: {y.shape}\")\n",
    "\n",
    "    # Drop Categorical Values. Nonnumerical Dtypes must be \n",
    "    categorical_columns = X.dtypes[X.dtypes==\"category\"].index.values\n",
    "    X = X.drop(columns=categorical_columns)\n",
    "    print(\"Removed {}\".format(categorical_columns))\n",
    "\n",
    "    # Drop Missing Values.\n",
    "    X = X.dropna()\n",
    "    # Make sure you reduce y as well, since the above is a row-reduction technique.\n",
    "    y = y[X.index]\n",
    "    print(f\"New Size X: {X.shape} y: {y.shape}\")\n",
    "    return X, y"
   ]
  },
  {
   "cell_type": "code",
   "execution_count": 60,
   "metadata": {},
   "outputs": [
    {
     "name": "stdout",
     "output_type": "stream",
     "text": [
      "Original Size ((1968, 22), (1968,))\n",
      "Removed ['country' 'status']\n",
      "New Size ((1123, 20), (1123,))\n",
      "Original Size ((970, 22), (970,))\n",
      "Removed ['country' 'status']\n",
      "New Size ((526, 20), (526,))\n"
     ]
    }
   ],
   "source": [
    "X_train, y_train = remove_missing_and_nonNumerical_values(X_train, y_train)\n",
    "X_test, y_test = remove_missing_and_nonNumerical_values(X_test, y_test)"
   ]
  },
  {
   "cell_type": "code",
   "execution_count": null,
   "metadata": {},
   "outputs": [],
   "source": []
  }
 ],
 "metadata": {
  "kernelspec": {
   "display_name": "machineLearning",
   "language": "python",
   "name": "python3"
  },
  "language_info": {
   "codemirror_mode": {
    "name": "ipython",
    "version": 3
   },
   "file_extension": ".py",
   "mimetype": "text/x-python",
   "name": "python",
   "nbconvert_exporter": "python",
   "pygments_lexer": "ipython3",
   "version": "3.12.0"
  }
 },
 "nbformat": 4,
 "nbformat_minor": 2
}
