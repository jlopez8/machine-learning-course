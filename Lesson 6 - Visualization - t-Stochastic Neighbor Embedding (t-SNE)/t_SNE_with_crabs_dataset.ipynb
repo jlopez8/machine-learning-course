{
 "cells": [
  {
   "cell_type": "markdown",
   "metadata": {},
   "source": [
    "# t-Stochastic Neighbor Embedding"
   ]
  },
  {
   "cell_type": "code",
   "execution_count": 21,
   "metadata": {},
   "outputs": [],
   "source": [
    "import pandas as pd \n",
    "import io \n",
    "\n",
    "from sklearn.manifold import TSNE\n",
    "from sklearn.preprocessing import MinMaxScaler\n",
    "\n",
    "\n",
    "import matplotlib.pyplot as plt\n",
    "import pandas as pd\n",
    "import seaborn as sns\n",
    "import plotly.express as px"
   ]
  },
  {
   "cell_type": "markdown",
   "metadata": {},
   "source": [
    "# EDA Dataset"
   ]
  },
  {
   "cell_type": "code",
   "execution_count": 26,
   "metadata": {},
   "outputs": [],
   "source": [
    "crabs_data = pd.read_csv(\"crabs.csv\")"
   ]
  },
  {
   "cell_type": "code",
   "execution_count": 27,
   "metadata": {},
   "outputs": [
    {
     "data": {
      "text/html": [
       "<div>\n",
       "<style scoped>\n",
       "    .dataframe tbody tr th:only-of-type {\n",
       "        vertical-align: middle;\n",
       "    }\n",
       "\n",
       "    .dataframe tbody tr th {\n",
       "        vertical-align: top;\n",
       "    }\n",
       "\n",
       "    .dataframe thead th {\n",
       "        text-align: right;\n",
       "    }\n",
       "</style>\n",
       "<table border=\"1\" class=\"dataframe\">\n",
       "  <thead>\n",
       "    <tr style=\"text-align: right;\">\n",
       "      <th></th>\n",
       "      <th>sp</th>\n",
       "      <th>sex</th>\n",
       "      <th>index</th>\n",
       "      <th>FL</th>\n",
       "      <th>RW</th>\n",
       "      <th>CL</th>\n",
       "      <th>CW</th>\n",
       "      <th>BD</th>\n",
       "    </tr>\n",
       "  </thead>\n",
       "  <tbody>\n",
       "    <tr>\n",
       "      <th>195</th>\n",
       "      <td>O</td>\n",
       "      <td>F</td>\n",
       "      <td>46</td>\n",
       "      <td>21.4</td>\n",
       "      <td>18.0</td>\n",
       "      <td>41.2</td>\n",
       "      <td>46.2</td>\n",
       "      <td>18.7</td>\n",
       "    </tr>\n",
       "    <tr>\n",
       "      <th>196</th>\n",
       "      <td>O</td>\n",
       "      <td>F</td>\n",
       "      <td>47</td>\n",
       "      <td>21.7</td>\n",
       "      <td>17.1</td>\n",
       "      <td>41.7</td>\n",
       "      <td>47.2</td>\n",
       "      <td>19.6</td>\n",
       "    </tr>\n",
       "    <tr>\n",
       "      <th>197</th>\n",
       "      <td>O</td>\n",
       "      <td>F</td>\n",
       "      <td>48</td>\n",
       "      <td>21.9</td>\n",
       "      <td>17.2</td>\n",
       "      <td>42.6</td>\n",
       "      <td>47.4</td>\n",
       "      <td>19.5</td>\n",
       "    </tr>\n",
       "    <tr>\n",
       "      <th>198</th>\n",
       "      <td>O</td>\n",
       "      <td>F</td>\n",
       "      <td>49</td>\n",
       "      <td>22.5</td>\n",
       "      <td>17.2</td>\n",
       "      <td>43.0</td>\n",
       "      <td>48.7</td>\n",
       "      <td>19.8</td>\n",
       "    </tr>\n",
       "    <tr>\n",
       "      <th>199</th>\n",
       "      <td>O</td>\n",
       "      <td>F</td>\n",
       "      <td>50</td>\n",
       "      <td>23.1</td>\n",
       "      <td>20.2</td>\n",
       "      <td>46.2</td>\n",
       "      <td>52.5</td>\n",
       "      <td>21.1</td>\n",
       "    </tr>\n",
       "  </tbody>\n",
       "</table>\n",
       "</div>"
      ],
      "text/plain": [
       "    sp sex  index    FL    RW    CL    CW    BD\n",
       "195  O   F     46  21.4  18.0  41.2  46.2  18.7\n",
       "196  O   F     47  21.7  17.1  41.7  47.2  19.6\n",
       "197  O   F     48  21.9  17.2  42.6  47.4  19.5\n",
       "198  O   F     49  22.5  17.2  43.0  48.7  19.8\n",
       "199  O   F     50  23.1  20.2  46.2  52.5  21.1"
      ]
     },
     "execution_count": 27,
     "metadata": {},
     "output_type": "execute_result"
    }
   ],
   "source": [
    "crabs_data.tail()"
   ]
  },
  {
   "cell_type": "code",
   "execution_count": 7,
   "metadata": {},
   "outputs": [
    {
     "data": {
      "text/html": [
       "<div>\n",
       "<style scoped>\n",
       "    .dataframe tbody tr th:only-of-type {\n",
       "        vertical-align: middle;\n",
       "    }\n",
       "\n",
       "    .dataframe tbody tr th {\n",
       "        vertical-align: top;\n",
       "    }\n",
       "\n",
       "    .dataframe thead th {\n",
       "        text-align: right;\n",
       "    }\n",
       "</style>\n",
       "<table border=\"1\" class=\"dataframe\">\n",
       "  <thead>\n",
       "    <tr style=\"text-align: right;\">\n",
       "      <th></th>\n",
       "      <th>sp</th>\n",
       "      <th>sex</th>\n",
       "      <th>index</th>\n",
       "      <th>FL</th>\n",
       "      <th>RW</th>\n",
       "      <th>CL</th>\n",
       "      <th>CW</th>\n",
       "      <th>BD</th>\n",
       "    </tr>\n",
       "  </thead>\n",
       "  <tbody>\n",
       "    <tr>\n",
       "      <th>0</th>\n",
       "      <td>B</td>\n",
       "      <td>M</td>\n",
       "      <td>1</td>\n",
       "      <td>8.1</td>\n",
       "      <td>6.7</td>\n",
       "      <td>16.1</td>\n",
       "      <td>19.0</td>\n",
       "      <td>7.0</td>\n",
       "    </tr>\n",
       "    <tr>\n",
       "      <th>1</th>\n",
       "      <td>B</td>\n",
       "      <td>M</td>\n",
       "      <td>2</td>\n",
       "      <td>8.8</td>\n",
       "      <td>7.7</td>\n",
       "      <td>18.1</td>\n",
       "      <td>20.8</td>\n",
       "      <td>7.4</td>\n",
       "    </tr>\n",
       "    <tr>\n",
       "      <th>2</th>\n",
       "      <td>B</td>\n",
       "      <td>M</td>\n",
       "      <td>3</td>\n",
       "      <td>9.2</td>\n",
       "      <td>7.8</td>\n",
       "      <td>19.0</td>\n",
       "      <td>22.4</td>\n",
       "      <td>7.7</td>\n",
       "    </tr>\n",
       "    <tr>\n",
       "      <th>3</th>\n",
       "      <td>B</td>\n",
       "      <td>M</td>\n",
       "      <td>4</td>\n",
       "      <td>9.6</td>\n",
       "      <td>7.9</td>\n",
       "      <td>20.1</td>\n",
       "      <td>23.1</td>\n",
       "      <td>8.2</td>\n",
       "    </tr>\n",
       "    <tr>\n",
       "      <th>4</th>\n",
       "      <td>B</td>\n",
       "      <td>M</td>\n",
       "      <td>5</td>\n",
       "      <td>9.8</td>\n",
       "      <td>8.0</td>\n",
       "      <td>20.3</td>\n",
       "      <td>23.0</td>\n",
       "      <td>8.2</td>\n",
       "    </tr>\n",
       "  </tbody>\n",
       "</table>\n",
       "</div>"
      ],
      "text/plain": [
       "  sp sex  index   FL   RW    CL    CW   BD\n",
       "0  B   M      1  8.1  6.7  16.1  19.0  7.0\n",
       "1  B   M      2  8.8  7.7  18.1  20.8  7.4\n",
       "2  B   M      3  9.2  7.8  19.0  22.4  7.7\n",
       "3  B   M      4  9.6  7.9  20.1  23.1  8.2\n",
       "4  B   M      5  9.8  8.0  20.3  23.0  8.2"
      ]
     },
     "execution_count": 7,
     "metadata": {},
     "output_type": "execute_result"
    }
   ],
   "source": [
    "crabs_data.head()"
   ]
  },
  {
   "cell_type": "code",
   "execution_count": 8,
   "metadata": {},
   "outputs": [
    {
     "data": {
      "text/plain": [
       "<bound method NDFrame.describe of     sp sex  index    FL    RW    CL    CW    BD\n",
       "0    B   M      1   8.1   6.7  16.1  19.0   7.0\n",
       "1    B   M      2   8.8   7.7  18.1  20.8   7.4\n",
       "2    B   M      3   9.2   7.8  19.0  22.4   7.7\n",
       "3    B   M      4   9.6   7.9  20.1  23.1   8.2\n",
       "4    B   M      5   9.8   8.0  20.3  23.0   8.2\n",
       "..  ..  ..    ...   ...   ...   ...   ...   ...\n",
       "195  O   F     46  21.4  18.0  41.2  46.2  18.7\n",
       "196  O   F     47  21.7  17.1  41.7  47.2  19.6\n",
       "197  O   F     48  21.9  17.2  42.6  47.4  19.5\n",
       "198  O   F     49  22.5  17.2  43.0  48.7  19.8\n",
       "199  O   F     50  23.1  20.2  46.2  52.5  21.1\n",
       "\n",
       "[200 rows x 8 columns]>"
      ]
     },
     "execution_count": 8,
     "metadata": {},
     "output_type": "execute_result"
    }
   ],
   "source": [
    "crabs_data.describe"
   ]
  },
  {
   "cell_type": "code",
   "execution_count": 28,
   "metadata": {},
   "outputs": [],
   "source": [
    "crabs_data = crabs_data.rename(\n",
    "    columns = {\n",
    "        \"sp\": \"species\",\n",
    "        \"FL\": \"Frontal Lobe\",\n",
    "        \"RW\": \"Rear Width\",\n",
    "        \"CL\": \"Carapace Midline\",\n",
    "        \"CW\": \"Maximum Width\",\n",
    "        \"BD\": \"Body Depth\"\n",
    "    }\n",
    ")"
   ]
  },
  {
   "cell_type": "code",
   "execution_count": 29,
   "metadata": {},
   "outputs": [],
   "source": [
    "crabs_data[\"species\"] = crabs_data[\"species\"].map(\n",
    "    {\"B\": \"Blue\", \"O\": \"Orange\"}\n",
    ")\n",
    "\n",
    "crabs_data[\"sex\"] = crabs_data[\"sex\"].map(\n",
    "    {\"M\": \"Male\", \"F\": \"Female\"}\n",
    ")"
   ]
  },
  {
   "cell_type": "code",
   "execution_count": 30,
   "metadata": {},
   "outputs": [
    {
     "data": {
      "text/html": [
       "<div>\n",
       "<style scoped>\n",
       "    .dataframe tbody tr th:only-of-type {\n",
       "        vertical-align: middle;\n",
       "    }\n",
       "\n",
       "    .dataframe tbody tr th {\n",
       "        vertical-align: top;\n",
       "    }\n",
       "\n",
       "    .dataframe thead th {\n",
       "        text-align: right;\n",
       "    }\n",
       "</style>\n",
       "<table border=\"1\" class=\"dataframe\">\n",
       "  <thead>\n",
       "    <tr style=\"text-align: right;\">\n",
       "      <th></th>\n",
       "      <th>species</th>\n",
       "      <th>sex</th>\n",
       "      <th>index</th>\n",
       "      <th>Frontal Lobe</th>\n",
       "      <th>Rear Width</th>\n",
       "      <th>Carapace Midline</th>\n",
       "      <th>Maximum Width</th>\n",
       "      <th>Body Depth</th>\n",
       "    </tr>\n",
       "  </thead>\n",
       "  <tbody>\n",
       "    <tr>\n",
       "      <th>0</th>\n",
       "      <td>Blue</td>\n",
       "      <td>Male</td>\n",
       "      <td>1</td>\n",
       "      <td>8.1</td>\n",
       "      <td>6.7</td>\n",
       "      <td>16.1</td>\n",
       "      <td>19.0</td>\n",
       "      <td>7.0</td>\n",
       "    </tr>\n",
       "    <tr>\n",
       "      <th>1</th>\n",
       "      <td>Blue</td>\n",
       "      <td>Male</td>\n",
       "      <td>2</td>\n",
       "      <td>8.8</td>\n",
       "      <td>7.7</td>\n",
       "      <td>18.1</td>\n",
       "      <td>20.8</td>\n",
       "      <td>7.4</td>\n",
       "    </tr>\n",
       "    <tr>\n",
       "      <th>2</th>\n",
       "      <td>Blue</td>\n",
       "      <td>Male</td>\n",
       "      <td>3</td>\n",
       "      <td>9.2</td>\n",
       "      <td>7.8</td>\n",
       "      <td>19.0</td>\n",
       "      <td>22.4</td>\n",
       "      <td>7.7</td>\n",
       "    </tr>\n",
       "    <tr>\n",
       "      <th>3</th>\n",
       "      <td>Blue</td>\n",
       "      <td>Male</td>\n",
       "      <td>4</td>\n",
       "      <td>9.6</td>\n",
       "      <td>7.9</td>\n",
       "      <td>20.1</td>\n",
       "      <td>23.1</td>\n",
       "      <td>8.2</td>\n",
       "    </tr>\n",
       "    <tr>\n",
       "      <th>4</th>\n",
       "      <td>Blue</td>\n",
       "      <td>Male</td>\n",
       "      <td>5</td>\n",
       "      <td>9.8</td>\n",
       "      <td>8.0</td>\n",
       "      <td>20.3</td>\n",
       "      <td>23.0</td>\n",
       "      <td>8.2</td>\n",
       "    </tr>\n",
       "    <tr>\n",
       "      <th>...</th>\n",
       "      <td>...</td>\n",
       "      <td>...</td>\n",
       "      <td>...</td>\n",
       "      <td>...</td>\n",
       "      <td>...</td>\n",
       "      <td>...</td>\n",
       "      <td>...</td>\n",
       "      <td>...</td>\n",
       "    </tr>\n",
       "    <tr>\n",
       "      <th>195</th>\n",
       "      <td>Orange</td>\n",
       "      <td>Female</td>\n",
       "      <td>46</td>\n",
       "      <td>21.4</td>\n",
       "      <td>18.0</td>\n",
       "      <td>41.2</td>\n",
       "      <td>46.2</td>\n",
       "      <td>18.7</td>\n",
       "    </tr>\n",
       "    <tr>\n",
       "      <th>196</th>\n",
       "      <td>Orange</td>\n",
       "      <td>Female</td>\n",
       "      <td>47</td>\n",
       "      <td>21.7</td>\n",
       "      <td>17.1</td>\n",
       "      <td>41.7</td>\n",
       "      <td>47.2</td>\n",
       "      <td>19.6</td>\n",
       "    </tr>\n",
       "    <tr>\n",
       "      <th>197</th>\n",
       "      <td>Orange</td>\n",
       "      <td>Female</td>\n",
       "      <td>48</td>\n",
       "      <td>21.9</td>\n",
       "      <td>17.2</td>\n",
       "      <td>42.6</td>\n",
       "      <td>47.4</td>\n",
       "      <td>19.5</td>\n",
       "    </tr>\n",
       "    <tr>\n",
       "      <th>198</th>\n",
       "      <td>Orange</td>\n",
       "      <td>Female</td>\n",
       "      <td>49</td>\n",
       "      <td>22.5</td>\n",
       "      <td>17.2</td>\n",
       "      <td>43.0</td>\n",
       "      <td>48.7</td>\n",
       "      <td>19.8</td>\n",
       "    </tr>\n",
       "    <tr>\n",
       "      <th>199</th>\n",
       "      <td>Orange</td>\n",
       "      <td>Female</td>\n",
       "      <td>50</td>\n",
       "      <td>23.1</td>\n",
       "      <td>20.2</td>\n",
       "      <td>46.2</td>\n",
       "      <td>52.5</td>\n",
       "      <td>21.1</td>\n",
       "    </tr>\n",
       "  </tbody>\n",
       "</table>\n",
       "<p>200 rows × 8 columns</p>\n",
       "</div>"
      ],
      "text/plain": [
       "    species     sex  index  Frontal Lobe  Rear Width  Carapace Midline  \\\n",
       "0      Blue    Male      1           8.1         6.7              16.1   \n",
       "1      Blue    Male      2           8.8         7.7              18.1   \n",
       "2      Blue    Male      3           9.2         7.8              19.0   \n",
       "3      Blue    Male      4           9.6         7.9              20.1   \n",
       "4      Blue    Male      5           9.8         8.0              20.3   \n",
       "..      ...     ...    ...           ...         ...               ...   \n",
       "195  Orange  Female     46          21.4        18.0              41.2   \n",
       "196  Orange  Female     47          21.7        17.1              41.7   \n",
       "197  Orange  Female     48          21.9        17.2              42.6   \n",
       "198  Orange  Female     49          22.5        17.2              43.0   \n",
       "199  Orange  Female     50          23.1        20.2              46.2   \n",
       "\n",
       "     Maximum Width  Body Depth  \n",
       "0             19.0         7.0  \n",
       "1             20.8         7.4  \n",
       "2             22.4         7.7  \n",
       "3             23.1         8.2  \n",
       "4             23.0         8.2  \n",
       "..             ...         ...  \n",
       "195           46.2        18.7  \n",
       "196           47.2        19.6  \n",
       "197           47.4        19.5  \n",
       "198           48.7        19.8  \n",
       "199           52.5        21.1  \n",
       "\n",
       "[200 rows x 8 columns]"
      ]
     },
     "execution_count": 30,
     "metadata": {},
     "output_type": "execute_result"
    }
   ],
   "source": [
    "crabs_data"
   ]
  },
  {
   "cell_type": "markdown",
   "metadata": {},
   "source": [
    "## Using t-SNE on Raw Data"
   ]
  },
  {
   "cell_type": "markdown",
   "metadata": {},
   "source": [
    "Add the class data with this unique identifier we've made up:"
   ]
  },
  {
   "cell_type": "code",
   "execution_count": 31,
   "metadata": {},
   "outputs": [],
   "source": [
    "crabs_data[\"class\"] = crabs_data.species + crabs_data.sex"
   ]
  },
  {
   "cell_type": "markdown",
   "metadata": {},
   "source": [
    "tSNE transforms distance between points into probabilities, then tries to keep the same probability distributions while transforming data to a lower dimensional space.  \n",
    "\n",
    "It depends on initialization and its results may change between runs. \n",
    "**strongly depends** on parameters. Generall used for visualization not for dimensionality reduction. \n",
    "\n",
    "**MOST IMPORTANT PARAMATERS OF THIS MODEL**  \n",
    "\n",
    "1. **PERPLEXITY** balances attention between the local and global aspect of the data. This will usually be between 5 adn 50 and has a very strong effect on the final display\n",
    "\n",
    "2. **NUMBER ITERATIONS** "
   ]
  },
  {
   "cell_type": "code",
   "execution_count": 49,
   "metadata": {},
   "outputs": [],
   "source": [
    "data_columns = [\n",
    "    \"Frontal Lobe\", \"Rear Width\", \"Carapace Midline\",\n",
    "    \"Maximum Width\", \"Body Depth\"\n",
    "]"
   ]
  },
  {
   "cell_type": "markdown",
   "metadata": {},
   "source": [
    "## Using Raw Data (no process)"
   ]
  },
  {
   "cell_type": "markdown",
   "metadata": {},
   "source": [
    "### 2 Dimensions "
   ]
  },
  {
   "cell_type": "code",
   "execution_count": 50,
   "metadata": {},
   "outputs": [],
   "source": [
    "# execute the TSNE engine\n",
    "crabs_tsne = TSNE(\n",
    "    n_components=2, perplexity=10, n_iter = 2000, init=\"random\"\n",
    ").fit_transform(crabs_data[data_columns])"
   ]
  },
  {
   "cell_type": "code",
   "execution_count": 51,
   "metadata": {},
   "outputs": [],
   "source": [
    "crabs_data[[\"TSNE1\", \"TSNE2\"]] = crabs_tsne"
   ]
  },
  {
   "cell_type": "code",
   "execution_count": 54,
   "metadata": {},
   "outputs": [
    {
     "data": {
      "text/html": [
       "<div>\n",
       "<style scoped>\n",
       "    .dataframe tbody tr th:only-of-type {\n",
       "        vertical-align: middle;\n",
       "    }\n",
       "\n",
       "    .dataframe tbody tr th {\n",
       "        vertical-align: top;\n",
       "    }\n",
       "\n",
       "    .dataframe thead th {\n",
       "        text-align: right;\n",
       "    }\n",
       "</style>\n",
       "<table border=\"1\" class=\"dataframe\">\n",
       "  <thead>\n",
       "    <tr style=\"text-align: right;\">\n",
       "      <th></th>\n",
       "      <th>species</th>\n",
       "      <th>sex</th>\n",
       "      <th>index</th>\n",
       "      <th>Frontal Lobe</th>\n",
       "      <th>Rear Width</th>\n",
       "      <th>Carapace Midline</th>\n",
       "      <th>Maximum Width</th>\n",
       "      <th>Body Depth</th>\n",
       "      <th>class</th>\n",
       "      <th>TSNE1</th>\n",
       "      <th>TSNE2</th>\n",
       "    </tr>\n",
       "  </thead>\n",
       "  <tbody>\n",
       "    <tr>\n",
       "      <th>0</th>\n",
       "      <td>Blue</td>\n",
       "      <td>Male</td>\n",
       "      <td>1</td>\n",
       "      <td>8.1</td>\n",
       "      <td>6.7</td>\n",
       "      <td>16.1</td>\n",
       "      <td>19.0</td>\n",
       "      <td>7.0</td>\n",
       "      <td>BlueMale</td>\n",
       "      <td>-6.903159</td>\n",
       "      <td>61.119114</td>\n",
       "    </tr>\n",
       "    <tr>\n",
       "      <th>1</th>\n",
       "      <td>Blue</td>\n",
       "      <td>Male</td>\n",
       "      <td>2</td>\n",
       "      <td>8.8</td>\n",
       "      <td>7.7</td>\n",
       "      <td>18.1</td>\n",
       "      <td>20.8</td>\n",
       "      <td>7.4</td>\n",
       "      <td>BlueMale</td>\n",
       "      <td>-5.796356</td>\n",
       "      <td>59.448009</td>\n",
       "    </tr>\n",
       "    <tr>\n",
       "      <th>2</th>\n",
       "      <td>Blue</td>\n",
       "      <td>Male</td>\n",
       "      <td>3</td>\n",
       "      <td>9.2</td>\n",
       "      <td>7.8</td>\n",
       "      <td>19.0</td>\n",
       "      <td>22.4</td>\n",
       "      <td>7.7</td>\n",
       "      <td>BlueMale</td>\n",
       "      <td>-3.911477</td>\n",
       "      <td>58.517956</td>\n",
       "    </tr>\n",
       "    <tr>\n",
       "      <th>3</th>\n",
       "      <td>Blue</td>\n",
       "      <td>Male</td>\n",
       "      <td>4</td>\n",
       "      <td>9.6</td>\n",
       "      <td>7.9</td>\n",
       "      <td>20.1</td>\n",
       "      <td>23.1</td>\n",
       "      <td>8.2</td>\n",
       "      <td>BlueMale</td>\n",
       "      <td>-2.242760</td>\n",
       "      <td>57.083687</td>\n",
       "    </tr>\n",
       "    <tr>\n",
       "      <th>4</th>\n",
       "      <td>Blue</td>\n",
       "      <td>Male</td>\n",
       "      <td>5</td>\n",
       "      <td>9.8</td>\n",
       "      <td>8.0</td>\n",
       "      <td>20.3</td>\n",
       "      <td>23.0</td>\n",
       "      <td>8.2</td>\n",
       "      <td>BlueMale</td>\n",
       "      <td>-2.193069</td>\n",
       "      <td>55.986835</td>\n",
       "    </tr>\n",
       "  </tbody>\n",
       "</table>\n",
       "</div>"
      ],
      "text/plain": [
       "  species   sex  index  Frontal Lobe  Rear Width  Carapace Midline  \\\n",
       "0    Blue  Male      1           8.1         6.7              16.1   \n",
       "1    Blue  Male      2           8.8         7.7              18.1   \n",
       "2    Blue  Male      3           9.2         7.8              19.0   \n",
       "3    Blue  Male      4           9.6         7.9              20.1   \n",
       "4    Blue  Male      5           9.8         8.0              20.3   \n",
       "\n",
       "   Maximum Width  Body Depth     class     TSNE1      TSNE2  \n",
       "0           19.0         7.0  BlueMale -6.903159  61.119114  \n",
       "1           20.8         7.4  BlueMale -5.796356  59.448009  \n",
       "2           22.4         7.7  BlueMale -3.911477  58.517956  \n",
       "3           23.1         8.2  BlueMale -2.242760  57.083687  \n",
       "4           23.0         8.2  BlueMale -2.193069  55.986835  "
      ]
     },
     "execution_count": 54,
     "metadata": {},
     "output_type": "execute_result"
    }
   ],
   "source": [
    "crabs_data.head()"
   ]
  },
  {
   "cell_type": "markdown",
   "metadata": {},
   "source": [
    "Plot the TSNE   "
   ]
  },
  {
   "cell_type": "code",
   "execution_count": 56,
   "metadata": {},
   "outputs": [
    {
     "data": {
      "text/plain": [
       "<Axes: xlabel='TSNE1', ylabel='TSNE2'>"
      ]
     },
     "execution_count": 56,
     "metadata": {},
     "output_type": "execute_result"
    },
    {
     "data": {
      "image/png": "[encoded data removed]",
      "text/plain": [
       "<Figure size 800x800 with 1 Axes>"
      ]
     },
     "metadata": {},
     "output_type": "display_data"
    }
   ],
   "source": [
    "fig = plt.figure(figsize=(8,8))\n",
    "sns.scatterplot(\n",
    "    x=\"TSNE1\", y=\"TSNE2\", hue=\"class\", data=crabs_data\n",
    ")"
   ]
  },
  {
   "cell_type": "markdown",
   "metadata": {},
   "source": [
    "This plot is going to be different every time because this is a stochastic process with different seeding each time. "
   ]
  },
  {
   "cell_type": "markdown",
   "metadata": {},
   "source": [
    "### 3 Dimensions"
   ]
  },
  {
   "cell_type": "code",
   "execution_count": 57,
   "metadata": {},
   "outputs": [],
   "source": [
    "# recall the data engine with update parameters (3D)\n",
    "crabs_tsne = TSNE(\n",
    "    n_components=3, perplexity=10, n_iter=2000, init=\"random\"\n",
    ").fit_transform(crabs_data[data_columns])\n",
    "\n"
   ]
  },
  {
   "cell_type": "markdown",
   "metadata": {},
   "source": [
    "Append data to `crabs_data` DF."
   ]
  },
  {
   "cell_type": "code",
   "execution_count": 61,
   "metadata": {},
   "outputs": [],
   "source": [
    "crabs_data[[\"TSNE1\", \"TSNE2\", \"TSNE3\"]] = crabs_tsne"
   ]
  },
  {
   "cell_type": "code",
   "execution_count": 62,
   "metadata": {},
   "outputs": [],
   "source": [
    "# remap colors dictionary:\n",
    "# good for 3D rendering\n",
    "colors_crabs = {\n",
    "    'BlueFemale': 'y', 'BlueMale':'b', 'OrangeFemale': 'r', \"OrangeMale\": 'g'\n",
    "}"
   ]
  },
  {
   "cell_type": "code",
   "execution_count": 67,
   "metadata": {},
   "outputs": [
    {
     "data": {
      "text/plain": [
       "<mpl_toolkits.mplot3d.art3d.Path3DCollection at 0x179e3d280>"
      ]
     },
     "execution_count": 67,
     "metadata": {},
     "output_type": "execute_result"
    },
    {
     "data": {
      "image/png": "[encoded data removed]",
      "text/plain": [
       "<Figure size 800x800 with 1 Axes>"
      ]
     },
     "metadata": {},
     "output_type": "display_data"
    }
   ],
   "source": [
    "# scatter plot calls\n",
    "\n",
    "# need figure and an axis (for 3D, latter applies especially)\n",
    "fig = plt.figure(figsize=(8,8))\n",
    "ax = fig.add_subplot(111, projection='3d')\n",
    "\n",
    "plt.scatter(\n",
    "    crabs_data.TSNE1, \n",
    "    crabs_data.TSNE2, \n",
    "    zs=crabs_data.TSNE2,\n",
    "    depthshade=False,\n",
    "    c=crabs_data[\"class\"].apply(lambda x: colors_crabs[x]),\n",
    "    s=50\n",
    ")"
   ]
  },
  {
   "cell_type": "markdown",
   "metadata": {},
   "source": [
    "**do it again but with plotly**"
   ]
  },
  {
   "cell_type": "code",
   "execution_count": 77,
   "metadata": {},
   "outputs": [
    {
     "data": {
      "application/vnd.plotly.v1+json": {
       "config": {
        "plotlyServerURL": "https://plot.ly"
       },
       "data": [
        {
         "hovertemplate": "class=BlueMale<br>TSNE1=%{x}<br>TSNE2=%{y}<br>TSNE3=%{z}<extra></extra>",
         "legendgroup": "BlueMale",
         "marker": {
          "color": "#636efa",
          "symbol": "circle"
         },
         "mode": "markers",
         "name": "BlueMale",
         "scene": "scene",
         "showlegend": true,
         "type": "scatter3d",
         "x": [
          -22.525772094726562,
          -22.381662368774414,
          -21.63749122619629,
          -20.668020248413086,
          -20.457853317260742,
          -16.26707649230957,
          -15.41787338256836,
          -14.12244987487793,
          -14.592845916748047,
          -12.721784591674805,
          -7.4436936378479,
          -7.902865409851074,
          -6.4972333908081055,
          -6.815095901489258,
          -7.119705677032471,
          -8.029265403747559,
          -5.395419120788574,
          -5.210810661315918,
          -5.628139972686768,
          -3.2453362941741943,
          -2.121415853500366,
          -1.5081437826156616,
          -1.7448546886444092,
          -1.0721282958984375,
          -0.8089944124221802,
          -0.8236774802207947,
          -0.6144851446151733,
          5.1499857902526855,
          2.4413154125213623,
          2.712171792984009,
          5.072742938995361,
          5.850689888000488,
          5.412148952484131,
          5.939478874206543,
          8.260546684265137,
          6.492818355560303,
          7.709880352020264,
          6.811741352081299,
          6.997325897216797,
          8.638992309570312,
          9.352376937866211,
          9.950176239013672,
          9.644552230834961,
          14.926817893981934,
          13.596272468566895,
          13.066524505615234,
          14.731026649475098,
          15.250162124633789,
          14.860997200012207,
          18.888568878173828
         ],
         "y": [
          4.1526031494140625,
          3.781162977218628,
          3.072794198989868,
          2.9638073444366455,
          3.065122604370117,
          1.3133052587509155,
          0.7408435344696045,
          0.0009281685343012214,
          0.3250521719455719,
          -0.9773946404457092,
          -3.9697370529174805,
          -3.4632363319396973,
          -4.479310512542725,
          -4.306585788726807,
          -3.864457368850708,
          -2.6888928413391113,
          -4.526653289794922,
          -4.400089740753174,
          -4.1903228759765625,
          -1.746742844581604,
          1.5318257808685303,
          2.0127151012420654,
          1.9462730884552002,
          2.287240982055664,
          2.2350499629974365,
          1.8692121505737305,
          2.4804461002349854,
          4.851085186004639,
          2.2252981662750244,
          2.4784610271453857,
          4.160965442657471,
          4.508435249328613,
          4.612187385559082,
          4.577951908111572,
          4.193223476409912,
          4.7115631103515625,
          4.262470722198486,
          4.576465606689453,
          4.286153316497803,
          3.848853588104248,
          3.3679816722869873,
          2.8272554874420166,
          3.095024824142456,
          1.8131386041641235,
          2.5370891094207764,
          2.529151201248169,
          1.9429255723953247,
          2.657968044281006,
          2.479654550552368,
          1.69859778881073
         ],
         "z": [
          -3.0598573684692383,
          -4.164479732513428,
          -4.75655460357666,
          -5.588217258453369,
          -5.607186317443848,
          -8.086092948913574,
          -8.594850540161133,
          -8.461182594299316,
          -8.568881034851074,
          -9.690619468688965,
          -10.98337459564209,
          -10.57112979888916,
          -11.400649070739746,
          -11.270971298217773,
          -10.536112785339355,
          -10.267749786376953,
          -10.337740898132324,
          -9.969234466552734,
          -9.644255638122559,
          -7.796805381774902,
          -2.3367855548858643,
          -1.6026312112808228,
          -1.8740869760513306,
          -0.9964881539344788,
          -0.6648885011672974,
          -0.8450061678886414,
          -0.3531499207019806,
          6.7988739013671875,
          3.319955587387085,
          3.2548487186431885,
          7.032049655914307,
          8.008090019226074,
          7.14027214050293,
          7.779970645904541,
          9.549829483032227,
          7.925984859466553,
          9.044967651367188,
          8.229314804077148,
          8.34009838104248,
          9.755074501037598,
          10.203912734985352,
          10.499927520751953,
          10.345523834228516,
          11.930879592895508,
          12.042314529418945,
          11.799688339233398,
          12.116812705993652,
          12.66363525390625,
          12.512739181518555,
          16.219158172607422
         ]
        },
        {
         "hovertemplate": "class=BlueFemale<br>TSNE1=%{x}<br>TSNE2=%{y}<br>TSNE3=%{z}<extra></extra>",
         "legendgroup": "BlueFemale",
         "marker": {
          "color": "#EF553B",
          "symbol": "circle"
         },
         "mode": "markers",
         "name": "BlueFemale",
         "scene": "scene",
         "showlegend": true,
         "type": "scatter3d",
         "x": [
          -22.355146408081055,
          -21.652629852294922,
          -22.132783889770508,
          -21.553987503051758,
          -21.043899536132812,
          -19.496381759643555,
          -18.989669799804688,
          -18.459991455078125,
          -18.155853271484375,
          -16.88722038269043,
          -17.625337600708008,
          -16.2373104095459,
          -13.156523704528809,
          -13.293774604797363,
          -14.174544334411621,
          -13.169487953186035,
          -11.482818603515625,
          -12.835241317749023,
          -11.874595642089844,
          -8.827500343322754,
          -7.877463340759277,
          -8.643855094909668,
          -6.242433071136475,
          -6.925127029418945,
          -5.680548667907715,
          -5.942134857177734,
          -4.950291633605957,
          -4.270089626312256,
          -3.248793840408325,
          -3.176882266998291,
          -3.1771063804626465,
          0.3461953103542328,
          0.5971412062644958,
          0.05568540468811989,
          0.24705737829208374,
          -0.10873177647590637,
          1.2626912593841553,
          0.7638375759124756,
          0.3937031924724579,
          1.4403773546218872,
          0.6840603947639465,
          1.523478627204895,
          1.3730928897857666,
          2.037338972091675,
          1.49718177318573,
          2.654257297515869,
          5.995372772216797,
          8.630114555358887,
          8.708723068237305,
          14.69300651550293
         ],
         "y": [
          4.251213550567627,
          3.3171603679656982,
          3.6383004188537598,
          3.8037335872650146,
          3.4174652099609375,
          2.602743148803711,
          2.285921335220337,
          2.1918463706970215,
          1.6885472536087036,
          1.299553632736206,
          1.3979240655899048,
          0.9912490844726562,
          -0.7460901737213135,
          -0.028968172147870064,
          0.5263041853904724,
          -0.25330373644828796,
          -1.626205325126648,
          -0.2714298367500305,
          -0.8907572627067566,
          -3.5950779914855957,
          -2.7598628997802734,
          -3.423497438430786,
          -3.6442551612854004,
          -3.707274913787842,
          -4.144008159637451,
          -3.5747132301330566,
          -3.3122851848602295,
          -2.664729356765747,
          -0.5087941884994507,
          -0.4553489685058594,
          -0.3889266848564148,
          -0.3543086647987366,
          0.1845250129699707,
          -0.5203718543052673,
          -0.12294656783342361,
          -0.6603728532791138,
          0.993705153465271,
          0.6866409182548523,
          0.5844452977180481,
          1.1858608722686768,
          0.7349924445152283,
          0.7698813676834106,
          1.1435866355895996,
          0.5053007006645203,
          0.6410291790962219,
          0.35441166162490845,
          -1.4174599647521973,
          -2.2414205074310303,
          -2.2501120567321777,
          1.115270972251892
         ],
         "z": [
          -2.7074544429779053,
          -5.477303981781006,
          -4.626389503479004,
          -5.031674861907959,
          -4.9521565437316895,
          -6.325952529907227,
          -6.788265228271484,
          -6.981766223907471,
          -7.587470531463623,
          -8.108074188232422,
          -7.96764612197876,
          -8.459086418151855,
          -10.130083084106445,
          -9.965482711791992,
          -10.032071113586426,
          -9.478906631469727,
          -9.973821640014648,
          -9.723484992980957,
          -9.957900047302246,
          -9.0221529006958,
          -9.436823844909668,
          -9.076804161071777,
          -8.275402069091797,
          -9.671698570251465,
          -9.175649642944336,
          -8.28378677368164,
          -8.35274887084961,
          -7.651251316070557,
          -3.7930166721343994,
          -3.700026512145996,
          -3.2079837322235107,
          0.3695797026157379,
          1.8179625272750854,
          -0.3610646724700928,
          0.40403619408607483,
          -0.13846778869628906,
          3.8643782138824463,
          2.3291659355163574,
          1.187354564666748,
          3.5760679244995117,
          1.9777776002883911,
          4.8955397605896,
          3.320828914642334,
          5.702595233917236,
          5.548758506774902,
          5.5517096519470215,
          9.418510437011719,
          11.314868927001953,
          11.398494720458984,
          11.868338584899902
         ]
        },
        {
         "hovertemplate": "class=OrangeMale<br>TSNE1=%{x}<br>TSNE2=%{y}<br>TSNE3=%{z}<extra></extra>",
         "legendgroup": "OrangeMale",
         "marker": {
          "color": "#00cc96",
          "symbol": "circle"
         },
         "mode": "markers",
         "name": "OrangeMale",
         "scene": "scene",
         "showlegend": true,
         "type": "scatter3d",
         "x": [
          -22.60691261291504,
          -19.93668556213379,
          -19.363340377807617,
          -16.745948791503906,
          -14.799877166748047,
          -14.103899002075195,
          -10.233896255493164,
          -7.9707255363464355,
          -9.325051307678223,
          -7.572134017944336,
          -4.184978008270264,
          -4.410820960998535,
          -4.789025783538818,
          -4.568395614624023,
          -5.0963239669799805,
          -6.8745622634887695,
          -3.9930663108825684,
          -2.462193489074707,
          -4.331862926483154,
          -1.725736141204834,
          -1.0847188234329224,
          -1.672738790512085,
          0.010616893880069256,
          0.5297953486442566,
          0.14903832972049713,
          5.457079887390137,
          6.5406317710876465,
          5.067803382873535,
          5.26597785949707,
          6.765356540679932,
          7.554816246032715,
          7.780707836151123,
          9.484064102172852,
          8.931519508361816,
          8.67390251159668,
          7.755337238311768,
          8.222811698913574,
          10.127567291259766,
          10.281811714172363,
          10.908839225769043,
          11.272340774536133,
          14.905611991882324,
          15.107295036315918,
          17.236650466918945,
          17.25989532470703,
          15.670259475708008,
          17.651691436767578,
          16.89999771118164,
          18.39189910888672,
          18.553998947143555
         ],
         "y": [
          4.121379852294922,
          3.490874767303467,
          3.3128128051757812,
          2.3923888206481934,
          1.923860788345337,
          1.5591078996658325,
          -0.24135591089725494,
          -1.0408746004104614,
          -0.45118629932403564,
          -0.699249804019928,
          0.02525331638753414,
          1.0221984386444092,
          1.1381028890609741,
          0.5966737866401672,
          0.73341965675354,
          -0.16549381613731384,
          0.3379707932472229,
          -1.225618839263916,
          0.6909506320953369,
          -0.8631804585456848,
          -0.8623166084289551,
          -0.9543652534484863,
          -0.8667968511581421,
          -0.6334593892097473,
          -0.7764968276023865,
          1.2457985877990723,
          1.5110304355621338,
          1.3047196865081787,
          1.1152032613754272,
          1.4907256364822388,
          1.4566669464111328,
          1.096985936164856,
          1.238173246383667,
          0.9076023697853088,
          0.8230822086334229,
          0.8678289651870728,
          0.7616167068481445,
          1.227004885673523,
          1.0866230726242065,
          1.2264025211334229,
          1.340834379196167,
          1.9499298334121704,
          1.802323579788208,
          1.5898076295852661,
          1.6291700601577759,
          1.7258806228637695,
          1.454986572265625,
          1.2855726480484009,
          1.0707783699035645,
          1.396873116493225
         ],
         "z": [
          -3.18695068359375,
          -5.171855926513672,
          -5.487034797668457,
          -6.927168846130371,
          -7.533050060272217,
          -7.822298049926758,
          -10.142463684082031,
          -9.884057998657227,
          -10.1240816116333,
          -9.750265121459961,
          -8.445826530456543,
          -9.513394355773926,
          -9.229955673217773,
          -9.360532760620117,
          -9.309549331665039,
          -9.626137733459473,
          -8.640697479248047,
          -7.138950824737549,
          -8.53282356262207,
          -6.279323101043701,
          -5.916882038116455,
          -6.565648078918457,
          -5.085081577301025,
          -4.801754951477051,
          -5.100463390350342,
          4.822474956512451,
          5.6883344650268555,
          4.0256028175354,
          4.6041460037231445,
          5.881584167480469,
          7.084556579589844,
          7.515408039093018,
          9.355682373046875,
          8.640874862670898,
          8.412370681762695,
          6.897309303283691,
          7.652174949645996,
          9.967883110046387,
          10.09250259399414,
          10.712068557739258,
          10.925460815429688,
          14.158596992492676,
          14.178739547729492,
          15.376413345336914,
          15.380205154418945,
          14.474016189575195,
          15.660141944885254,
          15.230252265930176,
          16.239992141723633,
          16.269519805908203
         ]
        },
        {
         "hovertemplate": "class=OrangeFemale<br>TSNE1=%{x}<br>TSNE2=%{y}<br>TSNE3=%{z}<extra></extra>",
         "legendgroup": "OrangeFemale",
         "marker": {
          "color": "#ab63fa",
          "symbol": "circle"
         },
         "mode": "markers",
         "name": "OrangeFemale",
         "scene": "scene",
         "showlegend": true,
         "type": "scatter3d",
         "x": [
          -17.927791595458984,
          -17.490032196044922,
          -14.108004570007324,
          -11.498863220214844,
          -10.546745300292969,
          -6.77850866317749,
          -5.252377986907959,
          -5.8313164710998535,
          -3.3285205364227295,
          -3.039977788925171,
          -2.197392225265503,
          0.3513595461845398,
          0.24533624947071075,
          -0.059677157551050186,
          0.10514633357524872,
          0.8300852179527283,
          0.8135651350021362,
          0.7335786819458008,
          2.7536323070526123,
          2.962324380874634,
          3.87663197517395,
          4.202916622161865,
          3.0988869667053223,
          4.2676191329956055,
          4.357017993927002,
          8.239249229431152,
          5.200510025024414,
          5.149738788604736,
          6.568942546844482,
          7.383134365081787,
          4.271722316741943,
          5.6415181159973145,
          6.251397132873535,
          7.900918960571289,
          8.064355850219727,
          11.464332580566406,
          11.493806838989258,
          13.738919258117676,
          12.666029930114746,
          11.993637084960938,
          11.577010154724121,
          13.329927444458008,
          14.260933876037598,
          12.345017433166504,
          16.05804443359375,
          14.249397277832031,
          14.96258544921875,
          15.32012939453125,
          15.886687278747559,
          18.42729377746582
         ],
         "y": [
          2.6872596740722656,
          2.657120704650879,
          1.5194391012191772,
          0.22812165319919586,
          -0.25542399287223816,
          -1.1255183219909668,
          -1.257479190826416,
          -1.137097716331482,
          -0.9676501154899597,
          -0.9036956429481506,
          -0.8605828881263733,
          -1.9160898923873901,
          -2.0968873500823975,
          -2.417470932006836,
          -2.14705228805542,
          -1.6338790655136108,
          -1.637093186378479,
          -2.082000732421875,
          -1.4548053741455078,
          -1.4058301448822021,
          -0.44451138377189636,
          -0.43535342812538147,
          -1.382016897201538,
          -0.3311775028705597,
          -0.922839343547821,
          -1.9988679885864258,
          -1.4676142930984497,
          -1.414920687675476,
          -1.2890760898590088,
          -0.5515662431716919,
          -1.2775851488113403,
          -1.37313711643219,
          -1.8747832775115967,
          -1.7483627796173096,
          -1.8382185697555542,
          -1.664229393005371,
          -1.5079295635223389,
          -1.0667357444763184,
          -1.2736107110977173,
          -1.6690609455108643,
          -1.1198418140411377,
          -1.3788747787475586,
          -0.9215648174285889,
          -1.2628562450408936,
          -0.24279238283634186,
          -1.0290579795837402,
          -0.45433953404426575,
          -0.2407308965921402,
          0.040126245468854904,
          0.3849199414253235
         ],
         "z": [
          -6.483838081359863,
          -6.565922260284424,
          -7.909960746765137,
          -10.042444229125977,
          -10.127912521362305,
          -8.458046913146973,
          -7.515340805053711,
          -7.869214057922363,
          -5.061184883117676,
          -4.984145641326904,
          -5.699410438537598,
          -2.475253105163574,
          -1.8531593084335327,
          -2.668560266494751,
          -2.6601741313934326,
          -1.185141921043396,
          -1.122693419456482,
          -1.5009429454803467,
          1.825425386428833,
          2.156446933746338,
          5.821199417114258,
          5.563323974609375,
          2.3703553676605225,
          5.065250873565674,
          6.2851667404174805,
          10.52577018737793,
          7.48383092880249,
          7.330094814300537,
          8.78502368927002,
          8.64831829071045,
          6.101723670959473,
          7.659095287322998,
          8.8605318069458,
          9.835997581481934,
          10.022858619689941,
          12.1447114944458,
          11.89985179901123,
          12.477458000183105,
          12.064144134521484,
          12.458649635314941,
          11.691126823425293,
          12.973518371582031,
          13.503135681152344,
          11.700387954711914,
          14.922602653503418,
          13.49935531616211,
          14.114057540893555,
          14.391162872314453,
          14.780142784118652,
          16.4263916015625
         ]
        }
       ],
       "layout": {
        "legend": {
         "title": {
          "text": "class"
         },
         "tracegroupgap": 0
        },
        "margin": {
         "t": 60
        },
        "scene": {
         "domain": {
          "x": [
           0,
           1
          ],
          "y": [
           0,
           1
          ]
         },
         "xaxis": {
          "title": {
           "text": "TSNE1"
          }
         },
         "yaxis": {
          "title": {
           "text": "TSNE2"
          }
         },
         "zaxis": {
          "title": {
           "text": "TSNE3"
          }
         }
        },
        "template": {
         "data": {
          "bar": [
           {
            "error_x": {
             "color": "#2a3f5f"
            },
            "error_y": {
             "color": "#2a3f5f"
            },
            "marker": {
             "line": {
              "color": "#E5ECF6",
              "width": 0.5
             },
             "pattern": {
              "fillmode": "overlay",
              "size": 10,
              "solidity": 0.2
             }
            },
            "type": "bar"
           }
          ],
          "barpolar": [
           {
            "marker": {
             "line": {
              "color": "#E5ECF6",
              "width": 0.5
             },
             "pattern": {
              "fillmode": "overlay",
              "size": 10,
              "solidity": 0.2
             }
            },
            "type": "barpolar"
           }
          ],
          "carpet": [
           {
            "aaxis": {
             "endlinecolor": "#2a3f5f",
             "gridcolor": "white",
             "linecolor": "white",
             "minorgridcolor": "white",
             "startlinecolor": "#2a3f5f"
            },
            "baxis": {
             "endlinecolor": "#2a3f5f",
             "gridcolor": "white",
             "linecolor": "white",
             "minorgridcolor": "white",
             "startlinecolor": "#2a3f5f"
            },
            "type": "carpet"
           }
          ],
          "choropleth": [
           {
            "colorbar": {
             "outlinewidth": 0,
             "ticks": ""
            },
            "type": "choropleth"
           }
          ],
          "contour": [
           {
            "colorbar": {
             "outlinewidth": 0,
             "ticks": ""
            },
            "colorscale": [
             [
              0,
              "#0d0887"
             ],
             [
              0.1111111111111111,
              "#46039f"
             ],
             [
              0.2222222222222222,
              "#7201a8"
             ],
             [
              0.3333333333333333,
              "#9c179e"
             ],
             [
              0.4444444444444444,
              "#bd3786"
             ],
             [
              0.5555555555555556,
              "#d8576b"
             ],
             [
              0.6666666666666666,
              "#ed7953"
             ],
             [
              0.7777777777777778,
              "#fb9f3a"
             ],
             [
              0.8888888888888888,
              "#fdca26"
             ],
             [
              1,
              "#f0f921"
             ]
            ],
            "type": "contour"
           }
          ],
          "contourcarpet": [
           {
            "colorbar": {
             "outlinewidth": 0,
             "ticks": ""
            },
            "type": "contourcarpet"
           }
          ],
          "heatmap": [
           {
            "colorbar": {
             "outlinewidth": 0,
             "ticks": ""
            },
            "colorscale": [
             [
              0,
              "#0d0887"
             ],
             [
              0.1111111111111111,
              "#46039f"
             ],
             [
              0.2222222222222222,
              "#7201a8"
             ],
             [
              0.3333333333333333,
              "#9c179e"
             ],
             [
              0.4444444444444444,
              "#bd3786"
             ],
             [
              0.5555555555555556,
              "#d8576b"
             ],
             [
              0.6666666666666666,
              "#ed7953"
             ],
             [
              0.7777777777777778,
              "#fb9f3a"
             ],
             [
              0.8888888888888888,
              "#fdca26"
             ],
             [
              1,
              "#f0f921"
             ]
            ],
            "type": "heatmap"
           }
          ],
          "heatmapgl": [
           {
            "colorbar": {
             "outlinewidth": 0,
             "ticks": ""
            },
            "colorscale": [
             [
              0,
              "#0d0887"
             ],
             [
              0.1111111111111111,
              "#46039f"
             ],
             [
              0.2222222222222222,
              "#7201a8"
             ],
             [
              0.3333333333333333,
              "#9c179e"
             ],
             [
              0.4444444444444444,
              "#bd3786"
             ],
             [
              0.5555555555555556,
              "#d8576b"
             ],
             [
              0.6666666666666666,
              "#ed7953"
             ],
             [
              0.7777777777777778,
              "#fb9f3a"
             ],
             [
              0.8888888888888888,
              "#fdca26"
             ],
             [
              1,
              "#f0f921"
             ]
            ],
            "type": "heatmapgl"
           }
          ],
          "histogram": [
           {
            "marker": {
             "pattern": {
              "fillmode": "overlay",
              "size": 10,
              "solidity": 0.2
             }
            },
            "type": "histogram"
           }
          ],
          "histogram2d": [
           {
            "colorbar": {
             "outlinewidth": 0,
             "ticks": ""
            },
            "colorscale": [
             [
              0,
              "#0d0887"
             ],
             [
              0.1111111111111111,
              "#46039f"
             ],
             [
              0.2222222222222222,
              "#7201a8"
             ],
             [
              0.3333333333333333,
              "#9c179e"
             ],
             [
              0.4444444444444444,
              "#bd3786"
             ],
             [
              0.5555555555555556,
              "#d8576b"
             ],
             [
              0.6666666666666666,
              "#ed7953"
             ],
             [
              0.7777777777777778,
              "#fb9f3a"
             ],
             [
              0.8888888888888888,
              "#fdca26"
             ],
             [
              1,
              "#f0f921"
             ]
            ],
            "type": "histogram2d"
           }
          ],
          "histogram2dcontour": [
           {
            "colorbar": {
             "outlinewidth": 0,
             "ticks": ""
            },
            "colorscale": [
             [
              0,
              "#0d0887"
             ],
             [
              0.1111111111111111,
              "#46039f"
             ],
             [
              0.2222222222222222,
              "#7201a8"
             ],
             [
              0.3333333333333333,
              "#9c179e"
             ],
             [
              0.4444444444444444,
              "#bd3786"
             ],
             [
              0.5555555555555556,
              "#d8576b"
             ],
             [
              0.6666666666666666,
              "#ed7953"
             ],
             [
              0.7777777777777778,
              "#fb9f3a"
             ],
             [
              0.8888888888888888,
              "#fdca26"
             ],
             [
              1,
              "#f0f921"
             ]
            ],
            "type": "histogram2dcontour"
           }
          ],
          "mesh3d": [
           {
            "colorbar": {
             "outlinewidth": 0,
             "ticks": ""
            },
            "type": "mesh3d"
           }
          ],
          "parcoords": [
           {
            "line": {
             "colorbar": {
              "outlinewidth": 0,
              "ticks": ""
             }
            },
            "type": "parcoords"
           }
          ],
          "pie": [
           {
            "automargin": true,
            "type": "pie"
           }
          ],
          "scatter": [
           {
            "fillpattern": {
             "fillmode": "overlay",
             "size": 10,
             "solidity": 0.2
            },
            "type": "scatter"
           }
          ],
          "scatter3d": [
           {
            "line": {
             "colorbar": {
              "outlinewidth": 0,
              "ticks": ""
             }
            },
            "marker": {
             "colorbar": {
              "outlinewidth": 0,
              "ticks": ""
             }
            },
            "type": "scatter3d"
           }
          ],
          "scattercarpet": [
           {
            "marker": {
             "colorbar": {
              "outlinewidth": 0,
              "ticks": ""
             }
            },
            "type": "scattercarpet"
           }
          ],
          "scattergeo": [
           {
            "marker": {
             "colorbar": {
              "outlinewidth": 0,
              "ticks": ""
             }
            },
            "type": "scattergeo"
           }
          ],
          "scattergl": [
           {
            "marker": {
             "colorbar": {
              "outlinewidth": 0,
              "ticks": ""
             }
            },
            "type": "scattergl"
           }
          ],
          "scattermapbox": [
           {
            "marker": {
             "colorbar": {
              "outlinewidth": 0,
              "ticks": ""
             }
            },
            "type": "scattermapbox"
           }
          ],
          "scatterpolar": [
           {
            "marker": {
             "colorbar": {
              "outlinewidth": 0,
              "ticks": ""
             }
            },
            "type": "scatterpolar"
           }
          ],
          "scatterpolargl": [
           {
            "marker": {
             "colorbar": {
              "outlinewidth": 0,
              "ticks": ""
             }
            },
            "type": "scatterpolargl"
           }
          ],
          "scatterternary": [
           {
            "marker": {
             "colorbar": {
              "outlinewidth": 0,
              "ticks": ""
             }
            },
            "type": "scatterternary"
           }
          ],
          "surface": [
           {
            "colorbar": {
             "outlinewidth": 0,
             "ticks": ""
            },
            "colorscale": [
             [
              0,
              "#0d0887"
             ],
             [
              0.1111111111111111,
              "#46039f"
             ],
             [
              0.2222222222222222,
              "#7201a8"
             ],
             [
              0.3333333333333333,
              "#9c179e"
             ],
             [
              0.4444444444444444,
              "#bd3786"
             ],
             [
              0.5555555555555556,
              "#d8576b"
             ],
             [
              0.6666666666666666,
              "#ed7953"
             ],
             [
              0.7777777777777778,
              "#fb9f3a"
             ],
             [
              0.8888888888888888,
              "#fdca26"
             ],
             [
              1,
              "#f0f921"
             ]
            ],
            "type": "surface"
           }
          ],
          "table": [
           {
            "cells": {
             "fill": {
              "color": "#EBF0F8"
             },
             "line": {
              "color": "white"
             }
            },
            "header": {
             "fill": {
              "color": "#C8D4E3"
             },
             "line": {
              "color": "white"
             }
            },
            "type": "table"
           }
          ]
         },
         "layout": {
          "annotationdefaults": {
           "arrowcolor": "#2a3f5f",
           "arrowhead": 0,
           "arrowwidth": 1
          },
          "autotypenumbers": "strict",
          "coloraxis": {
           "colorbar": {
            "outlinewidth": 0,
            "ticks": ""
           }
          },
          "colorscale": {
           "diverging": [
            [
             0,
             "#8e0152"
            ],
            [
             0.1,
             "#c51b7d"
            ],
            [
             0.2,
             "#de77ae"
            ],
            [
             0.3,
             "#f1b6da"
            ],
            [
             0.4,
             "#fde0ef"
            ],
            [
             0.5,
             "#f7f7f7"
            ],
            [
             0.6,
             "#e6f5d0"
            ],
            [
             0.7,
             "#b8e186"
            ],
            [
             0.8,
             "#7fbc41"
            ],
            [
             0.9,
             "#4d9221"
            ],
            [
             1,
             "#276419"
            ]
           ],
           "sequential": [
            [
             0,
             "#0d0887"
            ],
            [
             0.1111111111111111,
             "#46039f"
            ],
            [
             0.2222222222222222,
             "#7201a8"
            ],
            [
             0.3333333333333333,
             "#9c179e"
            ],
            [
             0.4444444444444444,
             "#bd3786"
            ],
            [
             0.5555555555555556,
             "#d8576b"
            ],
            [
             0.6666666666666666,
             "#ed7953"
            ],
            [
             0.7777777777777778,
             "#fb9f3a"
            ],
            [
             0.8888888888888888,
             "#fdca26"
            ],
            [
             1,
             "#f0f921"
            ]
           ],
           "sequentialminus": [
            [
             0,
             "#0d0887"
            ],
            [
             0.1111111111111111,
             "#46039f"
            ],
            [
             0.2222222222222222,
             "#7201a8"
            ],
            [
             0.3333333333333333,
             "#9c179e"
            ],
            [
             0.4444444444444444,
             "#bd3786"
            ],
            [
             0.5555555555555556,
             "#d8576b"
            ],
            [
             0.6666666666666666,
             "#ed7953"
            ],
            [
             0.7777777777777778,
             "#fb9f3a"
            ],
            [
             0.8888888888888888,
             "#fdca26"
            ],
            [
             1,
             "#f0f921"
            ]
           ]
          },
          "colorway": [
           "#636efa",
           "#EF553B",
           "#00cc96",
           "#ab63fa",
           "#FFA15A",
           "#19d3f3",
           "#FF6692",
           "#B6E880",
           "#FF97FF",
           "#FECB52"
          ],
          "font": {
           "color": "#2a3f5f"
          },
          "geo": {
           "bgcolor": "white",
           "lakecolor": "white",
           "landcolor": "#E5ECF6",
           "showlakes": true,
           "showland": true,
           "subunitcolor": "white"
          },
          "hoverlabel": {
           "align": "left"
          },
          "hovermode": "closest",
          "mapbox": {
           "style": "light"
          },
          "paper_bgcolor": "white",
          "plot_bgcolor": "#E5ECF6",
          "polar": {
           "angularaxis": {
            "gridcolor": "white",
            "linecolor": "white",
            "ticks": ""
           },
           "bgcolor": "#E5ECF6",
           "radialaxis": {
            "gridcolor": "white",
            "linecolor": "white",
            "ticks": ""
           }
          },
          "scene": {
           "xaxis": {
            "backgroundcolor": "#E5ECF6",
            "gridcolor": "white",
            "gridwidth": 2,
            "linecolor": "white",
            "showbackground": true,
            "ticks": "",
            "zerolinecolor": "white"
           },
           "yaxis": {
            "backgroundcolor": "#E5ECF6",
            "gridcolor": "white",
            "gridwidth": 2,
            "linecolor": "white",
            "showbackground": true,
            "ticks": "",
            "zerolinecolor": "white"
           },
           "zaxis": {
            "backgroundcolor": "#E5ECF6",
            "gridcolor": "white",
            "gridwidth": 2,
            "linecolor": "white",
            "showbackground": true,
            "ticks": "",
            "zerolinecolor": "white"
           }
          },
          "shapedefaults": {
           "line": {
            "color": "#2a3f5f"
           }
          },
          "ternary": {
           "aaxis": {
            "gridcolor": "white",
            "linecolor": "white",
            "ticks": ""
           },
           "baxis": {
            "gridcolor": "white",
            "linecolor": "white",
            "ticks": ""
           },
           "bgcolor": "#E5ECF6",
           "caxis": {
            "gridcolor": "white",
            "linecolor": "white",
            "ticks": ""
           }
          },
          "title": {
           "x": 0.05
          },
          "xaxis": {
           "automargin": true,
           "gridcolor": "white",
           "linecolor": "white",
           "ticks": "",
           "title": {
            "standoff": 15
           },
           "zerolinecolor": "white",
           "zerolinewidth": 2
          },
          "yaxis": {
           "automargin": true,
           "gridcolor": "white",
           "linecolor": "white",
           "ticks": "",
           "title": {
            "standoff": 15
           },
           "zerolinecolor": "white",
           "zerolinewidth": 2
          }
         }
        }
       }
      }
     },
     "metadata": {},
     "output_type": "display_data"
    }
   ],
   "source": [
    "fig = px.scatter_3d(\n",
    "    crabs_data,\n",
    "    x=\"TSNE1\",\n",
    "    y=\"TSNE2\",\n",
    "    z=\"TSNE3\",\n",
    "    color=\"class\"\n",
    ")\n",
    "\n",
    "# plotly express when stored as a variable needs to explicitly say show\n",
    "fig.show()"
   ]
  },
  {
   "cell_type": "markdown",
   "metadata": {},
   "source": [
    "## t-SNE with Scaled Data"
   ]
  },
  {
   "cell_type": "markdown",
   "metadata": {},
   "source": [
    "Get the data... again! May want to restart the kernel since we have some already executed code upstairs.  \n",
    "\n",
    "It's okay to rerun the same import library."
   ]
  },
  {
   "cell_type": "code",
   "execution_count": 6,
   "metadata": {},
   "outputs": [],
   "source": [
    "crabs_data = pd.read_csv(\"crabs.csv\")"
   ]
  },
  {
   "cell_type": "code",
   "execution_count": 7,
   "metadata": {},
   "outputs": [
    {
     "data": {
      "text/html": [
       "<div>\n",
       "<style scoped>\n",
       "    .dataframe tbody tr th:only-of-type {\n",
       "        vertical-align: middle;\n",
       "    }\n",
       "\n",
       "    .dataframe tbody tr th {\n",
       "        vertical-align: top;\n",
       "    }\n",
       "\n",
       "    .dataframe thead th {\n",
       "        text-align: right;\n",
       "    }\n",
       "</style>\n",
       "<table border=\"1\" class=\"dataframe\">\n",
       "  <thead>\n",
       "    <tr style=\"text-align: right;\">\n",
       "      <th></th>\n",
       "      <th>sp</th>\n",
       "      <th>sex</th>\n",
       "      <th>index</th>\n",
       "      <th>FL</th>\n",
       "      <th>RW</th>\n",
       "      <th>CL</th>\n",
       "      <th>CW</th>\n",
       "      <th>BD</th>\n",
       "    </tr>\n",
       "  </thead>\n",
       "  <tbody>\n",
       "    <tr>\n",
       "      <th>0</th>\n",
       "      <td>B</td>\n",
       "      <td>M</td>\n",
       "      <td>1</td>\n",
       "      <td>8.1</td>\n",
       "      <td>6.7</td>\n",
       "      <td>16.1</td>\n",
       "      <td>19.0</td>\n",
       "      <td>7.0</td>\n",
       "    </tr>\n",
       "    <tr>\n",
       "      <th>1</th>\n",
       "      <td>B</td>\n",
       "      <td>M</td>\n",
       "      <td>2</td>\n",
       "      <td>8.8</td>\n",
       "      <td>7.7</td>\n",
       "      <td>18.1</td>\n",
       "      <td>20.8</td>\n",
       "      <td>7.4</td>\n",
       "    </tr>\n",
       "    <tr>\n",
       "      <th>2</th>\n",
       "      <td>B</td>\n",
       "      <td>M</td>\n",
       "      <td>3</td>\n",
       "      <td>9.2</td>\n",
       "      <td>7.8</td>\n",
       "      <td>19.0</td>\n",
       "      <td>22.4</td>\n",
       "      <td>7.7</td>\n",
       "    </tr>\n",
       "    <tr>\n",
       "      <th>3</th>\n",
       "      <td>B</td>\n",
       "      <td>M</td>\n",
       "      <td>4</td>\n",
       "      <td>9.6</td>\n",
       "      <td>7.9</td>\n",
       "      <td>20.1</td>\n",
       "      <td>23.1</td>\n",
       "      <td>8.2</td>\n",
       "    </tr>\n",
       "    <tr>\n",
       "      <th>4</th>\n",
       "      <td>B</td>\n",
       "      <td>M</td>\n",
       "      <td>5</td>\n",
       "      <td>9.8</td>\n",
       "      <td>8.0</td>\n",
       "      <td>20.3</td>\n",
       "      <td>23.0</td>\n",
       "      <td>8.2</td>\n",
       "    </tr>\n",
       "  </tbody>\n",
       "</table>\n",
       "</div>"
      ],
      "text/plain": [
       "  sp sex  index   FL   RW    CL    CW   BD\n",
       "0  B   M      1  8.1  6.7  16.1  19.0  7.0\n",
       "1  B   M      2  8.8  7.7  18.1  20.8  7.4\n",
       "2  B   M      3  9.2  7.8  19.0  22.4  7.7\n",
       "3  B   M      4  9.6  7.9  20.1  23.1  8.2\n",
       "4  B   M      5  9.8  8.0  20.3  23.0  8.2"
      ]
     },
     "execution_count": 7,
     "metadata": {},
     "output_type": "execute_result"
    }
   ],
   "source": [
    "crabs_data.head()"
   ]
  },
  {
   "cell_type": "markdown",
   "metadata": {},
   "source": [
    "### Data formatting"
   ]
  },
  {
   "cell_type": "code",
   "execution_count": 27,
   "metadata": {},
   "outputs": [],
   "source": [
    "# Column rename\n",
    "\n",
    "crabs_data = crabs_data.rename(columns={\n",
    "    \"sp\": \"species\", \"FL\": \"Frontal Lobe\", \"RW\": \"Rear Width\",\n",
    "    \"CW\": \"Maximum Width\", \"BD\": \"Body Depth\", \"CL\": \"Carapace Midline\"\n",
    "})\n",
    "\n",
    "# remap some df values for more clear reading.\n",
    "crabs_data[\"species\"] = crabs_data[\"species\"].map(\n",
    "    {\n",
    "        \"B\": \"Blue\", \"O\": \"Orange\"\n",
    "    }\n",
    ")\n",
    "\n",
    "crabs_data[\"sex\"] = crabs_data[\"sex\"].map(\n",
    "    {\n",
    "        \"M\": \"Male\", \"F\": \"Female\"\n",
    "    }\n",
    ")\n",
    "\n"
   ]
  },
  {
   "cell_type": "markdown",
   "metadata": {},
   "source": [
    "Make that re-mappend column (by diagonalization theorem) used to reduce this 2x2 field into a qx1 field... (math talk)"
   ]
  },
  {
   "cell_type": "code",
   "execution_count": 17,
   "metadata": {},
   "outputs": [],
   "source": [
    "crabs_data[\"class\"] = crabs_data.species + crabs_data.sex"
   ]
  },
  {
   "cell_type": "markdown",
   "metadata": {},
   "source": [
    "Specify some data columns for relevant data (columns)."
   ]
  },
  {
   "cell_type": "code",
   "execution_count": 28,
   "metadata": {},
   "outputs": [],
   "source": [
    "data_columns = [\n",
    "    \"Frontal Lobe\", \"Rear Width\", \"Carapace Midline\", \"Maximum Width\", \"Body Depth\"\n",
    "]"
   ]
  },
  {
   "cell_type": "markdown",
   "metadata": {},
   "source": [
    "### Do some t-stochastic neighbor embedding ... this time with scaling"
   ]
  },
  {
   "cell_type": "markdown",
   "metadata": {},
   "source": [
    "Apply min_max rescaling"
   ]
  },
  {
   "cell_type": "code",
   "execution_count": 40,
   "metadata": {},
   "outputs": [],
   "source": [
    "# apply min_max rescaling\n",
    "# may want to copy the original data as dataframe? \n",
    "# this is because MinMaxScalar returns an array not a DF! so if we want to \n",
    "# retain the same DF format as before witht his transformed data\n",
    "# we have to re-pipe it in there hence the `crabs_min_max[data_columns]`` call.\n",
    "crabs_min_max = crabs_data.copy()\n",
    "crabs_min_max[data_columns] = MinMaxScaler().fit_transform(\n",
    "    crabs_data[data_columns]\n",
    ")"
   ]
  },
  {
   "cell_type": "markdown",
   "metadata": {},
   "source": [
    "### CALL TSNE for 2D "
   ]
  },
  {
   "cell_type": "code",
   "execution_count": 43,
   "metadata": {},
   "outputs": [],
   "source": [
    "# apply the TSNE engine\n",
    "crabs_tsne = TSNE(\n",
    "    n_components=2, perplexity=10, n_iter=1000, init=\"random\"\n",
    ").fit_transform(crabs_min_max[data_columns])\n",
    "\n",
    "# append result to the original min_max dataframe\n",
    "crabs_min_max[[\"TSNE1\", \"TSNE2\"]] = crabs_tsne"
   ]
  },
  {
   "cell_type": "markdown",
   "metadata": {},
   "source": [
    "Do some plotting with matplotlib."
   ]
  },
  {
   "cell_type": "code",
   "execution_count": 44,
   "metadata": {},
   "outputs": [
    {
     "data": {
      "text/plain": [
       "<Axes: xlabel='TSNE1', ylabel='TSNE2'>"
      ]
     },
     "execution_count": 44,
     "metadata": {},
     "output_type": "execute_result"
    },
    {
     "data": {
      "image/png": "[encoded data removed]",
      "text/plain": [
       "<Figure size 800x800 with 1 Axes>"
      ]
     },
     "metadata": {},
     "output_type": "display_data"
    }
   ],
   "source": [
    "# start a figure\n",
    "fig = plt.figure(figsize=(8,8))\n",
    "\n",
    "sns.scatterplot(\n",
    "    x=\"TSNE1\", y=\"TSNE2\", hue=\"class\", data=crabs_min_max\n",
    ")"
   ]
  },
  {
   "cell_type": "markdown",
   "metadata": {},
   "source": [
    "Remember you will get a different result each time this is run because it will use a different seed value and it is stochastic in nature."
   ]
  },
  {
   "cell_type": "markdown",
   "metadata": {},
   "source": [
    "### Do TSNE but this time in 3D!"
   ]
  },
  {
   "cell_type": "code",
   "execution_count": 46,
   "metadata": {},
   "outputs": [],
   "source": [
    "# call the TSNE engine\n",
    "crabs_tsne = TSNE(\n",
    "    n_components=3, perplexity=10, n_iter=1000, init=\"random\"\n",
    ").fit_transform(crabs_min_max[data_columns])\n",
    "\n"
   ]
  },
  {
   "cell_type": "code",
   "execution_count": 47,
   "metadata": {},
   "outputs": [],
   "source": [
    "# append to min_max DF\n",
    "crabs_min_max[[\"TSNE1\", \"TSNE2\", \"TSNE3\"]] = crabs_tsne"
   ]
  },
  {
   "cell_type": "code",
   "execution_count": 48,
   "metadata": {},
   "outputs": [
    {
     "data": {
      "text/html": [
       "<div>\n",
       "<style scoped>\n",
       "    .dataframe tbody tr th:only-of-type {\n",
       "        vertical-align: middle;\n",
       "    }\n",
       "\n",
       "    .dataframe tbody tr th {\n",
       "        vertical-align: top;\n",
       "    }\n",
       "\n",
       "    .dataframe thead th {\n",
       "        text-align: right;\n",
       "    }\n",
       "</style>\n",
       "<table border=\"1\" class=\"dataframe\">\n",
       "  <thead>\n",
       "    <tr style=\"text-align: right;\">\n",
       "      <th></th>\n",
       "      <th>species</th>\n",
       "      <th>sex</th>\n",
       "      <th>index</th>\n",
       "      <th>Frontal Lobe</th>\n",
       "      <th>Rear Width</th>\n",
       "      <th>Carapace Midline</th>\n",
       "      <th>Maximum Width</th>\n",
       "      <th>Body Depth</th>\n",
       "      <th>class</th>\n",
       "      <th>TSNE1</th>\n",
       "      <th>TSNE2</th>\n",
       "      <th>TSNE3</th>\n",
       "    </tr>\n",
       "  </thead>\n",
       "  <tbody>\n",
       "    <tr>\n",
       "      <th>0</th>\n",
       "      <td>NaN</td>\n",
       "      <td>NaN</td>\n",
       "      <td>1</td>\n",
       "      <td>0.056604</td>\n",
       "      <td>0.014599</td>\n",
       "      <td>0.042553</td>\n",
       "      <td>0.050667</td>\n",
       "      <td>0.058065</td>\n",
       "      <td>BlueMale</td>\n",
       "      <td>14.737606</td>\n",
       "      <td>4.533900</td>\n",
       "      <td>-0.540623</td>\n",
       "    </tr>\n",
       "    <tr>\n",
       "      <th>1</th>\n",
       "      <td>NaN</td>\n",
       "      <td>NaN</td>\n",
       "      <td>2</td>\n",
       "      <td>0.100629</td>\n",
       "      <td>0.087591</td>\n",
       "      <td>0.103343</td>\n",
       "      <td>0.098667</td>\n",
       "      <td>0.083871</td>\n",
       "      <td>BlueMale</td>\n",
       "      <td>13.607455</td>\n",
       "      <td>4.679700</td>\n",
       "      <td>-0.697540</td>\n",
       "    </tr>\n",
       "    <tr>\n",
       "      <th>2</th>\n",
       "      <td>NaN</td>\n",
       "      <td>NaN</td>\n",
       "      <td>3</td>\n",
       "      <td>0.125786</td>\n",
       "      <td>0.094891</td>\n",
       "      <td>0.130699</td>\n",
       "      <td>0.141333</td>\n",
       "      <td>0.103226</td>\n",
       "      <td>BlueMale</td>\n",
       "      <td>13.083439</td>\n",
       "      <td>5.381244</td>\n",
       "      <td>-0.446916</td>\n",
       "    </tr>\n",
       "    <tr>\n",
       "      <th>3</th>\n",
       "      <td>NaN</td>\n",
       "      <td>NaN</td>\n",
       "      <td>4</td>\n",
       "      <td>0.150943</td>\n",
       "      <td>0.102190</td>\n",
       "      <td>0.164134</td>\n",
       "      <td>0.160000</td>\n",
       "      <td>0.135484</td>\n",
       "      <td>BlueMale</td>\n",
       "      <td>12.356977</td>\n",
       "      <td>6.072396</td>\n",
       "      <td>-0.573142</td>\n",
       "    </tr>\n",
       "    <tr>\n",
       "      <th>4</th>\n",
       "      <td>NaN</td>\n",
       "      <td>NaN</td>\n",
       "      <td>5</td>\n",
       "      <td>0.163522</td>\n",
       "      <td>0.109489</td>\n",
       "      <td>0.170213</td>\n",
       "      <td>0.157333</td>\n",
       "      <td>0.135484</td>\n",
       "      <td>BlueMale</td>\n",
       "      <td>12.099642</td>\n",
       "      <td>6.102277</td>\n",
       "      <td>-0.567756</td>\n",
       "    </tr>\n",
       "  </tbody>\n",
       "</table>\n",
       "</div>"
      ],
      "text/plain": [
       "  species  sex  index  Frontal Lobe  Rear Width  Carapace Midline  \\\n",
       "0     NaN  NaN      1      0.056604    0.014599          0.042553   \n",
       "1     NaN  NaN      2      0.100629    0.087591          0.103343   \n",
       "2     NaN  NaN      3      0.125786    0.094891          0.130699   \n",
       "3     NaN  NaN      4      0.150943    0.102190          0.164134   \n",
       "4     NaN  NaN      5      0.163522    0.109489          0.170213   \n",
       "\n",
       "   Maximum Width  Body Depth     class      TSNE1     TSNE2     TSNE3  \n",
       "0       0.050667    0.058065  BlueMale  14.737606  4.533900 -0.540623  \n",
       "1       0.098667    0.083871  BlueMale  13.607455  4.679700 -0.697540  \n",
       "2       0.141333    0.103226  BlueMale  13.083439  5.381244 -0.446916  \n",
       "3       0.160000    0.135484  BlueMale  12.356977  6.072396 -0.573142  \n",
       "4       0.157333    0.135484  BlueMale  12.099642  6.102277 -0.567756  "
      ]
     },
     "execution_count": 48,
     "metadata": {},
     "output_type": "execute_result"
    }
   ],
   "source": [
    "crabs_min_max.head()"
   ]
  },
  {
   "cell_type": "markdown",
   "metadata": {},
   "source": [
    "Now do some visualization "
   ]
  },
  {
   "cell_type": "code",
   "execution_count": 52,
   "metadata": {},
   "outputs": [
    {
     "data": {
      "text/plain": [
       "<mpl_toolkits.mplot3d.art3d.Path3DCollection at 0x14f0e0170>"
      ]
     },
     "execution_count": 52,
     "metadata": {},
     "output_type": "execute_result"
    },
    {
     "data": {
      "image/png": "[encoded data removed]",
      "text/plain": [
       "<Figure size 800x800 with 1 Axes>"
      ]
     },
     "metadata": {},
     "output_type": "display_data"
    }
   ],
   "source": [
    "# define the colors keys for the classes in a seaparate dictionary for convenience.\n",
    "color_crabs = {\n",
    "    \"BlueFemale\": \"y\", \"BlueMale\": \"b\", \"OrangeFemale\":\"r\", \"OrangeMale\":\"g\"\n",
    "}\n",
    "\n",
    "# start a figure and extend the axis to 3D\n",
    "fig = plt.figure(figsize=(8,8))\n",
    "ax = fig.add_subplot(111, projection=\"3d\")\n",
    "\n",
    "# execute the scatter plot\n",
    "plt.scatter(\n",
    "    crabs_min_max.TSNE1,\n",
    "    crabs_min_max.TSNE2,\n",
    "    zs=crabs_min_max.TSNE3,\n",
    "    depthshade=False,\n",
    "    s=100,\n",
    "    c=crabs_min_max[\"class\"].apply(lambda x: color_crabs[x])\n",
    ")"
   ]
  },
  {
   "cell_type": "markdown",
   "metadata": {},
   "source": [
    "**do it again but in plotly**"
   ]
  },
  {
   "cell_type": "code",
   "execution_count": 56,
   "metadata": {},
   "outputs": [
    {
     "data": {
      "application/vnd.plotly.v1+json": {
       "config": {
        "plotlyServerURL": "https://plot.ly"
       },
       "data": [
        {
         "hovertemplate": "class=BlueMale<br>TSNE1=%{x}<br>TSNE2=%{y}<br>TSNE3=%{z}<extra></extra>",
         "legendgroup": "BlueMale",
         "marker": {
          "color": "#636efa",
          "symbol": "circle"
         },
         "mode": "markers",
         "name": "BlueMale",
         "scene": "scene",
         "showlegend": true,
         "type": "scatter3d",
         "x": [
          14.737606048583984,
          13.607455253601074,
          13.083438873291016,
          12.356977462768555,
          12.099641799926758,
          8.207691192626953,
          7.274237155914307,
          6.51853084564209,
          6.7441558837890625,
          3.9734911918640137,
          0.6729735136032104,
          0.32611116766929626,
          1.0317450761795044,
          0.8305730223655701,
          -0.06833986937999725,
          -0.32567569613456726,
          -0.1540006697177887,
          -0.7105265259742737,
          -1.178623080253601,
          -3.3449044227600098,
          -3.9142956733703613,
          -4.478296756744385,
          -4.334311008453369,
          -4.5762248039245605,
          -4.873625755310059,
          -5.110174179077148,
          -4.750566482543945,
          -3.255939245223999,
          -3.8952736854553223,
          -4.301951885223389,
          -2.824268102645874,
          -1.9270116090774536,
          -2.645655393600464,
          -2.0740742683410645,
          -0.1621326357126236,
          -1.7530252933502197,
          -0.5174239873886108,
          -1.5549126863479614,
          -1.3412035703659058,
          0.5366047620773315,
          1.0721770524978638,
          1.540643572807312,
          1.2963584661483765,
          3.9267566204071045,
          4.028151512145996,
          3.77876615524292,
          4.161635875701904,
          4.944849967956543,
          4.704707622528076,
          9.358899116516113
         ],
         "y": [
          4.533899784088135,
          4.6797003746032715,
          5.381243705749512,
          6.0723958015441895,
          6.1022772789001465,
          8.995981216430664,
          9.142234802246094,
          9.677739143371582,
          9.446076393127441,
          9.739225387573242,
          7.1434502601623535,
          7.589962005615234,
          5.762699604034424,
          5.9138994216918945,
          6.835789680480957,
          7.525375843048096,
          5.763415813446045,
          5.9221014976501465,
          6.241405487060547,
          5.812475204467773,
          3.422339916229248,
          2.642554998397827,
          3.00823712348938,
          2.1314032077789307,
          1.6679939031600952,
          1.58621084690094,
          1.2625077962875366,
          -1.5959548950195312,
          -0.949781596660614,
          -0.20710711181163788,
          -2.885026454925537,
          -2.6851284503936768,
          -2.2227087020874023,
          -2.627138376235962,
          -2.977217435836792,
          -2.622763156890869,
          -3.366257667541504,
          -3.0027413368225098,
          -3.4164013862609863,
          -4.04454231262207,
          -4.5333027839660645,
          -5.319704055786133,
          -4.863513469696045,
          -8.531230926513672,
          -7.532441139221191,
          -7.196366786956787,
          -8.377105712890625,
          -8.104790687561035,
          -8.071186065673828,
          -9.131839752197266
         ],
         "z": [
          -0.5406234264373779,
          -0.6975396275520325,
          -0.4469163119792938,
          -0.5731416344642639,
          -0.5677559971809387,
          -0.1506722867488861,
          -0.8730737566947937,
          -0.13356976211071014,
          -0.5511675477027893,
          -0.7295714020729065,
          -1.5039602518081665,
          -1.2769948244094849,
          -1.3445913791656494,
          -1.411274790763855,
          -1.3243920803070068,
          -0.8658905625343323,
          -1.4808162450790405,
          -1.4445427656173706,
          -1.3451879024505615,
          2.3936147689819336,
          4.103872776031494,
          4.6636061668396,
          4.757830619812012,
          4.767534255981445,
          4.797966480255127,
          4.763487815856934,
          4.876654624938965,
          5.324029445648193,
          5.115974426269531,
          5.064262866973877,
          6.025232791900635,
          6.10340690612793,
          5.444937705993652,
          5.743627071380615,
          5.688610076904297,
          5.130084991455078,
          5.323947429656982,
          4.887324810028076,
          4.997313976287842,
          5.116654396057129,
          4.921714782714844,
          4.581871509552002,
          4.780929088592529,
          0.5335753560066223,
          2.8022711277008057,
          3.105165481567383,
          0.9704504609107971,
          1.8825743198394775,
          1.8807685375213623,
          0.6566009521484375
         ]
        },
        {
         "hovertemplate": "class=BlueFemale<br>TSNE1=%{x}<br>TSNE2=%{y}<br>TSNE3=%{z}<extra></extra>",
         "legendgroup": "BlueFemale",
         "marker": {
          "color": "#EF553B",
          "symbol": "circle"
         },
         "mode": "markers",
         "name": "BlueFemale",
         "scene": "scene",
         "showlegend": true,
         "type": "scatter3d",
         "x": [
          15.098708152770996,
          12.557727813720703,
          12.978199005126953,
          13.009801864624023,
          12.332818984985352,
          10.76806354522705,
          10.181138038635254,
          9.783594131469727,
          9.438898086547852,
          8.483369827270508,
          8.950329780578613,
          7.677222728729248,
          3.6510393619537354,
          3.423431873321533,
          3.6025116443634033,
          3.985532760620117,
          2.141176223754883,
          3.57582688331604,
          2.399177074432373,
          -2.804257392883301,
          -2.1726298332214355,
          -2.845449209213257,
          -3.126610517501831,
          -1.4463496208190918,
          -1.7748321294784546,
          -3.3430585861206055,
          -3.3563966751098633,
          -4.544433116912842,
          -6.650779724121094,
          -6.514281749725342,
          -6.629014492034912,
          -8.303021430969238,
          -8.199857711791992,
          -8.243804931640625,
          -8.12038516998291,
          -8.814886093139648,
          -7.286818504333496,
          -8.040312767028809,
          -7.736817836761475,
          -6.99033260345459,
          -7.975646018981934,
          -7.457370758056641,
          -7.381248474121094,
          -6.7366180419921875,
          -7.63144588470459,
          -5.676214218139648,
          -2.5319457054138184,
          -0.9177576303482056,
          -0.7444215416908264,
          3.7575972080230713
         ],
         "y": [
          4.6999406814575195,
          5.176201820373535,
          4.778271675109863,
          5.436679840087891,
          5.351431369781494,
          7.035843849182129,
          7.3860883712768555,
          7.767933368682861,
          7.8183064460754395,
          8.545526504516602,
          8.082822799682617,
          8.904808044433594,
          10.239706039428711,
          10.3939790725708,
          10.989994049072266,
          10.077286720275879,
          9.407127380371094,
          9.968396186828613,
          9.61771297454834,
          8.371757507324219,
          7.997470855712891,
          8.261258125305176,
          7.6016645431518555,
          7.101372241973877,
          6.641856670379639,
          7.23553991317749,
          6.701308727264404,
          6.3531365394592285,
          5.115036964416504,
          4.347856521606445,
          3.9709982872009277,
          -1.6594934463500977,
          -2.917673349380493,
          -0.7164084911346436,
          -1.2648829221725464,
          -0.6241158246994019,
          -4.3792405128479,
          -3.0102968215942383,
          -1.3908870220184326,
          -4.036828517913818,
          -2.492494583129883,
          -5.104251861572266,
          -3.623995065689087,
          -5.64526891708374,
          -5.599330425262451,
          -5.303274154663086,
          -8.848641395568848,
          -9.794963836669922,
          -9.837407112121582,
          -8.74162769317627
         ],
         "z": [
          -0.6333230137825012,
          -1.35111665725708,
          -0.7745324969291687,
          -1.124695062637329,
          -0.6824435591697693,
          -0.9875987768173218,
          -1.2826958894729614,
          -1.0115625858306885,
          -1.5935622453689575,
          -1.0145949125289917,
          -1.7613683938980103,
          -1.0782718658447266,
          -1.3258692026138306,
          -0.9768685102462769,
          -1.4379340410232544,
          -0.6642851233482361,
          -0.8577496409416199,
          -0.5140929222106934,
          -0.6744567155838013,
          -2.3173556327819824,
          -1.1013699769973755,
          -2.2350332736968994,
          -1.6225271224975586,
          -1.32219398021698,
          -1.491322636604309,
          -1.454829216003418,
          -1.0739816427230835,
          -0.8329075574874878,
          -0.1540147364139557,
          -0.19041593372821808,
          -0.4333703815937042,
          -0.49342432618141174,
          -0.1877182573080063,
          -0.1554282307624817,
          -0.19025331735610962,
          0.03887460008263588,
          0.1607554703950882,
          0.1700383722782135,
          0.1975976675748825,
          0.31825628876686096,
          0.551931619644165,
          -0.12925219535827637,
          0.36980190873146057,
          -0.18546833097934723,
          -0.3622334897518158,
          -0.18192730844020844,
          -2.0275020599365234,
          -2.344120502471924,
          -2.3373210430145264,
          -0.06842067837715149
         ]
        },
        {
         "hovertemplate": "class=OrangeMale<br>TSNE1=%{x}<br>TSNE2=%{y}<br>TSNE3=%{z}<extra></extra>",
         "legendgroup": "OrangeMale",
         "marker": {
          "color": "#00cc96",
          "symbol": "circle"
         },
         "mode": "markers",
         "name": "OrangeMale",
         "scene": "scene",
         "showlegend": true,
         "type": "scatter3d",
         "x": [
          14.393401145935059,
          11.483202934265137,
          10.994267463684082,
          8.680615425109863,
          6.061380863189697,
          5.870959758758545,
          0.24029600620269775,
          -1.1513657569885254,
          -0.02547544427216053,
          -1.4558664560317993,
          -4.35784912109375,
          -3.3664371967315674,
          -3.0687270164489746,
          -3.5225424766540527,
          -2.983355760574341,
          -2.49898362159729,
          -4.345386028289795,
          -4.04071569442749,
          -3.8900346755981445,
          -5.997498512268066,
          -6.056025505065918,
          -5.596662521362305,
          -7.068049430847168,
          -7.2684149742126465,
          -7.240942478179932,
          -3.362865447998047,
          -2.65112566947937,
          -3.984347105026245,
          -3.335313320159912,
          -2.3190696239471436,
          -1.7201488018035889,
          -0.8312324285507202,
          0.8826133012771606,
          0.4697142541408539,
          0.14812707901000977,
          -0.8157190084457397,
          -0.2099982500076294,
          1.712644100189209,
          2.174056053161621,
          2.5279994010925293,
          3.020385980606079,
          6.319614410400391,
          6.5169677734375,
          8.206674575805664,
          8.172490119934082,
          7.114672660827637,
          8.526687622070312,
          7.925900936126709,
          8.966463088989258,
          9.155662536621094
         ],
         "y": [
          4.373176097869873,
          6.747166633605957,
          7.1665263175964355,
          8.900712013244629,
          10.03943920135498,
          10.082250595092773,
          8.81448745727539,
          8.363015174865723,
          8.584733963012695,
          8.280158996582031,
          6.821383953094482,
          8.024795532226562,
          7.795705318450928,
          7.689814567565918,
          7.640547752380371,
          7.986394882202148,
          6.973843097686768,
          5.783174514770508,
          6.676022529602051,
          4.71604061126709,
          4.461531639099121,
          4.915748119354248,
          3.4359335899353027,
          2.9781696796417236,
          3.136406898498535,
          -5.2347331047058105,
          -5.747528553009033,
          -5.148052215576172,
          -5.4720916748046875,
          -6.1369500160217285,
          -6.376760005950928,
          -6.882458209991455,
          -6.553711414337158,
          -7.179709434509277,
          -7.089552402496338,
          -7.289402484893799,
          -7.449432373046875,
          -7.2810773849487305,
          -7.517172813415527,
          -7.561271667480469,
          -7.691839218139648,
          -8.375755310058594,
          -8.45150375366211,
          -9.02685832977295,
          -8.979058265686035,
          -8.638824462890625,
          -9.206528663635254,
          -9.075016975402832,
          -9.77126693725586,
          -9.654773712158203
         ],
         "z": [
          -0.44132864475250244,
          -0.18380722403526306,
          -0.0592016875743866,
          0.48610180616378784,
          1.0873799324035645,
          1.0349280834197998,
          1.3142117261886597,
          1.2546528577804565,
          1.5882816314697266,
          1.5568864345550537,
          3.100255250930786,
          4.0471720695495605,
          3.769195318222046,
          3.665558338165283,
          3.3745946884155273,
          2.891270637512207,
          3.454162836074829,
          3.348886728286743,
          3.690984010696411,
          3.872476100921631,
          3.93111515045166,
          4.053229808807373,
          4.002732753753662,
          4.370946407318115,
          4.330872535705566,
          5.019428253173828,
          4.793641567230225,
          5.101138591766357,
          4.938046932220459,
          4.658665657043457,
          4.50050163269043,
          4.2181901931762695,
          4.21000862121582,
          4.082945346832275,
          4.048947811126709,
          3.935020923614502,
          3.9399514198303223,
          3.9135756492614746,
          3.7810215950012207,
          3.6548285484313965,
          3.4812843799591064,
          1.6647621393203735,
          1.5217368602752686,
          0.6604612469673157,
          0.7108606696128845,
          1.2231879234313965,
          0.33848097920417786,
          0.2618087828159332,
          -0.45958277583122253,
          -0.1274973303079605
         ]
        },
        {
         "hovertemplate": "class=OrangeFemale<br>TSNE1=%{x}<br>TSNE2=%{y}<br>TSNE3=%{z}<extra></extra>",
         "legendgroup": "OrangeFemale",
         "marker": {
          "color": "#ab63fa",
          "symbol": "circle"
         },
         "mode": "markers",
         "name": "OrangeFemale",
         "scene": "scene",
         "showlegend": true,
         "type": "scatter3d",
         "x": [
          9.499185562133789,
          9.1661376953125,
          5.636099338531494,
          1.0834380388259888,
          0.5233919024467468,
          -4.997159957885742,
          -5.621754169464111,
          -5.14866828918457,
          -6.577173233032227,
          -6.706324577331543,
          -6.662152290344238,
          -7.7255024909973145,
          -8.3440580368042,
          -8.49782943725586,
          -7.921083450317383,
          -7.2523369789123535,
          -7.342449188232422,
          -7.721700191497803,
          -5.146886348724365,
          -4.9706711769104,
          -4.137701988220215,
          -3.9933862686157227,
          -4.764584064483643,
          -4.260488986968994,
          -3.2389512062072754,
          -0.4468005299568176,
          -2.0364036560058594,
          -2.1497788429260254,
          -1.3198134899139404,
          -1.1689330339431763,
          -3.310572385787964,
          -1.5362651348114014,
          -1.3668171167373657,
          -0.11103601008653641,
          0.16253024339675903,
          2.9541919231414795,
          2.7681586742401123,
          4.218745708465576,
          3.247457504272461,
          3.804382801055908,
          2.5893642902374268,
          4.858191013336182,
          5.37651252746582,
          3.1062467098236084,
          7.195063591003418,
          5.684134006500244,
          6.475607872009277,
          6.693474769592285,
          7.105990886688232,
          8.318565368652344
         ],
         "y": [
          8.335474014282227,
          8.6090087890625,
          10.114614486694336,
          9.545520782470703,
          9.23638916015625,
          7.110888957977295,
          6.039244174957275,
          6.834321022033691,
          4.894874572753906,
          4.781924724578857,
          4.395435333251953,
          0.09256317466497421,
          -0.46003836393356323,
          -0.0582948699593544,
          0.1465025246143341,
          -0.6825849413871765,
          -0.7346985936164856,
          -0.7809754610061646,
          -4.013084411621094,
          -4.257733345031738,
          -5.8632707595825195,
          -5.996870040893555,
          -4.50380802154541,
          -5.612907409667969,
          -6.404803276062012,
          -9.345919609069824,
          -7.455180644989014,
          -7.255910873413086,
          -7.889843463897705,
          -7.485151290893555,
          -5.9017181396484375,
          -7.432214736938477,
          -7.664373397827148,
          -8.481010437011719,
          -8.700575828552246,
          -9.453744888305664,
          -9.207806587219238,
          -9.996769905090332,
          -9.067185401916504,
          -9.552057266235352,
          -8.726258277893066,
          -9.740478515625,
          -9.781146049499512,
          -8.463523864746094,
          -10.268461227416992,
          -10.02600383758545,
          -9.627907752990723,
          -9.660602569580078,
          -9.604963302612305,
          -10.451558113098145
         ],
         "z": [
          0.05260349437594414,
          0.4026723802089691,
          0.9802968502044678,
          0.2113177329301834,
          0.5473996996879578,
          0.6462936401367188,
          0.03684436157345772,
          0.4843183755874634,
          0.33649715781211853,
          0.5724408030509949,
          3.072190999984741,
          -1.8517968654632568,
          -2.244084358215332,
          -2.5089404582977295,
          -2.1311020851135254,
          -2.2724266052246094,
          -2.3595712184906006,
          -2.7665247917175293,
          -2.283446788787842,
          -2.1954236030578613,
          -0.8698121905326843,
          -0.820414125919342,
          -2.109823703765869,
          -0.9832765460014343,
          -1.1494265794754028,
          -2.1004438400268555,
          -1.3714975118637085,
          -1.2813578844070435,
          -1.267791986465454,
          -0.005403619259595871,
          -1.620772361755371,
          -0.6523329615592957,
          -2.3417434692382812,
          -1.745103359222412,
          -1.8659619092941284,
          -2.2857162952423096,
          -2.1505799293518066,
          -1.8280624151229858,
          -1.7369494438171387,
          -2.4630937576293945,
          -2.147045135498047,
          -2.5455825328826904,
          -2.461662530899048,
          -2.149726629257202,
          -2.3435072898864746,
          -2.5188024044036865,
          -2.138583183288574,
          -2.0609912872314453,
          -1.7838976383209229,
          -1.9376177787780762
         ]
        }
       ],
       "layout": {
        "legend": {
         "title": {
          "text": "class"
         },
         "tracegroupgap": 0
        },
        "margin": {
         "t": 60
        },
        "scene": {
         "domain": {
          "x": [
           0,
           1
          ],
          "y": [
           0,
           1
          ]
         },
         "xaxis": {
          "title": {
           "text": "TSNE1"
          }
         },
         "yaxis": {
          "title": {
           "text": "TSNE2"
          }
         },
         "zaxis": {
          "title": {
           "text": "TSNE3"
          }
         }
        },
        "template": {
         "data": {
          "bar": [
           {
            "error_x": {
             "color": "#2a3f5f"
            },
            "error_y": {
             "color": "#2a3f5f"
            },
            "marker": {
             "line": {
              "color": "#E5ECF6",
              "width": 0.5
             },
             "pattern": {
              "fillmode": "overlay",
              "size": 10,
              "solidity": 0.2
             }
            },
            "type": "bar"
           }
          ],
          "barpolar": [
           {
            "marker": {
             "line": {
              "color": "#E5ECF6",
              "width": 0.5
             },
             "pattern": {
              "fillmode": "overlay",
              "size": 10,
              "solidity": 0.2
             }
            },
            "type": "barpolar"
           }
          ],
          "carpet": [
           {
            "aaxis": {
             "endlinecolor": "#2a3f5f",
             "gridcolor": "white",
             "linecolor": "white",
             "minorgridcolor": "white",
             "startlinecolor": "#2a3f5f"
            },
            "baxis": {
             "endlinecolor": "#2a3f5f",
             "gridcolor": "white",
             "linecolor": "white",
             "minorgridcolor": "white",
             "startlinecolor": "#2a3f5f"
            },
            "type": "carpet"
           }
          ],
          "choropleth": [
           {
            "colorbar": {
             "outlinewidth": 0,
             "ticks": ""
            },
            "type": "choropleth"
           }
          ],
          "contour": [
           {
            "colorbar": {
             "outlinewidth": 0,
             "ticks": ""
            },
            "colorscale": [
             [
              0,
              "#0d0887"
             ],
             [
              0.1111111111111111,
              "#46039f"
             ],
             [
              0.2222222222222222,
              "#7201a8"
             ],
             [
              0.3333333333333333,
              "#9c179e"
             ],
             [
              0.4444444444444444,
              "#bd3786"
             ],
             [
              0.5555555555555556,
              "#d8576b"
             ],
             [
              0.6666666666666666,
              "#ed7953"
             ],
             [
              0.7777777777777778,
              "#fb9f3a"
             ],
             [
              0.8888888888888888,
              "#fdca26"
             ],
             [
              1,
              "#f0f921"
             ]
            ],
            "type": "contour"
           }
          ],
          "contourcarpet": [
           {
            "colorbar": {
             "outlinewidth": 0,
             "ticks": ""
            },
            "type": "contourcarpet"
           }
          ],
          "heatmap": [
           {
            "colorbar": {
             "outlinewidth": 0,
             "ticks": ""
            },
            "colorscale": [
             [
              0,
              "#0d0887"
             ],
             [
              0.1111111111111111,
              "#46039f"
             ],
             [
              0.2222222222222222,
              "#7201a8"
             ],
             [
              0.3333333333333333,
              "#9c179e"
             ],
             [
              0.4444444444444444,
              "#bd3786"
             ],
             [
              0.5555555555555556,
              "#d8576b"
             ],
             [
              0.6666666666666666,
              "#ed7953"
             ],
             [
              0.7777777777777778,
              "#fb9f3a"
             ],
             [
              0.8888888888888888,
              "#fdca26"
             ],
             [
              1,
              "#f0f921"
             ]
            ],
            "type": "heatmap"
           }
          ],
          "heatmapgl": [
           {
            "colorbar": {
             "outlinewidth": 0,
             "ticks": ""
            },
            "colorscale": [
             [
              0,
              "#0d0887"
             ],
             [
              0.1111111111111111,
              "#46039f"
             ],
             [
              0.2222222222222222,
              "#7201a8"
             ],
             [
              0.3333333333333333,
              "#9c179e"
             ],
             [
              0.4444444444444444,
              "#bd3786"
             ],
             [
              0.5555555555555556,
              "#d8576b"
             ],
             [
              0.6666666666666666,
              "#ed7953"
             ],
             [
              0.7777777777777778,
              "#fb9f3a"
             ],
             [
              0.8888888888888888,
              "#fdca26"
             ],
             [
              1,
              "#f0f921"
             ]
            ],
            "type": "heatmapgl"
           }
          ],
          "histogram": [
           {
            "marker": {
             "pattern": {
              "fillmode": "overlay",
              "size": 10,
              "solidity": 0.2
             }
            },
            "type": "histogram"
           }
          ],
          "histogram2d": [
           {
            "colorbar": {
             "outlinewidth": 0,
             "ticks": ""
            },
            "colorscale": [
             [
              0,
              "#0d0887"
             ],
             [
              0.1111111111111111,
              "#46039f"
             ],
             [
              0.2222222222222222,
              "#7201a8"
             ],
             [
              0.3333333333333333,
              "#9c179e"
             ],
             [
              0.4444444444444444,
              "#bd3786"
             ],
             [
              0.5555555555555556,
              "#d8576b"
             ],
             [
              0.6666666666666666,
              "#ed7953"
             ],
             [
              0.7777777777777778,
              "#fb9f3a"
             ],
             [
              0.8888888888888888,
              "#fdca26"
             ],
             [
              1,
              "#f0f921"
             ]
            ],
            "type": "histogram2d"
           }
          ],
          "histogram2dcontour": [
           {
            "colorbar": {
             "outlinewidth": 0,
             "ticks": ""
            },
            "colorscale": [
             [
              0,
              "#0d0887"
             ],
             [
              0.1111111111111111,
              "#46039f"
             ],
             [
              0.2222222222222222,
              "#7201a8"
             ],
             [
              0.3333333333333333,
              "#9c179e"
             ],
             [
              0.4444444444444444,
              "#bd3786"
             ],
             [
              0.5555555555555556,
              "#d8576b"
             ],
             [
              0.6666666666666666,
              "#ed7953"
             ],
             [
              0.7777777777777778,
              "#fb9f3a"
             ],
             [
              0.8888888888888888,
              "#fdca26"
             ],
             [
              1,
              "#f0f921"
             ]
            ],
            "type": "histogram2dcontour"
           }
          ],
          "mesh3d": [
           {
            "colorbar": {
             "outlinewidth": 0,
             "ticks": ""
            },
            "type": "mesh3d"
           }
          ],
          "parcoords": [
           {
            "line": {
             "colorbar": {
              "outlinewidth": 0,
              "ticks": ""
             }
            },
            "type": "parcoords"
           }
          ],
          "pie": [
           {
            "automargin": true,
            "type": "pie"
           }
          ],
          "scatter": [
           {
            "fillpattern": {
             "fillmode": "overlay",
             "size": 10,
             "solidity": 0.2
            },
            "type": "scatter"
           }
          ],
          "scatter3d": [
           {
            "line": {
             "colorbar": {
              "outlinewidth": 0,
              "ticks": ""
             }
            },
            "marker": {
             "colorbar": {
              "outlinewidth": 0,
              "ticks": ""
             }
            },
            "type": "scatter3d"
           }
          ],
          "scattercarpet": [
           {
            "marker": {
             "colorbar": {
              "outlinewidth": 0,
              "ticks": ""
             }
            },
            "type": "scattercarpet"
           }
          ],
          "scattergeo": [
           {
            "marker": {
             "colorbar": {
              "outlinewidth": 0,
              "ticks": ""
             }
            },
            "type": "scattergeo"
           }
          ],
          "scattergl": [
           {
            "marker": {
             "colorbar": {
              "outlinewidth": 0,
              "ticks": ""
             }
            },
            "type": "scattergl"
           }
          ],
          "scattermapbox": [
           {
            "marker": {
             "colorbar": {
              "outlinewidth": 0,
              "ticks": ""
             }
            },
            "type": "scattermapbox"
           }
          ],
          "scatterpolar": [
           {
            "marker": {
             "colorbar": {
              "outlinewidth": 0,
              "ticks": ""
             }
            },
            "type": "scatterpolar"
           }
          ],
          "scatterpolargl": [
           {
            "marker": {
             "colorbar": {
              "outlinewidth": 0,
              "ticks": ""
             }
            },
            "type": "scatterpolargl"
           }
          ],
          "scatterternary": [
           {
            "marker": {
             "colorbar": {
              "outlinewidth": 0,
              "ticks": ""
             }
            },
            "type": "scatterternary"
           }
          ],
          "surface": [
           {
            "colorbar": {
             "outlinewidth": 0,
             "ticks": ""
            },
            "colorscale": [
             [
              0,
              "#0d0887"
             ],
             [
              0.1111111111111111,
              "#46039f"
             ],
             [
              0.2222222222222222,
              "#7201a8"
             ],
             [
              0.3333333333333333,
              "#9c179e"
             ],
             [
              0.4444444444444444,
              "#bd3786"
             ],
             [
              0.5555555555555556,
              "#d8576b"
             ],
             [
              0.6666666666666666,
              "#ed7953"
             ],
             [
              0.7777777777777778,
              "#fb9f3a"
             ],
             [
              0.8888888888888888,
              "#fdca26"
             ],
             [
              1,
              "#f0f921"
             ]
            ],
            "type": "surface"
           }
          ],
          "table": [
           {
            "cells": {
             "fill": {
              "color": "#EBF0F8"
             },
             "line": {
              "color": "white"
             }
            },
            "header": {
             "fill": {
              "color": "#C8D4E3"
             },
             "line": {
              "color": "white"
             }
            },
            "type": "table"
           }
          ]
         },
         "layout": {
          "annotationdefaults": {
           "arrowcolor": "#2a3f5f",
           "arrowhead": 0,
           "arrowwidth": 1
          },
          "autotypenumbers": "strict",
          "coloraxis": {
           "colorbar": {
            "outlinewidth": 0,
            "ticks": ""
           }
          },
          "colorscale": {
           "diverging": [
            [
             0,
             "#8e0152"
            ],
            [
             0.1,
             "#c51b7d"
            ],
            [
             0.2,
             "#de77ae"
            ],
            [
             0.3,
             "#f1b6da"
            ],
            [
             0.4,
             "#fde0ef"
            ],
            [
             0.5,
             "#f7f7f7"
            ],
            [
             0.6,
             "#e6f5d0"
            ],
            [
             0.7,
             "#b8e186"
            ],
            [
             0.8,
             "#7fbc41"
            ],
            [
             0.9,
             "#4d9221"
            ],
            [
             1,
             "#276419"
            ]
           ],
           "sequential": [
            [
             0,
             "#0d0887"
            ],
            [
             0.1111111111111111,
             "#46039f"
            ],
            [
             0.2222222222222222,
             "#7201a8"
            ],
            [
             0.3333333333333333,
             "#9c179e"
            ],
            [
             0.4444444444444444,
             "#bd3786"
            ],
            [
             0.5555555555555556,
             "#d8576b"
            ],
            [
             0.6666666666666666,
             "#ed7953"
            ],
            [
             0.7777777777777778,
             "#fb9f3a"
            ],
            [
             0.8888888888888888,
             "#fdca26"
            ],
            [
             1,
             "#f0f921"
            ]
           ],
           "sequentialminus": [
            [
             0,
             "#0d0887"
            ],
            [
             0.1111111111111111,
             "#46039f"
            ],
            [
             0.2222222222222222,
             "#7201a8"
            ],
            [
             0.3333333333333333,
             "#9c179e"
            ],
            [
             0.4444444444444444,
             "#bd3786"
            ],
            [
             0.5555555555555556,
             "#d8576b"
            ],
            [
             0.6666666666666666,
             "#ed7953"
            ],
            [
             0.7777777777777778,
             "#fb9f3a"
            ],
            [
             0.8888888888888888,
             "#fdca26"
            ],
            [
             1,
             "#f0f921"
            ]
           ]
          },
          "colorway": [
           "#636efa",
           "#EF553B",
           "#00cc96",
           "#ab63fa",
           "#FFA15A",
           "#19d3f3",
           "#FF6692",
           "#B6E880",
           "#FF97FF",
           "#FECB52"
          ],
          "font": {
           "color": "#2a3f5f"
          },
          "geo": {
           "bgcolor": "white",
           "lakecolor": "white",
           "landcolor": "#E5ECF6",
           "showlakes": true,
           "showland": true,
           "subunitcolor": "white"
          },
          "hoverlabel": {
           "align": "left"
          },
          "hovermode": "closest",
          "mapbox": {
           "style": "light"
          },
          "paper_bgcolor": "white",
          "plot_bgcolor": "#E5ECF6",
          "polar": {
           "angularaxis": {
            "gridcolor": "white",
            "linecolor": "white",
            "ticks": ""
           },
           "bgcolor": "#E5ECF6",
           "radialaxis": {
            "gridcolor": "white",
            "linecolor": "white",
            "ticks": ""
           }
          },
          "scene": {
           "xaxis": {
            "backgroundcolor": "#E5ECF6",
            "gridcolor": "white",
            "gridwidth": 2,
            "linecolor": "white",
            "showbackground": true,
            "ticks": "",
            "zerolinecolor": "white"
           },
           "yaxis": {
            "backgroundcolor": "#E5ECF6",
            "gridcolor": "white",
            "gridwidth": 2,
            "linecolor": "white",
            "showbackground": true,
            "ticks": "",
            "zerolinecolor": "white"
           },
           "zaxis": {
            "backgroundcolor": "#E5ECF6",
            "gridcolor": "white",
            "gridwidth": 2,
            "linecolor": "white",
            "showbackground": true,
            "ticks": "",
            "zerolinecolor": "white"
           }
          },
          "shapedefaults": {
           "line": {
            "color": "#2a3f5f"
           }
          },
          "ternary": {
           "aaxis": {
            "gridcolor": "white",
            "linecolor": "white",
            "ticks": ""
           },
           "baxis": {
            "gridcolor": "white",
            "linecolor": "white",
            "ticks": ""
           },
           "bgcolor": "#E5ECF6",
           "caxis": {
            "gridcolor": "white",
            "linecolor": "white",
            "ticks": ""
           }
          },
          "title": {
           "x": 0.05
          },
          "xaxis": {
           "automargin": true,
           "gridcolor": "white",
           "linecolor": "white",
           "ticks": "",
           "title": {
            "standoff": 15
           },
           "zerolinecolor": "white",
           "zerolinewidth": 2
          },
          "yaxis": {
           "automargin": true,
           "gridcolor": "white",
           "linecolor": "white",
           "ticks": "",
           "title": {
            "standoff": 15
           },
           "zerolinecolor": "white",
           "zerolinewidth": 2
          }
         }
        }
       }
      }
     },
     "metadata": {},
     "output_type": "display_data"
    }
   ],
   "source": [
    "fig = px.scatter_3d(\n",
    "    crabs_min_max,\n",
    "    x=\"TSNE1\",\n",
    "    y=\"TSNE2\",\n",
    "    z=\"TSNE3\",\n",
    "    color=\"class\"\n",
    ")\n",
    "\n",
    "fig.show()"
   ]
  },
  {
   "cell_type": "markdown",
   "metadata": {},
   "source": []
  }
 ],
 "metadata": {
  "kernelspec": {
   "display_name": "machineLearning",
   "language": "python",
   "name": "python3"
  },
  "language_info": {
   "codemirror_mode": {
    "name": "ipython",
    "version": 3
   },
   "file_extension": ".py",
   "mimetype": "text/x-python",
   "name": "python",
   "nbconvert_exporter": "python",
   "pygments_lexer": "ipython3",
   "version": "3.12.0"
  }
 },
 "nbformat": 4,
 "nbformat_minor": 2
}
